{
 "cells": [
  {
   "cell_type": "code",
   "execution_count": 1,
   "metadata": {},
   "outputs": [],
   "source": [
    "import pandas as pd"
   ]
  },
  {
   "cell_type": "code",
   "execution_count": 20,
   "metadata": {},
   "outputs": [
    {
     "name": "stdout",
     "output_type": "stream",
     "text": [
      "515\n",
      "64\n",
      "64\n"
     ]
    }
   ],
   "source": [
    "file = pd.read_csv(\"/datasets/marta/TCGA/CEL_CNV_TCGA/COAD/gdc_sample_sheet.2024-11-04.tsv\", sep=\"\\t\")\n",
    "manifest = pd.read_csv(\"/datasets/marta/TCGA/CEL_CNV_TCGA/COAD/gdc_manifest.2024-11-04.txt\", sep=\"\\t\")\n",
    "patients = pd.read_csv(\"/users/genomics/marta/TestisProject_SaraRazquin/with_TranscriptomeReconstruction/cancers/merged_patients_COAD.csv\")\n",
    "patients = patients[patients['patient'].str.contains(\"TCGA\")]\n",
    "print(len(file))\n",
    "file_matched = file[file['Case ID'].isin(patients['patient'].values.tolist())]\n",
    "print(len(file_matched))\n",
    "file_matched.to_csv(\"/datasets/marta/TCGA/CEL_CNV_TCGA/COAD/gdc_sample_sheet_matched.tsv\")\n",
    "\n",
    "manifest_matched = manifest[manifest['id'].isin(file_matched['File ID'].values.tolist())]\n",
    "manifest_matched.to_csv(\"/datasets/marta/TCGA/CEL_CNV_TCGA/COAD/gdc_manifest_matched.txt\", sep=\"\\t\", index=False)\n",
    "print(len(manifest_matched))"
   ]
  },
  {
   "cell_type": "code",
   "execution_count": 15,
   "metadata": {},
   "outputs": [
    {
     "data": {
      "text/html": [
       "<div>\n",
       "<style scoped>\n",
       "    .dataframe tbody tr th:only-of-type {\n",
       "        vertical-align: middle;\n",
       "    }\n",
       "\n",
       "    .dataframe tbody tr th {\n",
       "        vertical-align: top;\n",
       "    }\n",
       "\n",
       "    .dataframe thead th {\n",
       "        text-align: right;\n",
       "    }\n",
       "</style>\n",
       "<table border=\"1\" class=\"dataframe\">\n",
       "  <thead>\n",
       "    <tr style=\"text-align: right;\">\n",
       "      <th></th>\n",
       "      <th>File ID</th>\n",
       "      <th>File Name</th>\n",
       "      <th>Data Category</th>\n",
       "      <th>Data Type</th>\n",
       "      <th>Project ID</th>\n",
       "      <th>Case ID</th>\n",
       "      <th>Sample ID</th>\n",
       "      <th>Sample Type</th>\n",
       "    </tr>\n",
       "  </thead>\n",
       "  <tbody>\n",
       "    <tr>\n",
       "      <th>482</th>\n",
       "      <td>104ca2fc-9bad-452c-ba29-28e7ffdde3e4</td>\n",
       "      <td>RARER_p_TCGA_MixedRedos_N_GenomeWideSNP_6_B07_...</td>\n",
       "      <td>Copy Number Variation</td>\n",
       "      <td>Raw Intensities</td>\n",
       "      <td>TCGA-COAD</td>\n",
       "      <td>TCGA-AA-3531</td>\n",
       "      <td>TCGA-AA-3531-01A</td>\n",
       "      <td>Primary Tumor</td>\n",
       "    </tr>\n",
       "    <tr>\n",
       "      <th>483</th>\n",
       "      <td>c2a7e33e-d41f-40ca-a103-8700124403f5</td>\n",
       "      <td>VENUE_p_TCGAb28_SNP_N_GenomeWideSNP_6_D08_5689...</td>\n",
       "      <td>Copy Number Variation</td>\n",
       "      <td>Raw Intensities</td>\n",
       "      <td>TCGA-COAD</td>\n",
       "      <td>TCGA-AA-3531</td>\n",
       "      <td>TCGA-AA-3531-01A</td>\n",
       "      <td>Primary Tumor</td>\n",
       "    </tr>\n",
       "  </tbody>\n",
       "</table>\n",
       "</div>"
      ],
      "text/plain": [
       "                                  File ID  \\\n",
       "482  104ca2fc-9bad-452c-ba29-28e7ffdde3e4   \n",
       "483  c2a7e33e-d41f-40ca-a103-8700124403f5   \n",
       "\n",
       "                                             File Name          Data Category  \\\n",
       "482  RARER_p_TCGA_MixedRedos_N_GenomeWideSNP_6_B07_...  Copy Number Variation   \n",
       "483  VENUE_p_TCGAb28_SNP_N_GenomeWideSNP_6_D08_5689...  Copy Number Variation   \n",
       "\n",
       "           Data Type Project ID       Case ID         Sample ID    Sample Type  \n",
       "482  Raw Intensities  TCGA-COAD  TCGA-AA-3531  TCGA-AA-3531-01A  Primary Tumor  \n",
       "483  Raw Intensities  TCGA-COAD  TCGA-AA-3531  TCGA-AA-3531-01A  Primary Tumor  "
      ]
     },
     "execution_count": 15,
     "metadata": {},
     "output_type": "execute_result"
    }
   ],
   "source": []
  },
  {
   "cell_type": "code",
   "execution_count": null,
   "metadata": {},
   "outputs": [],
   "source": []
  }
 ],
 "metadata": {
  "kernelspec": {
   "display_name": "Python 3",
   "language": "python",
   "name": "python3"
  },
  "language_info": {
   "codemirror_mode": {
    "name": "ipython",
    "version": 3
   },
   "file_extension": ".py",
   "mimetype": "text/x-python",
   "name": "python",
   "nbconvert_exporter": "python",
   "pygments_lexer": "ipython3",
   "version": "3.8.16"
  },
  "orig_nbformat": 4
 },
 "nbformat": 4,
 "nbformat_minor": 2
}
