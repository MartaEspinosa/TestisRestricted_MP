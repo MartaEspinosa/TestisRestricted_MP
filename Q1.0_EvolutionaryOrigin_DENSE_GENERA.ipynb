{
 "cells": [
  {
   "cell_type": "markdown",
   "metadata": {},
   "source": [
    "## Evolutionary origin\n",
    "\n",
    "Macaca - Mouse - Human"
   ]
  },
  {
   "cell_type": "code",
   "execution_count": 2,
   "metadata": {},
   "outputs": [],
   "source": [
    "import os,re,glob\n",
    "import pandas as pd\n",
    "import numpy as np\n",
    "from collections import Counter\n",
    "from Bio.Seq import Seq\n",
    "from Bio.SeqRecord import SeqRecord\n",
    "from Bio import SeqIO\n",
    "\n",
    "users_dir = \"/users/genomics/marta/TestisProject_SaraRazquin/with_TranscriptomeReconstruction\"\n",
    "GENOMEDIR = \"/genomics/users/marta/genomes\"\n",
    "\n",
    "## annotation file\n",
    "annotation=\"/users/genomics/marta/TestisProject_SaraRazquin/with_TranscriptomeReconstruction/human/newReference_Resconstructed/gencode.v38.gffcompare.TestisLiverBrain.annotation.sorted.1transcript.sorted.NOchr.gtf\"\n",
    "transcript_gene=pd.read_csv(\"/users/genomics/marta/TestisProject_SaraRazquin/with_TranscriptomeReconstruction/human/newReference_Resconstructed/1transcript_1gene.reconstructed.csv\")\n",
    "\n",
    "## evoDir\n",
    "evoDir=os.path.join(users_dir,\"EvolutionaryOrigin\")\n",
    "\n",
    "def translate_dna_to_protein(dna_seq):\n",
    "    return str(Seq(dna_seq).translate())\n",
    "\n",
    "# Function to save DF in fasta format\n",
    "def create_seqrecord_PROT(row):\n",
    "    return SeqRecord(Seq(row['protein']), id=row['header'][:-4], description=\"\")\n",
    "def create_seqrecord_DNA(row):\n",
    "    return SeqRecord(Seq(row['seq']), id=row['header'], description=\"\")\n",
    "\n"
   ]
  },
  {
   "cell_type": "code",
   "execution_count": 4,
   "metadata": {},
   "outputs": [
    {
     "data": {
      "text/html": [
       "<div>\n",
       "<style scoped>\n",
       "    .dataframe tbody tr th:only-of-type {\n",
       "        vertical-align: middle;\n",
       "    }\n",
       "\n",
       "    .dataframe tbody tr th {\n",
       "        vertical-align: top;\n",
       "    }\n",
       "\n",
       "    .dataframe thead th {\n",
       "        text-align: right;\n",
       "    }\n",
       "</style>\n",
       "<table border=\"1\" class=\"dataframe\">\n",
       "  <thead>\n",
       "    <tr style=\"text-align: right;\">\n",
       "      <th></th>\n",
       "      <th>header</th>\n",
       "      <th>seq</th>\n",
       "    </tr>\n",
       "  </thead>\n",
       "  <tbody>\n",
       "    <tr>\n",
       "      <th>0</th>\n",
       "      <td>ENSMMUT00000032773:1:-|1|2681:41:299|ouORF|ATG</td>\n",
       "      <td>ATGGTCCGGTTCGGGCTCGGGAGGCTCCGTCTGGGCCAGGGCAGGT...</td>\n",
       "    </tr>\n",
       "    <tr>\n",
       "      <th>1</th>\n",
       "      <td>ENSMMUT00000032773:1:-|2|2681:71:299|ouORF|CTG</td>\n",
       "      <td>CTGGGCCAGGGCAGGTTCTTAGACTCTGTGAGTAAAGACAGCTTTG...</td>\n",
       "    </tr>\n",
       "    <tr>\n",
       "      <th>2</th>\n",
       "      <td>ENSMMUT00000032773:1:-|3|2681:98:299|ouORF|GTG</td>\n",
       "      <td>GTGAGTAAAGACAGCTTTGTCTTCCCAGTTCATCATGGCTTCAACA...</td>\n",
       "    </tr>\n",
       "    <tr>\n",
       "      <th>3</th>\n",
       "      <td>ENSMMUT00000032773:1:-|4|2681:114:1911|extensi...</td>\n",
       "      <td>TTGTCTTCCCAGTTCATCATGGCTTCAACATCCAGAGATGTCATTG...</td>\n",
       "    </tr>\n",
       "    <tr>\n",
       "      <th>4</th>\n",
       "      <td>ENSMMUT00000032773:1:-|5|2681:132:1911|canonic...</td>\n",
       "      <td>ATGGCTTCAACATCCAGAGATGTCATTGCTGGGAGAGGTATCCACT...</td>\n",
       "    </tr>\n",
       "    <tr>\n",
       "      <th>...</th>\n",
       "      <td>...</td>\n",
       "      <td>...</td>\n",
       "    </tr>\n",
       "    <tr>\n",
       "      <th>6029294</th>\n",
       "      <td>ENSMMUT00000106277:Y:+|275|4355:4226:4244|dORF...</td>\n",
       "      <td>TTGCCTTTGTTGGAGTGA</td>\n",
       "    </tr>\n",
       "    <tr>\n",
       "      <th>6029295</th>\n",
       "      <td>ENSMMUT00000106277:Y:+|276|4355:4232:4244|dORF...</td>\n",
       "      <td>TTGTTGGAGTGA</td>\n",
       "    </tr>\n",
       "    <tr>\n",
       "      <th>6029296</th>\n",
       "      <td>ENSMMUT00000106277:Y:+|277|4355:4240:4261|dORF...</td>\n",
       "      <td>GTGAAGTATTTAAAAGAGTAA</td>\n",
       "    </tr>\n",
       "    <tr>\n",
       "      <th>6029297</th>\n",
       "      <td>ENSMMUT00000106277:Y:+|278|4355:4268:4283|dORF...</td>\n",
       "      <td>GTGATAAAGTCCTGA</td>\n",
       "    </tr>\n",
       "    <tr>\n",
       "      <th>6029298</th>\n",
       "      <td>ENSMMUT00000106277:Y:+|279|4355:4293:4305|dORF...</td>\n",
       "      <td>ATGGAAAATTAA</td>\n",
       "    </tr>\n",
       "  </tbody>\n",
       "</table>\n",
       "<p>6029299 rows × 2 columns</p>\n",
       "</div>"
      ],
      "text/plain": [
       "                                                    header  \\\n",
       "0           ENSMMUT00000032773:1:-|1|2681:41:299|ouORF|ATG   \n",
       "1           ENSMMUT00000032773:1:-|2|2681:71:299|ouORF|CTG   \n",
       "2           ENSMMUT00000032773:1:-|3|2681:98:299|ouORF|GTG   \n",
       "3        ENSMMUT00000032773:1:-|4|2681:114:1911|extensi...   \n",
       "4        ENSMMUT00000032773:1:-|5|2681:132:1911|canonic...   \n",
       "...                                                    ...   \n",
       "6029294  ENSMMUT00000106277:Y:+|275|4355:4226:4244|dORF...   \n",
       "6029295  ENSMMUT00000106277:Y:+|276|4355:4232:4244|dORF...   \n",
       "6029296  ENSMMUT00000106277:Y:+|277|4355:4240:4261|dORF...   \n",
       "6029297  ENSMMUT00000106277:Y:+|278|4355:4268:4283|dORF...   \n",
       "6029298  ENSMMUT00000106277:Y:+|279|4355:4293:4305|dORF...   \n",
       "\n",
       "                                                       seq  \n",
       "0        ATGGTCCGGTTCGGGCTCGGGAGGCTCCGTCTGGGCCAGGGCAGGT...  \n",
       "1        CTGGGCCAGGGCAGGTTCTTAGACTCTGTGAGTAAAGACAGCTTTG...  \n",
       "2        GTGAGTAAAGACAGCTTTGTCTTCCCAGTTCATCATGGCTTCAACA...  \n",
       "3        TTGTCTTCCCAGTTCATCATGGCTTCAACATCCAGAGATGTCATTG...  \n",
       "4        ATGGCTTCAACATCCAGAGATGTCATTGCTGGGAGAGGTATCCACT...  \n",
       "...                                                    ...  \n",
       "6029294                                 TTGCCTTTGTTGGAGTGA  \n",
       "6029295                                       TTGTTGGAGTGA  \n",
       "6029296                              GTGAAGTATTTAAAAGAGTAA  \n",
       "6029297                                    GTGATAAAGTCCTGA  \n",
       "6029298                                       ATGGAAAATTAA  \n",
       "\n",
       "[6029299 rows x 2 columns]"
      ]
     },
     "execution_count": 4,
     "metadata": {},
     "output_type": "execute_result"
    }
   ],
   "source": [
    "## MACACA - candidates\n",
    "specie = \"macaca\"\n",
    "riboseq_dir = os.path.join(users_dir,specie,\"RiboSeq/240729_RiboNovel\")\n",
    "df = pd.read_csv(os.path.join(riboseq_dir,\"Annotation/candidateORF.fa\"), header=None, sep=\"\\t\")\n",
    "\n",
    "candidates_fasta = pd.DataFrame({'header':df[0].iloc[::2].values, 'seq':df[0].iloc[1::2].values})\n",
    "candidates_fasta['header'] = candidates_fasta['header'].str[1:]\n",
    "candidates_fasta\n"
   ]
  },
  {
   "cell_type": "code",
   "execution_count": 5,
   "metadata": {},
   "outputs": [
    {
     "name": "stdout",
     "output_type": "stream",
     "text": [
      "macaque_liver_ribo_2_r1\n"
     ]
    },
    {
     "name": "stderr",
     "output_type": "stream",
     "text": [
      "/tmp/ipykernel_3323912/477357676.py:10: SettingWithCopyWarning: \n",
      "A value is trying to be set on a copy of a slice from a DataFrame.\n",
      "Try using .loc[row_indexer,col_indexer] = value instead\n",
      "\n",
      "See the caveats in the documentation: https://pandas.pydata.org/pandas-docs/stable/user_guide/indexing.html#returning-a-view-versus-a-copy\n",
      "  repre_fasta['protein'] = repre_fasta['seq'].apply(translate_dna_to_protein)\n"
     ]
    },
    {
     "name": "stdout",
     "output_type": "stream",
     "text": [
      "macaque_liver_ribo_3_r1\n"
     ]
    },
    {
     "name": "stderr",
     "output_type": "stream",
     "text": [
      "/tmp/ipykernel_3323912/477357676.py:10: SettingWithCopyWarning: \n",
      "A value is trying to be set on a copy of a slice from a DataFrame.\n",
      "Try using .loc[row_indexer,col_indexer] = value instead\n",
      "\n",
      "See the caveats in the documentation: https://pandas.pydata.org/pandas-docs/stable/user_guide/indexing.html#returning-a-view-versus-a-copy\n",
      "  repre_fasta['protein'] = repre_fasta['seq'].apply(translate_dna_to_protein)\n"
     ]
    },
    {
     "name": "stdout",
     "output_type": "stream",
     "text": [
      "macaque_testis_ribo_2_r1\n"
     ]
    },
    {
     "name": "stderr",
     "output_type": "stream",
     "text": [
      "/tmp/ipykernel_3323912/477357676.py:10: SettingWithCopyWarning: \n",
      "A value is trying to be set on a copy of a slice from a DataFrame.\n",
      "Try using .loc[row_indexer,col_indexer] = value instead\n",
      "\n",
      "See the caveats in the documentation: https://pandas.pydata.org/pandas-docs/stable/user_guide/indexing.html#returning-a-view-versus-a-copy\n",
      "  repre_fasta['protein'] = repre_fasta['seq'].apply(translate_dna_to_protein)\n"
     ]
    },
    {
     "name": "stdout",
     "output_type": "stream",
     "text": [
      "macaque_liver_ribo_1_r1\n"
     ]
    },
    {
     "name": "stderr",
     "output_type": "stream",
     "text": [
      "/tmp/ipykernel_3323912/477357676.py:10: SettingWithCopyWarning: \n",
      "A value is trying to be set on a copy of a slice from a DataFrame.\n",
      "Try using .loc[row_indexer,col_indexer] = value instead\n",
      "\n",
      "See the caveats in the documentation: https://pandas.pydata.org/pandas-docs/stable/user_guide/indexing.html#returning-a-view-versus-a-copy\n",
      "  repre_fasta['protein'] = repre_fasta['seq'].apply(translate_dna_to_protein)\n"
     ]
    },
    {
     "name": "stdout",
     "output_type": "stream",
     "text": [
      "macaque_brain_ribo_3_r1\n"
     ]
    },
    {
     "name": "stderr",
     "output_type": "stream",
     "text": [
      "/tmp/ipykernel_3323912/477357676.py:10: SettingWithCopyWarning: \n",
      "A value is trying to be set on a copy of a slice from a DataFrame.\n",
      "Try using .loc[row_indexer,col_indexer] = value instead\n",
      "\n",
      "See the caveats in the documentation: https://pandas.pydata.org/pandas-docs/stable/user_guide/indexing.html#returning-a-view-versus-a-copy\n",
      "  repre_fasta['protein'] = repre_fasta['seq'].apply(translate_dna_to_protein)\n"
     ]
    },
    {
     "name": "stdout",
     "output_type": "stream",
     "text": [
      "macaque_testis_ribo_1_r1\n"
     ]
    },
    {
     "name": "stderr",
     "output_type": "stream",
     "text": [
      "/tmp/ipykernel_3323912/477357676.py:10: SettingWithCopyWarning: \n",
      "A value is trying to be set on a copy of a slice from a DataFrame.\n",
      "Try using .loc[row_indexer,col_indexer] = value instead\n",
      "\n",
      "See the caveats in the documentation: https://pandas.pydata.org/pandas-docs/stable/user_guide/indexing.html#returning-a-view-versus-a-copy\n",
      "  repre_fasta['protein'] = repre_fasta['seq'].apply(translate_dna_to_protein)\n"
     ]
    },
    {
     "name": "stdout",
     "output_type": "stream",
     "text": [
      "macaque_testis_ribo_3_r1\n"
     ]
    },
    {
     "name": "stderr",
     "output_type": "stream",
     "text": [
      "/tmp/ipykernel_3323912/477357676.py:10: SettingWithCopyWarning: \n",
      "A value is trying to be set on a copy of a slice from a DataFrame.\n",
      "Try using .loc[row_indexer,col_indexer] = value instead\n",
      "\n",
      "See the caveats in the documentation: https://pandas.pydata.org/pandas-docs/stable/user_guide/indexing.html#returning-a-view-versus-a-copy\n",
      "  repre_fasta['protein'] = repre_fasta['seq'].apply(translate_dna_to_protein)\n"
     ]
    },
    {
     "name": "stdout",
     "output_type": "stream",
     "text": [
      "macaque_brain_ribo_1_r1\n"
     ]
    },
    {
     "name": "stderr",
     "output_type": "stream",
     "text": [
      "/tmp/ipykernel_3323912/477357676.py:10: SettingWithCopyWarning: \n",
      "A value is trying to be set on a copy of a slice from a DataFrame.\n",
      "Try using .loc[row_indexer,col_indexer] = value instead\n",
      "\n",
      "See the caveats in the documentation: https://pandas.pydata.org/pandas-docs/stable/user_guide/indexing.html#returning-a-view-versus-a-copy\n",
      "  repre_fasta['protein'] = repre_fasta['seq'].apply(translate_dna_to_protein)\n"
     ]
    },
    {
     "name": "stdout",
     "output_type": "stream",
     "text": [
      "macaque_brain_ribo_2_r1\n"
     ]
    },
    {
     "name": "stderr",
     "output_type": "stream",
     "text": [
      "/tmp/ipykernel_3323912/477357676.py:10: SettingWithCopyWarning: \n",
      "A value is trying to be set on a copy of a slice from a DataFrame.\n",
      "Try using .loc[row_indexer,col_indexer] = value instead\n",
      "\n",
      "See the caveats in the documentation: https://pandas.pydata.org/pandas-docs/stable/user_guide/indexing.html#returning-a-view-versus-a-copy\n",
      "  repre_fasta['protein'] = repre_fasta['seq'].apply(translate_dna_to_protein)\n"
     ]
    }
   ],
   "source": [
    "## get repre sequences - both DNA and PROTEINS\n",
    "specie = \"macaca\"\n",
    "riboseq_dir = os.path.join(users_dir,specie,\"RiboSeq/240729_RiboNovel\")\n",
    "all_repre_candidates = pd.DataFrame()\n",
    "for sample in os.listdir(os.path.join(riboseq_dir,\"RibORF\")):\n",
    "    if sample.endswith(\"r1\"):\n",
    "        print(sample)\n",
    "        repre = pd.read_csv(os.path.join(riboseq_dir,\"RibORF\",sample,\"repre.valid.pred.pvalue.parameters.txt\"), sep=\"\\t\")\n",
    "        repre_fasta = candidates_fasta[candidates_fasta['header'].isin(repre.orfID.values.tolist())]\n",
    "        repre_fasta['protein'] = repre_fasta['seq'].apply(translate_dna_to_protein)\n",
    "        all_repre_candidates = pd.concat([all_repre_candidates, repre_fasta])\n",
    "        out_proteins = os.path.join(riboseq_dir,\"RibORF\",sample,\"repre.valid.pred.pvalue.parameters.PROTEIN.fa\")\n",
    "        seq_records_proteins = repre_fasta.apply(create_seqrecord_PROT, axis=1).tolist()\n",
    "        SeqIO.write(seq_records_proteins, out_proteins, \"fasta\")\n",
    "\n",
    "        out_dna = os.path.join(riboseq_dir,\"RibORF\",sample,\"repre.valid.pred.pvalue.parameters.DNA.fa\")\n",
    "        seq_records_dna = repre_fasta.apply(create_seqrecord_DNA, axis=1).tolist()\n",
    "        SeqIO.write(seq_records_dna, out_dna, \"fasta\")\n"
   ]
  },
  {
   "cell_type": "code",
   "execution_count": 6,
   "metadata": {},
   "outputs": [
    {
     "data": {
      "text/plain": [
       "35065"
      ]
     },
     "execution_count": 6,
     "metadata": {},
     "output_type": "execute_result"
    }
   ],
   "source": [
    "all_repre_candidates.drop_duplicates(inplace=True)\n",
    "all_repre_candidates\n",
    "out_nonredundant_proteins = os.path.join(riboseq_dir,\"RibORF/repre.valid.pred.pvalue.parameters.PROTEIN.noredunant.fa\")\n",
    "seq_records_proteins = all_repre_candidates.apply(create_seqrecord_PROT, axis=1).tolist()\n",
    "SeqIO.write(seq_records_proteins, out_nonredundant_proteins, \"fasta\")"
   ]
  },
  {
   "cell_type": "code",
   "execution_count": 3,
   "metadata": {},
   "outputs": [
    {
     "data": {
      "text/html": [
       "<div>\n",
       "<style scoped>\n",
       "    .dataframe tbody tr th:only-of-type {\n",
       "        vertical-align: middle;\n",
       "    }\n",
       "\n",
       "    .dataframe tbody tr th {\n",
       "        vertical-align: top;\n",
       "    }\n",
       "\n",
       "    .dataframe thead th {\n",
       "        text-align: right;\n",
       "    }\n",
       "</style>\n",
       "<table border=\"1\" class=\"dataframe\">\n",
       "  <thead>\n",
       "    <tr style=\"text-align: right;\">\n",
       "      <th></th>\n",
       "      <th>header</th>\n",
       "      <th>seq</th>\n",
       "    </tr>\n",
       "  </thead>\n",
       "  <tbody>\n",
       "    <tr>\n",
       "      <th>0</th>\n",
       "      <td>ENSMUST00000082387.1:chrM:+|1|68:45:66|noncodi...</td>\n",
       "      <td>ATGGATAATTGTATCCCATAA</td>\n",
       "    </tr>\n",
       "    <tr>\n",
       "      <th>1</th>\n",
       "      <td>ENSMUST00000082388.1:chrM:+|1|955:7:25|noncodi...</td>\n",
       "      <td>TTGGTCCTGGCCTTATAA</td>\n",
       "    </tr>\n",
       "    <tr>\n",
       "      <th>2</th>\n",
       "      <td>ENSMUST00000082388.1:chrM:+|2|955:13:25|noncod...</td>\n",
       "      <td>CTGGCCTTATAA</td>\n",
       "    </tr>\n",
       "    <tr>\n",
       "      <th>3</th>\n",
       "      <td>ENSMUST00000082388.1:chrM:+|3|955:47:83|noncod...</td>\n",
       "      <td>ATGCAAACCTCCATAGACCGGTGTAAAATCCCTTAA</td>\n",
       "    </tr>\n",
       "    <tr>\n",
       "      <th>4</th>\n",
       "      <td>ENSMUST00000082388.1:chrM:+|4|955:141:186|nonc...</td>\n",
       "      <td>TTGCCTAGCCACACCCCCACGGGACTCAGCAGTGATAAATATTAA</td>\n",
       "    </tr>\n",
       "    <tr>\n",
       "      <th>...</th>\n",
       "      <td>...</td>\n",
       "      <td>...</td>\n",
       "    </tr>\n",
       "    <tr>\n",
       "      <th>7875841</th>\n",
       "      <td>TCONS_00000047:MU069435.1:-|5|345:57:288|nonco...</td>\n",
       "      <td>TTGTCACCACTAGGTGTCGCCCGACAATGGTCTCGATCAACCATAC...</td>\n",
       "    </tr>\n",
       "    <tr>\n",
       "      <th>7875842</th>\n",
       "      <td>TCONS_00000047:MU069435.1:-|6|345:70:274|nonco...</td>\n",
       "      <td>GTGTCGCCCGACAATGGTCTCGATCAACCATACAAACCAATACAGA...</td>\n",
       "    </tr>\n",
       "    <tr>\n",
       "      <th>7875843</th>\n",
       "      <td>TCONS_00000047:MU069435.1:-|7|345:83:329|nonco...</td>\n",
       "      <td>ATGGTCTCGATCAACCATACAAACCAATACAGATCGCTCACGCGCC...</td>\n",
       "    </tr>\n",
       "    <tr>\n",
       "      <th>7875844</th>\n",
       "      <td>TCONS_00000047:MU069435.1:-|8|345:149:329|nonc...</td>\n",
       "      <td>CTGTCTCTCCGGAGGGTCTCCCGAGCTCAGGTTCCGGCACTCACGC...</td>\n",
       "    </tr>\n",
       "    <tr>\n",
       "      <th>7875845</th>\n",
       "      <td>TCONS_00000047:MU069435.1:-|9|345:236:329|nonc...</td>\n",
       "      <td>GTGGCACAAACGGTCCCCATCGTCCCGCCCGAACATAGCGAACGCG...</td>\n",
       "    </tr>\n",
       "  </tbody>\n",
       "</table>\n",
       "<p>7875846 rows × 2 columns</p>\n",
       "</div>"
      ],
      "text/plain": [
       "                                                    header  \\\n",
       "0        ENSMUST00000082387.1:chrM:+|1|68:45:66|noncodi...   \n",
       "1        ENSMUST00000082388.1:chrM:+|1|955:7:25|noncodi...   \n",
       "2        ENSMUST00000082388.1:chrM:+|2|955:13:25|noncod...   \n",
       "3        ENSMUST00000082388.1:chrM:+|3|955:47:83|noncod...   \n",
       "4        ENSMUST00000082388.1:chrM:+|4|955:141:186|nonc...   \n",
       "...                                                    ...   \n",
       "7875841  TCONS_00000047:MU069435.1:-|5|345:57:288|nonco...   \n",
       "7875842  TCONS_00000047:MU069435.1:-|6|345:70:274|nonco...   \n",
       "7875843  TCONS_00000047:MU069435.1:-|7|345:83:329|nonco...   \n",
       "7875844  TCONS_00000047:MU069435.1:-|8|345:149:329|nonc...   \n",
       "7875845  TCONS_00000047:MU069435.1:-|9|345:236:329|nonc...   \n",
       "\n",
       "                                                       seq  \n",
       "0                                    ATGGATAATTGTATCCCATAA  \n",
       "1                                       TTGGTCCTGGCCTTATAA  \n",
       "2                                             CTGGCCTTATAA  \n",
       "3                     ATGCAAACCTCCATAGACCGGTGTAAAATCCCTTAA  \n",
       "4            TTGCCTAGCCACACCCCCACGGGACTCAGCAGTGATAAATATTAA  \n",
       "...                                                    ...  \n",
       "7875841  TTGTCACCACTAGGTGTCGCCCGACAATGGTCTCGATCAACCATAC...  \n",
       "7875842  GTGTCGCCCGACAATGGTCTCGATCAACCATACAAACCAATACAGA...  \n",
       "7875843  ATGGTCTCGATCAACCATACAAACCAATACAGATCGCTCACGCGCC...  \n",
       "7875844  CTGTCTCTCCGGAGGGTCTCCCGAGCTCAGGTTCCGGCACTCACGC...  \n",
       "7875845  GTGGCACAAACGGTCCCCATCGTCCCGCCCGAACATAGCGAACGCG...  \n",
       "\n",
       "[7875846 rows x 2 columns]"
      ]
     },
     "execution_count": 3,
     "metadata": {},
     "output_type": "execute_result"
    }
   ],
   "source": [
    "## MOUSE - candidates\n",
    "specie = \"mouse\"\n",
    "riboseq_dir = os.path.join(users_dir,specie,\"RiboSeq/240728_RiboNovel\")\n",
    "df = pd.read_csv(os.path.join(riboseq_dir,\"Annotation/candidateORF.fa\"), header=None, sep=\"\\t\")\n",
    "\n",
    "candidates_fasta = pd.DataFrame({'header':df[0].iloc[::2].values, 'seq':df[0].iloc[1::2].values})\n",
    "candidates_fasta['header'] = candidates_fasta['header'].str[1:]\n",
    "candidates_fasta\n"
   ]
  },
  {
   "cell_type": "code",
   "execution_count": 4,
   "metadata": {},
   "outputs": [
    {
     "name": "stdout",
     "output_type": "stream",
     "text": [
      "mouse_elongatingSpermatids_ribo_1_r1\n"
     ]
    },
    {
     "name": "stderr",
     "output_type": "stream",
     "text": [
      "/tmp/ipykernel_3270439/1833942566.py:10: SettingWithCopyWarning: \n",
      "A value is trying to be set on a copy of a slice from a DataFrame.\n",
      "Try using .loc[row_indexer,col_indexer] = value instead\n",
      "\n",
      "See the caveats in the documentation: https://pandas.pydata.org/pandas-docs/stable/user_guide/indexing.html#returning-a-view-versus-a-copy\n",
      "  repre_fasta['protein'] = repre_fasta['seq'].apply(translate_dna_to_protein)\n"
     ]
    },
    {
     "name": "stdout",
     "output_type": "stream",
     "text": [
      "mouse_roundSpermatids_ribo_2_r1\n"
     ]
    },
    {
     "name": "stderr",
     "output_type": "stream",
     "text": [
      "/tmp/ipykernel_3270439/1833942566.py:10: SettingWithCopyWarning: \n",
      "A value is trying to be set on a copy of a slice from a DataFrame.\n",
      "Try using .loc[row_indexer,col_indexer] = value instead\n",
      "\n",
      "See the caveats in the documentation: https://pandas.pydata.org/pandas-docs/stable/user_guide/indexing.html#returning-a-view-versus-a-copy\n",
      "  repre_fasta['protein'] = repre_fasta['seq'].apply(translate_dna_to_protein)\n"
     ]
    },
    {
     "name": "stdout",
     "output_type": "stream",
     "text": [
      "mouse_spermatozoa_ribo_1_r1\n"
     ]
    },
    {
     "name": "stderr",
     "output_type": "stream",
     "text": [
      "/tmp/ipykernel_3270439/1833942566.py:10: SettingWithCopyWarning: \n",
      "A value is trying to be set on a copy of a slice from a DataFrame.\n",
      "Try using .loc[row_indexer,col_indexer] = value instead\n",
      "\n",
      "See the caveats in the documentation: https://pandas.pydata.org/pandas-docs/stable/user_guide/indexing.html#returning-a-view-versus-a-copy\n",
      "  repre_fasta['protein'] = repre_fasta['seq'].apply(translate_dna_to_protein)\n"
     ]
    },
    {
     "name": "stdout",
     "output_type": "stream",
     "text": [
      "mouse_testis_ribo_1_r1\n"
     ]
    },
    {
     "name": "stderr",
     "output_type": "stream",
     "text": [
      "/tmp/ipykernel_3270439/1833942566.py:10: SettingWithCopyWarning: \n",
      "A value is trying to be set on a copy of a slice from a DataFrame.\n",
      "Try using .loc[row_indexer,col_indexer] = value instead\n",
      "\n",
      "See the caveats in the documentation: https://pandas.pydata.org/pandas-docs/stable/user_guide/indexing.html#returning-a-view-versus-a-copy\n",
      "  repre_fasta['protein'] = repre_fasta['seq'].apply(translate_dna_to_protein)\n"
     ]
    },
    {
     "name": "stdout",
     "output_type": "stream",
     "text": [
      "mouse_testis_ribo_3_r1\n"
     ]
    },
    {
     "name": "stderr",
     "output_type": "stream",
     "text": [
      "/tmp/ipykernel_3270439/1833942566.py:10: SettingWithCopyWarning: \n",
      "A value is trying to be set on a copy of a slice from a DataFrame.\n",
      "Try using .loc[row_indexer,col_indexer] = value instead\n",
      "\n",
      "See the caveats in the documentation: https://pandas.pydata.org/pandas-docs/stable/user_guide/indexing.html#returning-a-view-versus-a-copy\n",
      "  repre_fasta['protein'] = repre_fasta['seq'].apply(translate_dna_to_protein)\n"
     ]
    },
    {
     "name": "stdout",
     "output_type": "stream",
     "text": [
      "mouse_spermatocytes_ribo_2_r1\n"
     ]
    },
    {
     "name": "stderr",
     "output_type": "stream",
     "text": [
      "/tmp/ipykernel_3270439/1833942566.py:10: SettingWithCopyWarning: \n",
      "A value is trying to be set on a copy of a slice from a DataFrame.\n",
      "Try using .loc[row_indexer,col_indexer] = value instead\n",
      "\n",
      "See the caveats in the documentation: https://pandas.pydata.org/pandas-docs/stable/user_guide/indexing.html#returning-a-view-versus-a-copy\n",
      "  repre_fasta['protein'] = repre_fasta['seq'].apply(translate_dna_to_protein)\n"
     ]
    },
    {
     "name": "stdout",
     "output_type": "stream",
     "text": [
      "mouse_spermatocytes_ribo_1_r1\n"
     ]
    },
    {
     "name": "stderr",
     "output_type": "stream",
     "text": [
      "/tmp/ipykernel_3270439/1833942566.py:10: SettingWithCopyWarning: \n",
      "A value is trying to be set on a copy of a slice from a DataFrame.\n",
      "Try using .loc[row_indexer,col_indexer] = value instead\n",
      "\n",
      "See the caveats in the documentation: https://pandas.pydata.org/pandas-docs/stable/user_guide/indexing.html#returning-a-view-versus-a-copy\n",
      "  repre_fasta['protein'] = repre_fasta['seq'].apply(translate_dna_to_protein)\n"
     ]
    },
    {
     "name": "stdout",
     "output_type": "stream",
     "text": [
      "mouse_elongatingSpermatids_ribo_2_r1\n"
     ]
    },
    {
     "name": "stderr",
     "output_type": "stream",
     "text": [
      "/tmp/ipykernel_3270439/1833942566.py:10: SettingWithCopyWarning: \n",
      "A value is trying to be set on a copy of a slice from a DataFrame.\n",
      "Try using .loc[row_indexer,col_indexer] = value instead\n",
      "\n",
      "See the caveats in the documentation: https://pandas.pydata.org/pandas-docs/stable/user_guide/indexing.html#returning-a-view-versus-a-copy\n",
      "  repre_fasta['protein'] = repre_fasta['seq'].apply(translate_dna_to_protein)\n"
     ]
    },
    {
     "name": "stdout",
     "output_type": "stream",
     "text": [
      "mouse_brain_ribo_3_r1\n"
     ]
    },
    {
     "name": "stderr",
     "output_type": "stream",
     "text": [
      "/tmp/ipykernel_3270439/1833942566.py:10: SettingWithCopyWarning: \n",
      "A value is trying to be set on a copy of a slice from a DataFrame.\n",
      "Try using .loc[row_indexer,col_indexer] = value instead\n",
      "\n",
      "See the caveats in the documentation: https://pandas.pydata.org/pandas-docs/stable/user_guide/indexing.html#returning-a-view-versus-a-copy\n",
      "  repre_fasta['protein'] = repre_fasta['seq'].apply(translate_dna_to_protein)\n"
     ]
    },
    {
     "name": "stdout",
     "output_type": "stream",
     "text": [
      "mouse_liver_ribo_3_r1\n"
     ]
    },
    {
     "name": "stderr",
     "output_type": "stream",
     "text": [
      "/tmp/ipykernel_3270439/1833942566.py:10: SettingWithCopyWarning: \n",
      "A value is trying to be set on a copy of a slice from a DataFrame.\n",
      "Try using .loc[row_indexer,col_indexer] = value instead\n",
      "\n",
      "See the caveats in the documentation: https://pandas.pydata.org/pandas-docs/stable/user_guide/indexing.html#returning-a-view-versus-a-copy\n",
      "  repre_fasta['protein'] = repre_fasta['seq'].apply(translate_dna_to_protein)\n"
     ]
    },
    {
     "name": "stdout",
     "output_type": "stream",
     "text": [
      "mouse_spermatozoa_ribo_2_r1\n"
     ]
    },
    {
     "name": "stderr",
     "output_type": "stream",
     "text": [
      "/tmp/ipykernel_3270439/1833942566.py:10: SettingWithCopyWarning: \n",
      "A value is trying to be set on a copy of a slice from a DataFrame.\n",
      "Try using .loc[row_indexer,col_indexer] = value instead\n",
      "\n",
      "See the caveats in the documentation: https://pandas.pydata.org/pandas-docs/stable/user_guide/indexing.html#returning-a-view-versus-a-copy\n",
      "  repre_fasta['protein'] = repre_fasta['seq'].apply(translate_dna_to_protein)\n"
     ]
    },
    {
     "name": "stdout",
     "output_type": "stream",
     "text": [
      "mouse_testis_ribo_2_r1\n"
     ]
    },
    {
     "name": "stderr",
     "output_type": "stream",
     "text": [
      "/tmp/ipykernel_3270439/1833942566.py:10: SettingWithCopyWarning: \n",
      "A value is trying to be set on a copy of a slice from a DataFrame.\n",
      "Try using .loc[row_indexer,col_indexer] = value instead\n",
      "\n",
      "See the caveats in the documentation: https://pandas.pydata.org/pandas-docs/stable/user_guide/indexing.html#returning-a-view-versus-a-copy\n",
      "  repre_fasta['protein'] = repre_fasta['seq'].apply(translate_dna_to_protein)\n"
     ]
    },
    {
     "name": "stdout",
     "output_type": "stream",
     "text": [
      "mouse_liver_ribo_4_r1\n"
     ]
    },
    {
     "name": "stderr",
     "output_type": "stream",
     "text": [
      "/tmp/ipykernel_3270439/1833942566.py:10: SettingWithCopyWarning: \n",
      "A value is trying to be set on a copy of a slice from a DataFrame.\n",
      "Try using .loc[row_indexer,col_indexer] = value instead\n",
      "\n",
      "See the caveats in the documentation: https://pandas.pydata.org/pandas-docs/stable/user_guide/indexing.html#returning-a-view-versus-a-copy\n",
      "  repre_fasta['protein'] = repre_fasta['seq'].apply(translate_dna_to_protein)\n"
     ]
    },
    {
     "name": "stdout",
     "output_type": "stream",
     "text": [
      "mouse_brain_ribo_2_r1\n"
     ]
    },
    {
     "name": "stderr",
     "output_type": "stream",
     "text": [
      "/tmp/ipykernel_3270439/1833942566.py:10: SettingWithCopyWarning: \n",
      "A value is trying to be set on a copy of a slice from a DataFrame.\n",
      "Try using .loc[row_indexer,col_indexer] = value instead\n",
      "\n",
      "See the caveats in the documentation: https://pandas.pydata.org/pandas-docs/stable/user_guide/indexing.html#returning-a-view-versus-a-copy\n",
      "  repre_fasta['protein'] = repre_fasta['seq'].apply(translate_dna_to_protein)\n"
     ]
    },
    {
     "name": "stdout",
     "output_type": "stream",
     "text": [
      "mouse_brain_ribo_1_r1\n"
     ]
    },
    {
     "name": "stderr",
     "output_type": "stream",
     "text": [
      "/tmp/ipykernel_3270439/1833942566.py:10: SettingWithCopyWarning: \n",
      "A value is trying to be set on a copy of a slice from a DataFrame.\n",
      "Try using .loc[row_indexer,col_indexer] = value instead\n",
      "\n",
      "See the caveats in the documentation: https://pandas.pydata.org/pandas-docs/stable/user_guide/indexing.html#returning-a-view-versus-a-copy\n",
      "  repre_fasta['protein'] = repre_fasta['seq'].apply(translate_dna_to_protein)\n"
     ]
    },
    {
     "name": "stdout",
     "output_type": "stream",
     "text": [
      "mouse_roundSpermatids_ribo_1_r1\n"
     ]
    },
    {
     "name": "stderr",
     "output_type": "stream",
     "text": [
      "/tmp/ipykernel_3270439/1833942566.py:10: SettingWithCopyWarning: \n",
      "A value is trying to be set on a copy of a slice from a DataFrame.\n",
      "Try using .loc[row_indexer,col_indexer] = value instead\n",
      "\n",
      "See the caveats in the documentation: https://pandas.pydata.org/pandas-docs/stable/user_guide/indexing.html#returning-a-view-versus-a-copy\n",
      "  repre_fasta['protein'] = repre_fasta['seq'].apply(translate_dna_to_protein)\n"
     ]
    },
    {
     "name": "stdout",
     "output_type": "stream",
     "text": [
      "mouse_liver_ribo_5_r1\n"
     ]
    },
    {
     "name": "stderr",
     "output_type": "stream",
     "text": [
      "/tmp/ipykernel_3270439/1833942566.py:10: SettingWithCopyWarning: \n",
      "A value is trying to be set on a copy of a slice from a DataFrame.\n",
      "Try using .loc[row_indexer,col_indexer] = value instead\n",
      "\n",
      "See the caveats in the documentation: https://pandas.pydata.org/pandas-docs/stable/user_guide/indexing.html#returning-a-view-versus-a-copy\n",
      "  repre_fasta['protein'] = repre_fasta['seq'].apply(translate_dna_to_protein)\n"
     ]
    },
    {
     "name": "stdout",
     "output_type": "stream",
     "text": [
      "mouse_liver_ribo_2_r1\n"
     ]
    },
    {
     "name": "stderr",
     "output_type": "stream",
     "text": [
      "/tmp/ipykernel_3270439/1833942566.py:10: SettingWithCopyWarning: \n",
      "A value is trying to be set on a copy of a slice from a DataFrame.\n",
      "Try using .loc[row_indexer,col_indexer] = value instead\n",
      "\n",
      "See the caveats in the documentation: https://pandas.pydata.org/pandas-docs/stable/user_guide/indexing.html#returning-a-view-versus-a-copy\n",
      "  repre_fasta['protein'] = repre_fasta['seq'].apply(translate_dna_to_protein)\n"
     ]
    },
    {
     "name": "stdout",
     "output_type": "stream",
     "text": [
      "mouse_liver_ribo_1_r1\n"
     ]
    },
    {
     "name": "stderr",
     "output_type": "stream",
     "text": [
      "/tmp/ipykernel_3270439/1833942566.py:10: SettingWithCopyWarning: \n",
      "A value is trying to be set on a copy of a slice from a DataFrame.\n",
      "Try using .loc[row_indexer,col_indexer] = value instead\n",
      "\n",
      "See the caveats in the documentation: https://pandas.pydata.org/pandas-docs/stable/user_guide/indexing.html#returning-a-view-versus-a-copy\n",
      "  repre_fasta['protein'] = repre_fasta['seq'].apply(translate_dna_to_protein)\n"
     ]
    }
   ],
   "source": [
    "## get repre sequences - both DNA and PROTEINS\n",
    "specie = \"mouse\"\n",
    "riboseq_dir = os.path.join(users_dir,specie,\"RiboSeq/240728_RiboNovel\")\n",
    "all_repre_candidates = pd.DataFrame()\n",
    "for sample in os.listdir(os.path.join(riboseq_dir,\"RibORF\")):\n",
    "    if sample.endswith(\"r1\"):\n",
    "        print(sample)\n",
    "        repre = pd.read_csv(os.path.join(riboseq_dir,\"RibORF\",sample,\"repre.valid.pred.pvalue.parameters.txt\"), sep=\"\\t\")\n",
    "        repre_fasta = candidates_fasta[candidates_fasta['header'].isin(repre.orfID.values.tolist())]\n",
    "        repre_fasta['protein'] = repre_fasta['seq'].apply(translate_dna_to_protein)\n",
    "        all_repre_candidates = pd.concat([all_repre_candidates, repre_fasta])\n",
    "        out_proteins = os.path.join(riboseq_dir,\"RibORF\",sample,\"repre.valid.pred.pvalue.parameters.PROTEIN.fa\")\n",
    "        seq_records_proteins = repre_fasta.apply(create_seqrecord_PROT, axis=1).tolist()\n",
    "        SeqIO.write(seq_records_proteins, out_proteins, \"fasta\")\n",
    "\n",
    "        out_dna = os.path.join(riboseq_dir,\"RibORF\",sample,\"repre.valid.pred.pvalue.parameters.DNA.fa\")\n",
    "        seq_records_dna = repre_fasta.apply(create_seqrecord_DNA, axis=1).tolist()\n",
    "        SeqIO.write(seq_records_dna, out_dna, \"fasta\")\n"
   ]
  },
  {
   "cell_type": "code",
   "execution_count": 5,
   "metadata": {},
   "outputs": [
    {
     "data": {
      "text/plain": [
       "54466"
      ]
     },
     "execution_count": 5,
     "metadata": {},
     "output_type": "execute_result"
    }
   ],
   "source": [
    "all_repre_candidates.drop_duplicates(inplace=True)\n",
    "all_repre_candidates\n",
    "out_nonredundant_proteins = os.path.join(riboseq_dir,\"RibORF/repre.valid.pred.pvalue.parameters.PROTEIN.noredunant.fa\")\n",
    "seq_records_proteins = all_repre_candidates.apply(create_seqrecord_PROT, axis=1).tolist()\n",
    "SeqIO.write(seq_records_proteins, out_nonredundant_proteins, \"fasta\")"
   ]
  },
  {
   "attachments": {},
   "cell_type": "markdown",
   "metadata": {},
   "source": [
    "## BLASTP testis human\n",
    "\n",
    "Against all expressed in mouse and macaca in any tissue (non-redunant set)"
   ]
  },
  {
   "attachments": {},
   "cell_type": "markdown",
   "metadata": {},
   "source": [
    "#### TESTIS-EXPRESSED"
   ]
  },
  {
   "cell_type": "code",
   "execution_count": 4,
   "metadata": {},
   "outputs": [
    {
     "data": {
      "text/plain": [
       "9961"
      ]
     },
     "execution_count": 4,
     "metadata": {},
     "output_type": "execute_result"
    }
   ],
   "source": [
    "## Testis-expressed ORFs human\n",
    "TestisExpressed_translatedINtestis = pd.read_csv(\"/projects_eg/projects/marta/TestisRestricted_Microproteins_TSA/with_TranscriptomeReconstruction/ribORF_humanTestis_in2.csv\")\n",
    "TestisExpressed_translatedINtestis\n",
    "\n",
    "def create_seqrecord_PROThuman(row):\n",
    "    return SeqRecord(Seq(row['ORFpep']), id=row['orfID'], description=\"\")\n",
    "\n",
    "out_nonredundant_proteins = \"/projects_eg/projects/marta/TestisRestricted_Microproteins_TSA/with_TranscriptomeReconstruction/ribORF_humanTestis_in2.fa\"\n",
    "seq_records_proteins = TestisExpressed_translatedINtestis.apply(create_seqrecord_PROThuman, axis=1).tolist()\n",
    "SeqIO.write(seq_records_proteins, out_nonredundant_proteins, \"fasta\")"
   ]
  },
  {
   "cell_type": "code",
   "execution_count": 8,
   "metadata": {},
   "outputs": [
    {
     "name": "stdout",
     "output_type": "stream",
     "text": [
      "/users/genomics/marta/TestisProject_SaraRazquin/with_TranscriptomeReconstruction/EvolutionaryOrigin\n",
      "\n",
      "\n",
      "Building a new DB, current time: 07/30/2024 10:07:37\n",
      "New DB name:   /users/genomics/marta/TestisProject_SaraRazquin/with_TranscriptomeReconstruction/EvolutionaryOrigin/macaca_db_prot\n",
      "New DB title:  /users/genomics/marta/TestisProject_SaraRazquin/with_TranscriptomeReconstruction/macaca/RiboSeq/240729_RiboNovel/RibORF/repre.valid.pred.pvalue.parameters.PROTEIN.noredunant.shortheaders.fa\n",
      "Sequence type: Protein\n",
      "Deleted existing Protein BLAST database named /users/genomics/marta/TestisProject_SaraRazquin/with_TranscriptomeReconstruction/EvolutionaryOrigin/macaca_db_prot\n",
      "Keep MBits: T\n",
      "Maximum file size: 1000000000B\n",
      "Adding sequences from FASTA; added 35065 sequences in 1.55498 seconds.\n",
      "\n",
      "\n",
      "\n",
      "\n",
      "Building a new DB, current time: 07/30/2024 10:07:40\n",
      "New DB name:   /users/genomics/marta/TestisProject_SaraRazquin/with_TranscriptomeReconstruction/EvolutionaryOrigin/mouse_db_prot\n",
      "New DB title:  /users/genomics/marta/TestisProject_SaraRazquin/with_TranscriptomeReconstruction/mouse/RiboSeq/240728_RiboNovel/RibORF/repre.valid.pred.pvalue.parameters.PROTEIN.noredunant.shortheaders.fa\n",
      "Sequence type: Protein\n",
      "Deleted existing Protein BLAST database named /users/genomics/marta/TestisProject_SaraRazquin/with_TranscriptomeReconstruction/EvolutionaryOrigin/mouse_db_prot\n",
      "Keep MBits: T\n",
      "Maximum file size: 1000000000B\n",
      "Adding sequences from FASTA; added 54466 sequences in 1.62668 seconds.\n",
      "\n",
      "\n"
     ]
    }
   ],
   "source": [
    "%%bash -s \"$evoDir\"\n",
    "\n",
    "echo $1\n",
    "## create blastp database\n",
    "module load BLAST+/2.12.0-Linux_x86_64\n",
    "\n",
    "## macaca\n",
    "awk 'BEGIN{FS=OFS=\"|\"} /^>/ { $3 = \"\"; sub(/\\|\\|/, \"|\") } { print }' /users/genomics/marta/TestisProject_SaraRazquin/with_TranscriptomeReconstruction/macaca/RiboSeq/240729_RiboNovel/RibORF/repre.valid.pred.pvalue.parameters.PROTEIN.noredunant.fa > /users/genomics/marta/TestisProject_SaraRazquin/with_TranscriptomeReconstruction/macaca/RiboSeq/240729_RiboNovel/RibORF/repre.valid.pred.pvalue.parameters.PROTEIN.noredunant.shortheaders.fa\n",
    "makeblastdb -in /users/genomics/marta/TestisProject_SaraRazquin/with_TranscriptomeReconstruction/macaca/RiboSeq/240729_RiboNovel/RibORF/repre.valid.pred.pvalue.parameters.PROTEIN.noredunant.shortheaders.fa -out $1/macaca_db_prot -parse_seqids -dbtype prot\n",
    "## mouse\n",
    "awk 'BEGIN{FS=OFS=\"|\"} /^>/ { $3 = \"\"; sub(/\\|\\|/, \"|\") } { print }' /users/genomics/marta/TestisProject_SaraRazquin/with_TranscriptomeReconstruction/mouse/RiboSeq/240728_RiboNovel/RibORF/repre.valid.pred.pvalue.parameters.PROTEIN.noredunant.fa > /users/genomics/marta/TestisProject_SaraRazquin/with_TranscriptomeReconstruction/mouse/RiboSeq/240728_RiboNovel/RibORF/repre.valid.pred.pvalue.parameters.PROTEIN.noredunant.shortheaders.fa\n",
    "makeblastdb -in /users/genomics/marta/TestisProject_SaraRazquin/with_TranscriptomeReconstruction/mouse/RiboSeq/240728_RiboNovel/RibORF/repre.valid.pred.pvalue.parameters.PROTEIN.noredunant.shortheaders.fa -out $1/mouse_db_prot -parse_seqids -dbtype prot\n"
   ]
  },
  {
   "cell_type": "code",
   "execution_count": 9,
   "metadata": {},
   "outputs": [],
   "source": [
    "%%bash -s \"$evoDir\"\n",
    "\n",
    "module load BLAST+/2.12.0-Linux_x86_64\n",
    "\n",
    "## testis-expressed vs MACACA\n",
    "blastp -query /projects_eg/projects/marta/TestisRestricted_Microproteins_TSA/with_TranscriptomeReconstruction/ribORF_humanTestis_in2.fa \\\n",
    "-db $1/macaca_db_prot \\\n",
    "-task 'blastp-short' \\\n",
    "-out $1/TestisExpressedHuman_vs_macaca.txt \\\n",
    "-evalue 0.0001 \\\n",
    "-outfmt \"6 qseqid sseqid pident length mismatch gapopen qstart qend sstart send evalue bitscore qlen slen qframe sframe sstrand qcovs\"\n",
    "\n",
    "## testis-expressed vs MOUSE\n",
    "blastp -query /projects_eg/projects/marta/TestisRestricted_Microproteins_TSA/with_TranscriptomeReconstruction/ribORF_humanTestis_in2.fa \\\n",
    "-db $1/mouse_db_prot \\\n",
    "-task 'blastp-short' \\\n",
    "-out $1/TestisExpressedHuman_vs_mouse.txt \\\n",
    "-evalue 0.0001 \\\n",
    "-outfmt \"6 qseqid sseqid pident length mismatch gapopen qstart qend sstart send evalue bitscore qlen slen qframe sframe sstrand qcovs\""
   ]
  },
  {
   "attachments": {},
   "cell_type": "markdown",
   "metadata": {},
   "source": [
    "## Analysis"
   ]
  },
  {
   "cell_type": "code",
   "execution_count": 2,
   "metadata": {},
   "outputs": [
    {
     "data": {
      "text/html": [
       "<div>\n",
       "<style scoped>\n",
       "    .dataframe tbody tr th:only-of-type {\n",
       "        vertical-align: middle;\n",
       "    }\n",
       "\n",
       "    .dataframe tbody tr th {\n",
       "        vertical-align: top;\n",
       "    }\n",
       "\n",
       "    .dataframe thead th {\n",
       "        text-align: right;\n",
       "    }\n",
       "</style>\n",
       "<table border=\"1\" class=\"dataframe\">\n",
       "  <thead>\n",
       "    <tr style=\"text-align: right;\">\n",
       "      <th></th>\n",
       "      <th>orfID</th>\n",
       "      <th>ORFseq</th>\n",
       "      <th>gene_id</th>\n",
       "      <th>gene_name</th>\n",
       "      <th>transcript_id</th>\n",
       "      <th>gene_type</th>\n",
       "      <th>orfType</th>\n",
       "      <th>length</th>\n",
       "      <th>length_aa</th>\n",
       "      <th>start_codon</th>\n",
       "      <th>ORFpep</th>\n",
       "    </tr>\n",
       "  </thead>\n",
       "  <tbody>\n",
       "    <tr>\n",
       "      <th>0</th>\n",
       "      <td>ENST00000000412.8:12:-|10|2450:160:994|canonic...</td>\n",
       "      <td>ATGTTCCCTTTCTACAGCTGCTGGAGGACTGGACTGCTACTACTAC...</td>\n",
       "      <td>ENSG00000003056</td>\n",
       "      <td>M6PR</td>\n",
       "      <td>ENST00000000412</td>\n",
       "      <td>protein_coding</td>\n",
       "      <td>canonical</td>\n",
       "      <td>834</td>\n",
       "      <td>278</td>\n",
       "      <td>ATG</td>\n",
       "      <td>MFPFYSCWRTGLLLLLLAVAVRESWQTEEKTCDLVGEKGKESEKEL...</td>\n",
       "    </tr>\n",
       "    <tr>\n",
       "      <th>1</th>\n",
       "      <td>ENST00000001008.6:12:+|5|3715:171:1551|canonic...</td>\n",
       "      <td>ATGACAGCCGAGGAGATGAAGGCGACCGAGAGCGGGGCGCAGTCGG...</td>\n",
       "      <td>ENSG00000004478</td>\n",
       "      <td>FKBP4</td>\n",
       "      <td>ENST00000001008</td>\n",
       "      <td>protein_coding</td>\n",
       "      <td>canonical</td>\n",
       "      <td>1380</td>\n",
       "      <td>460</td>\n",
       "      <td>ATG</td>\n",
       "      <td>MTAEEMKATESGAQSAPLPMEGVDISPKQDEGVLKVIKREGTGTEM...</td>\n",
       "    </tr>\n",
       "    <tr>\n",
       "      <th>2</th>\n",
       "      <td>ENST00000001146.7:2:-|1|4556:29:1568|canonical...</td>\n",
       "      <td>ATGCTCTTTGAGGGCTTGGATCTGGTGTCGGCGCTGGCCACCCTCG...</td>\n",
       "      <td>ENSG00000003137</td>\n",
       "      <td>CYP26B1</td>\n",
       "      <td>ENST00000001146</td>\n",
       "      <td>protein_coding</td>\n",
       "      <td>canonical</td>\n",
       "      <td>1539</td>\n",
       "      <td>513</td>\n",
       "      <td>ATG</td>\n",
       "      <td>MLFEGLDLVSALATLAACLVSVTLLLAVSQQLWQLRWAATRDKSCK...</td>\n",
       "    </tr>\n",
       "    <tr>\n",
       "      <th>3</th>\n",
       "      <td>ENST00000002165.11:6:-|3|2385:87:1491|canonica...</td>\n",
       "      <td>ATGCGGCCCCAGGAGCTCCCCAGGCTCGCGTTCCCGTTGCTGCTGT...</td>\n",
       "      <td>ENSG00000001036</td>\n",
       "      <td>FUCA2</td>\n",
       "      <td>ENST00000002165</td>\n",
       "      <td>protein_coding</td>\n",
       "      <td>canonical</td>\n",
       "      <td>1404</td>\n",
       "      <td>468</td>\n",
       "      <td>ATG</td>\n",
       "      <td>MRPQELPRLAFPLLLLLLLLLPPPPCPAHSATRFDPTWESLDARQL...</td>\n",
       "    </tr>\n",
       "    <tr>\n",
       "      <th>4</th>\n",
       "      <td>ENST00000002596.6:4:-|24|7160:305:1229|canonic...</td>\n",
       "      <td>ATGGCCGCGCTGCTCCTGGGCGCGGTGCTGCTGGTGGCCCAGCCCC...</td>\n",
       "      <td>ENSG00000002587</td>\n",
       "      <td>HS3ST1</td>\n",
       "      <td>ENST00000002596</td>\n",
       "      <td>protein_coding</td>\n",
       "      <td>canonical</td>\n",
       "      <td>924</td>\n",
       "      <td>308</td>\n",
       "      <td>ATG</td>\n",
       "      <td>MAALLLGAVLLVAQPQLVPSRPAELGQQELLRKAGTLQDDVRDGVA...</td>\n",
       "    </tr>\n",
       "    <tr>\n",
       "      <th>...</th>\n",
       "      <td>...</td>\n",
       "      <td>...</td>\n",
       "      <td>...</td>\n",
       "      <td>...</td>\n",
       "      <td>...</td>\n",
       "      <td>...</td>\n",
       "      <td>...</td>\n",
       "      <td>...</td>\n",
       "      <td>...</td>\n",
       "      <td>...</td>\n",
       "      <td>...</td>\n",
       "    </tr>\n",
       "    <tr>\n",
       "      <th>12516</th>\n",
       "      <td>TCONS_00001992:8:+|9|1191:153:675|noncoding|ATG</td>\n",
       "      <td>ATGACCGGGTCAGCGGAAATTTCAGAGCCAGCCAGCAGCTCAGGTC...</td>\n",
       "      <td>XLOC_001676</td>\n",
       "      <td>XLOC_001676</td>\n",
       "      <td>TCONS_00001992</td>\n",
       "      <td>novel</td>\n",
       "      <td>noncoding</td>\n",
       "      <td>522</td>\n",
       "      <td>174</td>\n",
       "      <td>ATG</td>\n",
       "      <td>MTGSAEISEPASSSGPRGRGRNGTAPRRQPRGHSRATADSGTSLSA...</td>\n",
       "    </tr>\n",
       "    <tr>\n",
       "      <th>12517</th>\n",
       "      <td>TCONS_00002050:9:-|86|10655:1396:1420|noncodin...</td>\n",
       "      <td>CTGTGTAAGTGCATCAGAACATAA</td>\n",
       "      <td>XLOC_001809</td>\n",
       "      <td>XLOC_001809</td>\n",
       "      <td>TCONS_00002050</td>\n",
       "      <td>novel</td>\n",
       "      <td>noncoding</td>\n",
       "      <td>24</td>\n",
       "      <td>8</td>\n",
       "      <td>CTG</td>\n",
       "      <td>MCKCIRT*</td>\n",
       "    </tr>\n",
       "    <tr>\n",
       "      <th>12518</th>\n",
       "      <td>TCONS_00002051:9:-|9|437:109:145|noncoding|ATG</td>\n",
       "      <td>ATGGCTTTACCCATGGAGATTTTTGTTGCTGGCTAA</td>\n",
       "      <td>XLOC_001810</td>\n",
       "      <td>XLOC_001810</td>\n",
       "      <td>TCONS_00002051</td>\n",
       "      <td>novel</td>\n",
       "      <td>noncoding</td>\n",
       "      <td>36</td>\n",
       "      <td>12</td>\n",
       "      <td>ATG</td>\n",
       "      <td>MALPMEIFVAG*</td>\n",
       "    </tr>\n",
       "    <tr>\n",
       "      <th>12519</th>\n",
       "      <td>TCONS_00002066:9:+|15|2910:249:327|noncoding|ATG</td>\n",
       "      <td>ATGTGCTTAATAAATATACGCCGAATGACTGAACTGCAACCAAGGA...</td>\n",
       "      <td>XLOC_001758</td>\n",
       "      <td>XLOC_001758</td>\n",
       "      <td>TCONS_00002066</td>\n",
       "      <td>novel</td>\n",
       "      <td>noncoding</td>\n",
       "      <td>78</td>\n",
       "      <td>26</td>\n",
       "      <td>ATG</td>\n",
       "      <td>MCLINIRRMTELQPRTLYTCFTDLV*</td>\n",
       "    </tr>\n",
       "    <tr>\n",
       "      <th>12520</th>\n",
       "      <td>TCONS_00002105:9:+|25|1451:469:511|noncoding|TTG</td>\n",
       "      <td>TTGTACGTTGGTGGAGACGTGCCTTTTTTCCTTTGCACTTAA</td>\n",
       "      <td>XLOC_001725</td>\n",
       "      <td>XLOC_001725</td>\n",
       "      <td>TCONS_00002105</td>\n",
       "      <td>novel</td>\n",
       "      <td>noncoding</td>\n",
       "      <td>42</td>\n",
       "      <td>14</td>\n",
       "      <td>TTG</td>\n",
       "      <td>MYVGGDVPFFLCT*</td>\n",
       "    </tr>\n",
       "  </tbody>\n",
       "</table>\n",
       "<p>12521 rows × 11 columns</p>\n",
       "</div>"
      ],
      "text/plain": [
       "                                                   orfID  \\\n",
       "0      ENST00000000412.8:12:-|10|2450:160:994|canonic...   \n",
       "1      ENST00000001008.6:12:+|5|3715:171:1551|canonic...   \n",
       "2      ENST00000001146.7:2:-|1|4556:29:1568|canonical...   \n",
       "3      ENST00000002165.11:6:-|3|2385:87:1491|canonica...   \n",
       "4      ENST00000002596.6:4:-|24|7160:305:1229|canonic...   \n",
       "...                                                  ...   \n",
       "12516    TCONS_00001992:8:+|9|1191:153:675|noncoding|ATG   \n",
       "12517  TCONS_00002050:9:-|86|10655:1396:1420|noncodin...   \n",
       "12518     TCONS_00002051:9:-|9|437:109:145|noncoding|ATG   \n",
       "12519   TCONS_00002066:9:+|15|2910:249:327|noncoding|ATG   \n",
       "12520   TCONS_00002105:9:+|25|1451:469:511|noncoding|TTG   \n",
       "\n",
       "                                                  ORFseq          gene_id  \\\n",
       "0      ATGTTCCCTTTCTACAGCTGCTGGAGGACTGGACTGCTACTACTAC...  ENSG00000003056   \n",
       "1      ATGACAGCCGAGGAGATGAAGGCGACCGAGAGCGGGGCGCAGTCGG...  ENSG00000004478   \n",
       "2      ATGCTCTTTGAGGGCTTGGATCTGGTGTCGGCGCTGGCCACCCTCG...  ENSG00000003137   \n",
       "3      ATGCGGCCCCAGGAGCTCCCCAGGCTCGCGTTCCCGTTGCTGCTGT...  ENSG00000001036   \n",
       "4      ATGGCCGCGCTGCTCCTGGGCGCGGTGCTGCTGGTGGCCCAGCCCC...  ENSG00000002587   \n",
       "...                                                  ...              ...   \n",
       "12516  ATGACCGGGTCAGCGGAAATTTCAGAGCCAGCCAGCAGCTCAGGTC...      XLOC_001676   \n",
       "12517                           CTGTGTAAGTGCATCAGAACATAA      XLOC_001809   \n",
       "12518               ATGGCTTTACCCATGGAGATTTTTGTTGCTGGCTAA      XLOC_001810   \n",
       "12519  ATGTGCTTAATAAATATACGCCGAATGACTGAACTGCAACCAAGGA...      XLOC_001758   \n",
       "12520         TTGTACGTTGGTGGAGACGTGCCTTTTTTCCTTTGCACTTAA      XLOC_001725   \n",
       "\n",
       "         gene_name    transcript_id       gene_type    orfType  length  \\\n",
       "0             M6PR  ENST00000000412  protein_coding  canonical     834   \n",
       "1            FKBP4  ENST00000001008  protein_coding  canonical    1380   \n",
       "2          CYP26B1  ENST00000001146  protein_coding  canonical    1539   \n",
       "3            FUCA2  ENST00000002165  protein_coding  canonical    1404   \n",
       "4           HS3ST1  ENST00000002596  protein_coding  canonical     924   \n",
       "...            ...              ...             ...        ...     ...   \n",
       "12516  XLOC_001676   TCONS_00001992           novel  noncoding     522   \n",
       "12517  XLOC_001809   TCONS_00002050           novel  noncoding      24   \n",
       "12518  XLOC_001810   TCONS_00002051           novel  noncoding      36   \n",
       "12519  XLOC_001758   TCONS_00002066           novel  noncoding      78   \n",
       "12520  XLOC_001725   TCONS_00002105           novel  noncoding      42   \n",
       "\n",
       "       length_aa start_codon  \\\n",
       "0            278         ATG   \n",
       "1            460         ATG   \n",
       "2            513         ATG   \n",
       "3            468         ATG   \n",
       "4            308         ATG   \n",
       "...          ...         ...   \n",
       "12516        174         ATG   \n",
       "12517          8         CTG   \n",
       "12518         12         ATG   \n",
       "12519         26         ATG   \n",
       "12520         14         TTG   \n",
       "\n",
       "                                                  ORFpep  \n",
       "0      MFPFYSCWRTGLLLLLLAVAVRESWQTEEKTCDLVGEKGKESEKEL...  \n",
       "1      MTAEEMKATESGAQSAPLPMEGVDISPKQDEGVLKVIKREGTGTEM...  \n",
       "2      MLFEGLDLVSALATLAACLVSVTLLLAVSQQLWQLRWAATRDKSCK...  \n",
       "3      MRPQELPRLAFPLLLLLLLLLPPPPCPAHSATRFDPTWESLDARQL...  \n",
       "4      MAALLLGAVLLVAQPQLVPSRPAELGQQELLRKAGTLQDDVRDGVA...  \n",
       "...                                                  ...  \n",
       "12516  MTGSAEISEPASSSGPRGRGRNGTAPRRQPRGHSRATADSGTSLSA...  \n",
       "12517                                           MCKCIRT*  \n",
       "12518                                       MALPMEIFVAG*  \n",
       "12519                         MCLINIRRMTELQPRTLYTCFTDLV*  \n",
       "12520                                     MYVGGDVPFFLCT*  \n",
       "\n",
       "[12521 rows x 11 columns]"
      ]
     },
     "execution_count": 2,
     "metadata": {},
     "output_type": "execute_result"
    }
   ],
   "source": [
    "ribORF_in_2 = pd.read_csv(\"/projects_eg/projects/marta/TestisRestricted_Microproteins_TSA/with_TranscriptomeReconstruction/ribORF_humanTestis_in2.csv\")\n",
    "ribORF_in_2"
   ]
  },
  {
   "cell_type": "code",
   "execution_count": 3,
   "metadata": {},
   "outputs": [
    {
     "data": {
      "text/html": [
       "<div>\n",
       "<style scoped>\n",
       "    .dataframe tbody tr th:only-of-type {\n",
       "        vertical-align: middle;\n",
       "    }\n",
       "\n",
       "    .dataframe tbody tr th {\n",
       "        vertical-align: top;\n",
       "    }\n",
       "\n",
       "    .dataframe thead th {\n",
       "        text-align: right;\n",
       "    }\n",
       "</style>\n",
       "<table border=\"1\" class=\"dataframe\">\n",
       "  <thead>\n",
       "    <tr style=\"text-align: right;\">\n",
       "      <th></th>\n",
       "      <th></th>\n",
       "      <th>orfID</th>\n",
       "      <th>ORFseq</th>\n",
       "      <th>gene_id</th>\n",
       "      <th>gene_name</th>\n",
       "      <th>transcript_id</th>\n",
       "      <th>orfType</th>\n",
       "      <th>length</th>\n",
       "      <th>length_aa</th>\n",
       "      <th>start_codon</th>\n",
       "      <th>ORFpep</th>\n",
       "    </tr>\n",
       "    <tr>\n",
       "      <th>gene_type</th>\n",
       "      <th>mouse</th>\n",
       "      <th></th>\n",
       "      <th></th>\n",
       "      <th></th>\n",
       "      <th></th>\n",
       "      <th></th>\n",
       "      <th></th>\n",
       "      <th></th>\n",
       "      <th></th>\n",
       "      <th></th>\n",
       "      <th></th>\n",
       "    </tr>\n",
       "  </thead>\n",
       "  <tbody>\n",
       "    <tr>\n",
       "      <th rowspan=\"2\" valign=\"top\">lncRNA</th>\n",
       "      <th>conserved_mouse</th>\n",
       "      <td>110</td>\n",
       "      <td>110</td>\n",
       "      <td>110</td>\n",
       "      <td>110</td>\n",
       "      <td>110</td>\n",
       "      <td>110</td>\n",
       "      <td>110</td>\n",
       "      <td>110</td>\n",
       "      <td>110</td>\n",
       "      <td>110</td>\n",
       "    </tr>\n",
       "    <tr>\n",
       "      <th>no</th>\n",
       "      <td>394</td>\n",
       "      <td>394</td>\n",
       "      <td>394</td>\n",
       "      <td>394</td>\n",
       "      <td>394</td>\n",
       "      <td>394</td>\n",
       "      <td>394</td>\n",
       "      <td>394</td>\n",
       "      <td>394</td>\n",
       "      <td>394</td>\n",
       "    </tr>\n",
       "    <tr>\n",
       "      <th>novel</th>\n",
       "      <th>no</th>\n",
       "      <td>63</td>\n",
       "      <td>63</td>\n",
       "      <td>63</td>\n",
       "      <td>63</td>\n",
       "      <td>63</td>\n",
       "      <td>63</td>\n",
       "      <td>63</td>\n",
       "      <td>63</td>\n",
       "      <td>63</td>\n",
       "      <td>63</td>\n",
       "    </tr>\n",
       "    <tr>\n",
       "      <th rowspan=\"2\" valign=\"top\">processed_pseudogene</th>\n",
       "      <th>conserved_mouse</th>\n",
       "      <td>109</td>\n",
       "      <td>109</td>\n",
       "      <td>109</td>\n",
       "      <td>109</td>\n",
       "      <td>109</td>\n",
       "      <td>109</td>\n",
       "      <td>109</td>\n",
       "      <td>109</td>\n",
       "      <td>109</td>\n",
       "      <td>109</td>\n",
       "    </tr>\n",
       "    <tr>\n",
       "      <th>no</th>\n",
       "      <td>14</td>\n",
       "      <td>14</td>\n",
       "      <td>14</td>\n",
       "      <td>14</td>\n",
       "      <td>14</td>\n",
       "      <td>14</td>\n",
       "      <td>14</td>\n",
       "      <td>14</td>\n",
       "      <td>14</td>\n",
       "      <td>14</td>\n",
       "    </tr>\n",
       "    <tr>\n",
       "      <th rowspan=\"2\" valign=\"top\">protein_coding</th>\n",
       "      <th>conserved_mouse</th>\n",
       "      <td>11533</td>\n",
       "      <td>11533</td>\n",
       "      <td>11533</td>\n",
       "      <td>11533</td>\n",
       "      <td>11533</td>\n",
       "      <td>11533</td>\n",
       "      <td>11533</td>\n",
       "      <td>11533</td>\n",
       "      <td>11533</td>\n",
       "      <td>11533</td>\n",
       "    </tr>\n",
       "    <tr>\n",
       "      <th>no</th>\n",
       "      <td>298</td>\n",
       "      <td>298</td>\n",
       "      <td>298</td>\n",
       "      <td>298</td>\n",
       "      <td>298</td>\n",
       "      <td>298</td>\n",
       "      <td>298</td>\n",
       "      <td>298</td>\n",
       "      <td>298</td>\n",
       "      <td>298</td>\n",
       "    </tr>\n",
       "  </tbody>\n",
       "</table>\n",
       "</div>"
      ],
      "text/plain": [
       "                                      orfID  ORFseq  gene_id  gene_name  \\\n",
       "gene_type            mouse                                                \n",
       "lncRNA               conserved_mouse    110     110      110        110   \n",
       "                     no                 394     394      394        394   \n",
       "novel                no                  63      63       63         63   \n",
       "processed_pseudogene conserved_mouse    109     109      109        109   \n",
       "                     no                  14      14       14         14   \n",
       "protein_coding       conserved_mouse  11533   11533    11533      11533   \n",
       "                     no                 298     298      298        298   \n",
       "\n",
       "                                      transcript_id  orfType  length  \\\n",
       "gene_type            mouse                                             \n",
       "lncRNA               conserved_mouse            110      110     110   \n",
       "                     no                         394      394     394   \n",
       "novel                no                          63       63      63   \n",
       "processed_pseudogene conserved_mouse            109      109     109   \n",
       "                     no                          14       14      14   \n",
       "protein_coding       conserved_mouse          11533    11533   11533   \n",
       "                     no                         298      298     298   \n",
       "\n",
       "                                      length_aa  start_codon  ORFpep  \n",
       "gene_type            mouse                                            \n",
       "lncRNA               conserved_mouse        110          110     110  \n",
       "                     no                     394          394     394  \n",
       "novel                no                      63           63      63  \n",
       "processed_pseudogene conserved_mouse        109          109     109  \n",
       "                     no                      14           14      14  \n",
       "protein_coding       conserved_mouse      11533        11533   11533  \n",
       "                     no                     298          298     298  "
      ]
     },
     "execution_count": 3,
     "metadata": {},
     "output_type": "execute_result"
    }
   ],
   "source": [
    "## Analysis in Mouse\n",
    "human_mouse = pd.read_csv(os.path.join(evoDir,\"TestisExpressedHuman_vs_mouse.txt\"), sep=\"\\t\", header=None)\n",
    "human_mouse.columns = [\"qseqid\",\"sseqid\",\"pident\",\"length\",\"mismatch\",\"gapopen\",\"qstart\",\"qend\",\"sstart\",\"send\",\"evalue\",\"bitscore\",\"qlen\",\"slen\",\"qframe\",\"sframe\",\"sstrand\",\"qcovs\"]\n",
    "\n",
    "ribORF_in_2['mouse'] = np.where(ribORF_in_2['orfID'].isin(human_mouse.qseqid.values.tolist()), \"conserved_mouse\",\"no\")\n",
    "ribORF_in_2.groupby(['gene_type','mouse']).count()\n"
   ]
  },
  {
   "cell_type": "code",
   "execution_count": 4,
   "metadata": {},
   "outputs": [
    {
     "data": {
      "text/html": [
       "<div>\n",
       "<style scoped>\n",
       "    .dataframe tbody tr th:only-of-type {\n",
       "        vertical-align: middle;\n",
       "    }\n",
       "\n",
       "    .dataframe tbody tr th {\n",
       "        vertical-align: top;\n",
       "    }\n",
       "\n",
       "    .dataframe thead th {\n",
       "        text-align: right;\n",
       "    }\n",
       "</style>\n",
       "<table border=\"1\" class=\"dataframe\">\n",
       "  <thead>\n",
       "    <tr style=\"text-align: right;\">\n",
       "      <th></th>\n",
       "      <th></th>\n",
       "      <th></th>\n",
       "      <th>orfID</th>\n",
       "      <th>ORFseq</th>\n",
       "      <th>gene_id</th>\n",
       "      <th>gene_name</th>\n",
       "      <th>transcript_id</th>\n",
       "      <th>orfType</th>\n",
       "      <th>length</th>\n",
       "      <th>length_aa</th>\n",
       "      <th>start_codon</th>\n",
       "      <th>ORFpep</th>\n",
       "    </tr>\n",
       "    <tr>\n",
       "      <th>gene_type</th>\n",
       "      <th>macaca</th>\n",
       "      <th>mouse</th>\n",
       "      <th></th>\n",
       "      <th></th>\n",
       "      <th></th>\n",
       "      <th></th>\n",
       "      <th></th>\n",
       "      <th></th>\n",
       "      <th></th>\n",
       "      <th></th>\n",
       "      <th></th>\n",
       "      <th></th>\n",
       "    </tr>\n",
       "  </thead>\n",
       "  <tbody>\n",
       "    <tr>\n",
       "      <th rowspan=\"4\" valign=\"top\">lncRNA</th>\n",
       "      <th rowspan=\"2\" valign=\"top\">conserved_macaca</th>\n",
       "      <th>conserved_mouse</th>\n",
       "      <td>109</td>\n",
       "      <td>109</td>\n",
       "      <td>109</td>\n",
       "      <td>109</td>\n",
       "      <td>109</td>\n",
       "      <td>109</td>\n",
       "      <td>109</td>\n",
       "      <td>109</td>\n",
       "      <td>109</td>\n",
       "      <td>109</td>\n",
       "    </tr>\n",
       "    <tr>\n",
       "      <th>no</th>\n",
       "      <td>62</td>\n",
       "      <td>62</td>\n",
       "      <td>62</td>\n",
       "      <td>62</td>\n",
       "      <td>62</td>\n",
       "      <td>62</td>\n",
       "      <td>62</td>\n",
       "      <td>62</td>\n",
       "      <td>62</td>\n",
       "      <td>62</td>\n",
       "    </tr>\n",
       "    <tr>\n",
       "      <th rowspan=\"2\" valign=\"top\">no</th>\n",
       "      <th>conserved_mouse</th>\n",
       "      <td>1</td>\n",
       "      <td>1</td>\n",
       "      <td>1</td>\n",
       "      <td>1</td>\n",
       "      <td>1</td>\n",
       "      <td>1</td>\n",
       "      <td>1</td>\n",
       "      <td>1</td>\n",
       "      <td>1</td>\n",
       "      <td>1</td>\n",
       "    </tr>\n",
       "    <tr>\n",
       "      <th>no</th>\n",
       "      <td>332</td>\n",
       "      <td>332</td>\n",
       "      <td>332</td>\n",
       "      <td>332</td>\n",
       "      <td>332</td>\n",
       "      <td>332</td>\n",
       "      <td>332</td>\n",
       "      <td>332</td>\n",
       "      <td>332</td>\n",
       "      <td>332</td>\n",
       "    </tr>\n",
       "    <tr>\n",
       "      <th rowspan=\"2\" valign=\"top\">novel</th>\n",
       "      <th>conserved_macaca</th>\n",
       "      <th>no</th>\n",
       "      <td>8</td>\n",
       "      <td>8</td>\n",
       "      <td>8</td>\n",
       "      <td>8</td>\n",
       "      <td>8</td>\n",
       "      <td>8</td>\n",
       "      <td>8</td>\n",
       "      <td>8</td>\n",
       "      <td>8</td>\n",
       "      <td>8</td>\n",
       "    </tr>\n",
       "    <tr>\n",
       "      <th>no</th>\n",
       "      <th>no</th>\n",
       "      <td>55</td>\n",
       "      <td>55</td>\n",
       "      <td>55</td>\n",
       "      <td>55</td>\n",
       "      <td>55</td>\n",
       "      <td>55</td>\n",
       "      <td>55</td>\n",
       "      <td>55</td>\n",
       "      <td>55</td>\n",
       "      <td>55</td>\n",
       "    </tr>\n",
       "    <tr>\n",
       "      <th rowspan=\"4\" valign=\"top\">processed_pseudogene</th>\n",
       "      <th rowspan=\"2\" valign=\"top\">conserved_macaca</th>\n",
       "      <th>conserved_mouse</th>\n",
       "      <td>107</td>\n",
       "      <td>107</td>\n",
       "      <td>107</td>\n",
       "      <td>107</td>\n",
       "      <td>107</td>\n",
       "      <td>107</td>\n",
       "      <td>107</td>\n",
       "      <td>107</td>\n",
       "      <td>107</td>\n",
       "      <td>107</td>\n",
       "    </tr>\n",
       "    <tr>\n",
       "      <th>no</th>\n",
       "      <td>7</td>\n",
       "      <td>7</td>\n",
       "      <td>7</td>\n",
       "      <td>7</td>\n",
       "      <td>7</td>\n",
       "      <td>7</td>\n",
       "      <td>7</td>\n",
       "      <td>7</td>\n",
       "      <td>7</td>\n",
       "      <td>7</td>\n",
       "    </tr>\n",
       "    <tr>\n",
       "      <th rowspan=\"2\" valign=\"top\">no</th>\n",
       "      <th>conserved_mouse</th>\n",
       "      <td>2</td>\n",
       "      <td>2</td>\n",
       "      <td>2</td>\n",
       "      <td>2</td>\n",
       "      <td>2</td>\n",
       "      <td>2</td>\n",
       "      <td>2</td>\n",
       "      <td>2</td>\n",
       "      <td>2</td>\n",
       "      <td>2</td>\n",
       "    </tr>\n",
       "    <tr>\n",
       "      <th>no</th>\n",
       "      <td>7</td>\n",
       "      <td>7</td>\n",
       "      <td>7</td>\n",
       "      <td>7</td>\n",
       "      <td>7</td>\n",
       "      <td>7</td>\n",
       "      <td>7</td>\n",
       "      <td>7</td>\n",
       "      <td>7</td>\n",
       "      <td>7</td>\n",
       "    </tr>\n",
       "    <tr>\n",
       "      <th rowspan=\"4\" valign=\"top\">protein_coding</th>\n",
       "      <th rowspan=\"2\" valign=\"top\">conserved_macaca</th>\n",
       "      <th>conserved_mouse</th>\n",
       "      <td>11374</td>\n",
       "      <td>11374</td>\n",
       "      <td>11374</td>\n",
       "      <td>11374</td>\n",
       "      <td>11374</td>\n",
       "      <td>11374</td>\n",
       "      <td>11374</td>\n",
       "      <td>11374</td>\n",
       "      <td>11374</td>\n",
       "      <td>11374</td>\n",
       "    </tr>\n",
       "    <tr>\n",
       "      <th>no</th>\n",
       "      <td>269</td>\n",
       "      <td>269</td>\n",
       "      <td>269</td>\n",
       "      <td>269</td>\n",
       "      <td>269</td>\n",
       "      <td>269</td>\n",
       "      <td>269</td>\n",
       "      <td>269</td>\n",
       "      <td>269</td>\n",
       "      <td>269</td>\n",
       "    </tr>\n",
       "    <tr>\n",
       "      <th rowspan=\"2\" valign=\"top\">no</th>\n",
       "      <th>conserved_mouse</th>\n",
       "      <td>159</td>\n",
       "      <td>159</td>\n",
       "      <td>159</td>\n",
       "      <td>159</td>\n",
       "      <td>159</td>\n",
       "      <td>159</td>\n",
       "      <td>159</td>\n",
       "      <td>159</td>\n",
       "      <td>159</td>\n",
       "      <td>159</td>\n",
       "    </tr>\n",
       "    <tr>\n",
       "      <th>no</th>\n",
       "      <td>29</td>\n",
       "      <td>29</td>\n",
       "      <td>29</td>\n",
       "      <td>29</td>\n",
       "      <td>29</td>\n",
       "      <td>29</td>\n",
       "      <td>29</td>\n",
       "      <td>29</td>\n",
       "      <td>29</td>\n",
       "      <td>29</td>\n",
       "    </tr>\n",
       "  </tbody>\n",
       "</table>\n",
       "</div>"
      ],
      "text/plain": [
       "                                                       orfID  ORFseq  gene_id  \\\n",
       "gene_type            macaca           mouse                                     \n",
       "lncRNA               conserved_macaca conserved_mouse    109     109      109   \n",
       "                                      no                  62      62       62   \n",
       "                     no               conserved_mouse      1       1        1   \n",
       "                                      no                 332     332      332   \n",
       "novel                conserved_macaca no                   8       8        8   \n",
       "                     no               no                  55      55       55   \n",
       "processed_pseudogene conserved_macaca conserved_mouse    107     107      107   \n",
       "                                      no                   7       7        7   \n",
       "                     no               conserved_mouse      2       2        2   \n",
       "                                      no                   7       7        7   \n",
       "protein_coding       conserved_macaca conserved_mouse  11374   11374    11374   \n",
       "                                      no                 269     269      269   \n",
       "                     no               conserved_mouse    159     159      159   \n",
       "                                      no                  29      29       29   \n",
       "\n",
       "                                                       gene_name  \\\n",
       "gene_type            macaca           mouse                        \n",
       "lncRNA               conserved_macaca conserved_mouse        109   \n",
       "                                      no                      62   \n",
       "                     no               conserved_mouse          1   \n",
       "                                      no                     332   \n",
       "novel                conserved_macaca no                       8   \n",
       "                     no               no                      55   \n",
       "processed_pseudogene conserved_macaca conserved_mouse        107   \n",
       "                                      no                       7   \n",
       "                     no               conserved_mouse          2   \n",
       "                                      no                       7   \n",
       "protein_coding       conserved_macaca conserved_mouse      11374   \n",
       "                                      no                     269   \n",
       "                     no               conserved_mouse        159   \n",
       "                                      no                      29   \n",
       "\n",
       "                                                       transcript_id  orfType  \\\n",
       "gene_type            macaca           mouse                                     \n",
       "lncRNA               conserved_macaca conserved_mouse            109      109   \n",
       "                                      no                          62       62   \n",
       "                     no               conserved_mouse              1        1   \n",
       "                                      no                         332      332   \n",
       "novel                conserved_macaca no                           8        8   \n",
       "                     no               no                          55       55   \n",
       "processed_pseudogene conserved_macaca conserved_mouse            107      107   \n",
       "                                      no                           7        7   \n",
       "                     no               conserved_mouse              2        2   \n",
       "                                      no                           7        7   \n",
       "protein_coding       conserved_macaca conserved_mouse          11374    11374   \n",
       "                                      no                         269      269   \n",
       "                     no               conserved_mouse            159      159   \n",
       "                                      no                          29       29   \n",
       "\n",
       "                                                       length  length_aa  \\\n",
       "gene_type            macaca           mouse                                \n",
       "lncRNA               conserved_macaca conserved_mouse     109        109   \n",
       "                                      no                   62         62   \n",
       "                     no               conserved_mouse       1          1   \n",
       "                                      no                  332        332   \n",
       "novel                conserved_macaca no                    8          8   \n",
       "                     no               no                   55         55   \n",
       "processed_pseudogene conserved_macaca conserved_mouse     107        107   \n",
       "                                      no                    7          7   \n",
       "                     no               conserved_mouse       2          2   \n",
       "                                      no                    7          7   \n",
       "protein_coding       conserved_macaca conserved_mouse   11374      11374   \n",
       "                                      no                  269        269   \n",
       "                     no               conserved_mouse     159        159   \n",
       "                                      no                   29         29   \n",
       "\n",
       "                                                       start_codon  ORFpep  \n",
       "gene_type            macaca           mouse                                 \n",
       "lncRNA               conserved_macaca conserved_mouse          109     109  \n",
       "                                      no                        62      62  \n",
       "                     no               conserved_mouse            1       1  \n",
       "                                      no                       332     332  \n",
       "novel                conserved_macaca no                         8       8  \n",
       "                     no               no                        55      55  \n",
       "processed_pseudogene conserved_macaca conserved_mouse          107     107  \n",
       "                                      no                         7       7  \n",
       "                     no               conserved_mouse            2       2  \n",
       "                                      no                         7       7  \n",
       "protein_coding       conserved_macaca conserved_mouse        11374   11374  \n",
       "                                      no                       269     269  \n",
       "                     no               conserved_mouse          159     159  \n",
       "                                      no                        29      29  "
      ]
     },
     "execution_count": 4,
     "metadata": {},
     "output_type": "execute_result"
    }
   ],
   "source": [
    "## Analysis in Macaca\n",
    "human_macaca = pd.read_csv(os.path.join(evoDir,\"TestisExpressedHuman_vs_macaca.txt\"), sep=\"\\t\", header=None)\n",
    "human_macaca.columns = [\"qseqid\",\"sseqid\",\"pident\",\"length\",\"mismatch\",\"gapopen\",\"qstart\",\"qend\",\"sstart\",\"send\",\"evalue\",\"bitscore\",\"qlen\",\"slen\",\"qframe\",\"sframe\",\"sstrand\",\"qcovs\"]\n",
    "\n",
    "ribORF_in_2['macaca'] = np.where(ribORF_in_2['orfID'].isin(human_macaca.qseqid.values.tolist()), \"conserved_macaca\",\"no\")\n",
    "# ribORF_in_2_macaca.drop(columns=['mouse'], inplace=True)\n",
    "ribORF_in_2.to_csv(os.path.join(evoDir,\"ribORF_humanTestis_in2.evolution.csv\"), index=None)\n",
    "ribORF_in_2.groupby(['gene_type','macaca','mouse']).count()\n"
   ]
  },
  {
   "cell_type": "code",
   "execution_count": null,
   "metadata": {},
   "outputs": [],
   "source": []
  }
 ],
 "metadata": {
  "kernelspec": {
   "display_name": "Python 3",
   "language": "python",
   "name": "python3"
  },
  "language_info": {
   "codemirror_mode": {
    "name": "ipython",
    "version": 3
   },
   "file_extension": ".py",
   "mimetype": "text/x-python",
   "name": "python",
   "nbconvert_exporter": "python",
   "pygments_lexer": "ipython3",
   "version": "3.8.16"
  },
  "orig_nbformat": 4
 },
 "nbformat": 4,
 "nbformat_minor": 2
}
