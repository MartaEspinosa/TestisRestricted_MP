{
 "cells": [
  {
   "cell_type": "code",
   "execution_count": 1,
   "metadata": {},
   "outputs": [],
   "source": [
    "import os,re,glob\n",
    "import pandas as pd\n",
    "import numpy as np\n",
    "from collections import Counter\n",
    "from rna_seq_normalization import Normalization as Norm\n",
    "from functools import reduce\n",
    "\n",
    "users_dir = \"/users/genomics/marta/TestisProject_SaraRazquin/with_TranscriptomeReconstruction\"\n",
    "specie = \"human\"\n",
    "# GENOMEDIR = \"/genomics/users/marta/genomes\"\n",
    "GENOMEDIR = \"/data/genomics/marta/genomes\"\n",
    "\n",
    "### cancer data\n",
    "cancer_dir = users_dir + \"/cancers\"\n",
    "raw_cancer_dir=\"/users/genomics/marta/TCGA_RNASeq\"\n",
    "tcga_projects=[\"TCGA-BRCA\",\"TCGA-LUSC\",\"TCGA-PRAD\",\"TCGA-KIRC\",\"TCGA-KIRP\",\"TCGA-LUAD\",\"TCGA-BLCA\"]#,\"TCGA-LIHC\"]\n",
    "other_projects=[\"GSE102101_KIRC\",\"GSE133624_BLCA\",\"GSE22260_PRAD\",\"GSE89223_PRAD\",\"PRJEB2449_PRAD\",\"SRP238334_KIRC\",\"GSE103001_BRCA\",\"GSE214846_LIHC\",\"GSE229705_LUAD\",\"TCGA_COAD\",\"SRP107326_COAD\"]\n",
    "manuscript_projects = [\"liver_adjacent_totalRNA_LIHC\",\"hcc_normal_totalRNA_LIHC\",\"GSE193567_LIHC\",\"LIHC_TCGA_LIHC\"]\n",
    "all_projects = tcga_projects + other_projects + manuscript_projects\n",
    "\n",
    "cancertypes = [\"BRCA\",\"BLCA\",\"LUAD\",\"KIRC\",\"KIRP\",\"PRAD\",\"LUSC\",\"LIHC\",\"COAD\"]\n",
    "## annotation file\n",
    "annotation=\"/users/genomics/marta/TestisProject_SaraRazquin/with_TranscriptomeReconstruction/human/newReference_Resconstructed/gencode.v38.gffcompare.TestisLiverBrain.annotation.sorted.1transcript.sorted.NOchr.gtf\"\n",
    "transcript_gene=pd.read_csv(\"/users/genomics/marta/TestisProject_SaraRazquin/with_TranscriptomeReconstruction/human/newReference_Resconstructed/1transcript_1gene.reconstructed.csv\")\n",
    "\n",
    "def count_greater_than_one(row):\n",
    "    return (row > 1).sum()"
   ]
  },
  {
   "attachments": {},
   "cell_type": "markdown",
   "metadata": {},
   "source": [
    "## Quantify with TCGAData and new reference\n",
    "`featureCounts_newRef_cancer.sh`\n",
    "\n",
    "output in: `/users/genomics/marta/TestisProject_SaraRazquin/with_TranscriptomeReconstruction/cancers/featureCounts`"
   ]
  },
  {
   "attachments": {},
   "cell_type": "markdown",
   "metadata": {},
   "source": [
    "## TPM"
   ]
  },
  {
   "cell_type": "code",
   "execution_count": 2,
   "metadata": {},
   "outputs": [
    {
     "name": "stdout",
     "output_type": "stream",
     "text": [
      "TCGA-PRAD\n",
      "TCGA-LUSC\n",
      "GSE89223_PRAD\n",
      "TCGA-BLCA\n",
      "GSE102101_KIRC\n",
      "TCGA_COAD_SE\n",
      "GSE103001_BRCA\n",
      "TCGA-BRCA\n",
      "GSE214846_LIHC\n",
      "liver_adjacent_totalRNA_LIHC\n",
      "GSE193567_LIHC\n",
      "TCGA_COAD_PE\n",
      "TCGA-KIRP\n",
      "GSE22260_PRAD\n",
      "GSE229705_LUAD\n",
      "GSE133624_BLCA\n",
      "PRJEB2449_PRAD\n",
      "TCGA-LUAD\n",
      "SRP107326_COAD\n",
      "hcc_normal_totalRNA_LIHC\n",
      "TCGA-KIRC\n",
      "LIHC_TCGA_LIHC\n",
      "SRP238334_KIRC\n"
     ]
    }
   ],
   "source": [
    "for file in os.listdir(os.path.join(cancer_dir,\"featureCounts\")):\n",
    "    if file.endswith(\".txt\"):\n",
    "\n",
    "        proj = file.split(\"featureCounts_\")[-1]\n",
    "        cancer_type = proj[:-4]\n",
    "        print(cancer_type)\n",
    "        toc = pd.read_csv(os.path.join(cancer_dir,\"featureCounts\",file), sep=\"\\t\", comment=\"#\")\n",
    "        toc['Geneid']=toc['Geneid'].str.split('.').str[0]\n",
    "        toc.rename(columns={'Geneid':'transcript_id'}, inplace=True)\n",
    "\n",
    "        filter_col = [col for col in toc if col.startswith('/')]\n",
    "        for col in filter_col:\n",
    "            new_col=col.split(\"Aligned\")[0]\n",
    "            new_col=new_col.split(\"/\")[-1]\n",
    "            if proj in tcga_projects:\n",
    "                new_col=cancer_type+new_col[4:]\n",
    "            toc.rename(columns={col:new_col}, inplace=True)\n",
    "\n",
    "        length = toc['Length']\n",
    "        genes = toc['transcript_id']\n",
    "        # we are only interested in the columns with counts\n",
    "        counts = toc\n",
    "        counts.drop([\"Chr\",\"Start\",\"End\",\"Strand\",\"Length\",\"transcript_id\"],axis=1, inplace=True)\n",
    "        # calculate TPMs\n",
    "        tpm_df = Norm.tpm(counts, length)\n",
    "        # add transcript_id and length again\n",
    "        tpms = pd.concat([genes,tpm_df, length], axis=1)\n",
    "        tpms.to_csv(os.path.join(cancer_dir,\"featureCounts/table_of_counts_TPMs_\")+cancer_type+\".csv\", index=None)\n",
    " "
   ]
  },
  {
   "cell_type": "code",
   "execution_count": 10,
   "metadata": {},
   "outputs": [
    {
     "name": "stdout",
     "output_type": "stream",
     "text": [
      "19\n",
      "66\n",
      "83\n"
     ]
    }
   ],
   "source": [
    "## merge single-end and paired-end TCGA COAD\n",
    "SE_COAD = pd.read_csv(os.path.join(cancer_dir,\"featureCounts/table_of_counts_TPMs_TCGA_COAD_SE.csv\"))\n",
    "print(len(SE_COAD.columns))\n",
    "PE_COAD = pd.read_csv(os.path.join(cancer_dir,\"featureCounts/table_of_counts_TPMs_TCGA_COAD_PE.csv\"))\n",
    "print(len(PE_COAD.columns))\n",
    "\n",
    "COAD = SE_COAD.merge(PE_COAD, on=[\"transcript_id\",\"Length\"])\n",
    "COAD.to_csv(os.path.join(cancer_dir,\"featureCounts/table_of_counts_TPMs_TCGA_COAD.csv\"), index=None)\n",
    "print(len(COAD.columns))"
   ]
  },
  {
   "cell_type": "code",
   "execution_count": 15,
   "metadata": {},
   "outputs": [
    {
     "name": "stdout",
     "output_type": "stream",
     "text": [
      "TCGA-BRCA\n",
      "109  patients\n",
      "lncRNA:  10685\n",
      "PROTEIN CODING:  16230\n",
      "NOVEL:  478\n",
      "TCGA-LUSC\n",
      "49  patients\n",
      "lncRNA:  9922\n",
      "PROTEIN CODING:  16280\n",
      "NOVEL:  456\n",
      "TCGA-PRAD\n",
      "52  patients\n",
      "lncRNA:  7393\n",
      "PROTEIN CODING:  15071\n",
      "NOVEL:  385\n",
      "TCGA-KIRC\n",
      "71  patients\n",
      "lncRNA:  7978\n",
      "PROTEIN CODING:  15463\n",
      "NOVEL:  391\n",
      "TCGA-KIRP\n",
      "32  patients\n",
      "lncRNA:  7911\n",
      "PROTEIN CODING:  15436\n",
      "NOVEL:  390\n",
      "TCGA-LUAD\n",
      "56  patients\n",
      "lncRNA:  10065\n",
      "PROTEIN CODING:  16087\n",
      "NOVEL:  431\n",
      "TCGA-BLCA\n",
      "18  patients\n",
      "lncRNA:  7942\n",
      "PROTEIN CODING:  15521\n",
      "NOVEL:  373\n",
      "GSE102101_KIRC\n",
      "10  patients\n",
      "lncRNA:  6587\n",
      "PROTEIN CODING:  14516\n",
      "NOVEL:  307\n",
      "GSE133624_BLCA\n",
      "20  patients\n",
      "lncRNA:  8586\n",
      "PROTEIN CODING:  15619\n",
      "NOVEL:  425\n",
      "GSE22260_PRAD\n",
      "10  patients\n",
      "lncRNA:  10545\n",
      "PROTEIN CODING:  14884\n",
      "NOVEL:  482\n",
      "GSE89223_PRAD\n",
      "13  patients\n",
      "lncRNA:  8199\n",
      "PROTEIN CODING:  7429\n",
      "NOVEL:  302\n",
      "PRJEB2449_PRAD\n",
      "13  patients\n",
      "lncRNA:  6886\n",
      "PROTEIN CODING:  13721\n",
      "NOVEL:  335\n",
      "SRP238334_KIRC\n",
      "61  patients\n",
      "lncRNA:  8972\n",
      "PROTEIN CODING:  15239\n",
      "NOVEL:  447\n",
      "GSE103001_BRCA\n",
      "22  patients\n",
      "lncRNA:  11381\n",
      "PROTEIN CODING:  15184\n",
      "NOVEL:  559\n",
      "GSE214846_LIHC\n",
      "65  patients\n",
      "lncRNA:  10739\n",
      "PROTEIN CODING:  15963\n",
      "NOVEL:  515\n",
      "GSE229705_LUAD\n",
      "123  patients\n",
      "lncRNA:  17050\n",
      "PROTEIN CODING:  16255\n",
      "NOVEL:  690\n",
      "TCGA_COAD\n",
      "41  patients\n"
     ]
    },
    {
     "ename": "KeyError",
     "evalue": "\"['24420089-0084-4852-b658-524ad99293ba'] not in index\"",
     "output_type": "error",
     "traceback": [
      "\u001b[0;31m---------------------------------------------------------------------------\u001b[0m",
      "\u001b[0;31mKeyError\u001b[0m                                  Traceback (most recent call last)",
      "Cell \u001b[0;32mIn[15], line 49\u001b[0m\n\u001b[1;32m     47\u001b[0m     tumor_transcripts\u001b[39m.\u001b[39mextend(tumor_patient_fc\u001b[39m.\u001b[39mtranscript_id\u001b[39m.\u001b[39mvalues\u001b[39m.\u001b[39mtolist())\n\u001b[1;32m     48\u001b[0m \u001b[39mif\u001b[39;00m proj \u001b[39min\u001b[39;00m other_projects:\n\u001b[0;32m---> 49\u001b[0m     patient_fc \u001b[39m=\u001b[39m fc[[\u001b[39m\"\u001b[39;49m\u001b[39mtranscript_id\u001b[39;49m\u001b[39m\"\u001b[39;49m,\u001b[39m\"\u001b[39;49m\u001b[39mLength\u001b[39;49m\u001b[39m\"\u001b[39;49m,patient[\u001b[39m'\u001b[39;49m\u001b[39mtumor\u001b[39;49m\u001b[39m'\u001b[39;49m]]]\n\u001b[1;32m     51\u001b[0m     tumor_patient_fc \u001b[39m=\u001b[39m patient_fc[patient_fc[patient[\u001b[39m'\u001b[39m\u001b[39mtumor\u001b[39m\u001b[39m'\u001b[39m]] \u001b[39m>\u001b[39m\u001b[39m=\u001b[39m \u001b[39m1\u001b[39m ]\n\u001b[1;32m     52\u001b[0m     tumor_transcripts\u001b[39m.\u001b[39mextend(tumor_patient_fc\u001b[39m.\u001b[39mtranscript_id\u001b[39m.\u001b[39mvalues\u001b[39m.\u001b[39mtolist())       \n",
      "File \u001b[0;32m~/.local/lib/python3.8/site-packages/pandas/core/frame.py:3767\u001b[0m, in \u001b[0;36mDataFrame.__getitem__\u001b[0;34m(self, key)\u001b[0m\n\u001b[1;32m   3765\u001b[0m     \u001b[39mif\u001b[39;00m is_iterator(key):\n\u001b[1;32m   3766\u001b[0m         key \u001b[39m=\u001b[39m \u001b[39mlist\u001b[39m(key)\n\u001b[0;32m-> 3767\u001b[0m     indexer \u001b[39m=\u001b[39m \u001b[39mself\u001b[39;49m\u001b[39m.\u001b[39;49mcolumns\u001b[39m.\u001b[39;49m_get_indexer_strict(key, \u001b[39m\"\u001b[39;49m\u001b[39mcolumns\u001b[39;49m\u001b[39m\"\u001b[39;49m)[\u001b[39m1\u001b[39m]\n\u001b[1;32m   3769\u001b[0m \u001b[39m# take() does not accept boolean indexers\u001b[39;00m\n\u001b[1;32m   3770\u001b[0m \u001b[39mif\u001b[39;00m \u001b[39mgetattr\u001b[39m(indexer, \u001b[39m\"\u001b[39m\u001b[39mdtype\u001b[39m\u001b[39m\"\u001b[39m, \u001b[39mNone\u001b[39;00m) \u001b[39m==\u001b[39m \u001b[39mbool\u001b[39m:\n",
      "File \u001b[0;32m~/.local/lib/python3.8/site-packages/pandas/core/indexes/base.py:5877\u001b[0m, in \u001b[0;36mIndex._get_indexer_strict\u001b[0;34m(self, key, axis_name)\u001b[0m\n\u001b[1;32m   5874\u001b[0m \u001b[39melse\u001b[39;00m:\n\u001b[1;32m   5875\u001b[0m     keyarr, indexer, new_indexer \u001b[39m=\u001b[39m \u001b[39mself\u001b[39m\u001b[39m.\u001b[39m_reindex_non_unique(keyarr)\n\u001b[0;32m-> 5877\u001b[0m \u001b[39mself\u001b[39;49m\u001b[39m.\u001b[39;49m_raise_if_missing(keyarr, indexer, axis_name)\n\u001b[1;32m   5879\u001b[0m keyarr \u001b[39m=\u001b[39m \u001b[39mself\u001b[39m\u001b[39m.\u001b[39mtake(indexer)\n\u001b[1;32m   5880\u001b[0m \u001b[39mif\u001b[39;00m \u001b[39misinstance\u001b[39m(key, Index):\n\u001b[1;32m   5881\u001b[0m     \u001b[39m# GH 42790 - Preserve name from an Index\u001b[39;00m\n",
      "File \u001b[0;32m~/.local/lib/python3.8/site-packages/pandas/core/indexes/base.py:5941\u001b[0m, in \u001b[0;36mIndex._raise_if_missing\u001b[0;34m(self, key, indexer, axis_name)\u001b[0m\n\u001b[1;32m   5938\u001b[0m     \u001b[39mraise\u001b[39;00m \u001b[39mKeyError\u001b[39;00m(\u001b[39mf\u001b[39m\u001b[39m\"\u001b[39m\u001b[39mNone of [\u001b[39m\u001b[39m{\u001b[39;00mkey\u001b[39m}\u001b[39;00m\u001b[39m] are in the [\u001b[39m\u001b[39m{\u001b[39;00maxis_name\u001b[39m}\u001b[39;00m\u001b[39m]\u001b[39m\u001b[39m\"\u001b[39m)\n\u001b[1;32m   5940\u001b[0m not_found \u001b[39m=\u001b[39m \u001b[39mlist\u001b[39m(ensure_index(key)[missing_mask\u001b[39m.\u001b[39mnonzero()[\u001b[39m0\u001b[39m]]\u001b[39m.\u001b[39munique())\n\u001b[0;32m-> 5941\u001b[0m \u001b[39mraise\u001b[39;00m \u001b[39mKeyError\u001b[39;00m(\u001b[39mf\u001b[39m\u001b[39m\"\u001b[39m\u001b[39m{\u001b[39;00mnot_found\u001b[39m}\u001b[39;00m\u001b[39m not in index\u001b[39m\u001b[39m\"\u001b[39m)\n",
      "\u001b[0;31mKeyError\u001b[0m: \"['24420089-0084-4852-b658-524ad99293ba'] not in index\""
     ]
    }
   ],
   "source": [
    "## filter patients we are interested in, from those not TCGA\n",
    "for proj in all_projects:\n",
    "    print(proj)\n",
    "    if proj in tcga_projects:\n",
    "        cancer_type = proj[5:]\n",
    "\n",
    "        fc = pd.read_csv(os.path.join(cancer_dir,\"featureCounts/table_of_counts_TPMs_\")+proj+\".csv\")\n",
    "        tumor_transcripts = list()\n",
    "        patients=pd.read_csv(os.path.join(\"/users/genomics/marta/TCGA_RNASeq\",proj,\"results/QC_patients1.csv\"))\n",
    "        print(len(patients),\" patients\")\n",
    "        # patients['normal'] = patients['normal'].str.replace('TCGA', cancer_type)\n",
    "        # patients['tumor'] = patients['tumor'].str.replace('TCGA', cancer_type)\n",
    "\n",
    "    elif proj in other_projects:\n",
    "        fc = pd.read_csv(os.path.join(cancer_dir,\"featureCounts/table_of_counts_TPMs_\")+proj+\".csv\")\n",
    "        tumor_transcripts = list()\n",
    "        patients=pd.read_csv(os.path.join(\"/users/genomics/marta/cancers_RNASeq\",proj,\"results/patients.csv\"))\n",
    "        print(len(patients),\" patients\")\n",
    "\n",
    "        samples_to_keep = patients.tumor.values.tolist() + patients.normal.values.tolist() + ['Length','transcript_id']\n",
    "        fc_selected = fc[fc.columns.intersection(samples_to_keep)]\n",
    "\n",
    "    elif proj in manuscript_projects:\n",
    "        fc = pd.read_csv(os.path.join(cancer_dir,\"featureCounts/table_of_counts_TPMs_\")+proj+\".csv\")\n",
    "        tumor_transcripts = list()\n",
    "\n",
    "        if \"liver_adjacent_totalRNA\" in proj:\n",
    "            patients=pd.read_csv(os.path.join(\"/projects_eg/projects/marta/liver_adjacent_totalRNA/results/clean_patients.csv\"))\n",
    "            # patients.rename(columns={'adjacent':'normal'}, inplace=True)\n",
    "        elif \"hcc_normal_totalRNA\" in proj:\n",
    "            patients=pd.read_csv(os.path.join(\"/projects_eg/projects/marta/hcc_normal_totalRNA/results/clean_patients.csv\"))\n",
    "            # patients.rename(columns={'adjacent':'normal'}, inplace=True)\n",
    "        elif \"GSE193567\" in proj:\n",
    "            patients=pd.read_csv(os.path.join(\"/projects_eg/projects/marta/GSE193567/results/clean_patients.csv\"))        \n",
    "            # patients.rename(columns={'adjacent':'normal'}, inplace=True)\n",
    "        elif \"LIHC_TCGA\" in proj:\n",
    "            patients=pd.read_csv(os.path.join(\"/projects_eg/projects/marta/LIHC_TCGA/results/clean_patients.csv\"))    \n",
    "            patients['normal'] = patients['patient'] + \"_normal\"\n",
    "            patients['tumor'] = patients['patient'] + \"_tumor\"\n",
    "        print(len(patients),\" patients\")\n",
    "\n",
    "    for index,patient in patients.iterrows():\n",
    "        if proj in tcga_projects:\n",
    "            patient_fc = fc[[\"transcript_id\",\"Length\",patient['tumor']]]\n",
    "\n",
    "            tumor_patient_fc = patient_fc[patient_fc[patient['tumor']] >= 1 ]\n",
    "            tumor_transcripts.extend(tumor_patient_fc.transcript_id.values.tolist())\n",
    "        if proj in other_projects:\n",
    "            patient_fc = fc[[\"transcript_id\",\"Length\",patient['tumor']]]\n",
    "\n",
    "            tumor_patient_fc = patient_fc[patient_fc[patient['tumor']] >= 1 ]\n",
    "            tumor_transcripts.extend(tumor_patient_fc.transcript_id.values.tolist())       \n",
    "        if proj in manuscript_projects:\n",
    "            patient_fc = fc[[\"transcript_id\",\"Length\",patient['tumor']]]\n",
    "\n",
    "            tumor_patient_fc = patient_fc[patient_fc[patient['tumor']] >= 1 ]\n",
    "            tumor_transcripts.extend(tumor_patient_fc.transcript_id.values.tolist())                        \n",
    "\n",
    "    tumor1FPKM = fc[fc['transcript_id'].isin(tumor_transcripts)]\n",
    "    # print(tumor1FPKM)\n",
    "    known = tumor1FPKM[tumor1FPKM['transcript_id'].str.contains('ENST')]\n",
    "    novel = tumor1FPKM[tumor1FPKM['transcript_id'].str.contains('TCONS')]\n",
    "    merged = tumor1FPKM.merge(transcript_gene, on=['transcript_id'], how=\"inner\")\n",
    "    merged = merged[merged['gene_type'].isin(['lncRNA','processed_pseudogene','novel','protein_coding'])]\n",
    "\n",
    "    lncRNA = merged[merged['gene_type'].isin(['lncRNA','processed_pseudogene'])]\n",
    "    print(\"lncRNA: \",len(lncRNA))\n",
    "\n",
    "    cds = merged[merged['gene_type'] == \"protein_coding\"]\n",
    "    print(\"PROTEIN CODING: \",len(cds))\n",
    "\n",
    "    novel = merged[merged['gene_type'] == \"novel\"]\n",
    "    ## length limitations\n",
    "    novel = novel[novel['Length'].astype(int) < 91667]\n",
    "    novel = novel[novel['Length'].astype(int) > 300]\n",
    "\n",
    "    print(\"NOVEL: \",len(novel))\n",
    "\n",
    "    # # tumor1FPKM = pd.concat([novel, lncRNA, cds], ignore_index = True)\n",
    "    # merged[['transcript_id','gene_id','gene_name','gene_type','Length']].to_csv(os.path.join(cancer_dir,\"tumorexpressed/tumor_1FPKM_\")+cancer_type+\".csv\",index=False)\n",
    "\n",
    "    ## keep only tumor samples\n",
    "    if proj in tcga_projects:\n",
    "        tumorONLY_merged = merged[merged.columns.drop(list(merged.filter(regex='normal')))]\n",
    "    else:\n",
    "        tumorONLY_merged = merged.drop(columns=patients.normal.values.tolist())\n",
    "\n",
    "    tumorONLY_merged = tumorONLY_merged[['transcript_id','gene_id','gene_id', 'gene_type', 'gene_name','Length', *patients.tumor.values.tolist()]]\n",
    "    tumorONLY_merged.to_csv(os.path.join(cancer_dir,\"tumorexpressed/tumor_1FPKM_table_of_counts_\")+proj+\".csv\",index=False)\n",
    "\n",
    "    ###### GET TUMOR-EXPRESSED > 1 TPM\n",
    "    # Filter only integer columns\n",
    "    int_columns = tumorONLY_merged.select_dtypes(include='int64')\n",
    "    \n",
    "    # Create a new column with the count of int columns per row whose value is > 1\n",
    "    # tumorONLY_merged['n'] = int_columns.apply(lambda row: (row > 1).sum(), axis=1)\n",
    "    tumorONLY_merged['n'] = tumorONLY_merged.drop(columns=['transcript_id','gene_id','gene_name','gene_type','Length']).apply(count_greater_than_one, axis=1)\n",
    "    tumorONLY_merged = tumorONLY_merged[['transcript_id','gene_id','gene_name','gene_type','Length','n']]\n",
    "    tumorONLY_merged.sort_values(by=['n'], ascending=False).to_csv(os.path.join(cancer_dir,\"tumorexpressed/tumor_1FPKM_n_\")+proj+\".csv\",index=False)"
   ]
  },
  {
   "cell_type": "code",
   "execution_count": 4,
   "metadata": {},
   "outputs": [
    {
     "name": "stdout",
     "output_type": "stream",
     "text": [
      "BRCA\n",
      "TCGA-BRCA\n",
      "GSE103001_BRCA\n",
      "BLCA\n",
      "TCGA-BLCA\n",
      "GSE133624_BLCA\n",
      "LUAD\n",
      "TCGA-LUAD\n",
      "GSE229705_LUAD\n",
      "KIRC\n",
      "TCGA-KIRC\n",
      "GSE102101_KIRC\n",
      "SRP238334_KIRC\n",
      "KIRP\n",
      "TCGA-KIRP\n",
      "PRAD\n",
      "TCGA-PRAD\n",
      "GSE22260_PRAD\n",
      "GSE89223_PRAD\n",
      "PRJEB2449_PRAD\n",
      "LUSC\n",
      "TCGA-LUSC\n",
      "LIHC\n",
      "GSE214846_LIHC\n",
      "liver_adjacent_totalRNA_LIHC\n",
      "hcc_normal_totalRNA_LIHC\n",
      "GSE193567_LIHC\n",
      "LIHC_TCGA_LIHC\n",
      "COAD\n",
      "TCGA_COAD\n",
      "SRP107326_COAD\n"
     ]
    }
   ],
   "source": [
    "## create a merged table of counts per ctype and a big patients file\n",
    "## CAN THEY BE CONSIDERED AS ONE?\n",
    "for ctype in cancertypes:\n",
    "    print(ctype)\n",
    "    \n",
    "    # Lists to store DataFrames for counts and patients\n",
    "    fc_list = []\n",
    "    patients_list = []\n",
    "    \n",
    "    for proj in all_projects:\n",
    "        if proj in tcga_projects and ctype in proj:\n",
    "            print(proj)\n",
    "            # Read the CSV files for TCGA projects\n",
    "            patients = pd.read_csv(os.path.join(\"/users/genomics/marta/TCGA_RNASeq\", proj, \"results/QC_patients1.csv\"))\n",
    "            patients['project'] = proj  # Add the project column\n",
    "            fc = pd.read_csv(os.path.join(cancer_dir, \"featureCounts\", f\"table_of_counts_TPMs_{proj}.csv\"))\n",
    "            fc_list.append(fc)\n",
    "            patients_list.append(patients)\n",
    "        \n",
    "        elif proj in other_projects and ctype in proj:\n",
    "            print(proj)\n",
    "            # Read the CSV files for other projects\n",
    "            patients = pd.read_csv(os.path.join(\"/users/genomics/marta/cancers_RNASeq\", proj, \"results/patients.csv\"))\n",
    "            patients['project'] = proj  # Add the project column\n",
    "            fc = pd.read_csv(os.path.join(cancer_dir, \"featureCounts\", f\"table_of_counts_TPMs_{proj}.csv\"))\n",
    "            fc_list.append(fc)\n",
    "            patients_list.append(patients)\n",
    "        \n",
    "        elif proj in manuscript_projects and ctype in proj:\n",
    "            print(proj)\n",
    "            # Read the CSV files for manuscript projects\n",
    "            if proj == \"LIHC_TCGA_LIHC\":\n",
    "                patients = pd.read_csv(os.path.join(\"/projects_eg/projects/marta\", proj[:-5], \"results/clean_patients.csv\"))\n",
    "                patients['normal'] = patients['patient'] + \"_normal\"\n",
    "                patients['tumor'] = patients['patient'] + \"_tumor\"\n",
    "\n",
    "            else:\n",
    "                patients = pd.read_csv(os.path.join(\"/projects_eg/projects/marta\", proj[:-5], \"results/clean_patients.csv\"))\n",
    "\n",
    "            patients['project'] = proj  # Add the project column\n",
    "            fc = pd.read_csv(os.path.join(cancer_dir, \"featureCounts\", f\"table_of_counts_TPMs_{proj}.csv\"))\n",
    "            fc_list.append(fc)\n",
    "            patients_list.append(patients)\n",
    "    \n",
    "    # Merge all fc DataFrames by 'transcript_id' and 'Length'\n",
    "    if fc_list:\n",
    "        merged_fc = reduce(lambda left, right: pd.merge(left, right, on=[\"transcript_id\", \"Length\"], how='outer'), fc_list)\n",
    "        # Save the merged fc DataFrame\n",
    "        merged_fc.to_csv(os.path.join(cancer_dir, f\"merged_fc_{ctype}.csv\"), index=False)\n",
    "    \n",
    "    # Combine all patient DataFrames into one big DataFrame\n",
    "    if patients_list:\n",
    "        merged_patients = pd.concat(patients_list, ignore_index=True)\n",
    "        # Save the merged patients DataFrame\n",
    "        merged_patients.to_csv(os.path.join(cancer_dir, f\"merged_patients_{ctype}.csv\"), index=False)\n"
   ]
  },
  {
   "attachments": {},
   "cell_type": "markdown",
   "metadata": {},
   "source": [
    "Here to run Q3.1 - TPM distribution to know if we can treat them as one per cancer type or if there is bias according to the dataset"
   ]
  },
  {
   "cell_type": "code",
   "execution_count": 16,
   "metadata": {},
   "outputs": [
    {
     "name": "stdout",
     "output_type": "stream",
     "text": [
      "BRCA\n",
      "TCGA-BRCA\n",
      "GSE103001_BRCA\n",
      "131\n"
     ]
    },
    {
     "name": "stderr",
     "output_type": "stream",
     "text": [
      "/tmp/ipykernel_3939286/1795634264.py:54: SettingWithCopyWarning: \n",
      "A value is trying to be set on a copy of a slice from a DataFrame.\n",
      "Try using .loc[row_indexer,col_indexer] = value instead\n",
      "\n",
      "See the caveats in the documentation: https://pandas.pydata.org/pandas-docs/stable/user_guide/indexing.html#returning-a-view-versus-a-copy\n",
      "  percent10['ctype'] = ctype\n"
     ]
    },
    {
     "name": "stdout",
     "output_type": "stream",
     "text": [
      "BLCA\n",
      "TCGA-BLCA\n",
      "GSE133624_BLCA\n",
      "38\n"
     ]
    },
    {
     "name": "stderr",
     "output_type": "stream",
     "text": [
      "/tmp/ipykernel_3939286/1795634264.py:54: SettingWithCopyWarning: \n",
      "A value is trying to be set on a copy of a slice from a DataFrame.\n",
      "Try using .loc[row_indexer,col_indexer] = value instead\n",
      "\n",
      "See the caveats in the documentation: https://pandas.pydata.org/pandas-docs/stable/user_guide/indexing.html#returning-a-view-versus-a-copy\n",
      "  percent10['ctype'] = ctype\n"
     ]
    },
    {
     "name": "stdout",
     "output_type": "stream",
     "text": [
      "LUAD\n",
      "TCGA-LUAD\n",
      "GSE229705_LUAD\n",
      "179\n"
     ]
    },
    {
     "name": "stderr",
     "output_type": "stream",
     "text": [
      "/tmp/ipykernel_3939286/1795634264.py:54: SettingWithCopyWarning: \n",
      "A value is trying to be set on a copy of a slice from a DataFrame.\n",
      "Try using .loc[row_indexer,col_indexer] = value instead\n",
      "\n",
      "See the caveats in the documentation: https://pandas.pydata.org/pandas-docs/stable/user_guide/indexing.html#returning-a-view-versus-a-copy\n",
      "  percent10['ctype'] = ctype\n"
     ]
    },
    {
     "name": "stdout",
     "output_type": "stream",
     "text": [
      "KIRC\n",
      "TCGA-KIRC\n",
      "GSE102101_KIRC\n",
      "SRP238334_KIRC\n",
      "142\n"
     ]
    },
    {
     "name": "stderr",
     "output_type": "stream",
     "text": [
      "/tmp/ipykernel_3939286/1795634264.py:54: SettingWithCopyWarning: \n",
      "A value is trying to be set on a copy of a slice from a DataFrame.\n",
      "Try using .loc[row_indexer,col_indexer] = value instead\n",
      "\n",
      "See the caveats in the documentation: https://pandas.pydata.org/pandas-docs/stable/user_guide/indexing.html#returning-a-view-versus-a-copy\n",
      "  percent10['ctype'] = ctype\n"
     ]
    },
    {
     "name": "stdout",
     "output_type": "stream",
     "text": [
      "KIRP\n",
      "TCGA-KIRP\n",
      "32\n"
     ]
    },
    {
     "name": "stderr",
     "output_type": "stream",
     "text": [
      "/tmp/ipykernel_3939286/1795634264.py:54: SettingWithCopyWarning: \n",
      "A value is trying to be set on a copy of a slice from a DataFrame.\n",
      "Try using .loc[row_indexer,col_indexer] = value instead\n",
      "\n",
      "See the caveats in the documentation: https://pandas.pydata.org/pandas-docs/stable/user_guide/indexing.html#returning-a-view-versus-a-copy\n",
      "  percent10['ctype'] = ctype\n"
     ]
    },
    {
     "name": "stdout",
     "output_type": "stream",
     "text": [
      "PRAD\n",
      "TCGA-PRAD\n",
      "GSE22260_PRAD\n",
      "GSE89223_PRAD\n",
      "PRJEB2449_PRAD\n",
      "88\n"
     ]
    },
    {
     "name": "stderr",
     "output_type": "stream",
     "text": [
      "/tmp/ipykernel_3939286/1795634264.py:54: SettingWithCopyWarning: \n",
      "A value is trying to be set on a copy of a slice from a DataFrame.\n",
      "Try using .loc[row_indexer,col_indexer] = value instead\n",
      "\n",
      "See the caveats in the documentation: https://pandas.pydata.org/pandas-docs/stable/user_guide/indexing.html#returning-a-view-versus-a-copy\n",
      "  percent10['ctype'] = ctype\n"
     ]
    },
    {
     "name": "stdout",
     "output_type": "stream",
     "text": [
      "LUSC\n",
      "TCGA-LUSC\n",
      "49\n"
     ]
    },
    {
     "name": "stderr",
     "output_type": "stream",
     "text": [
      "/tmp/ipykernel_3939286/1795634264.py:54: SettingWithCopyWarning: \n",
      "A value is trying to be set on a copy of a slice from a DataFrame.\n",
      "Try using .loc[row_indexer,col_indexer] = value instead\n",
      "\n",
      "See the caveats in the documentation: https://pandas.pydata.org/pandas-docs/stable/user_guide/indexing.html#returning-a-view-versus-a-copy\n",
      "  percent10['ctype'] = ctype\n"
     ]
    },
    {
     "name": "stdout",
     "output_type": "stream",
     "text": [
      "LIHC\n",
      "GSE214846_LIHC\n",
      "liver_adjacent_totalRNA_LIHC\n",
      "hcc_normal_totalRNA_LIHC\n",
      "GSE193567_LIHC\n",
      "LIHC_TCGA_LIHC\n",
      "182\n"
     ]
    },
    {
     "name": "stderr",
     "output_type": "stream",
     "text": [
      "/tmp/ipykernel_3939286/1795634264.py:54: SettingWithCopyWarning: \n",
      "A value is trying to be set on a copy of a slice from a DataFrame.\n",
      "Try using .loc[row_indexer,col_indexer] = value instead\n",
      "\n",
      "See the caveats in the documentation: https://pandas.pydata.org/pandas-docs/stable/user_guide/indexing.html#returning-a-view-versus-a-copy\n",
      "  percent10['ctype'] = ctype\n"
     ]
    },
    {
     "name": "stdout",
     "output_type": "stream",
     "text": [
      "COAD\n",
      "TCGA_COAD\n",
      "SRP107326_COAD\n",
      "145\n"
     ]
    },
    {
     "name": "stderr",
     "output_type": "stream",
     "text": [
      "/tmp/ipykernel_3939286/1795634264.py:54: SettingWithCopyWarning: \n",
      "A value is trying to be set on a copy of a slice from a DataFrame.\n",
      "Try using .loc[row_indexer,col_indexer] = value instead\n",
      "\n",
      "See the caveats in the documentation: https://pandas.pydata.org/pandas-docs/stable/user_guide/indexing.html#returning-a-view-versus-a-copy\n",
      "  percent10['ctype'] = ctype\n"
     ]
    }
   ],
   "source": [
    "## Expressed in > 10% of the patients\n",
    "df_pancancer = pd.DataFrame(columns = ['transcript_id','gene_id','gene_name','gene_type','Length','n'])\n",
    "\n",
    "## group by cancertype\n",
    "for ctype in cancertypes:\n",
    "    print(ctype)\n",
    "    ctype_df = pd.DataFrame(columns = ['transcript_id','gene_id','gene_name','gene_type','Length','n'])\n",
    "\n",
    "    num_patients_ctype = 0\n",
    "    for proj in all_projects:\n",
    "        if proj in tcga_projects:\n",
    "            if ctype in proj:\n",
    "                print(proj)\n",
    "                fc = pd.read_csv(os.path.join(cancer_dir,\"featureCounts/table_of_counts_TPMs_\")+proj+\".csv\")\n",
    "                patients=pd.read_csv(os.path.join(\"/users/genomics/marta/TCGA_RNASeq\",proj,\"results/QC_patients1.csv\"))\n",
    "                ## count how many patients per cancer type (not dataset)\n",
    "                num_patients_ctype = num_patients_ctype + len(patients)\n",
    "                input = pd.read_csv(os.path.join(cancer_dir,\"tumorexpressed/tumor_1FPKM_n_\")+proj+\".csv\")\n",
    "                ctype_df = pd.concat([ctype_df, input])\n",
    "\n",
    "        elif proj in other_projects:\n",
    "            if ctype in proj:\n",
    "                print(proj)\n",
    "                fc = pd.read_csv(os.path.join(cancer_dir,\"featureCounts/table_of_counts_TPMs_\")+proj+\".csv\")\n",
    "                tumor_transcripts = list()\n",
    "                patients=pd.read_csv(os.path.join(\"/users/genomics/marta/cancers_RNASeq\",proj,\"results/patients.csv\"))\n",
    "                ## count how many patients per cancer type (not dataset)\n",
    "                num_patients_ctype = num_patients_ctype + len(patients)\n",
    "\n",
    "                input = pd.read_csv(os.path.join(cancer_dir,\"tumorexpressed/tumor_1FPKM_n_\")+proj+\".csv\")\n",
    "                ctype_df = pd.concat([ctype_df, input])\n",
    "        elif proj in manuscript_projects:\n",
    "            if ctype in proj:\n",
    "                print(proj)                \n",
    "                fc = pd.read_csv(os.path.join(cancer_dir,\"featureCounts/table_of_counts_TPMs_\")+proj+\".csv\")\n",
    "                tumor_transcripts = list()\n",
    "                patients=pd.read_csv(os.path.join(\"/projects_eg/projects/marta\",proj[:-5],\"results/clean_patients.csv\"))\n",
    "                ## count how many patients per cancer type (not dataset)\n",
    "                num_patients_ctype = num_patients_ctype + len(patients)\n",
    "\n",
    "                input = pd.read_csv(os.path.join(cancer_dir,\"tumorexpressed/tumor_1FPKM_n_\")+proj+\".csv\")\n",
    "                ctype_df = pd.concat([ctype_df, input])\n",
    "\n",
    "\n",
    "    print(num_patients_ctype)\n",
    "    ctype_df_summed = ctype_df\n",
    "    ctype_df_summed = ctype_df_summed.groupby([\"transcript_id\",\"gene_id\",\"gene_name\",\"gene_type\",\"Length\"])[\"n\"].sum().reset_index()\n",
    "    ctype_df_summed.drop_duplicates(inplace=True)\n",
    "    # print(ctype_df_summed)\n",
    "\n",
    "    percent10 = ctype_df_summed[ctype_df_summed['n'] > (num_patients_ctype*0.1)]\n",
    "    percent10.sort_values(by=['n'], ascending=False).to_csv(os.path.join(cancer_dir,\"tumorexpressed/cancertypes/tumor_1FPKM_n10percent_\")+ctype+\".csv\",index=False)\n",
    "\n",
    "    percent10['ctype'] = ctype\n",
    "    df_pancancer = pd.concat([df_pancancer, percent10])\n",
    "\n",
    "    df_pancancer.to_csv(os.path.join(cancer_dir,\"tumorexpressed/cancertypes/tumor_1FPKM_n10percent_pancancer.csv\"),index=False)"
   ]
  },
  {
   "cell_type": "code",
   "execution_count": 12,
   "metadata": {},
   "outputs": [
    {
     "name": "stdout",
     "output_type": "stream",
     "text": [
      "BRCA\n",
      "TCGA-BRCA\n",
      "GSE103001_BRCA\n",
      "131\n",
      "BLCA\n",
      "TCGA-BLCA\n",
      "GSE133624_BLCA\n",
      "38\n",
      "LUAD\n",
      "TCGA-LUAD\n",
      "GSE229705_LUAD\n",
      "179\n",
      "KIRC\n",
      "TCGA-KIRC\n",
      "GSE102101_KIRC\n",
      "SRP238334_KIRC\n",
      "142\n",
      "KIRP\n",
      "TCGA-KIRP\n",
      "32\n",
      "PRAD\n",
      "TCGA-PRAD\n",
      "GSE22260_PRAD\n",
      "GSE89223_PRAD\n",
      "PRJEB2449_PRAD\n",
      "88\n",
      "LUSC\n",
      "TCGA-LUSC\n",
      "49\n",
      "LIHC\n",
      "GSE214846_LIHC\n",
      "liver_adjacent_totalRNA_LIHC\n",
      "hcc_normal_totalRNA_LIHC\n",
      "GSE193567_LIHC\n",
      "LIHC_TCGA_LIHC\n",
      "182\n",
      "COAD\n",
      "TCGA_COAD\n",
      "SRP107326_COAD\n",
      "144\n"
     ]
    }
   ],
   "source": [
    "#Select normal samples and create a file with min max expression in normal samples per cancer type\n",
    "tolerance_dictionary = dict()\n",
    "\n",
    "## group by cancertype\n",
    "for ctype in cancertypes:\n",
    "    print(ctype)\n",
    "    num_patients_ctype = 0\n",
    "    for proj in all_projects:\n",
    "        if proj in tcga_projects:\n",
    "            if ctype in proj:\n",
    "                print(proj)\n",
    "\n",
    "                # fc = pd.read_csv(os.path.join(cancer_dir,\"featureCounts/table_of_counts_TPMs_\")+proj+\".csv\")\n",
    "                patients=pd.read_csv(os.path.join(\"/users/genomics/marta/TCGA_RNASeq\",proj,\"results/QC_patients1.csv\"))\n",
    "                num_patients_ctype = num_patients_ctype + len(patients)\n",
    "\n",
    "        elif proj in other_projects:\n",
    "            if ctype in proj:\n",
    "                print(proj)\n",
    "                # fc = pd.read_csv(os.path.join(cancer_dir,\"featureCounts/table_of_counts_TPMs_\")+proj+\".csv\")\n",
    "                patients=pd.read_csv(os.path.join(\"/users/genomics/marta/cancers_RNASeq\",proj,\"results/patients.csv\"))\n",
    "                num_patients_ctype = num_patients_ctype + len(patients)\n",
    "\n",
    "        elif proj in manuscript_projects:\n",
    "            if ctype in proj:\n",
    "                print(proj)\n",
    "                # fc = pd.read_csv(os.path.join(cancer_dir,\"featureCounts/table_of_counts_TPMs_\")+proj+\".csv\")\n",
    "                patients=pd.read_csv(os.path.join(\"/projects_eg/projects/marta\",proj[:-5],\"results/clean_patients.csv\"))\n",
    "                num_patients_ctype = num_patients_ctype + len(patients)\n",
    "\n",
    "    print(num_patients_ctype)\n",
    "\n",
    "    tolerance_dictionary[ctype] = num_patients_ctype*0.05\n",
    "    # tolerance_dictionary[proj] = len(patients)*0.05"
   ]
  },
  {
   "cell_type": "code",
   "execution_count": 8,
   "metadata": {},
   "outputs": [
    {
     "data": {
      "text/plain": [
       "{'BRCA': 6.550000000000001,\n",
       " 'BLCA': 1.9000000000000001,\n",
       " 'LUAD': 8.950000000000001,\n",
       " 'KIRC': 7.1000000000000005,\n",
       " 'KIRP': 1.6,\n",
       " 'PRAD': 4.4,\n",
       " 'LUSC': 2.45,\n",
       " 'LIHC': 9.1,\n",
       " 'COAD': 7.2}"
      ]
     },
     "execution_count": 8,
     "metadata": {},
     "output_type": "execute_result"
    }
   ],
   "source": [
    "tolerance_dictionary"
   ]
  },
  {
   "cell_type": "code",
   "execution_count": 13,
   "metadata": {},
   "outputs": [],
   "source": [
    "# Function to count values above 0.1 in a row\n",
    "def count_values_above_01(row):\n",
    "    return sum(row > 0.1)"
   ]
  },
  {
   "cell_type": "code",
   "execution_count": 14,
   "metadata": {},
   "outputs": [
    {
     "name": "stdout",
     "output_type": "stream",
     "text": [
      "BRCA\n"
     ]
    },
    {
     "name": "stderr",
     "output_type": "stream",
     "text": [
      "/tmp/ipykernel_3909758/3238322726.py:43: SettingWithCopyWarning: \n",
      "A value is trying to be set on a copy of a slice from a DataFrame\n",
      "\n",
      "See the caveats in the documentation: https://pandas.pydata.org/pandas-docs/stable/user_guide/indexing.html#returning-a-view-versus-a-copy\n",
      "  summary_tolerance_accepted.drop([\"counts_01\"], axis=1, inplace=True)\n"
     ]
    },
    {
     "name": "stdout",
     "output_type": "stream",
     "text": [
      "Done!\n",
      "BLCA\n"
     ]
    },
    {
     "name": "stderr",
     "output_type": "stream",
     "text": [
      "/tmp/ipykernel_3909758/3238322726.py:43: SettingWithCopyWarning: \n",
      "A value is trying to be set on a copy of a slice from a DataFrame\n",
      "\n",
      "See the caveats in the documentation: https://pandas.pydata.org/pandas-docs/stable/user_guide/indexing.html#returning-a-view-versus-a-copy\n",
      "  summary_tolerance_accepted.drop([\"counts_01\"], axis=1, inplace=True)\n"
     ]
    },
    {
     "name": "stdout",
     "output_type": "stream",
     "text": [
      "Done!\n",
      "LUAD\n"
     ]
    },
    {
     "name": "stderr",
     "output_type": "stream",
     "text": [
      "/tmp/ipykernel_3909758/3238322726.py:43: SettingWithCopyWarning: \n",
      "A value is trying to be set on a copy of a slice from a DataFrame\n",
      "\n",
      "See the caveats in the documentation: https://pandas.pydata.org/pandas-docs/stable/user_guide/indexing.html#returning-a-view-versus-a-copy\n",
      "  summary_tolerance_accepted.drop([\"counts_01\"], axis=1, inplace=True)\n"
     ]
    },
    {
     "name": "stdout",
     "output_type": "stream",
     "text": [
      "Done!\n",
      "KIRC\n"
     ]
    },
    {
     "name": "stderr",
     "output_type": "stream",
     "text": [
      "/tmp/ipykernel_3909758/3238322726.py:43: SettingWithCopyWarning: \n",
      "A value is trying to be set on a copy of a slice from a DataFrame\n",
      "\n",
      "See the caveats in the documentation: https://pandas.pydata.org/pandas-docs/stable/user_guide/indexing.html#returning-a-view-versus-a-copy\n",
      "  summary_tolerance_accepted.drop([\"counts_01\"], axis=1, inplace=True)\n"
     ]
    },
    {
     "name": "stdout",
     "output_type": "stream",
     "text": [
      "Done!\n",
      "KIRP\n"
     ]
    },
    {
     "name": "stderr",
     "output_type": "stream",
     "text": [
      "/tmp/ipykernel_3909758/3238322726.py:43: SettingWithCopyWarning: \n",
      "A value is trying to be set on a copy of a slice from a DataFrame\n",
      "\n",
      "See the caveats in the documentation: https://pandas.pydata.org/pandas-docs/stable/user_guide/indexing.html#returning-a-view-versus-a-copy\n",
      "  summary_tolerance_accepted.drop([\"counts_01\"], axis=1, inplace=True)\n"
     ]
    },
    {
     "name": "stdout",
     "output_type": "stream",
     "text": [
      "Done!\n",
      "PRAD\n"
     ]
    },
    {
     "name": "stderr",
     "output_type": "stream",
     "text": [
      "/tmp/ipykernel_3909758/3238322726.py:43: SettingWithCopyWarning: \n",
      "A value is trying to be set on a copy of a slice from a DataFrame\n",
      "\n",
      "See the caveats in the documentation: https://pandas.pydata.org/pandas-docs/stable/user_guide/indexing.html#returning-a-view-versus-a-copy\n",
      "  summary_tolerance_accepted.drop([\"counts_01\"], axis=1, inplace=True)\n"
     ]
    },
    {
     "name": "stdout",
     "output_type": "stream",
     "text": [
      "Done!\n",
      "LUSC\n"
     ]
    },
    {
     "name": "stderr",
     "output_type": "stream",
     "text": [
      "/tmp/ipykernel_3909758/3238322726.py:43: SettingWithCopyWarning: \n",
      "A value is trying to be set on a copy of a slice from a DataFrame\n",
      "\n",
      "See the caveats in the documentation: https://pandas.pydata.org/pandas-docs/stable/user_guide/indexing.html#returning-a-view-versus-a-copy\n",
      "  summary_tolerance_accepted.drop([\"counts_01\"], axis=1, inplace=True)\n"
     ]
    },
    {
     "name": "stdout",
     "output_type": "stream",
     "text": [
      "Done!\n",
      "LIHC\n"
     ]
    },
    {
     "name": "stderr",
     "output_type": "stream",
     "text": [
      "/tmp/ipykernel_3909758/3238322726.py:43: SettingWithCopyWarning: \n",
      "A value is trying to be set on a copy of a slice from a DataFrame\n",
      "\n",
      "See the caveats in the documentation: https://pandas.pydata.org/pandas-docs/stable/user_guide/indexing.html#returning-a-view-versus-a-copy\n",
      "  summary_tolerance_accepted.drop([\"counts_01\"], axis=1, inplace=True)\n"
     ]
    },
    {
     "name": "stdout",
     "output_type": "stream",
     "text": [
      "Done!\n",
      "COAD\n",
      "Done!\n"
     ]
    },
    {
     "name": "stderr",
     "output_type": "stream",
     "text": [
      "/tmp/ipykernel_3909758/3238322726.py:43: SettingWithCopyWarning: \n",
      "A value is trying to be set on a copy of a slice from a DataFrame\n",
      "\n",
      "See the caveats in the documentation: https://pandas.pydata.org/pandas-docs/stable/user_guide/indexing.html#returning-a-view-versus-a-copy\n",
      "  summary_tolerance_accepted.drop([\"counts_01\"], axis=1, inplace=True)\n"
     ]
    }
   ],
   "source": [
    "## TUMOR-SPECIFIC - per cancer type\n",
    "for ctype in cancertypes:\n",
    "    print(ctype)\n",
    "    tumorspecific_candidates = pd.DataFrame()\n",
    "\n",
    "    patients = pd.read_csv(cancer_dir+\"/merged_patients_\"+ctype+\".csv\")\n",
    "    fc=pd.read_csv(cancer_dir+\"/merged_fc_\"+ctype+\".csv\")\n",
    "\n",
    "    fc_info = fc.merge(transcript_gene, on=['transcript_id'], how=\"inner\")\n",
    "    fc_info = fc_info[fc_info['gene_type'].isin(['lncRNA','processed_pseudogene','novel','protein_coding'])]\n",
    "\n",
    "    ## select only normal samples\n",
    "    fc_normals = fc_info.drop(columns=patients.tumor.values.tolist())\n",
    "    \n",
    "    # Select only the columns with float data types\n",
    "    float_columns = fc_normals.select_dtypes(include=['float64'])\n",
    "\n",
    "    # Apply the function only to the float columns and store the result in a new column\n",
    "    fc_normals['counts_01'] = float_columns.apply(count_values_above_01, axis=1)\n",
    "    # fc_normals_info = pd.concat([fc_normals, fc_info[['gene_id','transcript_id','gene_name','gene_type']]], axis=1)\n",
    "    fc_normals_info = fc_normals[['gene_id','transcript_id','gene_name','gene_type','counts_01']]\n",
    "\n",
    "\n",
    "    for index,patient in patients.iterrows():\n",
    "        patient_fc = fc_info[[\"transcript_id\",\"gene_id\",\"gene_name\",\"gene_type\",\"Length\",patient['tumor'],patient['normal']]] \n",
    "        tumor1TPM = patient_fc[patient_fc[patient['tumor']] > 1 ]\n",
    "        tumor1TPM_normal01TPM = tumor1TPM[tumor1TPM[patient['normal']] < 0.1 ]\n",
    "\n",
    "        try:\n",
    "            os.makedirs(os.path.join(cancer_dir,\"tumorspecific/cancertypes\",ctype,patient['patient']))\n",
    "        except:\n",
    "            pass\n",
    "        tumor1TPM_normal01TPM.to_csv(os.path.join(cancer_dir,\"tumorspecific/cancertypes\",ctype,patient['patient'],\"tumorspecific_TPMs.csv\"), index=None)\n",
    "        tumorspecific_candidates = pd.concat([tumorspecific_candidates,tumor1TPM_normal01TPM[[\"transcript_id\",\"gene_id\",\"gene_name\",\"gene_type\",\"Length\"]]])\n",
    "\n",
    "\n",
    "    summary = tumorspecific_candidates.groupby([\"transcript_id\",\"gene_id\",\"gene_name\",\"gene_type\",\"Length\"]).size().reset_index(name='n')\n",
    "    summary.sort_values(by=\"n\", ascending=False).to_csv(os.path.join(cancer_dir,\"tumorspecific/cancertypes\")+\"/tumorspecific_n_\"+ctype+\".csv\", index=False)\n",
    "    ### tolerance 5% only\n",
    "    summary_tolerance = fc_normals_info.merge(summary, on=[\"gene_id\",\"transcript_id\",\"gene_name\",\"gene_type\"], how=\"right\")\n",
    "    # ## Expression > 0.1 in less than 5%\n",
    "    summary_tolerance_accepted = summary_tolerance[summary_tolerance['counts_01'] < tolerance_dictionary[ctype]]\n",
    "    summary_tolerance_accepted.drop([\"counts_01\"], axis=1, inplace=True)\n",
    "    summary_tolerance_accepted.sort_values(by=\"n\", ascending=False).to_csv(os.path.join(cancer_dir,\"tumorspecific/cancertypes\")+\"/tumorspecific_n_\"+ctype+\"_TOLERANCE5PERCENT.csv\", index=False)\n",
    "    print(\"Done!\")"
   ]
  },
  {
   "cell_type": "code",
   "execution_count": null,
   "metadata": {},
   "outputs": [],
   "source": [
    "# ## TUMOR-SPECIFIC - per dataset\n",
    "\n",
    "# for proj in all_projects:\n",
    "#     tumorspecific_candidates = pd.DataFrame()\n",
    "\n",
    "#     if proj in tcga_projects:\n",
    "#         print(proj)\n",
    "#         fc = pd.read_csv(os.path.join(cancer_dir,\"featureCounts/table_of_counts_TPMs_\")+proj+\".csv\")\n",
    "#         patients=pd.read_csv(os.path.join(\"/users/genomics/marta/TCGA_RNASeq\",proj,\"results/QC_patients1.csv\"))\n",
    "\n",
    "#     elif proj in other_projects:\n",
    "#         print(proj)\n",
    "#         fc = pd.read_csv(os.path.join(cancer_dir,\"featureCounts/table_of_counts_TPMs_\")+proj+\".csv\")\n",
    "#         patients=pd.read_csv(os.path.join(\"/users/genomics/marta/cancers_RNASeq\",proj,\"results/patients.csv\"))\n",
    "\n",
    "#     elif proj in manuscript_projects:\n",
    "#         print(proj)\n",
    "#         fc = pd.read_csv(os.path.join(cancer_dir,\"featureCounts/table_of_counts_TPMs_\")+proj+\".csv\")\n",
    "\n",
    "#         if \"LIHC_TCGA\" in proj:\n",
    "#             patients=pd.read_csv(os.path.join(\"/projects_eg/projects/marta/LIHC_TCGA/results/clean_patients.csv\"))    \n",
    "#             patients['normal'] = patients['patient'] + \"_normal\"\n",
    "#             patients['tumor'] = patients['patient'] + \"_tumor\"\n",
    "        \n",
    "#             normals = [col for col in fc_info.columns if 'normal' in col]\n",
    "\n",
    "#     fc_info = fc.merge(transcript_gene, on=['transcript_id'], how=\"inner\")\n",
    "#     fc_info = fc_info[fc_info['gene_type'].isin(['lncRNA','processed_pseudogene','novel','protein_coding'])]\n",
    "\n",
    "#     ## keep only normal samples\n",
    "#     if proj in tcga_projects:\n",
    "#         fc_normals = fc_info[fc_info.columns.drop(list(fc_info.filter(regex='tumor')))]\n",
    "#     else:\n",
    "#         fc_normals = fc_info.drop(columns=patients.tumor.values.tolist())\n",
    "    \n",
    "#     # Select only the columns with float data types\n",
    "#     float_columns = fc_normals.select_dtypes(include=['float64'])\n",
    "\n",
    "#     # Apply the function only to the float columns and store the result in a new column\n",
    "#     fc_normals['counts_01'] = float_columns.apply(count_values_above_01, axis=1)\n",
    "\n",
    "#     fc_normals_info = pd.concat([fc_normals, fc_info[['gene_id','transcript_id','gene_name','gene_type']]], axis=1)\n",
    "#     fc_normals_info = fc_normals_info[['gene_id','transcript_id','gene_name','gene_type','counts_01']]\n",
    "\n",
    "\n",
    "#     for index,patient in patients.iterrows():\n",
    "#         if proj in tcga_projects:\n",
    "#             patient_fc = fc_info[[\"transcript_id\",\"gene_id\",\"gene_name\",\"gene_type\",\"Length\",patient['tumor'],patient['normal']]] \n",
    "#             tumor1TPM = patient_fc[patient_fc[patient['tumor']] > 1 ]\n",
    "#             tumor1TPM_normal01TPM = tumor1TPM[tumor1TPM[patient['normal']] < 0.1 ]\n",
    "#         else:\n",
    "#             patient_fc = fc_info[[\"transcript_id\",\"gene_id\",\"gene_name\",\"gene_type\",\"Length\",patient['tumor'],patient['adjacent']]] \n",
    "#             tumor1TPM = patient_fc[patient_fc[patient['tumor']] > 1 ]\n",
    "#             tumor1TPM_normal01TPM = tumor1TPM[tumor1TPM[patient['normal']] < 0.1 ]\n",
    "\n",
    "#         try:\n",
    "#             os.makedirs(os.path.join(cancer_dir,\"tumorspecific\",proj,patient['patient']))\n",
    "#         except:\n",
    "#             print(\"Directory exists\")\n",
    "#         tumor1TPM_normal01TPM.to_csv(os.path.join(cancer_dir,\"tumorspecific\",proj,patient['patient'],\"tumorspecific_TPMs.csv\"), index=None)\n",
    "#         tumorspecific_candidates = pd.concat([tumorspecific_candidates,tumor1TPM_normal01TPM[[\"transcript_id\",\"gene_id\",\"gene_name\",\"gene_type\",\"Length\"]]])\n",
    "\n",
    "\n",
    "# summary = tumorspecific_candidates.groupby([\"transcript_id\",\"gene_id\",\"gene_name\",\"gene_type\",\"Length\"]).size().reset_index(name='n')\n",
    "# summary.sort_values(by=\"n\", ascending=False).to_csv(os.path.join(cancer_dir,\"tumorspecific\")+\"/tumorspecific_n_\"+proj+\".csv\", index=False)\n",
    "# print(len(summary))\n",
    "# ### tolerance 5% only\n",
    "# summary_tolerance = fc_normals_info.merge(summary, on=[\"gene_id\",\"transcript_id\"], how=\"right\")\n",
    "# # ## Expression > 0.1 in less than 5%\n",
    "# summary_tolerance_accepted = summary_tolerance[summary_tolerance['counts_01'] < tolerance_dictionary[proj]]\n",
    "# summary_tolerance_accepted.drop([\"counts_01\"], axis=1, inplace=True)\n",
    "# summary_tolerance_accepted.sort_values(by=\"n\", ascending=False).to_csv(os.path.join(cancer_dir,\"tumorspecific\")+\"/tumorspecific_n_\"+proj+\"_TOLERANCE5PERCENT.csv\", index=False)\n",
    "# print(len(summary_tolerance_accepted))\n",
    "# print(\"Done!\")"
   ]
  },
  {
   "cell_type": "markdown",
   "metadata": {},
   "source": [
    "## GTEx"
   ]
  },
  {
   "cell_type": "code",
   "execution_count": 18,
   "metadata": {},
   "outputs": [],
   "source": [
    "GTEx=pd.read_csv(os.path.join(GENOMEDIR,\"GTEx/GTEx_Analysis_2017-06-05_v8_RNASeQCv1.1.9_gene_median_tpm.gct\"), sep=\"\\t\", skiprows=2)\n",
    "GTEx.drop('Description', inplace=True, axis=1)\n",
    "GTEx['Name'] = GTEx['Name'].str[:-2]\n",
    "for ctype in cancertypes:\n",
    "    tumorspecific = pd.read_csv(os.path.join(cancer_dir,\"tumorspecific/cancertypes\")+\"/tumorspecific_n_\"+ctype+\"_TOLERANCE5PERCENT.csv\")\n",
    "    ## outfiles\n",
    "    output_full = os.path.join(os.path.join(cancer_dir,\"tumorspecific/cancertypes/GTEx\")+\"/tumorspecific_n_\"+ctype+\"_TOLERANCE5PERCENT_GTExfull.csv\")\n",
    "    output_shared = os.path.join(os.path.join(cancer_dir,\"tumorspecific/cancertypes/GTEx\")+\"/tumorspecific_n_\"+ctype+\"_TOLERANCE5PERCENT_inGTEx.csv\")\n",
    "    output_absent = os.path.join(os.path.join(cancer_dir,\"tumorspecific/cancertypes/GTEx\")+\"/tumorspecific_n_\"+ctype+\"_TOLERANCE5PERCENT_noGTEx.csv\")\n",
    "\n",
    "    full = GTEx[GTEx['Name'].isin(tumorspecific.gene_id.values.tolist())]\n",
    "    full.to_csv(output_full, index=False)\n",
    "\n",
    "    absent = tumorspecific[~tumorspecific['gene_id'].isin(GTEx.Name.values.tolist())]\n",
    "    absent.to_csv(output_absent, index=False)\n",
    "\n",
    "    shared = tumorspecific[tumorspecific['gene_id'].isin(GTEx.Name.values.tolist())]\n",
    "    shared.to_csv(output_shared, index=False)"
   ]
  },
  {
   "cell_type": "code",
   "execution_count": 19,
   "metadata": {},
   "outputs": [
    {
     "name": "stdout",
     "output_type": "stream",
     "text": [
      "BRCA\n",
      "BLCA\n"
     ]
    },
    {
     "name": "stderr",
     "output_type": "stream",
     "text": [
      "/tmp/ipykernel_3909758/588818480.py:22: SettingWithCopyWarning: \n",
      "A value is trying to be set on a copy of a slice from a DataFrame\n",
      "\n",
      "See the caveats in the documentation: https://pandas.pydata.org/pandas-docs/stable/user_guide/indexing.html#returning-a-view-versus-a-copy\n",
      "  selected_in_GTEx.drop('gt', axis=1, inplace=True)\n",
      "/tmp/ipykernel_3909758/588818480.py:22: SettingWithCopyWarning: \n",
      "A value is trying to be set on a copy of a slice from a DataFrame\n",
      "\n",
      "See the caveats in the documentation: https://pandas.pydata.org/pandas-docs/stable/user_guide/indexing.html#returning-a-view-versus-a-copy\n",
      "  selected_in_GTEx.drop('gt', axis=1, inplace=True)\n",
      "/tmp/ipykernel_3909758/588818480.py:22: SettingWithCopyWarning: \n",
      "A value is trying to be set on a copy of a slice from a DataFrame\n",
      "\n",
      "See the caveats in the documentation: https://pandas.pydata.org/pandas-docs/stable/user_guide/indexing.html#returning-a-view-versus-a-copy\n",
      "  selected_in_GTEx.drop('gt', axis=1, inplace=True)\n"
     ]
    },
    {
     "name": "stdout",
     "output_type": "stream",
     "text": [
      "LUAD\n",
      "KIRC\n",
      "KIRP\n"
     ]
    },
    {
     "name": "stderr",
     "output_type": "stream",
     "text": [
      "/tmp/ipykernel_3909758/588818480.py:22: SettingWithCopyWarning: \n",
      "A value is trying to be set on a copy of a slice from a DataFrame\n",
      "\n",
      "See the caveats in the documentation: https://pandas.pydata.org/pandas-docs/stable/user_guide/indexing.html#returning-a-view-versus-a-copy\n",
      "  selected_in_GTEx.drop('gt', axis=1, inplace=True)\n",
      "/tmp/ipykernel_3909758/588818480.py:22: SettingWithCopyWarning: \n",
      "A value is trying to be set on a copy of a slice from a DataFrame\n",
      "\n",
      "See the caveats in the documentation: https://pandas.pydata.org/pandas-docs/stable/user_guide/indexing.html#returning-a-view-versus-a-copy\n",
      "  selected_in_GTEx.drop('gt', axis=1, inplace=True)\n",
      "/tmp/ipykernel_3909758/588818480.py:22: SettingWithCopyWarning: \n",
      "A value is trying to be set on a copy of a slice from a DataFrame\n",
      "\n",
      "See the caveats in the documentation: https://pandas.pydata.org/pandas-docs/stable/user_guide/indexing.html#returning-a-view-versus-a-copy\n",
      "  selected_in_GTEx.drop('gt', axis=1, inplace=True)\n"
     ]
    },
    {
     "name": "stdout",
     "output_type": "stream",
     "text": [
      "PRAD\n",
      "LUSC\n",
      "LIHC\n"
     ]
    },
    {
     "name": "stderr",
     "output_type": "stream",
     "text": [
      "/tmp/ipykernel_3909758/588818480.py:22: SettingWithCopyWarning: \n",
      "A value is trying to be set on a copy of a slice from a DataFrame\n",
      "\n",
      "See the caveats in the documentation: https://pandas.pydata.org/pandas-docs/stable/user_guide/indexing.html#returning-a-view-versus-a-copy\n",
      "  selected_in_GTEx.drop('gt', axis=1, inplace=True)\n",
      "/tmp/ipykernel_3909758/588818480.py:22: SettingWithCopyWarning: \n",
      "A value is trying to be set on a copy of a slice from a DataFrame\n",
      "\n",
      "See the caveats in the documentation: https://pandas.pydata.org/pandas-docs/stable/user_guide/indexing.html#returning-a-view-versus-a-copy\n",
      "  selected_in_GTEx.drop('gt', axis=1, inplace=True)\n"
     ]
    },
    {
     "name": "stdout",
     "output_type": "stream",
     "text": [
      "COAD\n"
     ]
    },
    {
     "name": "stderr",
     "output_type": "stream",
     "text": [
      "/tmp/ipykernel_3909758/588818480.py:22: SettingWithCopyWarning: \n",
      "A value is trying to be set on a copy of a slice from a DataFrame\n",
      "\n",
      "See the caveats in the documentation: https://pandas.pydata.org/pandas-docs/stable/user_guide/indexing.html#returning-a-view-versus-a-copy\n",
      "  selected_in_GTEx.drop('gt', axis=1, inplace=True)\n"
     ]
    }
   ],
   "source": [
    "##  MEDIAN TPM = 0.5\n",
    "for ctype in cancertypes:\n",
    "    print(ctype)\n",
    "    ### GTEx output\n",
    "    fullGTEx = pd.read_csv(os.path.join(os.path.join(cancer_dir,\"tumorspecific/cancertypes/GTEx\")+\"/tumorspecific_n_\"+ctype+\"_TOLERANCE5PERCENT_GTExfull.csv\"))\n",
    "    ### present in GTEx\n",
    "    inGTEx = pd.read_csv(os.path.join(os.path.join(cancer_dir,\"tumorspecific/cancertypes/GTEx\")+\"/tumorspecific_n_\"+ctype+\"_TOLERANCE5PERCENT_inGTEx.csv\"))\n",
    "    ### absent in GTEx\n",
    "    noGTEx = pd.read_csv(os.path.join(os.path.join(cancer_dir,\"tumorspecific/cancertypes/GTEx\")+\"/tumorspecific_n_\"+ctype+\"_TOLERANCE5PERCENT_noGTEx.csv\"))\n",
    "\n",
    "    to_save = fullGTEx[['Name','Testis','Ovary']]\n",
    "    fullGTEx.drop(['Testis','Ovary','Name'], axis=1, inplace=True)\n",
    "\n",
    "    # True False greater than 0\n",
    "    inGTEx_05 = fullGTEx.gt(0.5)\n",
    "\n",
    "    # count True columns (greater than 0)\n",
    "    fullGTEx['gt'] = inGTEx_05[(inGTEx_05 == True)].count(axis='columns')\n",
    "\n",
    "    # get rows with no grater than 0\n",
    "    selected_in_GTEx = fullGTEx.loc[fullGTEx['gt'] == 0]\n",
    "    selected_in_GTEx.drop('gt', axis=1, inplace=True)\n",
    "\n",
    "    selected_in_GTEx = pd.merge(to_save, selected_in_GTEx , left_index=True, right_index=True)\n",
    "    selected_in_GTEx.rename(columns={'Name':'gene_id'}, inplace=True)\n",
    "    selected_in_GTEx.to_csv(os.path.join(cancer_dir,\"tumorspecific/cancertypes/GTEx\")+\"/GTExvalues_\"+ctype+\"_TOLERANCE5PERCENT.csv\", index=False)\n",
    "\n",
    "    afterGTEx = pd.concat([inGTEx[inGTEx['gene_id'].isin(selected_in_GTEx.gene_id.values.tolist())], noGTEx])\n",
    "    afterGTEx.to_csv(os.path.join(cancer_dir,\"tumorspecific/cancertypes/GTEx\")+\"/tumorspecific_n_GTEx_\"+ctype+\"_TOLERANCE5PERCENT.csv\", index=False)\n"
   ]
  },
  {
   "cell_type": "code",
   "execution_count": null,
   "metadata": {},
   "outputs": [],
   "source": []
  }
 ],
 "metadata": {
  "kernelspec": {
   "display_name": "Python 3",
   "language": "python",
   "name": "python3"
  },
  "language_info": {
   "codemirror_mode": {
    "name": "ipython",
    "version": 3
   },
   "file_extension": ".py",
   "mimetype": "text/x-python",
   "name": "python",
   "nbconvert_exporter": "python",
   "pygments_lexer": "ipython3",
   "version": "3.8.16"
  },
  "orig_nbformat": 4
 },
 "nbformat": 4,
 "nbformat_minor": 2
}
