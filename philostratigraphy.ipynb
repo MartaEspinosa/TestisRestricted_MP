{
 "cells": [
  {
   "attachments": {},
   "cell_type": "markdown",
   "metadata": {},
   "source": [
    "## PHYLOSTRATIGRAPHY"
   ]
  },
  {
   "cell_type": "code",
   "execution_count": 52,
   "metadata": {},
   "outputs": [
    {
     "name": "stdout",
     "output_type": "stream",
     "text": [
      "28\n"
     ]
    }
   ],
   "source": [
    "import os,re,glob\n",
    "import pandas as pd\n",
    "import numpy as np\n",
    "from collections import Counter\n",
    "from Bio.Seq import Seq\n",
    "from Bio.SeqRecord import SeqRecord\n",
    "from Bio import SeqIO\n",
    "\n",
    "users_dir = \"/users/genomics/marta/TestisProject_SaraRazquin/with_TranscriptomeReconstruction\"\n",
    "GENOMEDIR = \"/genomics/users/marta/genomes\"\n",
    "\n",
    "## annotation file\n",
    "annotation=\"/users/genomics/marta/TestisProject_SaraRazquin/with_TranscriptomeReconstruction/human/newReference_Resconstructed/gencode.v38.gffcompare.TestisLiverBrain.annotation.sorted.1transcript.sorted.NOchr.gtf\"\n",
    "transcript_gene=pd.read_csv(\"/users/genomics/marta/TestisProject_SaraRazquin/with_TranscriptomeReconstruction/human/newReference_Resconstructed/1transcript_1gene.reconstructed.csv\")\n",
    "\n",
    "## evoDir\n",
    "evoDir=os.path.join(users_dir,\"EvolutionaryOrigin\")\n",
    "phyloDir = os.path.join(users_dir,\"Phylostratigraphy\")\n",
    "\n",
    "lineage=[\"cellular organisms\", \"Eukaryota\", \"Opisthokonta\", \"Metazoa\", \"Eumetazoa\",\n",
    "    \"Bilateria\", \"Deuterostomia\", \"Chordata\", \"Vertebrata\",\n",
    "    \"Gnathostomata\", \"Teleostomi\", \"Euteleostomi\", \"Sarcopterygii\",\n",
    "    \"Dipnotetrapodomorpha\", \"Tetrapoda\", \"Amniota\", \"Mammalia\", \"Theria\",\n",
    "    \"Eutheria\", \"Boreoeutheria\", \"Euarchontoglires\", \"Primates\",\n",
    "    \"Simiiformes\", \"Catarrhini\", \"Hominoidea\", \"Hominidae\", \"Homininae\", \"Homo sapiens\"]\n",
    "print(len(lineage))"
   ]
  },
  {
   "cell_type": "code",
   "execution_count": 14,
   "metadata": {},
   "outputs": [
    {
     "name": "stdout",
     "output_type": "stream",
     "text": [
      "11265\n"
     ]
    }
   ],
   "source": [
    "ribORF_in_2 = pd.read_csv(\"/projects_eg/projects/marta/TestisRestricted_Microproteins_TSA/with_TranscriptomeReconstruction/ribORF_humanTestis_in2.csv\")\n",
    "\n",
    "ribORF_in_2_noncanonical = ribORF_in_2[ribORF_in_2['gene_type'] != \"protein_coding\"]\n",
    "ribORF_in_2_noncanonical.to_csv(os.path.join(evoDir,\"ribORF_humanTestis_in2.noncanonical.csv\"), index=None)\n",
    "\n",
    "ribORF_in_2_canonical = ribORF_in_2[ribORF_in_2['gene_type'] == \"protein_coding\"]\n",
    "print(len(set(ribORF_in_2_canonical.gene_name.values.tolist())))\n",
    "ribORF_in_2_canonical.to_csv(os.path.join(evoDir,\"ribORF_humanTestis_in2.canonical.csv\"), index=None)"
   ]
  },
  {
   "cell_type": "code",
   "execution_count": 11,
   "metadata": {},
   "outputs": [],
   "source": [
    "input_file = \"/projects_eg/projects/marta/TestisRestricted_Microproteins_TSA/with_TranscriptomeReconstruction/ribORF_humanTestis_in2.fa\"\n",
    "output_file_canonical = \"/projects_eg/projects/marta/TestisRestricted_Microproteins_TSA/with_TranscriptomeReconstruction/ribORF_humanTestis_in2.canonical.fa\"\n",
    "output_file_noncanonical = \"/projects_eg/projects/marta/TestisRestricted_Microproteins_TSA/with_TranscriptomeReconstruction/ribORF_humanTestis_in2.noncanonical.fa\"\n",
    "\n",
    "fasta_sequences = SeqIO.parse(open(input_file),'fasta')\n",
    "\n",
    "with open(output_file_canonical, \"w\") as out_c:\n",
    "    with open(output_file_noncanonical, \"w\") as out_nc:\n",
    "        for fasta in fasta_sequences:\n",
    "            if \"noncoding\" in fasta.id:\n",
    "                out_nc.write(\">%s\\n%s\\n\" %(fasta.id, str(fasta.seq)))\n",
    "            else:\n",
    "                out_c.write(\">%s\\n%s\\n\" %(fasta.id, str(fasta.seq)))\n"
   ]
  },
  {
   "cell_type": "code",
   "execution_count": 54,
   "metadata": {},
   "outputs": [
    {
     "name": "stdout",
     "output_type": "stream",
     "text": [
      "13668\n",
      "10968\n",
      "Missing PCGs in DENSE\n",
      "297\n"
     ]
    }
   ],
   "source": [
    "DENSE=pd.read_csv(\"/projects_eg/projects/marta/DENSE_AnneLopes/denovotable.csv\")\n",
    "DENSE_candidates = DENSE[DENSE['Gene'].isin(ribORF_in_2_canonical.gene_name.values.tolist())]\n",
    "DENSE_candidates = DENSE_candidates[['Gene','Phylostratum']].drop_duplicates()\n",
    "print(len(DENSE_candidates))\n",
    "print(len(set(DENSE_candidates.Gene.values.tolist())))\n",
    "DENSE_candidates.to_csv(os.path.join(phyloDir, \"DENSE_PCGs.csv\"), index=None)\n",
    "\n",
    "\n",
    "missing_PCGs_in_DENSE = ribORF_in_2_canonical[~ribORF_in_2_canonical['gene_name'].isin(DENSE.Gene.values.tolist())]\n",
    "print(\"Missing PCGs in DENSE\")\n",
    "print(len(set(missing_PCGs_in_DENSE.gene_name.values.tolist())))\n",
    "missing_PCGs_in_DENSE.to_csv(os.path.join(phyloDir, \"DENSE_missingPCGs.csv\"), index=None)\n",
    "\n"
   ]
  },
  {
   "cell_type": "code",
   "execution_count": 56,
   "metadata": {},
   "outputs": [
    {
     "name": "stdout",
     "output_type": "stream",
     "text": [
      "13668\n"
     ]
    }
   ],
   "source": [
    "print(len(DENSE_candidates))\n",
    "summary = DENSE_candidates.groupby(\"Phylostratum\").count().reset_index()\n",
    "summary.columns = ['Phylostratum','n_PCGs']\n",
    "summary = summary[summary['Phylostratum'] != \"Unknown\"]\n",
    "summary = summary[summary[\"Phylostratum\"] != \"Possible contamination or HGT\"]\n",
    "\n",
    "# Sorting the DataFrame\n",
    "summary.Phylostratum = summary.Phylostratum.astype(\"category\")\n",
    "summary.Phylostratum = summary.Phylostratum.cat.set_categories(lineage)\n",
    "summary.sort_values([\"Phylostratum\"])  ## 'sort' changed to 'sort_values'\n",
    "summary.to_csv(os.path.join(phyloDir, \"summary_DENSE_PCGs.csv\"), index=None)"
   ]
  }
 ],
 "metadata": {
  "kernelspec": {
   "display_name": "Python 3",
   "language": "python",
   "name": "python3"
  },
  "language_info": {
   "codemirror_mode": {
    "name": "ipython",
    "version": 3
   },
   "file_extension": ".py",
   "mimetype": "text/x-python",
   "name": "python",
   "nbconvert_exporter": "python",
   "pygments_lexer": "ipython3",
   "version": "3.8.16"
  },
  "orig_nbformat": 4
 },
 "nbformat": 4,
 "nbformat_minor": 2
}
