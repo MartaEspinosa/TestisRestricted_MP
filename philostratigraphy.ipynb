{
 "cells": [
  {
   "attachments": {},
   "cell_type": "markdown",
   "metadata": {},
   "source": [
    "## PHYLOSTRATIGRAPHY"
   ]
  },
  {
   "cell_type": "code",
   "execution_count": 29,
   "metadata": {},
   "outputs": [
    {
     "name": "stdout",
     "output_type": "stream",
     "text": [
      "28\n"
     ]
    }
   ],
   "source": [
    "import os,re,glob\n",
    "import pandas as pd\n",
    "import numpy as np\n",
    "from collections import Counter\n",
    "from Bio.Seq import Seq\n",
    "from Bio.SeqRecord import SeqRecord\n",
    "from Bio import SeqIO\n",
    "\n",
    "users_dir = \"/users/genomics/marta/TestisProject_SaraRazquin/with_TranscriptomeReconstruction\"\n",
    "GENOMEDIR = \"/genomics/users/marta/genomes\"\n",
    "\n",
    "## annotation file\n",
    "annotation=\"/users/genomics/marta/TestisProject_SaraRazquin/with_TranscriptomeReconstruction/human/newReference_Resconstructed/gencode.v38.gffcompare.TestisLiverBrain.annotation.sorted.1transcript.sorted.NOchr.gtf\"\n",
    "transcript_gene=pd.read_csv(\"/users/genomics/marta/TestisProject_SaraRazquin/with_TranscriptomeReconstruction/human/newReference_Resconstructed/1transcript_1gene.reconstructed.csv\")\n",
    "\n",
    "## evoDir\n",
    "evoDir=os.path.join(users_dir,\"EvolutionaryOrigin\")\n",
    "phyloDir = os.path.join(users_dir,\"Phylostratigraphy\")\n",
    "\n",
    "lineage=[\"cellular organisms\", \"Eukaryota\", \"Opisthokonta\", \"Metazoa\", \"Eumetazoa\",\n",
    "    \"Bilateria\", \"Deuterostomia\", \"Chordata\", \"Vertebrata\",\n",
    "    \"Gnathostomata\", \"Teleostomi\", \"Euteleostomi\", \"Sarcopterygii\",\n",
    "    \"Dipnotetrapodomorpha\", \"Tetrapoda\", \"Amniota\", \"Mammalia\", \"Theria\",\n",
    "    \"Eutheria\", \"Boreoeutheria\", \"Euarchontoglires\", \"Primates\",\n",
    "    \"Simiiformes\", \"Catarrhini\", \"Hominoidea\", \"Hominidae\", \"Homininae\", \"Homo sapiens\"]\n",
    "print(len(lineage))"
   ]
  },
  {
   "cell_type": "code",
   "execution_count": 30,
   "metadata": {},
   "outputs": [
    {
     "name": "stdout",
     "output_type": "stream",
     "text": [
      "11827\n"
     ]
    }
   ],
   "source": [
    "ribORF_in_2 = pd.read_csv(\"/projects_eg/projects/marta/TestisRestricted_Microproteins_TSA/with_TranscriptomeReconstruction/ribORF_humanTestis_in2.csv\")\n",
    "\n",
    "ribORF_in_2_noncanonical = ribORF_in_2[ribORF_in_2['gene_type'] != \"protein_coding\"]\n",
    "ribORF_in_2_noncanonical.to_csv(os.path.join(evoDir,\"ribORF_humanTestis_in2.noncanonical.csv\"), index=None)\n",
    "\n",
    "ribORF_in_2_canonical = ribORF_in_2[ribORF_in_2['gene_type'] == \"protein_coding\"]\n",
    "print(len(set(ribORF_in_2_canonical.gene_name.values.tolist())))\n",
    "ribORF_in_2_canonical.to_csv(os.path.join(evoDir,\"ribORF_humanTestis_in2.canonical.csv\"), index=None)"
   ]
  },
  {
   "cell_type": "code",
   "execution_count": 31,
   "metadata": {},
   "outputs": [],
   "source": [
    "input_file = \"/projects_eg/projects/marta/TestisRestricted_Microproteins_TSA/with_TranscriptomeReconstruction/ribORF_humanTestis_in2.fa\"\n",
    "output_file_canonical = \"/projects_eg/projects/marta/TestisRestricted_Microproteins_TSA/with_TranscriptomeReconstruction/ribORF_humanTestis_in2.canonical.fa\"\n",
    "output_file_noncanonical = \"/projects_eg/projects/marta/TestisRestricted_Microproteins_TSA/with_TranscriptomeReconstruction/ribORF_humanTestis_in2.noncanonical.fa\"\n",
    "\n",
    "fasta_sequences = SeqIO.parse(open(input_file),'fasta')\n",
    "\n",
    "with open(output_file_canonical, \"w\") as out_c:\n",
    "    with open(output_file_noncanonical, \"w\") as out_nc:\n",
    "        for fasta in fasta_sequences:\n",
    "            if \"noncoding\" in fasta.id:\n",
    "                out_nc.write(\">%s\\n%s\\n\" %(fasta.id, str(fasta.seq)))\n",
    "            else:\n",
    "                out_c.write(\">%s\\n%s\\n\" %(fasta.id, str(fasta.seq)))\n"
   ]
  },
  {
   "cell_type": "code",
   "execution_count": 32,
   "metadata": {},
   "outputs": [
    {
     "name": "stdout",
     "output_type": "stream",
     "text": [
      "14341\n",
      "11511\n",
      "Missing PCGs in DENSE\n",
      "316\n"
     ]
    }
   ],
   "source": [
    "DENSE=pd.read_csv(\"/projects_eg/projects/marta/DENSE_AnneLopes/denovotable.csv\")\n",
    "DENSE_candidates = DENSE[DENSE['Gene'].isin(ribORF_in_2_canonical.gene_name.values.tolist())]\n",
    "DENSE_candidates = DENSE_candidates[['Gene','Phylostratum']].drop_duplicates()\n",
    "print(len(DENSE_candidates))\n",
    "print(len(set(DENSE_candidates.Gene.values.tolist())))\n",
    "DENSE_candidates.Phylostratum = DENSE_candidates.Phylostratum.astype(\"category\")\n",
    "DENSE_candidates.Phylostratum = DENSE_candidates.Phylostratum.cat.set_categories(lineage)\n",
    "  ## 'sort' changed to 'sort_values'\n",
    "DENSE_candidates.sort_values([\"Phylostratum\"]).to_csv(os.path.join(phyloDir, \"DENSE_PCGs.csv\"), index=None)\n",
    "\n",
    "\n",
    "missing_PCGs_in_DENSE = ribORF_in_2_canonical[~ribORF_in_2_canonical['gene_name'].isin(DENSE.Gene.values.tolist())]\n",
    "print(\"Missing PCGs in DENSE\")\n",
    "print(len(set(missing_PCGs_in_DENSE.gene_name.values.tolist())))\n",
    "missing_PCGs_in_DENSE.to_csv(os.path.join(phyloDir, \"DENSE_missingPCGs.csv\"), index=None)\n",
    "\n"
   ]
  },
  {
   "cell_type": "code",
   "execution_count": 33,
   "metadata": {},
   "outputs": [
    {
     "name": "stdout",
     "output_type": "stream",
     "text": [
      "14341\n"
     ]
    }
   ],
   "source": [
    "print(len(DENSE_candidates))\n",
    "summary = DENSE_candidates.groupby(\"Phylostratum\").count().reset_index()\n",
    "summary.columns = ['Phylostratum','n_PCGs']\n",
    "summary = summary[summary['Phylostratum'] != \"Unknown\"]\n",
    "summary = summary[summary[\"Phylostratum\"] != \"Possible contamination or HGT\"]\n",
    "\n",
    "# Sorting the DataFrame\n",
    "summary.Phylostratum = summary.Phylostratum.astype(\"category\")\n",
    "summary.Phylostratum = summary.Phylostratum.cat.set_categories(lineage)\n",
    "summary.sort_values([\"Phylostratum\"])  ## 'sort' changed to 'sort_values'\n",
    "summary.to_csv(os.path.join(phyloDir, \"summary_DENSE_PCGs.csv\"), index=None)"
   ]
  },
  {
   "attachments": {},
   "cell_type": "markdown",
   "metadata": {},
   "source": [
    "## GenEra \n",
    "\n",
    "`https://github.com/josuebarrera/GenEra/wiki/Running-GenEra`\n",
    "\n"
   ]
  },
  {
   "cell_type": "code",
   "execution_count": 34,
   "metadata": {},
   "outputs": [
    {
     "name": "stdout",
     "output_type": "stream",
     "text": [
      "genEra v1.4.1 (C) Max Planck Society for the Advancement of Science\n",
      "Starting time of run:\n",
      "jue 25 jul 2024 15:50:31 CEST\n",
      "\n",
      "Your temporary files will be stored in /home/marta/PROJECT_SCRIPTS/TestisRestricted_MP/tmp_9606_3188\n",
      "\n",
      "STARTING STEP 1: SEARCHING FOR HOMOLOGS WITHIN THE DATABASE USING DIAMOND\n",
      "--------------------------------------------------\n",
      "Matching the query genes against themselves\n",
      "--------------------------------------------------\n",
      "Searching for homologs against the DIAMOND database\n",
      "DIAMOND results written!\n",
      "--------------------------------------------------\n",
      "Step 1 finished!\n",
      "The DIAMOND/MMseqs2 table can be found in /home/marta/PROJECT_SCRIPTS/TestisRestricted_MP/tmp_9606_3188/9606_Diamond_results.bout\n",
      "This file is usually HUGE, please dispose of it if you no longer find it useful\n",
      "It can still be used (-p) in case the user wants to re-run genEra while skipping step 1\n",
      "\n",
      "STARTING STEP 2: GENERATING TAXONOMIC DATABASE FOR THE PHYLOSTRATIGRAPHIC ASSIGNMENT OF YOUR GENES\n",
      "--------------------------------------------------\n",
      "Using the raw \"ncbi_lineages\" file provided by the user. Skiping ncbitax2lin\n",
      "--------------------------------------------------\n",
      "Rearranging the raw \"ncbi_lineages\" file by taxonomic hierarchy\n",
      "  WARNING: genEra could not find the file fullnamelineage.dmp within the NCBI taxdump\n",
      "  Please make sure you download the latest version of the NCBI Taxonomy dump: ftp.ncbi.nlm.nih.gov/pub/taxonomy/new_taxdump/new_taxdump.tar.gz\n",
      "Extracting lineage information from the NCBI webpage\n",
      "--------------------------------------------------\n",
      "Extracting all the lineages that match more than 10 percent of your query proteins\n",
      "--------------------------------------------------\n",
      "Collapsing the phylostrata that are not represented in your DIAMOND results\n",
      "--------------------------------------------------\n",
      "  WARNING: The following phylostrata were collapsed due to lack of sufficient genomic data:\n",
      "  [Homo] [Teleostomi] [Craniata] \n",
      "  If you want to include them in your analysis, please add the necessary taxa in a custom database (-a or -f), making sure their last common ancestor to the query species can be assigned to that specific taxonomic level in the NCBI taxonomy database\n",
      "--------------------------------------------------\n",
      "Generating the species-tailored database\n",
      "--------------------------------------------------\n",
      "Step 2 finished!\n",
      "your species-tailored database can be found in /home/marta/PROJECT_SCRIPTS/TestisRestricted_MP/9606_ncbi_lineages.csv\n",
      "Keep this file in case you want to re-run step 3 of genEra with the same species (-c)\n",
      "\n",
      "STARTING STEP 3: ASSIGNING AGES TO YOUR QUERY GENES WITH Erassignment\n",
      "--------------------------------------------------\n",
      "Splitting results per query gene using 20 threads\n",
      "-------------------------------------------------- \n",
      "Importing and indexing files needed... | Thu Jul 25 18:02:41 2024\n",
      "-------------------------------------------------- \n",
      "Filtering and exporting single gen hits ... | Thu Jul 25 18:03:24 2024\n",
      "ANALYSIS COMPLETE !!! | Thu Jul 25 18:03:38 2024\n",
      "Feed all these tmp files to Erassignment for saving a lot of time in STEP 3 \n",
      "Thanks for using FASTSTEP3R \n",
      "--------------------------------------------------\n",
      "Running Erassignment using 20 threads\n",
      "--------------------------------------------------\n",
      "Running mcl to define gene families\n"
     ]
    },
    {
     "name": "stderr",
     "output_type": "stream",
     "text": [
      "[mclIO] writing </home/marta/PROJECT_SCRIPTS/TestisRestricted_MP/tmp_9606_3188/tmp_9606.mci>\n",
      ".......................................\n",
      "[mclIO] wrote native interchange 1530x1530 matrix with 2012 entries to stream </home/marta/PROJECT_SCRIPTS/TestisRestricted_MP/tmp_9606_3188/tmp_9606.mci>\n",
      "[mclIO] wrote 1530 tab entries to stream </home/marta/PROJECT_SCRIPTS/TestisRestricted_MP/tmp_9606_3188/tmp_9606.tab>\n",
      "[mcxload] tab has 1530 entries\n",
      "[mclIO] reading </home/marta/PROJECT_SCRIPTS/TestisRestricted_MP/tmp_9606_3188/tmp_9606.mcl>\n",
      ".......................................\n",
      "[mclIO] read native interchange 1530x1350 matrix with 1530 entries\n"
     ]
    },
    {
     "name": "stdout",
     "output_type": "stream",
     "text": [
      "--------------------------------------------------\n",
      "Establishing the age and number of gene-family founder events\n",
      "--------------------------------------------------\n",
      "Step 3 finished!\n",
      "The age assignment for your individual genes can be found in /home/marta/PROJECT_SCRIPTS/TestisRestricted_MP/9606_gene_ages.tsv\n",
      "The possible ages for the genes with a taxonomic representativeness below 30 percent can be found in /home/marta/PROJECT_SCRIPTS/TestisRestricted_MP/9606_ambiguous_phylostrata.tsv\n",
      "The estimation of gene family founder events can be found in /home/marta/PROJECT_SCRIPTS/TestisRestricted_MP/9606_founder_events.tsv\n",
      "The number of individual genes that could be assigned to each phylostratum are summarized in /home/marta/PROJECT_SCRIPTS/TestisRestricted_MP/9606_gene_age_summary.tsv\n",
      "The number of of gene family founder events per phylostratum are summarized in /home/marta/PROJECT_SCRIPTS/TestisRestricted_MP/9606_founder_summary.tsv\n",
      "\n",
      "genEra finished at:\n",
      "jue 25 jul 2024 18:09:15 CEST\n",
      "\n",
      "Enjoy your results!!!\n"
     ]
    }
   ],
   "source": [
    "%%bash -s \"$phyloDir\"\n",
    "\n",
    "OUTDIR=$1/GenEra\n",
    "mkdir -p $OUTDIR\n",
    "mkdir -p $OUTDIR/output\n",
    "\n",
    "module load  Miniconda3/24.5.0\n",
    "eval \"$(/soft/system/software/Miniconda3/24.5.0/bin/conda shell.bash hook)\"\n",
    "conda activate genEra\n",
    "\n",
    "genEra -q /projects_eg/projects/marta/TestisRestricted_Microproteins_TSA/with_TranscriptomeReconstruction/ribORF_humanTestis_in2.noncanonical.fa \\\n",
    "    -t 9606 -b /datasets/diamond_databases/nr/nr -d /datasets/diamond_databases/nr/nr -n 20 -e 1e-4 -r $OUTDIR/ncbi_lineages_2022-07-28.csv\n",
    "\n",
    "# genEra -q /projects_eg/projects/marta/TestisRestricted_Microproteins_TSA/with_TranscriptomeReconstruction/ribORF_humanTestis_in2.noncanonical.fa \\\n",
    "#     -t 9606 -p /home/marta/PROJECT_SCRIPTS/TestisRestricted_MP/tmp_9606_16006/9606_Diamond_results.bout -d /datasets/diamond_databases/nr/nr -n 20 -e 1e-4 -r $OUTDIR/ncbi_lineages_2022-07-28.csv    "
   ]
  },
  {
   "cell_type": "code",
   "execution_count": 36,
   "metadata": {},
   "outputs": [],
   "source": [
    "PCGs_ages = pd.read_csv(os.path.join(phyloDir, \"summary_DENSE_PCGs.csv\"))\n",
    "PCGs_ages\n",
    "\n",
    "ncORFs_ages = pd.read_csv(os.path.join(phyloDir, \"GenEra/output/9606_gene_age_summary.tsv\"), sep=\"\\t\")\n",
    "ncORFs_ages = ncORFs_ages[[\"#number_of_genes\",\"phylostratum\"]]\n",
    "ncORFs_ages.columns = ['n_ncORFs','Phylostratum']\n",
    "\n",
    "ages = PCGs_ages.merge(ncORFs_ages, on=\"Phylostratum\")\n",
    "ages.Phylostratum = ages.Phylostratum.astype(\"category\")\n",
    "ages.Phylostratum = ages.Phylostratum.cat.set_categories(lineage)\n",
    "ages.sort_values([\"Phylostratum\"], inplace=True)  ## 'sort' changed to 'sort_values'\n",
    "ages.drop_duplicates(inplace=True)\n",
    "ages.to_csv(os.path.join(phyloDir,\"summary_all_genes_ages.csv\"), index=None)"
   ]
  },
  {
   "cell_type": "code",
   "execution_count": 39,
   "metadata": {},
   "outputs": [],
   "source": [
    "ncORFs_genes_ages = pd.read_csv(os.path.join(phyloDir, \"GenEra/output/9606_gene_ages.tsv\"), sep=\"\\t\", header=None)\n",
    "ncORFs_genes_ages['transcript_id'] = ncORFs_genes_ages[0].str.split(\":\", expand=True)[0]\n",
    "ncORFs_genes_ages['transcript_id'] = ncORFs_genes_ages['transcript_id'].str.split(\".\", expand=True)[0]\n",
    "ncORFs_genes_ages = ncORFs_genes_ages.merge(transcript_gene, on=\"transcript_id\")\n",
    "ncORFs_genes_ages = ncORFs_genes_ages[['gene_name','gene_type',1,0]]\n",
    "ncORFs_genes_ages.columns=['gene_name','gene_type','Phylostratum','orfID']\n",
    "ncORFs_genes_ages\n",
    "\n",
    "\n",
    "\n",
    "PCGs_gene_ages = pd.read_csv(os.path.join(phyloDir, \"DENSE_PCGs.csv\"))\n",
    "PCGs_gene_ages.columns=['gene_name','Phylostratum']\n",
    "PCGs_gene_ages['gene_type'] = \"protein_coding\"\n",
    "PCGs_gene_ages['orfID'] = PCGs_gene_ages['gene_name'] + \"_ORF1\"\n",
    "\n",
    "\n",
    "all_genes = pd.concat([PCGs_gene_ages, ncORFs_genes_ages])\n",
    "\n",
    "all_genes.Phylostratum = all_genes.Phylostratum.astype(\"category\")\n",
    "all_genes.Phylostratum = all_genes.Phylostratum.cat.set_categories(lineage)\n",
    "all_genes.sort_values([\"Phylostratum\"], inplace=True)  ## 'sort' changed to 'sort_values'\n",
    "all_genes.drop_duplicates(inplace=True)\n",
    "all_genes.to_csv(os.path.join(phyloDir,\"all_genes_phyostratum.csv\"), index=None)"
   ]
  },
  {
   "cell_type": "code",
   "execution_count": 40,
   "metadata": {},
   "outputs": [
    {
     "data": {
      "text/html": [
       "<div>\n",
       "<style scoped>\n",
       "    .dataframe tbody tr th:only-of-type {\n",
       "        vertical-align: middle;\n",
       "    }\n",
       "\n",
       "    .dataframe tbody tr th {\n",
       "        vertical-align: top;\n",
       "    }\n",
       "\n",
       "    .dataframe thead th {\n",
       "        text-align: right;\n",
       "    }\n",
       "</style>\n",
       "<table border=\"1\" class=\"dataframe\">\n",
       "  <thead>\n",
       "    <tr style=\"text-align: right;\">\n",
       "      <th></th>\n",
       "      <th>gene_name</th>\n",
       "      <th>Phylostratum</th>\n",
       "      <th>gene_type</th>\n",
       "      <th>orfID</th>\n",
       "    </tr>\n",
       "  </thead>\n",
       "  <tbody>\n",
       "    <tr>\n",
       "      <th>0</th>\n",
       "      <td>A2M</td>\n",
       "      <td>cellular organisms</td>\n",
       "      <td>protein_coding</td>\n",
       "      <td>A2M_ORF1</td>\n",
       "    </tr>\n",
       "    <tr>\n",
       "      <th>5846</th>\n",
       "      <td>ZNF814</td>\n",
       "      <td>cellular organisms</td>\n",
       "      <td>protein_coding</td>\n",
       "      <td>ZNF814_ORF1</td>\n",
       "    </tr>\n",
       "    <tr>\n",
       "      <th>5845</th>\n",
       "      <td>NEDD4L</td>\n",
       "      <td>cellular organisms</td>\n",
       "      <td>protein_coding</td>\n",
       "      <td>NEDD4L_ORF1</td>\n",
       "    </tr>\n",
       "    <tr>\n",
       "      <th>5844</th>\n",
       "      <td>PEX5</td>\n",
       "      <td>cellular organisms</td>\n",
       "      <td>protein_coding</td>\n",
       "      <td>PEX5_ORF1</td>\n",
       "    </tr>\n",
       "    <tr>\n",
       "      <th>5843</th>\n",
       "      <td>QDPR</td>\n",
       "      <td>cellular organisms</td>\n",
       "      <td>protein_coding</td>\n",
       "      <td>QDPR_ORF1</td>\n",
       "    </tr>\n",
       "    <tr>\n",
       "      <th>...</th>\n",
       "      <td>...</td>\n",
       "      <td>...</td>\n",
       "      <td>...</td>\n",
       "      <td>...</td>\n",
       "    </tr>\n",
       "    <tr>\n",
       "      <th>1577</th>\n",
       "      <td>XLOC_000607</td>\n",
       "      <td>NaN</td>\n",
       "      <td>novel</td>\n",
       "      <td>TCONS_00000707:15:+|540|22729:8123:8150|noncod...</td>\n",
       "    </tr>\n",
       "    <tr>\n",
       "      <th>1582</th>\n",
       "      <td>XLOC_000828</td>\n",
       "      <td>NaN</td>\n",
       "      <td>novel</td>\n",
       "      <td>TCONS_00000993:18:-|64|1055:791:806|noncoding|GTG</td>\n",
       "    </tr>\n",
       "    <tr>\n",
       "      <th>1588</th>\n",
       "      <td>XLOC_000954</td>\n",
       "      <td>NaN</td>\n",
       "      <td>novel</td>\n",
       "      <td>TCONS_00001162:2:+|62|9974:848:863|noncoding|TTG</td>\n",
       "    </tr>\n",
       "    <tr>\n",
       "      <th>1596</th>\n",
       "      <td>XLOC_001498</td>\n",
       "      <td>NaN</td>\n",
       "      <td>novel</td>\n",
       "      <td>TCONS_00001784:6:-|13|690:130:331|noncoding|ATG</td>\n",
       "    </tr>\n",
       "    <tr>\n",
       "      <th>1598</th>\n",
       "      <td>XLOC_001809</td>\n",
       "      <td>NaN</td>\n",
       "      <td>novel</td>\n",
       "      <td>TCONS_00002050:9:-|86|10655:1396:1420|noncodin...</td>\n",
       "    </tr>\n",
       "  </tbody>\n",
       "</table>\n",
       "<p>15940 rows × 4 columns</p>\n",
       "</div>"
      ],
      "text/plain": [
       "        gene_name        Phylostratum       gene_type  \\\n",
       "0             A2M  cellular organisms  protein_coding   \n",
       "5846       ZNF814  cellular organisms  protein_coding   \n",
       "5845       NEDD4L  cellular organisms  protein_coding   \n",
       "5844         PEX5  cellular organisms  protein_coding   \n",
       "5843         QDPR  cellular organisms  protein_coding   \n",
       "...           ...                 ...             ...   \n",
       "1577  XLOC_000607                 NaN           novel   \n",
       "1582  XLOC_000828                 NaN           novel   \n",
       "1588  XLOC_000954                 NaN           novel   \n",
       "1596  XLOC_001498                 NaN           novel   \n",
       "1598  XLOC_001809                 NaN           novel   \n",
       "\n",
       "                                                  orfID  \n",
       "0                                              A2M_ORF1  \n",
       "5846                                        ZNF814_ORF1  \n",
       "5845                                        NEDD4L_ORF1  \n",
       "5844                                          PEX5_ORF1  \n",
       "5843                                          QDPR_ORF1  \n",
       "...                                                 ...  \n",
       "1577  TCONS_00000707:15:+|540|22729:8123:8150|noncod...  \n",
       "1582  TCONS_00000993:18:-|64|1055:791:806|noncoding|GTG  \n",
       "1588   TCONS_00001162:2:+|62|9974:848:863|noncoding|TTG  \n",
       "1596    TCONS_00001784:6:-|13|690:130:331|noncoding|ATG  \n",
       "1598  TCONS_00002050:9:-|86|10655:1396:1420|noncodin...  \n",
       "\n",
       "[15940 rows x 4 columns]"
      ]
     },
     "execution_count": 40,
     "metadata": {},
     "output_type": "execute_result"
    }
   ],
   "source": [
    "all_genes"
   ]
  }
 ],
 "metadata": {
  "kernelspec": {
   "display_name": "Python 3",
   "language": "python",
   "name": "python3"
  },
  "language_info": {
   "codemirror_mode": {
    "name": "ipython",
    "version": 3
   },
   "file_extension": ".py",
   "mimetype": "text/x-python",
   "name": "python",
   "nbconvert_exporter": "python",
   "pygments_lexer": "ipython3",
   "version": "3.8.16"
  },
  "orig_nbformat": 4
 },
 "nbformat": 4,
 "nbformat_minor": 2
}
