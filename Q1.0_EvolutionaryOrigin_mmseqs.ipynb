{
 "cells": [
  {
   "cell_type": "markdown",
   "metadata": {},
   "source": [
    "## Evolutionary origin\n",
    "\n",
    "Macaca - Mouse - Human"
   ]
  },
  {
   "cell_type": "code",
   "execution_count": 9,
   "metadata": {},
   "outputs": [],
   "source": [
    "import os,re,glob\n",
    "import pandas as pd\n",
    "import numpy as np\n",
    "from collections import Counter\n",
    "from Bio.Seq import Seq\n",
    "from Bio.SeqRecord import SeqRecord\n",
    "from Bio import SeqIO\n",
    "\n",
    "users_dir = \"/users/genomics/marta/TestisProject_SaraRazquin/with_TranscriptomeReconstruction\"\n",
    "GENOMEDIR = \"/genomics/users/marta/genomes\"\n",
    "species=[\"mouse\",\"macaca\",\"platypus\",\"chicken\",\"opossum\"]\n",
    "\n",
    "## annotation file\n",
    "annotation=\"/users/genomics/marta/TestisProject_SaraRazquin/with_TranscriptomeReconstruction/human/newReference_Resconstructed/gencode.v38.gffcompare.TestisLiverBrain.annotation.sorted.1transcript.sorted.NOchr.gtf\"\n",
    "transcript_gene=pd.read_csv(\"/users/genomics/marta/TestisProject_SaraRazquin/with_TranscriptomeReconstruction/human/newReference_Resconstructed/1transcript_1gene.reconstructed.csv\")\n",
    "\n",
    "## evoDir\n",
    "evoDir=os.path.join(users_dir,\"EvolutionaryOrigin_MMseqs\")\n",
    "\n",
    "def translate_dna_to_protein(dna_seq):\n",
    "    return str(Seq(dna_seq).translate())\n",
    "\n",
    "# Function to save DF in fasta format\n",
    "def create_seqrecord_PROT(row):\n",
    "    return SeqRecord(Seq(row['protein']), id=row['header'][:-4], description=\"\")\n",
    "def create_seqrecord_DNA(row):\n",
    "    return SeqRecord(Seq(row['seq']), id=row['header'], description=\"\")\n",
    "\n"
   ]
  },
  {
   "cell_type": "code",
   "execution_count": 10,
   "metadata": {},
   "outputs": [
    {
     "name": "stdout",
     "output_type": "stream",
     "text": [
      "mouse\n",
      "Reading all the candidate ORF sequences\n",
      "mouse_liver_ribo_1_r1\n"
     ]
    },
    {
     "name": "stderr",
     "output_type": "stream",
     "text": [
      "/tmp/ipykernel_2425208/2447809235.py:21: SettingWithCopyWarning: \n",
      "A value is trying to be set on a copy of a slice from a DataFrame.\n",
      "Try using .loc[row_indexer,col_indexer] = value instead\n",
      "\n",
      "See the caveats in the documentation: https://pandas.pydata.org/pandas-docs/stable/user_guide/indexing.html#returning-a-view-versus-a-copy\n",
      "  repre_fasta['header'] = s + \"_\" +repre_fasta['header']\n"
     ]
    },
    {
     "name": "stdout",
     "output_type": "stream",
     "text": [
      "Translating to protein\n",
      "Saving the original DNA ORF\n",
      "Getting the non-redundant\n",
      "mouse_liver_ribo_2_r1\n"
     ]
    },
    {
     "name": "stderr",
     "output_type": "stream",
     "text": [
      "/tmp/ipykernel_2425208/2447809235.py:21: SettingWithCopyWarning: \n",
      "A value is trying to be set on a copy of a slice from a DataFrame.\n",
      "Try using .loc[row_indexer,col_indexer] = value instead\n",
      "\n",
      "See the caveats in the documentation: https://pandas.pydata.org/pandas-docs/stable/user_guide/indexing.html#returning-a-view-versus-a-copy\n",
      "  repre_fasta['header'] = s + \"_\" +repre_fasta['header']\n"
     ]
    },
    {
     "name": "stdout",
     "output_type": "stream",
     "text": [
      "Translating to protein\n",
      "Saving the original DNA ORF\n",
      "Getting the non-redundant\n",
      "mouse_roundSpermatids_ribo_1_r1\n"
     ]
    },
    {
     "name": "stderr",
     "output_type": "stream",
     "text": [
      "/tmp/ipykernel_2425208/2447809235.py:21: SettingWithCopyWarning: \n",
      "A value is trying to be set on a copy of a slice from a DataFrame.\n",
      "Try using .loc[row_indexer,col_indexer] = value instead\n",
      "\n",
      "See the caveats in the documentation: https://pandas.pydata.org/pandas-docs/stable/user_guide/indexing.html#returning-a-view-versus-a-copy\n",
      "  repre_fasta['header'] = s + \"_\" +repre_fasta['header']\n"
     ]
    },
    {
     "name": "stdout",
     "output_type": "stream",
     "text": [
      "Translating to protein\n",
      "Saving the original DNA ORF\n",
      "Getting the non-redundant\n",
      "mouse_liver_ribo_5_r1\n"
     ]
    },
    {
     "name": "stderr",
     "output_type": "stream",
     "text": [
      "/tmp/ipykernel_2425208/2447809235.py:21: SettingWithCopyWarning: \n",
      "A value is trying to be set on a copy of a slice from a DataFrame.\n",
      "Try using .loc[row_indexer,col_indexer] = value instead\n",
      "\n",
      "See the caveats in the documentation: https://pandas.pydata.org/pandas-docs/stable/user_guide/indexing.html#returning-a-view-versus-a-copy\n",
      "  repre_fasta['header'] = s + \"_\" +repre_fasta['header']\n"
     ]
    },
    {
     "name": "stdout",
     "output_type": "stream",
     "text": [
      "Translating to protein\n",
      "Saving the original DNA ORF\n",
      "Getting the non-redundant\n",
      "mouse_brain_ribo_1_r1\n"
     ]
    },
    {
     "name": "stderr",
     "output_type": "stream",
     "text": [
      "/tmp/ipykernel_2425208/2447809235.py:21: SettingWithCopyWarning: \n",
      "A value is trying to be set on a copy of a slice from a DataFrame.\n",
      "Try using .loc[row_indexer,col_indexer] = value instead\n",
      "\n",
      "See the caveats in the documentation: https://pandas.pydata.org/pandas-docs/stable/user_guide/indexing.html#returning-a-view-versus-a-copy\n",
      "  repre_fasta['header'] = s + \"_\" +repre_fasta['header']\n"
     ]
    },
    {
     "name": "stdout",
     "output_type": "stream",
     "text": [
      "Translating to protein\n",
      "Saving the original DNA ORF\n",
      "Getting the non-redundant\n",
      "mouse_brain_ribo_2_r1\n"
     ]
    },
    {
     "name": "stderr",
     "output_type": "stream",
     "text": [
      "/tmp/ipykernel_2425208/2447809235.py:21: SettingWithCopyWarning: \n",
      "A value is trying to be set on a copy of a slice from a DataFrame.\n",
      "Try using .loc[row_indexer,col_indexer] = value instead\n",
      "\n",
      "See the caveats in the documentation: https://pandas.pydata.org/pandas-docs/stable/user_guide/indexing.html#returning-a-view-versus-a-copy\n",
      "  repre_fasta['header'] = s + \"_\" +repre_fasta['header']\n"
     ]
    },
    {
     "name": "stdout",
     "output_type": "stream",
     "text": [
      "Translating to protein\n",
      "Saving the original DNA ORF\n",
      "Getting the non-redundant\n",
      "mouse_roundSpermatids_ribo_2_r1\n"
     ]
    },
    {
     "name": "stderr",
     "output_type": "stream",
     "text": [
      "/tmp/ipykernel_2425208/2447809235.py:21: SettingWithCopyWarning: \n",
      "A value is trying to be set on a copy of a slice from a DataFrame.\n",
      "Try using .loc[row_indexer,col_indexer] = value instead\n",
      "\n",
      "See the caveats in the documentation: https://pandas.pydata.org/pandas-docs/stable/user_guide/indexing.html#returning-a-view-versus-a-copy\n",
      "  repre_fasta['header'] = s + \"_\" +repre_fasta['header']\n"
     ]
    },
    {
     "name": "stdout",
     "output_type": "stream",
     "text": [
      "Translating to protein\n",
      "Saving the original DNA ORF\n",
      "Getting the non-redundant\n",
      "mouse_spermatozoa_ribo_1_r1\n"
     ]
    },
    {
     "name": "stderr",
     "output_type": "stream",
     "text": [
      "/tmp/ipykernel_2425208/2447809235.py:21: SettingWithCopyWarning: \n",
      "A value is trying to be set on a copy of a slice from a DataFrame.\n",
      "Try using .loc[row_indexer,col_indexer] = value instead\n",
      "\n",
      "See the caveats in the documentation: https://pandas.pydata.org/pandas-docs/stable/user_guide/indexing.html#returning-a-view-versus-a-copy\n",
      "  repre_fasta['header'] = s + \"_\" +repre_fasta['header']\n"
     ]
    },
    {
     "name": "stdout",
     "output_type": "stream",
     "text": [
      "Translating to protein\n",
      "Saving the original DNA ORF\n",
      "Getting the non-redundant\n",
      "mouse_testis_ribo_3_r1\n"
     ]
    },
    {
     "name": "stderr",
     "output_type": "stream",
     "text": [
      "/tmp/ipykernel_2425208/2447809235.py:21: SettingWithCopyWarning: \n",
      "A value is trying to be set on a copy of a slice from a DataFrame.\n",
      "Try using .loc[row_indexer,col_indexer] = value instead\n",
      "\n",
      "See the caveats in the documentation: https://pandas.pydata.org/pandas-docs/stable/user_guide/indexing.html#returning-a-view-versus-a-copy\n",
      "  repre_fasta['header'] = s + \"_\" +repre_fasta['header']\n"
     ]
    },
    {
     "name": "stdout",
     "output_type": "stream",
     "text": [
      "Translating to protein\n",
      "Saving the original DNA ORF\n",
      "Getting the non-redundant\n",
      "mouse_testis_ribo_1_r1\n"
     ]
    },
    {
     "name": "stderr",
     "output_type": "stream",
     "text": [
      "/tmp/ipykernel_2425208/2447809235.py:21: SettingWithCopyWarning: \n",
      "A value is trying to be set on a copy of a slice from a DataFrame.\n",
      "Try using .loc[row_indexer,col_indexer] = value instead\n",
      "\n",
      "See the caveats in the documentation: https://pandas.pydata.org/pandas-docs/stable/user_guide/indexing.html#returning-a-view-versus-a-copy\n",
      "  repre_fasta['header'] = s + \"_\" +repre_fasta['header']\n"
     ]
    },
    {
     "name": "stdout",
     "output_type": "stream",
     "text": [
      "Translating to protein\n",
      "Saving the original DNA ORF\n",
      "Getting the non-redundant\n",
      "mouse_elongatingSpermatids_ribo_1_r1\n"
     ]
    },
    {
     "name": "stderr",
     "output_type": "stream",
     "text": [
      "/tmp/ipykernel_2425208/2447809235.py:21: SettingWithCopyWarning: \n",
      "A value is trying to be set on a copy of a slice from a DataFrame.\n",
      "Try using .loc[row_indexer,col_indexer] = value instead\n",
      "\n",
      "See the caveats in the documentation: https://pandas.pydata.org/pandas-docs/stable/user_guide/indexing.html#returning-a-view-versus-a-copy\n",
      "  repre_fasta['header'] = s + \"_\" +repre_fasta['header']\n"
     ]
    },
    {
     "name": "stdout",
     "output_type": "stream",
     "text": [
      "Translating to protein\n",
      "Saving the original DNA ORF\n",
      "Getting the non-redundant\n",
      "mouse_elongatingSpermatids_ribo_2_r1\n"
     ]
    },
    {
     "name": "stderr",
     "output_type": "stream",
     "text": [
      "/tmp/ipykernel_2425208/2447809235.py:21: SettingWithCopyWarning: \n",
      "A value is trying to be set on a copy of a slice from a DataFrame.\n",
      "Try using .loc[row_indexer,col_indexer] = value instead\n",
      "\n",
      "See the caveats in the documentation: https://pandas.pydata.org/pandas-docs/stable/user_guide/indexing.html#returning-a-view-versus-a-copy\n",
      "  repre_fasta['header'] = s + \"_\" +repre_fasta['header']\n"
     ]
    },
    {
     "name": "stdout",
     "output_type": "stream",
     "text": [
      "Translating to protein\n",
      "Saving the original DNA ORF\n",
      "Getting the non-redundant\n",
      "mouse_spermatocytes_ribo_2_r1\n"
     ]
    },
    {
     "name": "stderr",
     "output_type": "stream",
     "text": [
      "/tmp/ipykernel_2425208/2447809235.py:21: SettingWithCopyWarning: \n",
      "A value is trying to be set on a copy of a slice from a DataFrame.\n",
      "Try using .loc[row_indexer,col_indexer] = value instead\n",
      "\n",
      "See the caveats in the documentation: https://pandas.pydata.org/pandas-docs/stable/user_guide/indexing.html#returning-a-view-versus-a-copy\n",
      "  repre_fasta['header'] = s + \"_\" +repre_fasta['header']\n"
     ]
    },
    {
     "name": "stdout",
     "output_type": "stream",
     "text": [
      "Translating to protein\n",
      "Saving the original DNA ORF\n",
      "Getting the non-redundant\n",
      "mouse_testis_ribo_2_r1\n"
     ]
    },
    {
     "name": "stderr",
     "output_type": "stream",
     "text": [
      "/tmp/ipykernel_2425208/2447809235.py:21: SettingWithCopyWarning: \n",
      "A value is trying to be set on a copy of a slice from a DataFrame.\n",
      "Try using .loc[row_indexer,col_indexer] = value instead\n",
      "\n",
      "See the caveats in the documentation: https://pandas.pydata.org/pandas-docs/stable/user_guide/indexing.html#returning-a-view-versus-a-copy\n",
      "  repre_fasta['header'] = s + \"_\" +repre_fasta['header']\n"
     ]
    },
    {
     "name": "stdout",
     "output_type": "stream",
     "text": [
      "Translating to protein\n",
      "Saving the original DNA ORF\n",
      "Getting the non-redundant\n",
      "mouse_brain_ribo_3_r1\n"
     ]
    },
    {
     "name": "stderr",
     "output_type": "stream",
     "text": [
      "/tmp/ipykernel_2425208/2447809235.py:21: SettingWithCopyWarning: \n",
      "A value is trying to be set on a copy of a slice from a DataFrame.\n",
      "Try using .loc[row_indexer,col_indexer] = value instead\n",
      "\n",
      "See the caveats in the documentation: https://pandas.pydata.org/pandas-docs/stable/user_guide/indexing.html#returning-a-view-versus-a-copy\n",
      "  repre_fasta['header'] = s + \"_\" +repre_fasta['header']\n"
     ]
    },
    {
     "name": "stdout",
     "output_type": "stream",
     "text": [
      "Translating to protein\n",
      "Saving the original DNA ORF\n",
      "Getting the non-redundant\n",
      "mouse_spermatocytes_ribo_1_r1\n"
     ]
    },
    {
     "name": "stderr",
     "output_type": "stream",
     "text": [
      "/tmp/ipykernel_2425208/2447809235.py:21: SettingWithCopyWarning: \n",
      "A value is trying to be set on a copy of a slice from a DataFrame.\n",
      "Try using .loc[row_indexer,col_indexer] = value instead\n",
      "\n",
      "See the caveats in the documentation: https://pandas.pydata.org/pandas-docs/stable/user_guide/indexing.html#returning-a-view-versus-a-copy\n",
      "  repre_fasta['header'] = s + \"_\" +repre_fasta['header']\n"
     ]
    },
    {
     "name": "stdout",
     "output_type": "stream",
     "text": [
      "Translating to protein\n",
      "Saving the original DNA ORF\n",
      "Getting the non-redundant\n",
      "mouse_spermatozoa_ribo_2_r1\n"
     ]
    },
    {
     "name": "stderr",
     "output_type": "stream",
     "text": [
      "/tmp/ipykernel_2425208/2447809235.py:21: SettingWithCopyWarning: \n",
      "A value is trying to be set on a copy of a slice from a DataFrame.\n",
      "Try using .loc[row_indexer,col_indexer] = value instead\n",
      "\n",
      "See the caveats in the documentation: https://pandas.pydata.org/pandas-docs/stable/user_guide/indexing.html#returning-a-view-versus-a-copy\n",
      "  repre_fasta['header'] = s + \"_\" +repre_fasta['header']\n"
     ]
    },
    {
     "name": "stdout",
     "output_type": "stream",
     "text": [
      "Translating to protein\n",
      "Saving the original DNA ORF\n",
      "Getting the non-redundant\n",
      "mouse_liver_ribo_4_r1\n"
     ]
    },
    {
     "name": "stderr",
     "output_type": "stream",
     "text": [
      "/tmp/ipykernel_2425208/2447809235.py:21: SettingWithCopyWarning: \n",
      "A value is trying to be set on a copy of a slice from a DataFrame.\n",
      "Try using .loc[row_indexer,col_indexer] = value instead\n",
      "\n",
      "See the caveats in the documentation: https://pandas.pydata.org/pandas-docs/stable/user_guide/indexing.html#returning-a-view-versus-a-copy\n",
      "  repre_fasta['header'] = s + \"_\" +repre_fasta['header']\n"
     ]
    },
    {
     "name": "stdout",
     "output_type": "stream",
     "text": [
      "Translating to protein\n",
      "Saving the original DNA ORF\n",
      "Getting the non-redundant\n",
      "mouse_liver_ribo_3_r1\n"
     ]
    },
    {
     "name": "stderr",
     "output_type": "stream",
     "text": [
      "/tmp/ipykernel_2425208/2447809235.py:21: SettingWithCopyWarning: \n",
      "A value is trying to be set on a copy of a slice from a DataFrame.\n",
      "Try using .loc[row_indexer,col_indexer] = value instead\n",
      "\n",
      "See the caveats in the documentation: https://pandas.pydata.org/pandas-docs/stable/user_guide/indexing.html#returning-a-view-versus-a-copy\n",
      "  repre_fasta['header'] = s + \"_\" +repre_fasta['header']\n"
     ]
    },
    {
     "name": "stdout",
     "output_type": "stream",
     "text": [
      "Translating to protein\n",
      "Saving the original DNA ORF\n",
      "Getting the non-redundant\n",
      "macaca\n",
      "Reading all the candidate ORF sequences\n",
      "macaque_liver_ribo_2_r1\n"
     ]
    },
    {
     "name": "stderr",
     "output_type": "stream",
     "text": [
      "/tmp/ipykernel_2425208/2447809235.py:21: SettingWithCopyWarning: \n",
      "A value is trying to be set on a copy of a slice from a DataFrame.\n",
      "Try using .loc[row_indexer,col_indexer] = value instead\n",
      "\n",
      "See the caveats in the documentation: https://pandas.pydata.org/pandas-docs/stable/user_guide/indexing.html#returning-a-view-versus-a-copy\n",
      "  repre_fasta['header'] = s + \"_\" +repre_fasta['header']\n"
     ]
    },
    {
     "name": "stdout",
     "output_type": "stream",
     "text": [
      "Translating to protein\n",
      "Saving the original DNA ORF\n",
      "Getting the non-redundant\n",
      "macaque_liver_ribo_3_r1\n"
     ]
    },
    {
     "name": "stderr",
     "output_type": "stream",
     "text": [
      "/tmp/ipykernel_2425208/2447809235.py:21: SettingWithCopyWarning: \n",
      "A value is trying to be set on a copy of a slice from a DataFrame.\n",
      "Try using .loc[row_indexer,col_indexer] = value instead\n",
      "\n",
      "See the caveats in the documentation: https://pandas.pydata.org/pandas-docs/stable/user_guide/indexing.html#returning-a-view-versus-a-copy\n",
      "  repre_fasta['header'] = s + \"_\" +repre_fasta['header']\n"
     ]
    },
    {
     "name": "stdout",
     "output_type": "stream",
     "text": [
      "Translating to protein\n",
      "Saving the original DNA ORF\n",
      "Getting the non-redundant\n",
      "macaque_liver_ribo_1_r1\n"
     ]
    },
    {
     "name": "stderr",
     "output_type": "stream",
     "text": [
      "/tmp/ipykernel_2425208/2447809235.py:21: SettingWithCopyWarning: \n",
      "A value is trying to be set on a copy of a slice from a DataFrame.\n",
      "Try using .loc[row_indexer,col_indexer] = value instead\n",
      "\n",
      "See the caveats in the documentation: https://pandas.pydata.org/pandas-docs/stable/user_guide/indexing.html#returning-a-view-versus-a-copy\n",
      "  repre_fasta['header'] = s + \"_\" +repre_fasta['header']\n"
     ]
    },
    {
     "name": "stdout",
     "output_type": "stream",
     "text": [
      "Translating to protein\n",
      "Saving the original DNA ORF\n",
      "Getting the non-redundant\n",
      "macaque_testis_ribo_2_r1\n"
     ]
    },
    {
     "name": "stderr",
     "output_type": "stream",
     "text": [
      "/tmp/ipykernel_2425208/2447809235.py:21: SettingWithCopyWarning: \n",
      "A value is trying to be set on a copy of a slice from a DataFrame.\n",
      "Try using .loc[row_indexer,col_indexer] = value instead\n",
      "\n",
      "See the caveats in the documentation: https://pandas.pydata.org/pandas-docs/stable/user_guide/indexing.html#returning-a-view-versus-a-copy\n",
      "  repre_fasta['header'] = s + \"_\" +repre_fasta['header']\n"
     ]
    },
    {
     "name": "stdout",
     "output_type": "stream",
     "text": [
      "Translating to protein\n",
      "Saving the original DNA ORF\n",
      "Getting the non-redundant\n",
      "macaque_brain_ribo_3_r1\n"
     ]
    },
    {
     "name": "stderr",
     "output_type": "stream",
     "text": [
      "/tmp/ipykernel_2425208/2447809235.py:21: SettingWithCopyWarning: \n",
      "A value is trying to be set on a copy of a slice from a DataFrame.\n",
      "Try using .loc[row_indexer,col_indexer] = value instead\n",
      "\n",
      "See the caveats in the documentation: https://pandas.pydata.org/pandas-docs/stable/user_guide/indexing.html#returning-a-view-versus-a-copy\n",
      "  repre_fasta['header'] = s + \"_\" +repre_fasta['header']\n"
     ]
    },
    {
     "name": "stdout",
     "output_type": "stream",
     "text": [
      "Translating to protein\n",
      "Saving the original DNA ORF\n",
      "Getting the non-redundant\n",
      "macaque_testis_ribo_1_r1\n"
     ]
    },
    {
     "name": "stderr",
     "output_type": "stream",
     "text": [
      "/tmp/ipykernel_2425208/2447809235.py:21: SettingWithCopyWarning: \n",
      "A value is trying to be set on a copy of a slice from a DataFrame.\n",
      "Try using .loc[row_indexer,col_indexer] = value instead\n",
      "\n",
      "See the caveats in the documentation: https://pandas.pydata.org/pandas-docs/stable/user_guide/indexing.html#returning-a-view-versus-a-copy\n",
      "  repre_fasta['header'] = s + \"_\" +repre_fasta['header']\n"
     ]
    },
    {
     "name": "stdout",
     "output_type": "stream",
     "text": [
      "Translating to protein\n",
      "Saving the original DNA ORF\n",
      "Getting the non-redundant\n",
      "macaque_testis_ribo_3_r1\n"
     ]
    },
    {
     "name": "stderr",
     "output_type": "stream",
     "text": [
      "/tmp/ipykernel_2425208/2447809235.py:21: SettingWithCopyWarning: \n",
      "A value is trying to be set on a copy of a slice from a DataFrame.\n",
      "Try using .loc[row_indexer,col_indexer] = value instead\n",
      "\n",
      "See the caveats in the documentation: https://pandas.pydata.org/pandas-docs/stable/user_guide/indexing.html#returning-a-view-versus-a-copy\n",
      "  repre_fasta['header'] = s + \"_\" +repre_fasta['header']\n"
     ]
    },
    {
     "name": "stdout",
     "output_type": "stream",
     "text": [
      "Translating to protein\n",
      "Saving the original DNA ORF\n",
      "Getting the non-redundant\n",
      "macaque_brain_ribo_1_r1\n"
     ]
    },
    {
     "name": "stderr",
     "output_type": "stream",
     "text": [
      "/tmp/ipykernel_2425208/2447809235.py:21: SettingWithCopyWarning: \n",
      "A value is trying to be set on a copy of a slice from a DataFrame.\n",
      "Try using .loc[row_indexer,col_indexer] = value instead\n",
      "\n",
      "See the caveats in the documentation: https://pandas.pydata.org/pandas-docs/stable/user_guide/indexing.html#returning-a-view-versus-a-copy\n",
      "  repre_fasta['header'] = s + \"_\" +repre_fasta['header']\n"
     ]
    },
    {
     "name": "stdout",
     "output_type": "stream",
     "text": [
      "Translating to protein\n",
      "Saving the original DNA ORF\n",
      "Getting the non-redundant\n",
      "macaque_brain_ribo_2_r1\n"
     ]
    },
    {
     "name": "stderr",
     "output_type": "stream",
     "text": [
      "/tmp/ipykernel_2425208/2447809235.py:21: SettingWithCopyWarning: \n",
      "A value is trying to be set on a copy of a slice from a DataFrame.\n",
      "Try using .loc[row_indexer,col_indexer] = value instead\n",
      "\n",
      "See the caveats in the documentation: https://pandas.pydata.org/pandas-docs/stable/user_guide/indexing.html#returning-a-view-versus-a-copy\n",
      "  repre_fasta['header'] = s + \"_\" +repre_fasta['header']\n"
     ]
    },
    {
     "name": "stdout",
     "output_type": "stream",
     "text": [
      "Translating to protein\n",
      "Saving the original DNA ORF\n",
      "Getting the non-redundant\n",
      "platypus\n",
      "Reading all the candidate ORF sequences\n",
      "platypus_testis_ribo_3_r1\n"
     ]
    },
    {
     "name": "stderr",
     "output_type": "stream",
     "text": [
      "/tmp/ipykernel_2425208/2447809235.py:21: SettingWithCopyWarning: \n",
      "A value is trying to be set on a copy of a slice from a DataFrame.\n",
      "Try using .loc[row_indexer,col_indexer] = value instead\n",
      "\n",
      "See the caveats in the documentation: https://pandas.pydata.org/pandas-docs/stable/user_guide/indexing.html#returning-a-view-versus-a-copy\n",
      "  repre_fasta['header'] = s + \"_\" +repre_fasta['header']\n"
     ]
    },
    {
     "name": "stdout",
     "output_type": "stream",
     "text": [
      "Translating to protein\n",
      "Saving the original DNA ORF\n",
      "Getting the non-redundant\n",
      "platypus_brain_ribo_3_r1\n"
     ]
    },
    {
     "name": "stderr",
     "output_type": "stream",
     "text": [
      "/tmp/ipykernel_2425208/2447809235.py:21: SettingWithCopyWarning: \n",
      "A value is trying to be set on a copy of a slice from a DataFrame.\n",
      "Try using .loc[row_indexer,col_indexer] = value instead\n",
      "\n",
      "See the caveats in the documentation: https://pandas.pydata.org/pandas-docs/stable/user_guide/indexing.html#returning-a-view-versus-a-copy\n",
      "  repre_fasta['header'] = s + \"_\" +repre_fasta['header']\n"
     ]
    },
    {
     "name": "stdout",
     "output_type": "stream",
     "text": [
      "Translating to protein\n",
      "Saving the original DNA ORF\n",
      "Getting the non-redundant\n",
      "platypus_brain_ribo_2_r1\n"
     ]
    },
    {
     "name": "stderr",
     "output_type": "stream",
     "text": [
      "/tmp/ipykernel_2425208/2447809235.py:21: SettingWithCopyWarning: \n",
      "A value is trying to be set on a copy of a slice from a DataFrame.\n",
      "Try using .loc[row_indexer,col_indexer] = value instead\n",
      "\n",
      "See the caveats in the documentation: https://pandas.pydata.org/pandas-docs/stable/user_guide/indexing.html#returning-a-view-versus-a-copy\n",
      "  repre_fasta['header'] = s + \"_\" +repre_fasta['header']\n"
     ]
    },
    {
     "name": "stdout",
     "output_type": "stream",
     "text": [
      "Translating to protein\n",
      "Saving the original DNA ORF\n",
      "Getting the non-redundant\n",
      "platypus_liver_ribo_3_r1\n"
     ]
    },
    {
     "name": "stderr",
     "output_type": "stream",
     "text": [
      "/tmp/ipykernel_2425208/2447809235.py:21: SettingWithCopyWarning: \n",
      "A value is trying to be set on a copy of a slice from a DataFrame.\n",
      "Try using .loc[row_indexer,col_indexer] = value instead\n",
      "\n",
      "See the caveats in the documentation: https://pandas.pydata.org/pandas-docs/stable/user_guide/indexing.html#returning-a-view-versus-a-copy\n",
      "  repre_fasta['header'] = s + \"_\" +repre_fasta['header']\n"
     ]
    },
    {
     "name": "stdout",
     "output_type": "stream",
     "text": [
      "Translating to protein\n",
      "Saving the original DNA ORF\n",
      "Getting the non-redundant\n",
      "platypus_testis_ribo_2_r1\n"
     ]
    },
    {
     "name": "stderr",
     "output_type": "stream",
     "text": [
      "/tmp/ipykernel_2425208/2447809235.py:21: SettingWithCopyWarning: \n",
      "A value is trying to be set on a copy of a slice from a DataFrame.\n",
      "Try using .loc[row_indexer,col_indexer] = value instead\n",
      "\n",
      "See the caveats in the documentation: https://pandas.pydata.org/pandas-docs/stable/user_guide/indexing.html#returning-a-view-versus-a-copy\n",
      "  repre_fasta['header'] = s + \"_\" +repre_fasta['header']\n"
     ]
    },
    {
     "name": "stdout",
     "output_type": "stream",
     "text": [
      "Translating to protein\n",
      "Saving the original DNA ORF\n",
      "Getting the non-redundant\n",
      "platypus_liver_ribo_1_r1\n"
     ]
    },
    {
     "name": "stderr",
     "output_type": "stream",
     "text": [
      "/tmp/ipykernel_2425208/2447809235.py:21: SettingWithCopyWarning: \n",
      "A value is trying to be set on a copy of a slice from a DataFrame.\n",
      "Try using .loc[row_indexer,col_indexer] = value instead\n",
      "\n",
      "See the caveats in the documentation: https://pandas.pydata.org/pandas-docs/stable/user_guide/indexing.html#returning-a-view-versus-a-copy\n",
      "  repre_fasta['header'] = s + \"_\" +repre_fasta['header']\n"
     ]
    },
    {
     "name": "stdout",
     "output_type": "stream",
     "text": [
      "Translating to protein\n",
      "Saving the original DNA ORF\n",
      "Getting the non-redundant\n",
      "platypus_liver_ribo_2_r1\n"
     ]
    },
    {
     "name": "stderr",
     "output_type": "stream",
     "text": [
      "/tmp/ipykernel_2425208/2447809235.py:21: SettingWithCopyWarning: \n",
      "A value is trying to be set on a copy of a slice from a DataFrame.\n",
      "Try using .loc[row_indexer,col_indexer] = value instead\n",
      "\n",
      "See the caveats in the documentation: https://pandas.pydata.org/pandas-docs/stable/user_guide/indexing.html#returning-a-view-versus-a-copy\n",
      "  repre_fasta['header'] = s + \"_\" +repre_fasta['header']\n"
     ]
    },
    {
     "name": "stdout",
     "output_type": "stream",
     "text": [
      "Translating to protein\n",
      "Saving the original DNA ORF\n",
      "Getting the non-redundant\n",
      "platypus_brain_ribo_1_r1\n"
     ]
    },
    {
     "name": "stderr",
     "output_type": "stream",
     "text": [
      "/tmp/ipykernel_2425208/2447809235.py:21: SettingWithCopyWarning: \n",
      "A value is trying to be set on a copy of a slice from a DataFrame.\n",
      "Try using .loc[row_indexer,col_indexer] = value instead\n",
      "\n",
      "See the caveats in the documentation: https://pandas.pydata.org/pandas-docs/stable/user_guide/indexing.html#returning-a-view-versus-a-copy\n",
      "  repre_fasta['header'] = s + \"_\" +repre_fasta['header']\n"
     ]
    },
    {
     "name": "stdout",
     "output_type": "stream",
     "text": [
      "Translating to protein\n",
      "Saving the original DNA ORF\n",
      "Getting the non-redundant\n",
      "platypus_testis_ribo_1_r1\n"
     ]
    },
    {
     "name": "stderr",
     "output_type": "stream",
     "text": [
      "/tmp/ipykernel_2425208/2447809235.py:21: SettingWithCopyWarning: \n",
      "A value is trying to be set on a copy of a slice from a DataFrame.\n",
      "Try using .loc[row_indexer,col_indexer] = value instead\n",
      "\n",
      "See the caveats in the documentation: https://pandas.pydata.org/pandas-docs/stable/user_guide/indexing.html#returning-a-view-versus-a-copy\n",
      "  repre_fasta['header'] = s + \"_\" +repre_fasta['header']\n"
     ]
    },
    {
     "name": "stdout",
     "output_type": "stream",
     "text": [
      "Translating to protein\n",
      "Saving the original DNA ORF\n",
      "Getting the non-redundant\n",
      "chicken\n",
      "Reading all the candidate ORF sequences\n",
      "chicken_brain_ribo_2_r1\n"
     ]
    },
    {
     "name": "stderr",
     "output_type": "stream",
     "text": [
      "/tmp/ipykernel_2425208/2447809235.py:21: SettingWithCopyWarning: \n",
      "A value is trying to be set on a copy of a slice from a DataFrame.\n",
      "Try using .loc[row_indexer,col_indexer] = value instead\n",
      "\n",
      "See the caveats in the documentation: https://pandas.pydata.org/pandas-docs/stable/user_guide/indexing.html#returning-a-view-versus-a-copy\n",
      "  repre_fasta['header'] = s + \"_\" +repre_fasta['header']\n"
     ]
    },
    {
     "name": "stdout",
     "output_type": "stream",
     "text": [
      "Translating to protein\n",
      "Saving the original DNA ORF\n",
      "Getting the non-redundant\n",
      "chicken_brain_ribo_1_r1\n"
     ]
    },
    {
     "name": "stderr",
     "output_type": "stream",
     "text": [
      "/tmp/ipykernel_2425208/2447809235.py:21: SettingWithCopyWarning: \n",
      "A value is trying to be set on a copy of a slice from a DataFrame.\n",
      "Try using .loc[row_indexer,col_indexer] = value instead\n",
      "\n",
      "See the caveats in the documentation: https://pandas.pydata.org/pandas-docs/stable/user_guide/indexing.html#returning-a-view-versus-a-copy\n",
      "  repre_fasta['header'] = s + \"_\" +repre_fasta['header']\n"
     ]
    },
    {
     "name": "stdout",
     "output_type": "stream",
     "text": [
      "Translating to protein\n",
      "Saving the original DNA ORF\n",
      "Getting the non-redundant\n",
      "chicken_liver_ribo_3_r1\n"
     ]
    },
    {
     "name": "stderr",
     "output_type": "stream",
     "text": [
      "/tmp/ipykernel_2425208/2447809235.py:21: SettingWithCopyWarning: \n",
      "A value is trying to be set on a copy of a slice from a DataFrame.\n",
      "Try using .loc[row_indexer,col_indexer] = value instead\n",
      "\n",
      "See the caveats in the documentation: https://pandas.pydata.org/pandas-docs/stable/user_guide/indexing.html#returning-a-view-versus-a-copy\n",
      "  repre_fasta['header'] = s + \"_\" +repre_fasta['header']\n"
     ]
    },
    {
     "name": "stdout",
     "output_type": "stream",
     "text": [
      "Translating to protein\n",
      "Saving the original DNA ORF\n",
      "Getting the non-redundant\n",
      "chicken_testis_ribo_1_r1\n"
     ]
    },
    {
     "name": "stderr",
     "output_type": "stream",
     "text": [
      "/tmp/ipykernel_2425208/2447809235.py:21: SettingWithCopyWarning: \n",
      "A value is trying to be set on a copy of a slice from a DataFrame.\n",
      "Try using .loc[row_indexer,col_indexer] = value instead\n",
      "\n",
      "See the caveats in the documentation: https://pandas.pydata.org/pandas-docs/stable/user_guide/indexing.html#returning-a-view-versus-a-copy\n",
      "  repre_fasta['header'] = s + \"_\" +repre_fasta['header']\n"
     ]
    },
    {
     "name": "stdout",
     "output_type": "stream",
     "text": [
      "Translating to protein\n",
      "Saving the original DNA ORF\n",
      "Getting the non-redundant\n",
      "chicken_liver_ribo_2_r1\n"
     ]
    },
    {
     "name": "stderr",
     "output_type": "stream",
     "text": [
      "/tmp/ipykernel_2425208/2447809235.py:21: SettingWithCopyWarning: \n",
      "A value is trying to be set on a copy of a slice from a DataFrame.\n",
      "Try using .loc[row_indexer,col_indexer] = value instead\n",
      "\n",
      "See the caveats in the documentation: https://pandas.pydata.org/pandas-docs/stable/user_guide/indexing.html#returning-a-view-versus-a-copy\n",
      "  repre_fasta['header'] = s + \"_\" +repre_fasta['header']\n"
     ]
    },
    {
     "name": "stdout",
     "output_type": "stream",
     "text": [
      "Translating to protein\n",
      "Saving the original DNA ORF\n",
      "Getting the non-redundant\n",
      "chicken_testis_ribo_3_r1\n"
     ]
    },
    {
     "name": "stderr",
     "output_type": "stream",
     "text": [
      "/tmp/ipykernel_2425208/2447809235.py:21: SettingWithCopyWarning: \n",
      "A value is trying to be set on a copy of a slice from a DataFrame.\n",
      "Try using .loc[row_indexer,col_indexer] = value instead\n",
      "\n",
      "See the caveats in the documentation: https://pandas.pydata.org/pandas-docs/stable/user_guide/indexing.html#returning-a-view-versus-a-copy\n",
      "  repre_fasta['header'] = s + \"_\" +repre_fasta['header']\n"
     ]
    },
    {
     "name": "stdout",
     "output_type": "stream",
     "text": [
      "Translating to protein\n",
      "Saving the original DNA ORF\n",
      "Getting the non-redundant\n",
      "chicken_testis_ribo_2_r1\n"
     ]
    },
    {
     "name": "stderr",
     "output_type": "stream",
     "text": [
      "/tmp/ipykernel_2425208/2447809235.py:21: SettingWithCopyWarning: \n",
      "A value is trying to be set on a copy of a slice from a DataFrame.\n",
      "Try using .loc[row_indexer,col_indexer] = value instead\n",
      "\n",
      "See the caveats in the documentation: https://pandas.pydata.org/pandas-docs/stable/user_guide/indexing.html#returning-a-view-versus-a-copy\n",
      "  repre_fasta['header'] = s + \"_\" +repre_fasta['header']\n"
     ]
    },
    {
     "name": "stdout",
     "output_type": "stream",
     "text": [
      "Translating to protein\n",
      "Saving the original DNA ORF\n",
      "Getting the non-redundant\n",
      "chicken_liver_ribo_1_r1\n"
     ]
    },
    {
     "name": "stderr",
     "output_type": "stream",
     "text": [
      "/tmp/ipykernel_2425208/2447809235.py:21: SettingWithCopyWarning: \n",
      "A value is trying to be set on a copy of a slice from a DataFrame.\n",
      "Try using .loc[row_indexer,col_indexer] = value instead\n",
      "\n",
      "See the caveats in the documentation: https://pandas.pydata.org/pandas-docs/stable/user_guide/indexing.html#returning-a-view-versus-a-copy\n",
      "  repre_fasta['header'] = s + \"_\" +repre_fasta['header']\n"
     ]
    },
    {
     "name": "stdout",
     "output_type": "stream",
     "text": [
      "Translating to protein\n",
      "Saving the original DNA ORF\n",
      "Getting the non-redundant\n",
      "chicken_liver_ribo_4_r1\n"
     ]
    },
    {
     "name": "stderr",
     "output_type": "stream",
     "text": [
      "/tmp/ipykernel_2425208/2447809235.py:21: SettingWithCopyWarning: \n",
      "A value is trying to be set on a copy of a slice from a DataFrame.\n",
      "Try using .loc[row_indexer,col_indexer] = value instead\n",
      "\n",
      "See the caveats in the documentation: https://pandas.pydata.org/pandas-docs/stable/user_guide/indexing.html#returning-a-view-versus-a-copy\n",
      "  repre_fasta['header'] = s + \"_\" +repre_fasta['header']\n"
     ]
    },
    {
     "name": "stdout",
     "output_type": "stream",
     "text": [
      "Translating to protein\n",
      "Saving the original DNA ORF\n",
      "Getting the non-redundant\n",
      "chicken_liver_ribo_5_r1\n"
     ]
    },
    {
     "name": "stderr",
     "output_type": "stream",
     "text": [
      "/tmp/ipykernel_2425208/2447809235.py:21: SettingWithCopyWarning: \n",
      "A value is trying to be set on a copy of a slice from a DataFrame.\n",
      "Try using .loc[row_indexer,col_indexer] = value instead\n",
      "\n",
      "See the caveats in the documentation: https://pandas.pydata.org/pandas-docs/stable/user_guide/indexing.html#returning-a-view-versus-a-copy\n",
      "  repre_fasta['header'] = s + \"_\" +repre_fasta['header']\n"
     ]
    },
    {
     "name": "stdout",
     "output_type": "stream",
     "text": [
      "Translating to protein\n",
      "Saving the original DNA ORF\n",
      "Getting the non-redundant\n",
      "chicken_brain_ribo_3_r1\n"
     ]
    },
    {
     "name": "stderr",
     "output_type": "stream",
     "text": [
      "/tmp/ipykernel_2425208/2447809235.py:21: SettingWithCopyWarning: \n",
      "A value is trying to be set on a copy of a slice from a DataFrame.\n",
      "Try using .loc[row_indexer,col_indexer] = value instead\n",
      "\n",
      "See the caveats in the documentation: https://pandas.pydata.org/pandas-docs/stable/user_guide/indexing.html#returning-a-view-versus-a-copy\n",
      "  repre_fasta['header'] = s + \"_\" +repre_fasta['header']\n"
     ]
    },
    {
     "name": "stdout",
     "output_type": "stream",
     "text": [
      "Translating to protein\n",
      "Saving the original DNA ORF\n",
      "Getting the non-redundant\n",
      "opossum\n",
      "Reading all the candidate ORF sequences\n"
     ]
    },
    {
     "ename": "OSError",
     "evalue": "[Errno 40] Too many levels of symbolic links: '/users/genomics/marta/TestisProject_SaraRazquin/with_TranscriptomeReconstruction/opossum/RiboSeq/RiboQC_RiboNovel/Annotation/candidateORF.fa'",
     "output_type": "error",
     "traceback": [
      "\u001b[0;31m---------------------------------------------------------------------------\u001b[0m",
      "\u001b[0;31mOSError\u001b[0m                                   Traceback (most recent call last)",
      "Cell \u001b[0;32mIn[10], line 8\u001b[0m\n\u001b[1;32m      6\u001b[0m \u001b[39m## get all candidates\u001b[39;00m\n\u001b[1;32m      7\u001b[0m \u001b[39mprint\u001b[39m(\u001b[39m\"\u001b[39m\u001b[39mReading all the candidate ORF sequences\u001b[39m\u001b[39m\"\u001b[39m)\n\u001b[0;32m----> 8\u001b[0m df \u001b[39m=\u001b[39m pd\u001b[39m.\u001b[39;49mread_csv(os\u001b[39m.\u001b[39;49mpath\u001b[39m.\u001b[39;49mjoin(riboseq_dir,\u001b[39m\"\u001b[39;49m\u001b[39mAnnotation/candidateORF.fa\u001b[39;49m\u001b[39m\"\u001b[39;49m), header\u001b[39m=\u001b[39;49m\u001b[39mNone\u001b[39;49;00m, sep\u001b[39m=\u001b[39;49m\u001b[39m\"\u001b[39;49m\u001b[39m\\t\u001b[39;49;00m\u001b[39m\"\u001b[39;49m)\n\u001b[1;32m      9\u001b[0m \u001b[39m## convert to df\u001b[39;00m\n\u001b[1;32m     10\u001b[0m candidates_fasta \u001b[39m=\u001b[39m pd\u001b[39m.\u001b[39mDataFrame({\u001b[39m'\u001b[39m\u001b[39mheader\u001b[39m\u001b[39m'\u001b[39m:df[\u001b[39m0\u001b[39m]\u001b[39m.\u001b[39miloc[::\u001b[39m2\u001b[39m]\u001b[39m.\u001b[39mvalues, \u001b[39m'\u001b[39m\u001b[39mseq\u001b[39m\u001b[39m'\u001b[39m:df[\u001b[39m0\u001b[39m]\u001b[39m.\u001b[39miloc[\u001b[39m1\u001b[39m::\u001b[39m2\u001b[39m]\u001b[39m.\u001b[39mvalues})\n",
      "File \u001b[0;32m~/.local/lib/python3.8/site-packages/pandas/io/parsers/readers.py:912\u001b[0m, in \u001b[0;36mread_csv\u001b[0;34m(filepath_or_buffer, sep, delimiter, header, names, index_col, usecols, dtype, engine, converters, true_values, false_values, skipinitialspace, skiprows, skipfooter, nrows, na_values, keep_default_na, na_filter, verbose, skip_blank_lines, parse_dates, infer_datetime_format, keep_date_col, date_parser, date_format, dayfirst, cache_dates, iterator, chunksize, compression, thousands, decimal, lineterminator, quotechar, quoting, doublequote, escapechar, comment, encoding, encoding_errors, dialect, on_bad_lines, delim_whitespace, low_memory, memory_map, float_precision, storage_options, dtype_backend)\u001b[0m\n\u001b[1;32m    899\u001b[0m kwds_defaults \u001b[39m=\u001b[39m _refine_defaults_read(\n\u001b[1;32m    900\u001b[0m     dialect,\n\u001b[1;32m    901\u001b[0m     delimiter,\n\u001b[0;32m   (...)\u001b[0m\n\u001b[1;32m    908\u001b[0m     dtype_backend\u001b[39m=\u001b[39mdtype_backend,\n\u001b[1;32m    909\u001b[0m )\n\u001b[1;32m    910\u001b[0m kwds\u001b[39m.\u001b[39mupdate(kwds_defaults)\n\u001b[0;32m--> 912\u001b[0m \u001b[39mreturn\u001b[39;00m _read(filepath_or_buffer, kwds)\n",
      "File \u001b[0;32m~/.local/lib/python3.8/site-packages/pandas/io/parsers/readers.py:577\u001b[0m, in \u001b[0;36m_read\u001b[0;34m(filepath_or_buffer, kwds)\u001b[0m\n\u001b[1;32m    574\u001b[0m _validate_names(kwds\u001b[39m.\u001b[39mget(\u001b[39m\"\u001b[39m\u001b[39mnames\u001b[39m\u001b[39m\"\u001b[39m, \u001b[39mNone\u001b[39;00m))\n\u001b[1;32m    576\u001b[0m \u001b[39m# Create the parser.\u001b[39;00m\n\u001b[0;32m--> 577\u001b[0m parser \u001b[39m=\u001b[39m TextFileReader(filepath_or_buffer, \u001b[39m*\u001b[39;49m\u001b[39m*\u001b[39;49mkwds)\n\u001b[1;32m    579\u001b[0m \u001b[39mif\u001b[39;00m chunksize \u001b[39mor\u001b[39;00m iterator:\n\u001b[1;32m    580\u001b[0m     \u001b[39mreturn\u001b[39;00m parser\n",
      "File \u001b[0;32m~/.local/lib/python3.8/site-packages/pandas/io/parsers/readers.py:1407\u001b[0m, in \u001b[0;36mTextFileReader.__init__\u001b[0;34m(self, f, engine, **kwds)\u001b[0m\n\u001b[1;32m   1404\u001b[0m     \u001b[39mself\u001b[39m\u001b[39m.\u001b[39moptions[\u001b[39m\"\u001b[39m\u001b[39mhas_index_names\u001b[39m\u001b[39m\"\u001b[39m] \u001b[39m=\u001b[39m kwds[\u001b[39m\"\u001b[39m\u001b[39mhas_index_names\u001b[39m\u001b[39m\"\u001b[39m]\n\u001b[1;32m   1406\u001b[0m \u001b[39mself\u001b[39m\u001b[39m.\u001b[39mhandles: IOHandles \u001b[39m|\u001b[39m \u001b[39mNone\u001b[39;00m \u001b[39m=\u001b[39m \u001b[39mNone\u001b[39;00m\n\u001b[0;32m-> 1407\u001b[0m \u001b[39mself\u001b[39m\u001b[39m.\u001b[39m_engine \u001b[39m=\u001b[39m \u001b[39mself\u001b[39;49m\u001b[39m.\u001b[39;49m_make_engine(f, \u001b[39mself\u001b[39;49m\u001b[39m.\u001b[39;49mengine)\n",
      "File \u001b[0;32m~/.local/lib/python3.8/site-packages/pandas/io/parsers/readers.py:1661\u001b[0m, in \u001b[0;36mTextFileReader._make_engine\u001b[0;34m(self, f, engine)\u001b[0m\n\u001b[1;32m   1659\u001b[0m     \u001b[39mif\u001b[39;00m \u001b[39m\"\u001b[39m\u001b[39mb\u001b[39m\u001b[39m\"\u001b[39m \u001b[39mnot\u001b[39;00m \u001b[39min\u001b[39;00m mode:\n\u001b[1;32m   1660\u001b[0m         mode \u001b[39m+\u001b[39m\u001b[39m=\u001b[39m \u001b[39m\"\u001b[39m\u001b[39mb\u001b[39m\u001b[39m\"\u001b[39m\n\u001b[0;32m-> 1661\u001b[0m \u001b[39mself\u001b[39m\u001b[39m.\u001b[39mhandles \u001b[39m=\u001b[39m get_handle(\n\u001b[1;32m   1662\u001b[0m     f,\n\u001b[1;32m   1663\u001b[0m     mode,\n\u001b[1;32m   1664\u001b[0m     encoding\u001b[39m=\u001b[39;49m\u001b[39mself\u001b[39;49m\u001b[39m.\u001b[39;49moptions\u001b[39m.\u001b[39;49mget(\u001b[39m\"\u001b[39;49m\u001b[39mencoding\u001b[39;49m\u001b[39m\"\u001b[39;49m, \u001b[39mNone\u001b[39;49;00m),\n\u001b[1;32m   1665\u001b[0m     compression\u001b[39m=\u001b[39;49m\u001b[39mself\u001b[39;49m\u001b[39m.\u001b[39;49moptions\u001b[39m.\u001b[39;49mget(\u001b[39m\"\u001b[39;49m\u001b[39mcompression\u001b[39;49m\u001b[39m\"\u001b[39;49m, \u001b[39mNone\u001b[39;49;00m),\n\u001b[1;32m   1666\u001b[0m     memory_map\u001b[39m=\u001b[39;49m\u001b[39mself\u001b[39;49m\u001b[39m.\u001b[39;49moptions\u001b[39m.\u001b[39;49mget(\u001b[39m\"\u001b[39;49m\u001b[39mmemory_map\u001b[39;49m\u001b[39m\"\u001b[39;49m, \u001b[39mFalse\u001b[39;49;00m),\n\u001b[1;32m   1667\u001b[0m     is_text\u001b[39m=\u001b[39;49mis_text,\n\u001b[1;32m   1668\u001b[0m     errors\u001b[39m=\u001b[39;49m\u001b[39mself\u001b[39;49m\u001b[39m.\u001b[39;49moptions\u001b[39m.\u001b[39;49mget(\u001b[39m\"\u001b[39;49m\u001b[39mencoding_errors\u001b[39;49m\u001b[39m\"\u001b[39;49m, \u001b[39m\"\u001b[39;49m\u001b[39mstrict\u001b[39;49m\u001b[39m\"\u001b[39;49m),\n\u001b[1;32m   1669\u001b[0m     storage_options\u001b[39m=\u001b[39;49m\u001b[39mself\u001b[39;49m\u001b[39m.\u001b[39;49moptions\u001b[39m.\u001b[39;49mget(\u001b[39m\"\u001b[39;49m\u001b[39mstorage_options\u001b[39;49m\u001b[39m\"\u001b[39;49m, \u001b[39mNone\u001b[39;49;00m),\n\u001b[1;32m   1670\u001b[0m )\n\u001b[1;32m   1671\u001b[0m \u001b[39massert\u001b[39;00m \u001b[39mself\u001b[39m\u001b[39m.\u001b[39mhandles \u001b[39mis\u001b[39;00m \u001b[39mnot\u001b[39;00m \u001b[39mNone\u001b[39;00m\n\u001b[1;32m   1672\u001b[0m f \u001b[39m=\u001b[39m \u001b[39mself\u001b[39m\u001b[39m.\u001b[39mhandles\u001b[39m.\u001b[39mhandle\n",
      "File \u001b[0;32m~/.local/lib/python3.8/site-packages/pandas/io/common.py:859\u001b[0m, in \u001b[0;36mget_handle\u001b[0;34m(path_or_buf, mode, encoding, compression, memory_map, is_text, errors, storage_options)\u001b[0m\n\u001b[1;32m    854\u001b[0m \u001b[39melif\u001b[39;00m \u001b[39misinstance\u001b[39m(handle, \u001b[39mstr\u001b[39m):\n\u001b[1;32m    855\u001b[0m     \u001b[39m# Check whether the filename is to be opened in binary mode.\u001b[39;00m\n\u001b[1;32m    856\u001b[0m     \u001b[39m# Binary mode does not support 'encoding' and 'newline'.\u001b[39;00m\n\u001b[1;32m    857\u001b[0m     \u001b[39mif\u001b[39;00m ioargs\u001b[39m.\u001b[39mencoding \u001b[39mand\u001b[39;00m \u001b[39m\"\u001b[39m\u001b[39mb\u001b[39m\u001b[39m\"\u001b[39m \u001b[39mnot\u001b[39;00m \u001b[39min\u001b[39;00m ioargs\u001b[39m.\u001b[39mmode:\n\u001b[1;32m    858\u001b[0m         \u001b[39m# Encoding\u001b[39;00m\n\u001b[0;32m--> 859\u001b[0m         handle \u001b[39m=\u001b[39m \u001b[39mopen\u001b[39;49m(\n\u001b[1;32m    860\u001b[0m             handle,\n\u001b[1;32m    861\u001b[0m             ioargs\u001b[39m.\u001b[39;49mmode,\n\u001b[1;32m    862\u001b[0m             encoding\u001b[39m=\u001b[39;49mioargs\u001b[39m.\u001b[39;49mencoding,\n\u001b[1;32m    863\u001b[0m             errors\u001b[39m=\u001b[39;49merrors,\n\u001b[1;32m    864\u001b[0m             newline\u001b[39m=\u001b[39;49m\u001b[39m\"\u001b[39;49m\u001b[39m\"\u001b[39;49m,\n\u001b[1;32m    865\u001b[0m         )\n\u001b[1;32m    866\u001b[0m     \u001b[39melse\u001b[39;00m:\n\u001b[1;32m    867\u001b[0m         \u001b[39m# Binary mode\u001b[39;00m\n\u001b[1;32m    868\u001b[0m         handle \u001b[39m=\u001b[39m \u001b[39mopen\u001b[39m(handle, ioargs\u001b[39m.\u001b[39mmode)\n",
      "\u001b[0;31mOSError\u001b[0m: [Errno 40] Too many levels of symbolic links: '/users/genomics/marta/TestisProject_SaraRazquin/with_TranscriptomeReconstruction/opossum/RiboSeq/RiboQC_RiboNovel/Annotation/candidateORF.fa'"
     ]
    }
   ],
   "source": [
    "## get repre sequences - both DNA and PROTEINS\n",
    "for s in species:\n",
    "    print(s)\n",
    "    riboseq_dir = os.path.join(users_dir,s,\"RiboSeq/RiboQC_RiboNovel\")\n",
    "\n",
    "    ## get all candidates\n",
    "    print(\"Reading all the candidate ORF sequences\")\n",
    "    df = pd.read_csv(os.path.join(riboseq_dir,\"Annotation/candidateORF.fa\"), header=None, sep=\"\\t\")\n",
    "    ## convert to df\n",
    "    candidates_fasta = pd.DataFrame({'header':df[0].iloc[::2].values, 'seq':df[0].iloc[1::2].values})\n",
    "    candidates_fasta['header'] = candidates_fasta['header'].str[1:]\n",
    "    candidates_fasta = candidates_fasta[~candidates_fasta['header'].str.contains(\"iORF\")]\n",
    "\n",
    "    all_repre_candidates = pd.DataFrame()\n",
    "    for sample in os.listdir(os.path.join(riboseq_dir,\"RibORF\")):\n",
    "        if sample.endswith(\"r1\"):\n",
    "            print(sample)\n",
    "\n",
    "            repre = pd.read_csv(os.path.join(riboseq_dir,\"RibORF\",sample,\"repre.valid.pred.pvalue.parameters.txt\"), sep=\"\\t\")\n",
    "            repre_fasta = candidates_fasta[candidates_fasta['header'].isin(repre.orfID.values.tolist())]\n",
    "            repre_fasta['header'] = s + \"_\" +repre_fasta['header']\n",
    "\n",
    "            ## keep only the coding and the non-coding\n",
    "            repre_fasta = repre_fasta[repre_fasta['header'].str.contains(\"canonical\")| repre_fasta['header'].str.contains(\"noncoding\")]\n",
    "\n",
    "            repre_fasta['protein'] = repre_fasta['seq'].apply(translate_dna_to_protein)\n",
    "            all_repre_candidates = pd.concat([all_repre_candidates, repre_fasta])\n",
    "\n",
    "            ## translate to protein\n",
    "            print(\"Translating to protein\")\n",
    "            out_proteins = os.path.join(riboseq_dir,\"RibORF\",sample,\"repre.valid.pred.pvalue.parameters.PROTEIN.fa\")\n",
    "            seq_records_proteins = repre_fasta.apply(create_seqrecord_PROT, axis=1).tolist()\n",
    "            SeqIO.write(seq_records_proteins, out_proteins, \"fasta\")\n",
    "\n",
    "            ## keep the dna sequences as well\n",
    "            print(\"Saving the original DNA ORF\")\n",
    "            out_dna = os.path.join(riboseq_dir,\"RibORF\",sample,\"repre.valid.pred.pvalue.parameters.DNA.fa\")\n",
    "            seq_records_dna = repre_fasta.apply(create_seqrecord_DNA, axis=1).tolist()\n",
    "            SeqIO.write(seq_records_dna, out_dna, \"fasta\")\n",
    "\n",
    "            ## get only the nonredundant\n",
    "            print(\"Getting the non-redundant\")\n",
    "            all_repre_candidates.drop_duplicates(inplace=True)\n",
    "            out_nonredundant_proteins = os.path.join(riboseq_dir,\"RibORF\")+\"/\"+s+\"_repre.valid.pred.pvalue.parameters.PROTEIN.noredunant.fa\"\n",
    "            seq_records_proteins = all_repre_candidates.apply(create_seqrecord_PROT, axis=1).tolist()\n",
    "            SeqIO.write(seq_records_proteins, out_nonredundant_proteins, \"fasta\")"
   ]
  },
  {
   "attachments": {},
   "cell_type": "markdown",
   "metadata": {},
   "source": [
    "## MMseqs2\n",
    "\n",
    "Against all expressed in mouse, macaca, platypus, opossum in any tissue (non-redunant set)"
   ]
  },
  {
   "attachments": {},
   "cell_type": "markdown",
   "metadata": {},
   "source": [
    "#### TESTIS-EXPRESSED"
   ]
  },
  {
   "cell_type": "code",
   "execution_count": 4,
   "metadata": {},
   "outputs": [
    {
     "data": {
      "text/plain": [
       "15040"
      ]
     },
     "execution_count": 4,
     "metadata": {},
     "output_type": "execute_result"
    }
   ],
   "source": [
    "## Testis-expressed ORFs human\n",
    "TestisExpressed_translatedINtestis = pd.read_csv(\"/projects_eg/projects/marta/TestisRestricted_Microproteins_TSA/with_TranscriptomeReconstruction/Q1_TestisORFs/human/ribORF_humanTestis_in1.csv\")\n",
    "TestisExpressed_translatedINtestis\n",
    "\n",
    "def create_seqrecord_PROThuman(row):\n",
    "    return SeqRecord(Seq(row['ORFpep']), id=row['orfID'], description=\"\")\n",
    "\n",
    "out_nonredundant_proteins = \"/projects_eg/projects/marta/TestisRestricted_Microproteins_TSA/with_TranscriptomeReconstruction/Q1_TestisORFs/human/ribORF_humanTestis_in1.fa\"\n",
    "seq_records_proteins = TestisExpressed_translatedINtestis.apply(create_seqrecord_PROThuman, axis=1).tolist()\n",
    "SeqIO.write(seq_records_proteins, out_nonredundant_proteins, \"fasta\")"
   ]
  },
  {
   "attachments": {},
   "cell_type": "markdown",
   "metadata": {},
   "source": [
    "Creating database of human (expressed in testis)"
   ]
  },
  {
   "cell_type": "code",
   "execution_count": 12,
   "metadata": {},
   "outputs": [
    {
     "name": "stdout",
     "output_type": "stream",
     "text": [
      "createdb /projects_eg/projects/marta/TestisRestricted_Microproteins_TSA/with_TranscriptomeReconstruction/Q1_TestisORFs/human/ribORF_humanTestis_in1.fa /users/genomics/marta/TestisProject_SaraRazquin/with_TranscriptomeReconstruction/EvolutionaryOrigin/MMseqsDB/ribORF_humanTestis_in1_DB \n",
      "\n",
      "MMseqs Version:       \t14.7e284\n",
      "Database type         \t0\n",
      "Shuffle input database\ttrue\n",
      "Createdb mode         \t0\n",
      "Write lookup file     \t1\n",
      "Offset of numeric ids \t0\n",
      "Compressed            \t0\n",
      "Verbosity             \t3\n",
      "\n",
      "Converting sequences\n",
      "[=\n",
      "Time for merging to ribORF_humanTestis_in1_DB_h: 0h 0m 0s 518ms\n",
      "Time for merging to ribORF_humanTestis_in1_DB: 0h 0m 0s 708ms\n",
      "Database type: Aminoacid\n",
      "Time for processing: 0h 0m 4s 150ms\n"
     ]
    }
   ],
   "source": [
    "%%bash -s \"$evoDir\" \"$users_dir\"\n",
    "\n",
    "# mkdir $1/MMseqsDB\n",
    "\n",
    "module load Miniconda3/4.9.2\n",
    "source /soft/system/software/Miniconda3/4.9.2/bin/activate MMseqs2\n",
    "\n",
    "mmseqs createdb /projects_eg/projects/marta/TestisRestricted_Microproteins_TSA/with_TranscriptomeReconstruction/Q1_TestisORFs/human/ribORF_humanTestis_in1.fa $1/MMseqsDB/ribORF_humanTestis_in1_DB\n"
   ]
  },
  {
   "attachments": {},
   "cell_type": "markdown",
   "metadata": {},
   "source": [
    "Creating a joint database with all the specie, everything translated, no matter the tissue"
   ]
  },
  {
   "cell_type": "code",
   "execution_count": 11,
   "metadata": {},
   "outputs": [
    {
     "name": "stdout",
     "output_type": "stream",
     "text": [
      "/users/genomics/marta/TestisProject_SaraRazquin/with_TranscriptomeReconstruction/EvolutionaryOrigin_MMseqs/MMseqsDB/speciesDB exists and will be overwritten\n",
      "createdb /users/genomics/marta/TestisProject_SaraRazquin/with_TranscriptomeReconstruction/chicken/RiboSeq/RiboQC_RiboNovel/RibORF/chicken_repre.valid.pred.pvalue.parameters.PROTEIN.noredunant.fa /users/genomics/marta/TestisProject_SaraRazquin/with_TranscriptomeReconstruction/macaca/RiboSeq/RiboQC_RiboNovel/RibORF/macaca_repre.valid.pred.pvalue.parameters.PROTEIN.noredunant.fa /users/genomics/marta/TestisProject_SaraRazquin/with_TranscriptomeReconstruction/mouse/RiboSeq/RiboQC_RiboNovel/RibORF/mouse_repre.valid.pred.pvalue.parameters.PROTEIN.noredunant.fa /users/genomics/marta/TestisProject_SaraRazquin/with_TranscriptomeReconstruction/opossum/RiboSeq/RiboQC_RiboNovel/RibORF/opossum_repre.valid.pred.pvalue.parameters.PROTEIN.noredunant.fa /users/genomics/marta/TestisProject_SaraRazquin/with_TranscriptomeReconstruction/platypus/RiboSeq/RiboQC_RiboNovel/RibORF/platypus_repre.valid.pred.pvalue.parameters.PROTEIN.noredunant.fa /users/genomics/marta/TestisProject_SaraRazquin/with_TranscriptomeReconstruction/EvolutionaryOrigin_MMseqs/MMseqsDB/speciesDB \n",
      "\n",
      "MMseqs Version:       \t14.7e284\n",
      "Database type         \t0\n",
      "Shuffle input database\ttrue\n",
      "Createdb mode         \t0\n",
      "Write lookup file     \t1\n",
      "Offset of numeric ids \t0\n",
      "Compressed            \t0\n",
      "Verbosity             \t3\n",
      "\n",
      "Converting sequences\n",
      "[============\n",
      "Time for merging to speciesDB_h: 0h 0m 0s 576ms\n",
      "Time for merging to speciesDB: 0h 0m 1s 433ms\n",
      "Database type: Aminoacid\n",
      "Time for processing: 0h 0m 6s 628ms\n"
     ]
    }
   ],
   "source": [
    "%%bash -s \"$evoDir\" \"$users_dir\"\n",
    "\n",
    "module load Miniconda3/4.9.2\n",
    "source /soft/system/software/Miniconda3/4.9.2/bin/activate MMseqs2\n",
    "\n",
    "# species=\"platypus mouse macaca chicken\"\n",
    "# for s in $species; do\n",
    "#     echo $s\n",
    "\n",
    "#     ### create DB\n",
    "#     mmseqs createdb $2/$s/RiboSeq/RiboQC_RiboNovel/RibORF/repre.valid.pred.pvalue.parameters.PROTEIN.noredunant.fa $1/MMseqsDB/${s}_noredunantProts_DB\n",
    "\n",
    "# done\n",
    "\n",
    "mmseqs createdb $2/*/RiboSeq/RiboQC_RiboNovel*/RibORF/*_repre.valid.pred.pvalue.parameters.PROTEIN.noredunant.fa $1/MMseqsDB/speciesDB\n",
    "\n"
   ]
  },
  {
   "attachments": {},
   "cell_type": "markdown",
   "metadata": {},
   "source": [
    "Creating a joint database with all the specie AND human for clustering, everything translated for the species, no matter the tissue, but only translated in 1 for testis"
   ]
  },
  {
   "cell_type": "code",
   "execution_count": 12,
   "metadata": {},
   "outputs": [
    {
     "name": "stdout",
     "output_type": "stream",
     "text": [
      "/users/genomics/marta/TestisProject_SaraRazquin/with_TranscriptomeReconstruction/EvolutionaryOrigin_MMseqs/MMseqsDB/species_and_humanDB exists and will be overwritten\n",
      "createdb /users/genomics/marta/TestisProject_SaraRazquin/with_TranscriptomeReconstruction/chicken/RiboSeq/RiboQC_RiboNovel/RibORF/chicken_repre.valid.pred.pvalue.parameters.PROTEIN.noredunant.fa /users/genomics/marta/TestisProject_SaraRazquin/with_TranscriptomeReconstruction/macaca/RiboSeq/RiboQC_RiboNovel/RibORF/macaca_repre.valid.pred.pvalue.parameters.PROTEIN.noredunant.fa /users/genomics/marta/TestisProject_SaraRazquin/with_TranscriptomeReconstruction/mouse/RiboSeq/RiboQC_RiboNovel/RibORF/mouse_repre.valid.pred.pvalue.parameters.PROTEIN.noredunant.fa /users/genomics/marta/TestisProject_SaraRazquin/with_TranscriptomeReconstruction/opossum/RiboSeq/RiboQC_RiboNovel/RibORF/opossum_repre.valid.pred.pvalue.parameters.PROTEIN.noredunant.fa /users/genomics/marta/TestisProject_SaraRazquin/with_TranscriptomeReconstruction/platypus/RiboSeq/RiboQC_RiboNovel/RibORF/platypus_repre.valid.pred.pvalue.parameters.PROTEIN.noredunant.fa /projects_eg/projects/marta/TestisRestricted_Microproteins_TSA/with_TranscriptomeReconstruction/Q1_TestisORFs/human/ribORF_humanTestis_in1.fa /users/genomics/marta/TestisProject_SaraRazquin/with_TranscriptomeReconstruction/EvolutionaryOrigin_MMseqs/MMseqsDB/species_and_humanDB \n",
      "\n",
      "MMseqs Version:       \t14.7e284\n",
      "Database type         \t0\n",
      "Shuffle input database\ttrue\n",
      "Createdb mode         \t0\n",
      "Write lookup file     \t1\n",
      "Offset of numeric ids \t0\n",
      "Compressed            \t0\n",
      "Verbosity             \t3\n",
      "\n",
      "Converting sequences\n",
      "[=============\n",
      "Time for merging to species_and_humanDB_h: 0h 0m 3s 243ms\n",
      "Time for merging to species_and_humanDB: 0h 0m 1s 201ms\n",
      "Database type: Aminoacid\n",
      "Time for processing: 0h 0m 10s 619ms\n"
     ]
    }
   ],
   "source": [
    "%%bash -s \"$evoDir\" \"$users_dir\"\n",
    "\n",
    "module load Miniconda3/4.9.2\n",
    "source /soft/system/software/Miniconda3/4.9.2/bin/activate MMseqs2\n",
    "\n",
    "mmseqs createdb $2/*/RiboSeq/RiboQC_RiboNovel*/RibORF/*_repre.valid.pred.pvalue.parameters.PROTEIN.noredunant.fa /projects_eg/projects/marta/TestisRestricted_Microproteins_TSA/with_TranscriptomeReconstruction/Q1_TestisORFs/human/ribORF_humanTestis_in1.fa $1/MMseqsDB/species_and_humanDB\n",
    "\n"
   ]
  },
  {
   "attachments": {},
   "cell_type": "markdown",
   "metadata": {},
   "source": [
    "Searching"
   ]
  },
  {
   "cell_type": "code",
   "execution_count": 15,
   "metadata": {},
   "outputs": [
    {
     "name": "stdout",
     "output_type": "stream",
     "text": [
      "search -a -s 6 /users/genomics/marta/TestisProject_SaraRazquin/with_TranscriptomeReconstruction/EvolutionaryOrigin_MMseqs/MMseqsDB/ribORF_humanTestis_in1_DB /users/genomics/marta/TestisProject_SaraRazquin/with_TranscriptomeReconstruction/EvolutionaryOrigin_MMseqs/MMseqsDB/speciesDB /users/genomics/marta/TestisProject_SaraRazquin/with_TranscriptomeReconstruction/EvolutionaryOrigin_MMseqs/Searching/resultDB /users/genomics/marta/TestisProject_SaraRazquin/with_TranscriptomeReconstruction/EvolutionaryOrigin_MMseqs/tmp \n",
      "\n",
      "MMseqs Version:                        \t14.7e284\n",
      "Substitution matrix                    \taa:blosum62.out,nucl:nucleotide.out\n",
      "Add backtrace                          \ttrue\n",
      "Alignment mode                         \t2\n",
      "Alignment mode                         \t0\n",
      "Allow wrapped scoring                  \tfalse\n",
      "E-value threshold                      \t0.001\n",
      "Seq. id. threshold                     \t0\n",
      "Min alignment length                   \t0\n",
      "Seq. id. mode                          \t0\n",
      "Alternative alignments                 \t0\n",
      "Coverage threshold                     \t0\n",
      "Coverage mode                          \t0\n",
      "Max sequence length                    \t65535\n",
      "Compositional bias                     \t1\n",
      "Compositional bias                     \t1\n",
      "Max reject                             \t2147483647\n",
      "Max accept                             \t2147483647\n",
      "Include identical seq. id.             \tfalse\n",
      "Preload mode                           \t0\n",
      "Pseudo count a                         \tsubstitution:1.100,context:1.400\n",
      "Pseudo count b                         \tsubstitution:4.100,context:5.800\n",
      "Score bias                             \t0\n",
      "Realign hits                           \tfalse\n",
      "Realign score bias                     \t-0.2\n",
      "Realign max seqs                       \t2147483647\n",
      "Correlation score weight               \t0\n",
      "Gap open cost                          \taa:11,nucl:5\n",
      "Gap extension cost                     \taa:1,nucl:2\n",
      "Zdrop                                  \t40\n",
      "Threads                                \t24\n",
      "Compressed                             \t0\n",
      "Verbosity                              \t3\n",
      "Seed substitution matrix               \taa:VTML80.out,nucl:nucleotide.out\n",
      "Sensitivity                            \t6\n",
      "k-mer length                           \t0\n",
      "k-score                                \tseq:2147483647,prof:2147483647\n",
      "Alphabet size                          \taa:21,nucl:5\n",
      "Max results per query                  \t300\n",
      "Split database                         \t0\n",
      "Split mode                             \t2\n",
      "Split memory limit                     \t0\n",
      "Diagonal scoring                       \ttrue\n",
      "Exact k-mer matching                   \t0\n",
      "Mask residues                          \t1\n",
      "Mask residues probability              \t0.9\n",
      "Mask lower case residues               \t0\n",
      "Minimum diagonal score                 \t15\n",
      "Selected taxa                          \t\n",
      "Spaced k-mers                          \t1\n",
      "Spaced k-mer pattern                   \t\n",
      "Local temporary path                   \t\n",
      "Rescore mode                           \t0\n",
      "Remove hits by seq. id. and coverage   \tfalse\n",
      "Sort results                           \t0\n",
      "Mask profile                           \t1\n",
      "Profile E-value threshold              \t0.1\n",
      "Global sequence weighting              \tfalse\n",
      "Allow deletions                        \tfalse\n",
      "Filter MSA                             \t1\n",
      "Use filter only at N seqs              \t0\n",
      "Maximum seq. id. threshold             \t0.9\n",
      "Minimum seq. id.                       \t0.0\n",
      "Minimum score per column               \t-20\n",
      "Minimum coverage                       \t0\n",
      "Select N most diverse seqs             \t1000\n",
      "Pseudo count mode                      \t0\n",
      "Gap pseudo count                       \t10\n",
      "Min codons in orf                      \t30\n",
      "Max codons in length                   \t32734\n",
      "Max orf gaps                           \t2147483647\n",
      "Contig start mode                      \t2\n",
      "Contig end mode                        \t2\n",
      "Orf start mode                         \t1\n",
      "Forward frames                         \t1,2,3\n",
      "Reverse frames                         \t1,2,3\n",
      "Translation table                      \t1\n",
      "Translate orf                          \t0\n",
      "Use all table starts                   \tfalse\n",
      "Offset of numeric ids                  \t0\n",
      "Create lookup                          \t0\n",
      "Add orf stop                           \tfalse\n",
      "Overlap between sequences              \t0\n",
      "Sequence split mode                    \t1\n",
      "Header split mode                      \t0\n",
      "Chain overlapping alignments           \t0\n",
      "Merge query                            \t1\n",
      "Search type                            \t0\n",
      "Search iterations                      \t1\n",
      "Start sensitivity                      \t4\n",
      "Search steps                           \t1\n",
      "Exhaustive search mode                 \tfalse\n",
      "Filter results during exhaustive search\t0\n",
      "Strand selection                       \t1\n",
      "LCA search mode                        \tfalse\n",
      "Disk space limit                       \t0\n",
      "MPI runner                             \t\n",
      "Force restart with latest tmp          \tfalse\n",
      "Remove temporary files                 \tfalse\n",
      "\n",
      "align /users/genomics/marta/TestisProject_SaraRazquin/with_TranscriptomeReconstruction/EvolutionaryOrigin_MMseqs/MMseqsDB/ribORF_humanTestis_in1_DB /users/genomics/marta/TestisProject_SaraRazquin/with_TranscriptomeReconstruction/EvolutionaryOrigin_MMseqs/MMseqsDB/speciesDB /users/genomics/marta/TestisProject_SaraRazquin/with_TranscriptomeReconstruction/EvolutionaryOrigin_MMseqs/tmp/18274614506591871818/pref_0 /users/genomics/marta/TestisProject_SaraRazquin/with_TranscriptomeReconstruction/EvolutionaryOrigin_MMseqs/Searching/resultDB --sub-mat 'aa:blosum62.out,nucl:nucleotide.out' -a 1 --alignment-mode 2 --alignment-output-mode 0 --wrapped-scoring 0 -e 0.001 --min-seq-id 0 --min-aln-len 0 --seq-id-mode 0 --alt-ali 0 -c 0 --cov-mode 0 --max-seq-len 65535 --comp-bias-corr 1 --comp-bias-corr-scale 1 --max-rejected 2147483647 --max-accept 2147483647 --add-self-matches 0 --db-load-mode 0 --pca substitution:1.100,context:1.400 --pcb substitution:4.100,context:5.800 --score-bias 0 --realign 0 --realign-score-bias -0.2 --realign-max-seqs 2147483647 --corr-score-weight 0 --gap-open aa:11,nucl:5 --gap-extend aa:1,nucl:2 --zdrop 40 --threads 24 --compressed 0 -v 3 \n",
      "\n",
      "Compute score, coverage and sequence identity\n",
      "Query database size: 15040 type: Aminoacid\n",
      "Target database size: 124226 type: Aminoacid\n",
      "Calculation of alignments\n",
      "[=================================================================] 15.04K 1m 59s 115ms\n",
      "Time for merging to resultDB: 0h 0m 0s 203ms\n",
      "3969357 alignments calculated\n",
      "976446 sequence pairs passed the thresholds (0.245996 of overall calculated)\n",
      "64.923271 hits per query sequence\n",
      "Time for processing: 0h 2m 1s 257ms\n",
      "convertalis /users/genomics/marta/TestisProject_SaraRazquin/with_TranscriptomeReconstruction/EvolutionaryOrigin_MMseqs/MMseqsDB/ribORF_humanTestis_in1_DB /users/genomics/marta/TestisProject_SaraRazquin/with_TranscriptomeReconstruction/EvolutionaryOrigin_MMseqs/MMseqsDB/speciesDB /users/genomics/marta/TestisProject_SaraRazquin/with_TranscriptomeReconstruction/EvolutionaryOrigin_MMseqs/Searching/resultDB /users/genomics/marta/TestisProject_SaraRazquin/with_TranscriptomeReconstruction/EvolutionaryOrigin_MMseqs/Searching/resultDB.m8 \n",
      "\n",
      "MMseqs Version:        \t14.7e284\n",
      "Substitution matrix    \taa:blosum62.out,nucl:nucleotide.out\n",
      "Alignment format       \t0\n",
      "Format alignment output\tquery,target,fident,alnlen,mismatch,gapopen,qstart,qend,tstart,tend,evalue,bits\n",
      "Translation table      \t1\n",
      "Gap open cost          \taa:11,nucl:5\n",
      "Gap extension cost     \taa:1,nucl:2\n",
      "Database output        \tfalse\n",
      "Preload mode           \t0\n",
      "Search type            \t0\n",
      "Threads                \t24\n",
      "Compressed             \t0\n",
      "Verbosity              \t3\n",
      "\n",
      "[=================================================================] 15.04K 0s 841ms\n",
      "Time for merging to resultDB.m8: 0h 0m 3s 176ms\n",
      "Time for processing: 0h 0m 6s 330ms\n"
     ]
    }
   ],
   "source": [
    "%%bash -s \"$evoDir\" \"$users_dir\"\n",
    "\n",
    "module load Miniconda3/4.9.2\n",
    "source /soft/system/software/Miniconda3/4.9.2/bin/activate MMseqs2\n",
    "mkdir -p $1/Searching\n",
    "\n",
    "rm $1/Searching/resultDB*\n",
    "## The alignment consists of two steps the prefilter and alignment. To run the search, type:\n",
    "mmseqs search -a -s 6 $1/MMseqsDB/ribORF_humanTestis_in1_DB $1/MMseqsDB/speciesDB $1/Searching/resultDB $1/tmp\n",
    "\n",
    "# Then, convert the result database into a BLAST tab formatted file (option -m 8 in legacy blast, -outfmt 6 in blast+):\n",
    "# Format alignment output\tquery,target,fident,alnlen,mismatch,gapopen,qstart,qend,tstart,tend,evalue,bits\n",
    "\n",
    "mmseqs convertalis $1/MMseqsDB/ribORF_humanTestis_in1_DB $1/MMseqsDB/speciesDB $1/Searching/resultDB $1/Searching/resultDB.m8"
   ]
  },
  {
   "attachments": {},
   "cell_type": "markdown",
   "metadata": {},
   "source": [
    "Clustering"
   ]
  },
  {
   "cell_type": "code",
   "execution_count": 16,
   "metadata": {},
   "outputs": [
    {
     "name": "stdout",
     "output_type": "stream",
     "text": [
      "cluster -c 0.5 --min-seq-id 0.5 /users/genomics/marta/TestisProject_SaraRazquin/with_TranscriptomeReconstruction/EvolutionaryOrigin_MMseqs/MMseqsDB/species_and_humanDB /users/genomics/marta/TestisProject_SaraRazquin/with_TranscriptomeReconstruction/EvolutionaryOrigin_MMseqs/Clustering/species_and_human_cluDB /users/genomics/marta/TestisProject_SaraRazquin/with_TranscriptomeReconstruction/EvolutionaryOrigin_MMseqs/tmp \n",
      "\n",
      "MMseqs Version:                     \t14.7e284\n",
      "Substitution matrix                 \taa:blosum62.out,nucl:nucleotide.out\n",
      "Seed substitution matrix            \taa:VTML80.out,nucl:nucleotide.out\n",
      "Sensitivity                         \t4\n",
      "k-mer length                        \t0\n",
      "k-score                             \tseq:2147483647,prof:2147483647\n",
      "Alphabet size                       \taa:21,nucl:5\n",
      "Max sequence length                 \t65535\n",
      "Max results per query               \t20\n",
      "Split database                      \t0\n",
      "Split mode                          \t2\n",
      "Split memory limit                  \t0\n",
      "Coverage threshold                  \t0.5\n",
      "Coverage mode                       \t0\n",
      "Compositional bias                  \t1\n",
      "Compositional bias                  \t1\n",
      "Diagonal scoring                    \ttrue\n",
      "Exact k-mer matching                \t0\n",
      "Mask residues                       \t1\n",
      "Mask residues probability           \t0.9\n",
      "Mask lower case residues            \t0\n",
      "Minimum diagonal score              \t15\n",
      "Selected taxa                       \t\n",
      "Include identical seq. id.          \tfalse\n",
      "Spaced k-mers                       \t1\n",
      "Preload mode                        \t0\n",
      "Pseudo count a                      \tsubstitution:1.100,context:1.400\n",
      "Pseudo count b                      \tsubstitution:4.100,context:5.800\n",
      "Spaced k-mer pattern                \t\n",
      "Local temporary path                \t\n",
      "Threads                             \t24\n",
      "Compressed                          \t0\n",
      "Verbosity                           \t3\n",
      "Add backtrace                       \tfalse\n",
      "Alignment mode                      \t3\n",
      "Alignment mode                      \t0\n",
      "Allow wrapped scoring               \tfalse\n",
      "E-value threshold                   \t0.001\n",
      "Seq. id. threshold                  \t0.5\n",
      "Min alignment length                \t0\n",
      "Seq. id. mode                       \t0\n",
      "Alternative alignments              \t0\n",
      "Max reject                          \t2147483647\n",
      "Max accept                          \t2147483647\n",
      "Score bias                          \t0\n",
      "Realign hits                        \tfalse\n",
      "Realign score bias                  \t-0.2\n",
      "Realign max seqs                    \t2147483647\n",
      "Correlation score weight            \t0\n",
      "Gap open cost                       \taa:11,nucl:5\n",
      "Gap extension cost                  \taa:1,nucl:2\n",
      "Zdrop                               \t40\n",
      "Rescore mode                        \t0\n",
      "Remove hits by seq. id. and coverage\tfalse\n",
      "Sort results                        \t0\n",
      "Cluster mode                        \t0\n",
      "Max connected component depth       \t1000\n",
      "Similarity type                     \t2\n",
      "Single step clustering              \tfalse\n",
      "Cascaded clustering steps           \t3\n",
      "Cluster reassign                    \tfalse\n",
      "Remove temporary files              \tfalse\n",
      "Force restart with latest tmp       \tfalse\n",
      "MPI runner                          \t\n",
      "k-mers per sequence                 \t21\n",
      "Scale k-mers per sequence           \taa:0.000,nucl:0.200\n",
      "Adjust k-mer length                 \tfalse\n",
      "Shift hash                          \t67\n",
      "Include only extendable             \tfalse\n",
      "Skip repeating k-mers               \tfalse\n",
      "\n",
      "Set cluster sensitivity to -s 3.000000\n",
      "Set cluster mode SET COVER\n",
      "Set cluster iterations to 3\n",
      "linclust /users/genomics/marta/TestisProject_SaraRazquin/with_TranscriptomeReconstruction/EvolutionaryOrigin_MMseqs/MMseqsDB/species_and_humanDB /users/genomics/marta/TestisProject_SaraRazquin/with_TranscriptomeReconstruction/EvolutionaryOrigin_MMseqs/tmp/4791338529032361357/clu_redundancy /users/genomics/marta/TestisProject_SaraRazquin/with_TranscriptomeReconstruction/EvolutionaryOrigin_MMseqs/tmp/4791338529032361357/linclust --cluster-mode 0 --max-iterations 1000 --similarity-type 2 --threads 24 --compressed 0 -v 3 --sub-mat 'aa:blosum62.out,nucl:nucleotide.out' -a 0 --alignment-mode 3 --alignment-output-mode 0 --wrapped-scoring 0 -e 0.001 --min-seq-id 0.5 --min-aln-len 0 --seq-id-mode 0 --alt-ali 0 -c 0.5 --cov-mode 0 --max-seq-len 65535 --comp-bias-corr 1 --comp-bias-corr-scale 1 --max-rejected 2147483647 --max-accept 2147483647 --add-self-matches 0 --db-load-mode 0 --pca substitution:1.100,context:1.400 --pcb substitution:4.100,context:5.800 --score-bias 0 --realign 0 --realign-score-bias -0.2 --realign-max-seqs 2147483647 --corr-score-weight 0 --gap-open aa:11,nucl:5 --gap-extend aa:1,nucl:2 --zdrop 40 --alph-size aa:13,nucl:5 --kmer-per-seq 21 --spaced-kmer-mode 1 --kmer-per-seq-scale aa:0.000,nucl:0.200 --adjust-kmer-len 0 --mask 0 --mask-prob 0.9 --mask-lower-case 0 -k 0 --hash-shift 67 --split-memory-limit 0 --include-only-extendable 0 --ignore-multi-kmer 0 --rescore-mode 0 --filter-hits 0 --sort-results 0 --remove-tmp-files 0 --force-reuse 0 \n",
      "\n",
      "kmermatcher /users/genomics/marta/TestisProject_SaraRazquin/with_TranscriptomeReconstruction/EvolutionaryOrigin_MMseqs/MMseqsDB/species_and_humanDB /users/genomics/marta/TestisProject_SaraRazquin/with_TranscriptomeReconstruction/EvolutionaryOrigin_MMseqs/tmp/4791338529032361357/linclust/4698065771858733375/pref --sub-mat 'aa:blosum62.out,nucl:nucleotide.out' --alph-size aa:13,nucl:5 --min-seq-id 0.5 --kmer-per-seq 21 --spaced-kmer-mode 1 --kmer-per-seq-scale aa:0.000,nucl:0.200 --adjust-kmer-len 0 --mask 0 --mask-prob 0.9 --mask-lower-case 0 --cov-mode 0 -k 0 -c 0.5 --max-seq-len 65535 --hash-shift 67 --split-memory-limit 0 --include-only-extendable 0 --ignore-multi-kmer 0 --threads 24 --compressed 0 -v 3 \n",
      "\n",
      "kmermatcher /users/genomics/marta/TestisProject_SaraRazquin/with_TranscriptomeReconstruction/EvolutionaryOrigin_MMseqs/MMseqsDB/species_and_humanDB /users/genomics/marta/TestisProject_SaraRazquin/with_TranscriptomeReconstruction/EvolutionaryOrigin_MMseqs/tmp/4791338529032361357/linclust/4698065771858733375/pref --sub-mat 'aa:blosum62.out,nucl:nucleotide.out' --alph-size aa:13,nucl:5 --min-seq-id 0.5 --kmer-per-seq 21 --spaced-kmer-mode 1 --kmer-per-seq-scale aa:0.000,nucl:0.200 --adjust-kmer-len 0 --mask 0 --mask-prob 0.9 --mask-lower-case 0 --cov-mode 0 -k 0 -c 0.5 --max-seq-len 65535 --hash-shift 67 --split-memory-limit 0 --include-only-extendable 0 --ignore-multi-kmer 0 --threads 24 --compressed 0 -v 3 \n",
      "\n",
      "Database size: 139266 type: Aminoacid\n",
      "Reduced amino acid alphabet: (A S T) (C) (D B N) (E Q Z) (F Y) (G) (H) (I V) (K R) (L J M) (P) (W) (X) \n",
      "\n",
      "Generate k-mers list for 1 split\n",
      "[=================================================================] 139.27K 0s 560ms\n",
      "Sort kmer 0h 0m 0s 55ms\n",
      "Sort by rep. sequence 0h 0m 0s 25ms\n",
      "Time for fill: 0h 0m 0s 55ms\n",
      "Time for merging to pref: 0h 0m 0s 38ms\n",
      "Time for processing: 0h 0m 0s 994ms\n",
      "rescorediagonal /users/genomics/marta/TestisProject_SaraRazquin/with_TranscriptomeReconstruction/EvolutionaryOrigin_MMseqs/MMseqsDB/species_and_humanDB /users/genomics/marta/TestisProject_SaraRazquin/with_TranscriptomeReconstruction/EvolutionaryOrigin_MMseqs/MMseqsDB/species_and_humanDB /users/genomics/marta/TestisProject_SaraRazquin/with_TranscriptomeReconstruction/EvolutionaryOrigin_MMseqs/tmp/4791338529032361357/linclust/4698065771858733375/pref /users/genomics/marta/TestisProject_SaraRazquin/with_TranscriptomeReconstruction/EvolutionaryOrigin_MMseqs/tmp/4791338529032361357/linclust/4698065771858733375/pref_rescore1 --sub-mat 'aa:blosum62.out,nucl:nucleotide.out' --rescore-mode 0 --wrapped-scoring 0 --filter-hits 0 -e 0.001 -c 0.5 -a 0 --cov-mode 0 --min-seq-id 0.5 --min-aln-len 0 --seq-id-mode 0 --add-self-matches 0 --sort-results 0 --db-load-mode 0 --threads 24 --compressed 0 -v 3 \n",
      "\n",
      "[=================================================================] 139.27K 0s 61ms\n",
      "Time for merging to pref_rescore1: 0h 0m 0s 441ms\n",
      "Time for processing: 0h 0m 1s 304ms\n",
      "clust /users/genomics/marta/TestisProject_SaraRazquin/with_TranscriptomeReconstruction/EvolutionaryOrigin_MMseqs/MMseqsDB/species_and_humanDB /users/genomics/marta/TestisProject_SaraRazquin/with_TranscriptomeReconstruction/EvolutionaryOrigin_MMseqs/tmp/4791338529032361357/linclust/4698065771858733375/pref_rescore1 /users/genomics/marta/TestisProject_SaraRazquin/with_TranscriptomeReconstruction/EvolutionaryOrigin_MMseqs/tmp/4791338529032361357/linclust/4698065771858733375/pre_clust --cluster-mode 0 --max-iterations 1000 --similarity-type 2 --threads 24 --compressed 0 -v 3 \n",
      "\n",
      "Clustering mode: Set Cover\n",
      "[=================================================================] 139.27K 0s 11ms\n",
      "Sort entries\n",
      "Find missing connections\n",
      "Found 86258 new connections.\n",
      "Reconstruct initial order\n",
      "[=================================================================] 139.27K 0s 7ms\n",
      "Add missing connections\n",
      "[=================================================================] 139.27K 0s 5ms\n",
      "\n",
      "Time for read in: 0h 0m 0s 49ms\n",
      "Total time: 0h 0m 0s 107ms\n",
      "\n",
      "Size of the sequence database: 139266\n",
      "Size of the alignment database: 139266\n",
      "Number of clusters: 92215\n",
      "\n",
      "Writing results 0h 0m 0s 19ms\n",
      "Time for merging to pre_clust: 0h 0m 0s 93ms\n",
      "Time for processing: 0h 0m 0s 327ms\n",
      "createsubdb /users/genomics/marta/TestisProject_SaraRazquin/with_TranscriptomeReconstruction/EvolutionaryOrigin_MMseqs/tmp/4791338529032361357/linclust/4698065771858733375/order_redundancy /users/genomics/marta/TestisProject_SaraRazquin/with_TranscriptomeReconstruction/EvolutionaryOrigin_MMseqs/MMseqsDB/species_and_humanDB /users/genomics/marta/TestisProject_SaraRazquin/with_TranscriptomeReconstruction/EvolutionaryOrigin_MMseqs/tmp/4791338529032361357/linclust/4698065771858733375/input_step_redundancy -v 3 --subdb-mode 1 \n",
      "\n",
      "Time for merging to input_step_redundancy: 0h 0m 0s 67ms\n",
      "Time for processing: 0h 0m 0s 270ms\n",
      "createsubdb /users/genomics/marta/TestisProject_SaraRazquin/with_TranscriptomeReconstruction/EvolutionaryOrigin_MMseqs/tmp/4791338529032361357/linclust/4698065771858733375/order_redundancy /users/genomics/marta/TestisProject_SaraRazquin/with_TranscriptomeReconstruction/EvolutionaryOrigin_MMseqs/tmp/4791338529032361357/linclust/4698065771858733375/pref /users/genomics/marta/TestisProject_SaraRazquin/with_TranscriptomeReconstruction/EvolutionaryOrigin_MMseqs/tmp/4791338529032361357/linclust/4698065771858733375/pref_filter1 -v 3 --subdb-mode 1 \n",
      "\n",
      "Time for merging to pref_filter1: 0h 0m 0s 58ms\n",
      "Time for processing: 0h 0m 0s 252ms\n",
      "filterdb /users/genomics/marta/TestisProject_SaraRazquin/with_TranscriptomeReconstruction/EvolutionaryOrigin_MMseqs/tmp/4791338529032361357/linclust/4698065771858733375/pref_filter1 /users/genomics/marta/TestisProject_SaraRazquin/with_TranscriptomeReconstruction/EvolutionaryOrigin_MMseqs/tmp/4791338529032361357/linclust/4698065771858733375/pref_filter2 --filter-file /users/genomics/marta/TestisProject_SaraRazquin/with_TranscriptomeReconstruction/EvolutionaryOrigin_MMseqs/tmp/4791338529032361357/linclust/4698065771858733375/order_redundancy --threads 24 --compressed 0 -v 3 \n",
      "\n",
      "Filtering using file(s)\n",
      "[=================================================================] 92.21K 0s 28ms\n",
      "Time for merging to pref_filter2: 0h 0m 0s 378ms\n",
      "Time for processing: 0h 0m 1s 241ms\n",
      "rescorediagonal /users/genomics/marta/TestisProject_SaraRazquin/with_TranscriptomeReconstruction/EvolutionaryOrigin_MMseqs/tmp/4791338529032361357/linclust/4698065771858733375/input_step_redundancy /users/genomics/marta/TestisProject_SaraRazquin/with_TranscriptomeReconstruction/EvolutionaryOrigin_MMseqs/tmp/4791338529032361357/linclust/4698065771858733375/input_step_redundancy /users/genomics/marta/TestisProject_SaraRazquin/with_TranscriptomeReconstruction/EvolutionaryOrigin_MMseqs/tmp/4791338529032361357/linclust/4698065771858733375/pref_filter2 /users/genomics/marta/TestisProject_SaraRazquin/with_TranscriptomeReconstruction/EvolutionaryOrigin_MMseqs/tmp/4791338529032361357/linclust/4698065771858733375/pref_rescore2 --sub-mat 'aa:blosum62.out,nucl:nucleotide.out' --rescore-mode 1 --wrapped-scoring 0 --filter-hits 1 -e 0.001 -c 0.5 -a 0 --cov-mode 0 --min-seq-id 0.5 --min-aln-len 0 --seq-id-mode 0 --add-self-matches 0 --sort-results 0 --db-load-mode 0 --threads 24 --compressed 0 -v 3 \n",
      "\n",
      "[=================================================================] 92.21K 0s 100ms\n",
      "Time for merging to pref_rescore2: 0h 0m 0s 366ms\n",
      "Time for processing: 0h 0m 1s 500ms\n",
      "align /users/genomics/marta/TestisProject_SaraRazquin/with_TranscriptomeReconstruction/EvolutionaryOrigin_MMseqs/tmp/4791338529032361357/linclust/4698065771858733375/input_step_redundancy /users/genomics/marta/TestisProject_SaraRazquin/with_TranscriptomeReconstruction/EvolutionaryOrigin_MMseqs/tmp/4791338529032361357/linclust/4698065771858733375/input_step_redundancy /users/genomics/marta/TestisProject_SaraRazquin/with_TranscriptomeReconstruction/EvolutionaryOrigin_MMseqs/tmp/4791338529032361357/linclust/4698065771858733375/pref_rescore2 /users/genomics/marta/TestisProject_SaraRazquin/with_TranscriptomeReconstruction/EvolutionaryOrigin_MMseqs/tmp/4791338529032361357/linclust/4698065771858733375/aln --sub-mat 'aa:blosum62.out,nucl:nucleotide.out' -a 0 --alignment-mode 3 --alignment-output-mode 0 --wrapped-scoring 0 -e 0.001 --min-seq-id 0.5 --min-aln-len 0 --seq-id-mode 0 --alt-ali 0 -c 0.5 --cov-mode 0 --max-seq-len 65535 --comp-bias-corr 1 --comp-bias-corr-scale 1 --max-rejected 2147483647 --max-accept 2147483647 --add-self-matches 0 --db-load-mode 0 --pca substitution:1.100,context:1.400 --pcb substitution:4.100,context:5.800 --score-bias 0 --realign 0 --realign-score-bias -0.2 --realign-max-seqs 2147483647 --corr-score-weight 0 --gap-open aa:11,nucl:5 --gap-extend aa:1,nucl:2 --zdrop 40 --threads 24 --compressed 0 -v 3 \n",
      "\n",
      "Compute score, coverage and sequence identity\n",
      "Query database size: 92215 type: Aminoacid\n",
      "Target database size: 92215 type: Aminoacid\n",
      "Calculation of alignments\n",
      "[=================================================================] 92.21K 4s 116ms\n",
      "Time for merging to aln: 0h 0m 0s 378ms\n",
      "115474 alignments calculated\n",
      "109636 sequence pairs passed the thresholds (0.949443 of overall calculated)\n",
      "1.188917 hits per query sequence\n",
      "Time for processing: 0h 0m 5s 307ms\n",
      "clust /users/genomics/marta/TestisProject_SaraRazquin/with_TranscriptomeReconstruction/EvolutionaryOrigin_MMseqs/tmp/4791338529032361357/linclust/4698065771858733375/input_step_redundancy /users/genomics/marta/TestisProject_SaraRazquin/with_TranscriptomeReconstruction/EvolutionaryOrigin_MMseqs/tmp/4791338529032361357/linclust/4698065771858733375/aln /users/genomics/marta/TestisProject_SaraRazquin/with_TranscriptomeReconstruction/EvolutionaryOrigin_MMseqs/tmp/4791338529032361357/linclust/4698065771858733375/clust --cluster-mode 0 --max-iterations 1000 --similarity-type 2 --threads 24 --compressed 0 -v 3 \n",
      "\n",
      "Clustering mode: Set Cover\n",
      "[=================================================================] 92.21K 0s 5ms\n",
      "Sort entries\n",
      "Find missing connections\n",
      "Found 17421 new connections.\n",
      "Reconstruct initial order\n",
      "[=================================================================] 92.21K 0s 7ms\n",
      "Add missing connections\n",
      "[=================================================================] 92.21K 0s 2ms\n",
      "\n",
      "Time for read in: 0h 0m 0s 32ms\n",
      "Total time: 0h 0m 0s 143ms\n",
      "\n",
      "Size of the sequence database: 92215\n",
      "Size of the alignment database: 92215\n",
      "Number of clusters: 79040\n",
      "\n",
      "Writing results 0h 0m 0s 13ms\n",
      "Time for merging to clust: 0h 0m 0s 49ms\n",
      "Time for processing: 0h 0m 0s 320ms\n",
      "mergeclusters /users/genomics/marta/TestisProject_SaraRazquin/with_TranscriptomeReconstruction/EvolutionaryOrigin_MMseqs/MMseqsDB/species_and_humanDB /users/genomics/marta/TestisProject_SaraRazquin/with_TranscriptomeReconstruction/EvolutionaryOrigin_MMseqs/tmp/4791338529032361357/clu_redundancy /users/genomics/marta/TestisProject_SaraRazquin/with_TranscriptomeReconstruction/EvolutionaryOrigin_MMseqs/tmp/4791338529032361357/linclust/4698065771858733375/pre_clust /users/genomics/marta/TestisProject_SaraRazquin/with_TranscriptomeReconstruction/EvolutionaryOrigin_MMseqs/tmp/4791338529032361357/linclust/4698065771858733375/clust --threads 24 --compressed 0 -v 3 \n",
      "\n",
      "Clustering step 1\n",
      "[=================================================================] 92.21K 0s 34ms\n",
      "Clustering step 2\n",
      "[=================================================================] 79.04K 0s 77ms\n",
      "Write merged clustering\n",
      "[=================================================================] 139.27K 0s 663ms\n",
      "Time for merging to clu_redundancy: 0h 0m 1s 379ms\n",
      "Time for processing: 0h 0m 2s 205ms\n",
      "createsubdb /users/genomics/marta/TestisProject_SaraRazquin/with_TranscriptomeReconstruction/EvolutionaryOrigin_MMseqs/tmp/4791338529032361357/clu_redundancy /users/genomics/marta/TestisProject_SaraRazquin/with_TranscriptomeReconstruction/EvolutionaryOrigin_MMseqs/MMseqsDB/species_and_humanDB /users/genomics/marta/TestisProject_SaraRazquin/with_TranscriptomeReconstruction/EvolutionaryOrigin_MMseqs/tmp/4791338529032361357/input_step_redundancy -v 3 --subdb-mode 1 \n",
      "\n",
      "Time for merging to input_step_redundancy: 0h 0m 0s 67ms\n",
      "Time for processing: 0h 0m 0s 294ms\n",
      "prefilter /users/genomics/marta/TestisProject_SaraRazquin/with_TranscriptomeReconstruction/EvolutionaryOrigin_MMseqs/tmp/4791338529032361357/input_step_redundancy /users/genomics/marta/TestisProject_SaraRazquin/with_TranscriptomeReconstruction/EvolutionaryOrigin_MMseqs/tmp/4791338529032361357/input_step_redundancy /users/genomics/marta/TestisProject_SaraRazquin/with_TranscriptomeReconstruction/EvolutionaryOrigin_MMseqs/tmp/4791338529032361357/pref_step0 --sub-mat 'aa:blosum62.out,nucl:nucleotide.out' --seed-sub-mat 'aa:VTML80.out,nucl:nucleotide.out' -s 1 -k 0 --k-score seq:2147483647,prof:2147483647 --alph-size aa:21,nucl:5 --max-seq-len 65535 --max-seqs 20 --split 0 --split-mode 2 --split-memory-limit 0 -c 0.5 --cov-mode 0 --comp-bias-corr 0 --comp-bias-corr-scale 1 --diag-score 0 --exact-kmer-matching 0 --mask 1 --mask-prob 0.9 --mask-lower-case 0 --min-ungapped-score 0 --add-self-matches 0 --spaced-kmer-mode 1 --db-load-mode 0 --pca substitution:1.100,context:1.400 --pcb substitution:4.100,context:5.800 --threads 24 --compressed 0 -v 3 \n",
      "\n",
      "Query database size: 79040 type: Aminoacid\n",
      "Estimated memory consumption: 1G\n",
      "Target database size: 79040 type: Aminoacid\n",
      "Index table k-mer threshold: 154 at k-mer size 6 \n",
      "Index table: counting k-mers\n",
      "[=================================================================] 79.04K 0s 225ms\n",
      "Index table: Masked residues: 917940\n",
      "Index table: fill\n",
      "[=================================================================] 79.04K 0s 107ms\n",
      "Index statistics\n",
      "Entries:          8824582\n",
      "DB size:          538 MB\n",
      "Avg k-mer size:   0.137884\n",
      "Top 10 k-mers\n",
      "    LYDMNY\t151\n",
      "    TFDAFT\t127\n",
      "    VADTEW\t92\n",
      "    YRVLYR\t66\n",
      "    RDMERN\t60\n",
      "    ECKFSS\t55\n",
      "    RLECWL\t50\n",
      "    VAYSEW\t48\n",
      "    LYEMNY\t48\n",
      "    CQDGLV\t44\n",
      "Time for index table init: 0h 0m 0s 732ms\n",
      "Process prefiltering step 1 of 1\n",
      "\n",
      "k-mer similarity threshold: 154\n",
      "Starting prefiltering scores calculation (step 1 of 1)\n",
      "Query db start 1 to 79040\n",
      "Target db start 1 to 79040\n",
      "[=================================================================] 79.04K 0s 342ms\n",
      "\n",
      "2.220654 k-mers per position\n",
      "373 DB matches per sequence\n",
      "0 overflows\n",
      "0 queries produce too many hits (truncated result)\n",
      "3 sequences passed prefiltering per query sequence\n",
      "1 median result list length\n",
      "0 sequences with 0 size result lists\n",
      "Time for merging to pref_step0: 0h 0m 0s 348ms\n",
      "Time for processing: 0h 0m 2s 220ms\n",
      "align /users/genomics/marta/TestisProject_SaraRazquin/with_TranscriptomeReconstruction/EvolutionaryOrigin_MMseqs/tmp/4791338529032361357/input_step_redundancy /users/genomics/marta/TestisProject_SaraRazquin/with_TranscriptomeReconstruction/EvolutionaryOrigin_MMseqs/tmp/4791338529032361357/input_step_redundancy /users/genomics/marta/TestisProject_SaraRazquin/with_TranscriptomeReconstruction/EvolutionaryOrigin_MMseqs/tmp/4791338529032361357/pref_step0 /users/genomics/marta/TestisProject_SaraRazquin/with_TranscriptomeReconstruction/EvolutionaryOrigin_MMseqs/tmp/4791338529032361357/aln_step0 --sub-mat 'aa:blosum62.out,nucl:nucleotide.out' -a 0 --alignment-mode 3 --alignment-output-mode 0 --wrapped-scoring 0 -e 0.001 --min-seq-id 0.5 --min-aln-len 0 --seq-id-mode 0 --alt-ali 0 -c 0.5 --cov-mode 0 --max-seq-len 65535 --comp-bias-corr 0 --comp-bias-corr-scale 1 --max-rejected 2147483647 --max-accept 2147483647 --add-self-matches 0 --db-load-mode 0 --pca substitution:1.100,context:1.400 --pcb substitution:4.100,context:5.800 --score-bias 0 --realign 0 --realign-score-bias -0.2 --realign-max-seqs 2147483647 --corr-score-weight 0 --gap-open aa:11,nucl:5 --gap-extend aa:1,nucl:2 --zdrop 40 --threads 24 --compressed 0 -v 3 \n",
      "\n",
      "Compute score, coverage and sequence identity\n",
      "Query database size: 79040 type: Aminoacid\n",
      "Target database size: 79040 type: Aminoacid\n",
      "Calculation of alignments\n",
      "[=================================================================] 79.04K 13s 25ms\n",
      "Time for merging to aln_step0: 0h 0m 0s 468ms\n",
      "202972 alignments calculated\n",
      "100890 sequence pairs passed the thresholds (0.497064 of overall calculated)\n",
      "1.276442 hits per query sequence\n",
      "Time for processing: 0h 0m 14s 413ms\n",
      "clust /users/genomics/marta/TestisProject_SaraRazquin/with_TranscriptomeReconstruction/EvolutionaryOrigin_MMseqs/tmp/4791338529032361357/input_step_redundancy /users/genomics/marta/TestisProject_SaraRazquin/with_TranscriptomeReconstruction/EvolutionaryOrigin_MMseqs/tmp/4791338529032361357/aln_step0 /users/genomics/marta/TestisProject_SaraRazquin/with_TranscriptomeReconstruction/EvolutionaryOrigin_MMseqs/tmp/4791338529032361357/clu_step0 --cluster-mode 0 --max-iterations 1000 --similarity-type 2 --threads 24 --compressed 0 -v 3 \n",
      "\n",
      "Clustering mode: Set Cover\n",
      "[=================================================================] 79.04K 0s 4ms\n",
      "Sort entries\n",
      "Find missing connections\n",
      "Found 2028 new connections.\n",
      "Reconstruct initial order\n",
      "[=================================================================] 79.04K 0s 7ms\n",
      "Add missing connections\n",
      "[=================================================================] 79.04K 0s 1ms\n",
      "\n",
      "Time for read in: 0h 0m 0s 35ms\n",
      "Total time: 0h 0m 0s 103ms\n",
      "\n",
      "Size of the sequence database: 79040\n",
      "Size of the alignment database: 79040\n",
      "Number of clusters: 71201\n",
      "\n",
      "Writing results 0h 0m 0s 11ms\n",
      "Time for merging to clu_step0: 0h 0m 0s 37ms\n",
      "Time for processing: 0h 0m 0s 249ms\n",
      "createsubdb /users/genomics/marta/TestisProject_SaraRazquin/with_TranscriptomeReconstruction/EvolutionaryOrigin_MMseqs/tmp/4791338529032361357/clu_step0 /users/genomics/marta/TestisProject_SaraRazquin/with_TranscriptomeReconstruction/EvolutionaryOrigin_MMseqs/tmp/4791338529032361357/input_step_redundancy /users/genomics/marta/TestisProject_SaraRazquin/with_TranscriptomeReconstruction/EvolutionaryOrigin_MMseqs/tmp/4791338529032361357/input_step1 -v 3 --subdb-mode 1 \n",
      "\n",
      "Time for merging to input_step1: 0h 0m 0s 58ms\n",
      "Time for processing: 0h 0m 0s 260ms\n",
      "prefilter /users/genomics/marta/TestisProject_SaraRazquin/with_TranscriptomeReconstruction/EvolutionaryOrigin_MMseqs/tmp/4791338529032361357/input_step1 /users/genomics/marta/TestisProject_SaraRazquin/with_TranscriptomeReconstruction/EvolutionaryOrigin_MMseqs/tmp/4791338529032361357/input_step1 /users/genomics/marta/TestisProject_SaraRazquin/with_TranscriptomeReconstruction/EvolutionaryOrigin_MMseqs/tmp/4791338529032361357/pref_step1 --sub-mat 'aa:blosum62.out,nucl:nucleotide.out' --seed-sub-mat 'aa:VTML80.out,nucl:nucleotide.out' -s 2 -k 0 --k-score seq:2147483647,prof:2147483647 --alph-size aa:21,nucl:5 --max-seq-len 65535 --max-seqs 20 --split 0 --split-mode 2 --split-memory-limit 0 -c 0.5 --cov-mode 0 --comp-bias-corr 1 --comp-bias-corr-scale 1 --diag-score 1 --exact-kmer-matching 0 --mask 1 --mask-prob 0.9 --mask-lower-case 0 --min-ungapped-score 15 --add-self-matches 0 --spaced-kmer-mode 1 --db-load-mode 0 --pca substitution:1.100,context:1.400 --pcb substitution:4.100,context:5.800 --threads 24 --compressed 0 -v 3 \n",
      "\n",
      "Query database size: 71201 type: Aminoacid\n",
      "Estimated memory consumption: 1G\n",
      "Target database size: 71201 type: Aminoacid\n",
      "Index table k-mer threshold: 145 at k-mer size 6 \n",
      "Index table: counting k-mers\n",
      "[=================================================================] 71.20K 0s 184ms\n",
      "Index table: Masked residues: 607456\n",
      "Index table: fill\n",
      "[=================================================================] 71.20K 0s 112ms\n",
      "Index statistics\n",
      "Entries:          9327000\n",
      "DB size:          541 MB\n",
      "Avg k-mer size:   0.145734\n",
      "Top 10 k-mers\n",
      "    DVVFEE\t119\n",
      "    LYDMNY\t67\n",
      "    QIELEQ\t60\n",
      "    TFDAFT\t54\n",
      "    VMEYLV\t53\n",
      "    LLPQLY\t38\n",
      "    VAYSEW\t33\n",
      "    GGDCDS\t31\n",
      "    CQDGLV\t31\n",
      "    PLPPPP\t29\n",
      "Time for index table init: 0h 0m 0s 681ms\n",
      "Process prefiltering step 1 of 1\n",
      "\n",
      "k-mer similarity threshold: 145\n",
      "Starting prefiltering scores calculation (step 1 of 1)\n",
      "Query db start 1 to 71201\n",
      "Target db start 1 to 71201\n",
      "[=================================================================] 71.20K 0s 731ms\n",
      "\n",
      "5.890032 k-mers per position\n",
      "317 DB matches per sequence\n",
      "0 overflows\n",
      "0 queries produce too many hits (truncated result)\n",
      "3 sequences passed prefiltering per query sequence\n",
      "1 median result list length\n",
      "0 sequences with 0 size result lists\n",
      "Time for merging to pref_step1: 0h 0m 0s 312ms\n",
      "Time for processing: 0h 0m 2s 772ms\n",
      "align /users/genomics/marta/TestisProject_SaraRazquin/with_TranscriptomeReconstruction/EvolutionaryOrigin_MMseqs/tmp/4791338529032361357/input_step1 /users/genomics/marta/TestisProject_SaraRazquin/with_TranscriptomeReconstruction/EvolutionaryOrigin_MMseqs/tmp/4791338529032361357/input_step1 /users/genomics/marta/TestisProject_SaraRazquin/with_TranscriptomeReconstruction/EvolutionaryOrigin_MMseqs/tmp/4791338529032361357/pref_step1 /users/genomics/marta/TestisProject_SaraRazquin/with_TranscriptomeReconstruction/EvolutionaryOrigin_MMseqs/tmp/4791338529032361357/aln_step1 --sub-mat 'aa:blosum62.out,nucl:nucleotide.out' -a 0 --alignment-mode 3 --alignment-output-mode 0 --wrapped-scoring 0 -e 0.001 --min-seq-id 0.5 --min-aln-len 0 --seq-id-mode 0 --alt-ali 0 -c 0.5 --cov-mode 0 --max-seq-len 65535 --comp-bias-corr 1 --comp-bias-corr-scale 1 --max-rejected 2147483647 --max-accept 2147483647 --add-self-matches 0 --db-load-mode 0 --pca substitution:1.100,context:1.400 --pcb substitution:4.100,context:5.800 --score-bias 0 --realign 0 --realign-score-bias -0.2 --realign-max-seqs 2147483647 --corr-score-weight 0 --gap-open aa:11,nucl:5 --gap-extend aa:1,nucl:2 --zdrop 40 --threads 24 --compressed 0 -v 3 \n",
      "\n",
      "Compute score, coverage and sequence identity\n",
      "Query database size: 71201 type: Aminoacid\n",
      "Target database size: 71201 type: Aminoacid\n",
      "Calculation of alignments\n",
      "[=================================================================] 71.20K 4s 523ms\n",
      "Time for merging to aln_step1: 0h 0m 0s 337ms\n",
      "151251 alignments calculated\n",
      "71997 sequence pairs passed the thresholds (0.476010 of overall calculated)\n",
      "1.011180 hits per query sequence\n",
      "Time for processing: 0h 0m 5s 607ms\n",
      "clust /users/genomics/marta/TestisProject_SaraRazquin/with_TranscriptomeReconstruction/EvolutionaryOrigin_MMseqs/tmp/4791338529032361357/input_step1 /users/genomics/marta/TestisProject_SaraRazquin/with_TranscriptomeReconstruction/EvolutionaryOrigin_MMseqs/tmp/4791338529032361357/aln_step1 /users/genomics/marta/TestisProject_SaraRazquin/with_TranscriptomeReconstruction/EvolutionaryOrigin_MMseqs/tmp/4791338529032361357/clu_step1 --cluster-mode 0 --max-iterations 1000 --similarity-type 2 --threads 24 --compressed 0 -v 3 \n",
      "\n",
      "Clustering mode: Set Cover\n",
      "[=================================================================] 71.20K 0s 4ms\n",
      "Sort entries\n",
      "Find missing connections\n",
      "Found 240 new connections.\n",
      "Reconstruct initial order\n",
      "[=================================================================] 71.20K 0s 3ms\n",
      "Add missing connections\n",
      "[=================================================================] 71.20K 0s 1ms\n",
      "\n",
      "Time for read in: 0h 0m 0s 27ms\n",
      "Total time: 0h 0m 0s 140ms\n",
      "\n",
      "Size of the sequence database: 71201\n",
      "Size of the alignment database: 71201\n",
      "Number of clusters: 70735\n",
      "\n",
      "Writing results 0h 0m 0s 11ms\n",
      "Time for merging to clu_step1: 0h 0m 0s 41ms\n",
      "Time for processing: 0h 0m 0s 304ms\n",
      "createsubdb /users/genomics/marta/TestisProject_SaraRazquin/with_TranscriptomeReconstruction/EvolutionaryOrigin_MMseqs/tmp/4791338529032361357/clu_step1 /users/genomics/marta/TestisProject_SaraRazquin/with_TranscriptomeReconstruction/EvolutionaryOrigin_MMseqs/tmp/4791338529032361357/input_step1 /users/genomics/marta/TestisProject_SaraRazquin/with_TranscriptomeReconstruction/EvolutionaryOrigin_MMseqs/tmp/4791338529032361357/input_step2 -v 3 --subdb-mode 1 \n",
      "\n",
      "Time for merging to input_step2: 0h 0m 0s 62ms\n",
      "Time for processing: 0h 0m 0s 215ms\n",
      "prefilter /users/genomics/marta/TestisProject_SaraRazquin/with_TranscriptomeReconstruction/EvolutionaryOrigin_MMseqs/tmp/4791338529032361357/input_step2 /users/genomics/marta/TestisProject_SaraRazquin/with_TranscriptomeReconstruction/EvolutionaryOrigin_MMseqs/tmp/4791338529032361357/input_step2 /users/genomics/marta/TestisProject_SaraRazquin/with_TranscriptomeReconstruction/EvolutionaryOrigin_MMseqs/tmp/4791338529032361357/pref_step2 --sub-mat 'aa:blosum62.out,nucl:nucleotide.out' --seed-sub-mat 'aa:VTML80.out,nucl:nucleotide.out' -s 3 -k 0 --k-score seq:2147483647,prof:2147483647 --alph-size aa:21,nucl:5 --max-seq-len 65535 --max-seqs 20 --split 0 --split-mode 2 --split-memory-limit 0 -c 0.5 --cov-mode 0 --comp-bias-corr 1 --comp-bias-corr-scale 1 --diag-score 1 --exact-kmer-matching 0 --mask 1 --mask-prob 0.9 --mask-lower-case 0 --min-ungapped-score 15 --add-self-matches 0 --spaced-kmer-mode 1 --db-load-mode 0 --pca substitution:1.100,context:1.400 --pcb substitution:4.100,context:5.800 --threads 24 --compressed 0 -v 3 \n",
      "\n",
      "Query database size: 70735 type: Aminoacid\n",
      "Estimated memory consumption: 1G\n",
      "Target database size: 70735 type: Aminoacid\n",
      "Index table k-mer threshold: 136 at k-mer size 6 \n",
      "Index table: counting k-mers\n",
      "[=================================================================] 70.74K 0s 192ms\n",
      "Index table: Masked residues: 583016\n",
      "Index table: fill\n",
      "[=================================================================] 70.74K 0s 138ms\n",
      "Index statistics\n",
      "Entries:          11992880\n",
      "DB size:          556 MB\n",
      "Avg k-mer size:   0.187389\n",
      "Top 10 k-mers\n",
      "    DVVFEE\t89\n",
      "    VLQLLP\t71\n",
      "    QIELEQ\t55\n",
      "    LYDMNY\t53\n",
      "    VMEYLV\t44\n",
      "    TKQLLV\t40\n",
      "    RDKELL\t32\n",
      "    VAYSEW\t32\n",
      "    RLECWL\t31\n",
      "    APPPPP\t31\n",
      "Time for index table init: 0h 0m 0s 712ms\n",
      "Process prefiltering step 1 of 1\n",
      "\n",
      "k-mer similarity threshold: 136\n",
      "Starting prefiltering scores calculation (step 1 of 1)\n",
      "Query db start 1 to 70735\n",
      "Target db start 1 to 70735\n",
      "[=================================================================] 70.74K 1s 223ms\n",
      "\n",
      "16.830232 k-mers per position\n",
      "761 DB matches per sequence\n",
      "0 overflows\n",
      "0 queries produce too many hits (truncated result)\n",
      "5 sequences passed prefiltering per query sequence\n",
      "2 median result list length\n",
      "0 sequences with 0 size result lists\n",
      "Time for merging to pref_step2: 0h 0m 0s 394ms\n",
      "Time for processing: 0h 0m 3s 366ms\n",
      "align /users/genomics/marta/TestisProject_SaraRazquin/with_TranscriptomeReconstruction/EvolutionaryOrigin_MMseqs/tmp/4791338529032361357/input_step2 /users/genomics/marta/TestisProject_SaraRazquin/with_TranscriptomeReconstruction/EvolutionaryOrigin_MMseqs/tmp/4791338529032361357/input_step2 /users/genomics/marta/TestisProject_SaraRazquin/with_TranscriptomeReconstruction/EvolutionaryOrigin_MMseqs/tmp/4791338529032361357/pref_step2 /users/genomics/marta/TestisProject_SaraRazquin/with_TranscriptomeReconstruction/EvolutionaryOrigin_MMseqs/tmp/4791338529032361357/aln_step2 --sub-mat 'aa:blosum62.out,nucl:nucleotide.out' -a 0 --alignment-mode 3 --alignment-output-mode 0 --wrapped-scoring 0 -e 0.001 --min-seq-id 0.5 --min-aln-len 0 --seq-id-mode 0 --alt-ali 0 -c 0.5 --cov-mode 0 --max-seq-len 65535 --comp-bias-corr 1 --comp-bias-corr-scale 1 --max-rejected 2147483647 --max-accept 2147483647 --add-self-matches 0 --db-load-mode 0 --pca substitution:1.100,context:1.400 --pcb substitution:4.100,context:5.800 --score-bias 0 --realign 0 --realign-score-bias -0.2 --realign-max-seqs 2147483647 --corr-score-weight 0 --gap-open aa:11,nucl:5 --gap-extend aa:1,nucl:2 --zdrop 40 --threads 24 --compressed 0 -v 3 \n",
      "\n",
      "Compute score, coverage and sequence identity\n",
      "Query database size: 70735 type: Aminoacid\n",
      "Target database size: 70735 type: Aminoacid\n",
      "Calculation of alignments\n",
      "[=================================================================] 70.74K 4s 848ms\n",
      "Time for merging to aln_step2: 0h 0m 0s 314ms\n",
      "203413 alignments calculated\n",
      "70854 sequence pairs passed the thresholds (0.348326 of overall calculated)\n",
      "1.001682 hits per query sequence\n",
      "Time for processing: 0h 0m 5s 942ms\n",
      "clust /users/genomics/marta/TestisProject_SaraRazquin/with_TranscriptomeReconstruction/EvolutionaryOrigin_MMseqs/tmp/4791338529032361357/input_step2 /users/genomics/marta/TestisProject_SaraRazquin/with_TranscriptomeReconstruction/EvolutionaryOrigin_MMseqs/tmp/4791338529032361357/aln_step2 /users/genomics/marta/TestisProject_SaraRazquin/with_TranscriptomeReconstruction/EvolutionaryOrigin_MMseqs/tmp/4791338529032361357/clu_step2 --cluster-mode 0 --max-iterations 1000 --similarity-type 2 --threads 24 --compressed 0 -v 3 \n",
      "\n",
      "Clustering mode: Set Cover\n",
      "[=================================================================] 70.74K 0s 6ms\n",
      "Sort entries\n",
      "Find missing connections\n",
      "Found 43 new connections.\n",
      "Reconstruct initial order\n",
      "[=================================================================] 70.74K 0s 6ms\n",
      "Add missing connections\n",
      "[=================================================================] 70.74K 0s 3ms\n",
      "\n",
      "Time for read in: 0h 0m 0s 51ms\n",
      "Total time: 0h 0m 0s 150ms\n",
      "\n",
      "Size of the sequence database: 70735\n",
      "Size of the alignment database: 70735\n",
      "Number of clusters: 70654\n",
      "\n",
      "Writing results 0h 0m 0s 14ms\n",
      "Time for merging to clu_step2: 0h 0m 0s 64ms\n",
      "Time for processing: 0h 0m 0s 332ms\n",
      "mergeclusters /users/genomics/marta/TestisProject_SaraRazquin/with_TranscriptomeReconstruction/EvolutionaryOrigin_MMseqs/MMseqsDB/species_and_humanDB /users/genomics/marta/TestisProject_SaraRazquin/with_TranscriptomeReconstruction/EvolutionaryOrigin_MMseqs/Clustering/species_and_human_cluDB /users/genomics/marta/TestisProject_SaraRazquin/with_TranscriptomeReconstruction/EvolutionaryOrigin_MMseqs/tmp/4791338529032361357/clu_redundancy /users/genomics/marta/TestisProject_SaraRazquin/with_TranscriptomeReconstruction/EvolutionaryOrigin_MMseqs/tmp/4791338529032361357/clu_step0 /users/genomics/marta/TestisProject_SaraRazquin/with_TranscriptomeReconstruction/EvolutionaryOrigin_MMseqs/tmp/4791338529032361357/clu_step1 /users/genomics/marta/TestisProject_SaraRazquin/with_TranscriptomeReconstruction/EvolutionaryOrigin_MMseqs/tmp/4791338529032361357/clu_step2 --threads 24 --compressed 0 -v 3 \n",
      "\n",
      "Clustering step 1\n",
      "[=================================================================] 79.04K 0s 66ms\n",
      "Clustering step 2\n",
      "[=================================================================] 71.20K 0s 88ms\n",
      "Clustering step 3\n",
      "[=================================================================] 70.74K 0s 114ms\n",
      "Clustering step 4\n",
      "[=================================================================] 70.65K 0s 156ms\n",
      "Write merged clustering\n",
      "[=================================================================] 139.27K 0s 867ms\n",
      "Time for merging to species_and_human_cluDB: 0h 0m 0s 364ms\n",
      "Time for processing: 0h 0m 1s 397ms\n",
      "createtsv /users/genomics/marta/TestisProject_SaraRazquin/with_TranscriptomeReconstruction/EvolutionaryOrigin_MMseqs/MMseqsDB/species_and_humanDB /users/genomics/marta/TestisProject_SaraRazquin/with_TranscriptomeReconstruction/EvolutionaryOrigin_MMseqs/MMseqsDB/species_and_humanDB /users/genomics/marta/TestisProject_SaraRazquin/with_TranscriptomeReconstruction/EvolutionaryOrigin_MMseqs/Clustering/species_and_human_cluDB /users/genomics/marta/TestisProject_SaraRazquin/with_TranscriptomeReconstruction/EvolutionaryOrigin_MMseqs/Clustering/species_and_human_cluDB.tsv \n",
      "\n",
      "MMseqs Version:                 \t14.7e284\n",
      "First sequence as representative\tfalse\n",
      "Target column                   \t1\n",
      "Add full header                 \tfalse\n",
      "Sequence source                 \t0\n",
      "Database output                 \tfalse\n",
      "Threads                         \t24\n",
      "Compressed                      \t0\n",
      "Verbosity                       \t3\n",
      "\n",
      "Time for merging to species_and_human_cluDB.tsv: 0h 0m 1s 220ms\n",
      "Time for processing: 0h 0m 2s 603ms\n"
     ]
    }
   ],
   "source": [
    "%%bash -s \"$evoDir\" \"$users_dir\"\n",
    "\n",
    "module load Miniconda3/4.9.2\n",
    "source /soft/system/software/Miniconda3/4.9.2/bin/activate MMseqs2\n",
    "\n",
    "mkdir -p $1/Clustering\n",
    "\n",
    "rm -r $1/Clustering/species_and_human_cluDB*\n",
    "\n",
    "## cluster all species and human\n",
    "mmseqs cluster -c 0.5 --min-seq-id 0.5 $1/MMseqsDB/species_and_humanDB $1/Clustering/species_and_human_cluDB $1/tmp\n",
    "mmseqs createtsv $1/MMseqsDB/species_and_humanDB $1/MMseqsDB/species_and_humanDB $1/Clustering/species_and_human_cluDB $1/Clustering/species_and_human_cluDB.tsv"
   ]
  },
  {
   "attachments": {},
   "cell_type": "markdown",
   "metadata": {},
   "source": [
    "## Analysis"
   ]
  },
  {
   "cell_type": "code",
   "execution_count": 33,
   "metadata": {},
   "outputs": [
    {
     "data": {
      "text/html": [
       "<div>\n",
       "<style scoped>\n",
       "    .dataframe tbody tr th:only-of-type {\n",
       "        vertical-align: middle;\n",
       "    }\n",
       "\n",
       "    .dataframe tbody tr th {\n",
       "        vertical-align: top;\n",
       "    }\n",
       "\n",
       "    .dataframe thead th {\n",
       "        text-align: right;\n",
       "    }\n",
       "</style>\n",
       "<table border=\"1\" class=\"dataframe\">\n",
       "  <thead>\n",
       "    <tr style=\"text-align: right;\">\n",
       "      <th></th>\n",
       "      <th>gene_id</th>\n",
       "      <th>transcript_id</th>\n",
       "      <th>gene_type</th>\n",
       "      <th>gene_name</th>\n",
       "    </tr>\n",
       "  </thead>\n",
       "  <tbody>\n",
       "    <tr>\n",
       "      <th>0</th>\n",
       "      <td>ENSG00000210049</td>\n",
       "      <td>ENST00000387314</td>\n",
       "      <td>Mt_tRNA</td>\n",
       "      <td>MT-TF</td>\n",
       "    </tr>\n",
       "    <tr>\n",
       "      <th>1</th>\n",
       "      <td>ENSG00000211459</td>\n",
       "      <td>ENST00000389680</td>\n",
       "      <td>Mt_rRNA</td>\n",
       "      <td>MT-RNR1</td>\n",
       "    </tr>\n",
       "    <tr>\n",
       "      <th>2</th>\n",
       "      <td>ENSG00000210077</td>\n",
       "      <td>ENST00000387342</td>\n",
       "      <td>Mt_tRNA</td>\n",
       "      <td>MT-TV</td>\n",
       "    </tr>\n",
       "    <tr>\n",
       "      <th>3</th>\n",
       "      <td>ENSG00000210082</td>\n",
       "      <td>ENST00000387347</td>\n",
       "      <td>Mt_rRNA</td>\n",
       "      <td>MT-RNR2</td>\n",
       "    </tr>\n",
       "    <tr>\n",
       "      <th>4</th>\n",
       "      <td>ENSG00000209082</td>\n",
       "      <td>ENST00000386347</td>\n",
       "      <td>Mt_tRNA</td>\n",
       "      <td>MT-TL1</td>\n",
       "    </tr>\n",
       "    <tr>\n",
       "      <th>...</th>\n",
       "      <td>...</td>\n",
       "      <td>...</td>\n",
       "      <td>...</td>\n",
       "      <td>...</td>\n",
       "    </tr>\n",
       "    <tr>\n",
       "      <th>62857</th>\n",
       "      <td>XLOC_000009</td>\n",
       "      <td>TCONS_00000010</td>\n",
       "      <td>novel</td>\n",
       "      <td>XLOC_000009</td>\n",
       "    </tr>\n",
       "    <tr>\n",
       "      <th>62858</th>\n",
       "      <td>XLOC_000009</td>\n",
       "      <td>TCONS_00000008</td>\n",
       "      <td>novel</td>\n",
       "      <td>XLOC_000009</td>\n",
       "    </tr>\n",
       "    <tr>\n",
       "      <th>62859</th>\n",
       "      <td>XLOC_000010</td>\n",
       "      <td>TCONS_00000011</td>\n",
       "      <td>novel</td>\n",
       "      <td>XLOC_000010</td>\n",
       "    </tr>\n",
       "    <tr>\n",
       "      <th>62860</th>\n",
       "      <td>XLOC_000011</td>\n",
       "      <td>TCONS_00000013</td>\n",
       "      <td>novel</td>\n",
       "      <td>XLOC_000011</td>\n",
       "    </tr>\n",
       "    <tr>\n",
       "      <th>62861</th>\n",
       "      <td>XLOC_000012</td>\n",
       "      <td>TCONS_00000012</td>\n",
       "      <td>novel</td>\n",
       "      <td>XLOC_000012</td>\n",
       "    </tr>\n",
       "  </tbody>\n",
       "</table>\n",
       "<p>62862 rows × 4 columns</p>\n",
       "</div>"
      ],
      "text/plain": [
       "               gene_id    transcript_id gene_type    gene_name\n",
       "0      ENSG00000210049  ENST00000387314   Mt_tRNA        MT-TF\n",
       "1      ENSG00000211459  ENST00000389680   Mt_rRNA      MT-RNR1\n",
       "2      ENSG00000210077  ENST00000387342   Mt_tRNA        MT-TV\n",
       "3      ENSG00000210082  ENST00000387347   Mt_rRNA      MT-RNR2\n",
       "4      ENSG00000209082  ENST00000386347   Mt_tRNA       MT-TL1\n",
       "...                ...              ...       ...          ...\n",
       "62857      XLOC_000009   TCONS_00000010     novel  XLOC_000009\n",
       "62858      XLOC_000009   TCONS_00000008     novel  XLOC_000009\n",
       "62859      XLOC_000010   TCONS_00000011     novel  XLOC_000010\n",
       "62860      XLOC_000011   TCONS_00000013     novel  XLOC_000011\n",
       "62861      XLOC_000012   TCONS_00000012     novel  XLOC_000012\n",
       "\n",
       "[62862 rows x 4 columns]"
      ]
     },
     "execution_count": 33,
     "metadata": {},
     "output_type": "execute_result"
    }
   ],
   "source": [
    "transcript_gene"
   ]
  },
  {
   "cell_type": "code",
   "execution_count": 36,
   "metadata": {},
   "outputs": [
    {
     "name": "stdout",
     "output_type": "stream",
     "text": [
      "Conserved noncoding human ORFs\n",
      "81\n",
      "Non-Conserved noncoding human ORFs\n",
      "1580\n",
      "Conserved canonical human ORFs\n",
      "2025\n",
      "Conserved canonical human ORFs as noncoding in other species\n",
      "1999\n",
      "Conserved canonical human ORFs as canonical in other species\n",
      "353\n",
      "Non-Conserved canonical human ORFs\n",
      "2427\n"
     ]
    }
   ],
   "source": [
    "clustering = pd.read_csv(os.path.join(evoDir,\"Clustering/species_and_human_cluDB.tsv\"), header=None, sep=\"\\t\")\n",
    "clustering = clustering[clustering[0].str.startswith(\"ENST\")]\n",
    "clustering['transcript_id'] = clustering[0].str.split(\":\", expand=True)[0]\n",
    "clustering['transcript_id'] = clustering[0].str.split(\".\", expand=True)[0]\n",
    "\n",
    "clustering = clustering.merge(transcript_gene, on=\"transcript_id\")\n",
    "clustering = clustering[[\"gene_name\",\"gene_type\",0,1]]\n",
    "## non-coding\n",
    "noncoding = clustering[clustering[0].str.contains(\"noncoding\")]\n",
    "noncoding.to_csv(os.path.join(evoDir,\"Clustering/noncodingHuman_speciesDB.tsv\"), header=None, index=None, sep=\"\\t\")\n",
    "\n",
    "noncoding_conserved = noncoding[~noncoding[1].str.startswith(\"ENST\")]\n",
    "noncoding_conserved.to_csv(os.path.join(evoDir,\"Clustering/noncodingHuman_Conserved.tsv\"), header=None, index=None, sep=\"\\t\")\n",
    "print(\"Conserved noncoding human ORFs\")\n",
    "print(len(set(noncoding_conserved[0].values.tolist())))\n",
    "\n",
    "noncoding_NonConserved = noncoding[noncoding[1].str.startswith(\"ENST\")]\n",
    "noncoding_NonConserved.to_csv(os.path.join(evoDir,\"Clustering/noncodingHuman_NonConserved.tsv\"), header=None, index=None, sep=\"\\t\")\n",
    "print(\"Non-Conserved noncoding human ORFs\")\n",
    "print(len(set(noncoding_NonConserved[0].values.tolist())))\n",
    "\n",
    "\n",
    "## canonical\n",
    "canonical = clustering[clustering[0].str.contains(\"canonical\")]\n",
    "canonical.to_csv(os.path.join(evoDir,\"Clustering/canonicalHuman_speciesDB.tsv\"), header=None, index=None, sep=\"\\t\")\n",
    "\n",
    "canonical_conserved = canonical[~canonical[1].str.startswith(\"ENST\")]\n",
    "canonical_conserved.to_csv(os.path.join(evoDir,\"Clustering/canonicalHuman_Conserved.tsv\"), header=None, index=None, sep=\"\\t\")\n",
    "print(\"Conserved canonical human ORFs\")\n",
    "print(len(set(canonical_conserved[0].values.tolist())))\n",
    "\n",
    "canonical_conserved_noncoding = canonical_conserved[~canonical_conserved[1].str.contains(\"noncoding\")]\n",
    "canonical_conserved_noncoding.to_csv(os.path.join(evoDir,\"Clustering/canonicalHuman_ConservedAsNoncoding.tsv\"), header=None, index=None, sep=\"\\t\")\n",
    "print(\"Conserved canonical human ORFs as noncoding in other species\")\n",
    "print(len(set(canonical_conserved_noncoding[0].values.tolist())))\n",
    "\n",
    "canonical_conserved_canonical = canonical_conserved[~canonical_conserved[1].str.contains(\"canonical\")]\n",
    "canonical_conserved_canonical.to_csv(os.path.join(evoDir,\"Clustering/canonicalHuman_ConservedAsCanonical.tsv\"), header=None, index=None, sep=\"\\t\")\n",
    "print(\"Conserved canonical human ORFs as canonical in other species\")\n",
    "print(len(set(canonical_conserved_canonical[0].values.tolist())))\n",
    "\n",
    "canonical_NonConserved = canonical[canonical[1].str.startswith(\"ENST\")]\n",
    "canonical_NonConserved.to_csv(os.path.join(evoDir,\"Clustering/canonicalHuman_NonConserved.tsv\"), header=None, index=None, sep=\"\\t\")\n",
    "print(\"Non-Conserved canonical human ORFs\")\n",
    "print(len(set(canonical_NonConserved[0].values.tolist())))\n"
   ]
  },
  {
   "cell_type": "code",
   "execution_count": null,
   "metadata": {},
   "outputs": [],
   "source": []
  }
 ],
 "metadata": {
  "kernelspec": {
   "display_name": "Python 3",
   "language": "python",
   "name": "python3"
  },
  "language_info": {
   "codemirror_mode": {
    "name": "ipython",
    "version": 3
   },
   "file_extension": ".py",
   "mimetype": "text/x-python",
   "name": "python",
   "nbconvert_exporter": "python",
   "pygments_lexer": "ipython3",
   "version": "3.8.10"
  },
  "orig_nbformat": 4
 },
 "nbformat": 4,
 "nbformat_minor": 2
}
