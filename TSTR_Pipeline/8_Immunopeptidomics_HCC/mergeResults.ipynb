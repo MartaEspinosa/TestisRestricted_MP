{
 "cells": [
  {
   "cell_type": "code",
   "execution_count": 1,
   "metadata": {},
   "outputs": [],
   "source": [
    "import os, re\n",
    "import pandas as pd\n",
    "\n",
    "dir = \"/users/genomics/marta/241205_Immunopeptidomics_HCC\""
   ]
  },
  {
   "cell_type": "code",
   "execution_count": 3,
   "metadata": {},
   "outputs": [],
   "source": [
    "melanoma = pd.read_csv(os.path.join(dir,\"results/Melanoma_hits_combined_noredundant.csv\"))\n",
    "lung = pd.read_csv(os.path.join(dir,\"results/LUNG_hits_combined_noredundant.csv\"))\n",
    "hcc = pd.read_csv(os.path.join(dir,\"results/hits_combined_noredundant.csv\"))\n",
    "\n",
    "results = pd.concat([melanoma, lung, hcc])\n",
    "results.sort_values(by=\"sequence\")\n",
    "results.sort_values(by=\"sequence\").to_csv(os.path.join(dir,\"results/merged/merged_results_HCC_LUNG_Melanoma.csv\"), index=None)"
   ]
  },
  {
   "cell_type": "code",
   "execution_count": null,
   "metadata": {},
   "outputs": [],
   "source": []
  }
 ],
 "metadata": {
  "kernelspec": {
   "display_name": "Python 3",
   "language": "python",
   "name": "python3"
  },
  "language_info": {
   "codemirror_mode": {
    "name": "ipython",
    "version": 3
   },
   "file_extension": ".py",
   "mimetype": "text/x-python",
   "name": "python",
   "nbconvert_exporter": "python",
   "pygments_lexer": "ipython3",
   "version": "3.8.10"
  }
 },
 "nbformat": 4,
 "nbformat_minor": 2
}
