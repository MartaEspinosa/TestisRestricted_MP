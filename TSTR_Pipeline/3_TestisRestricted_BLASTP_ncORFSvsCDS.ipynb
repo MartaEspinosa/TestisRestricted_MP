{
 "cells": [
  {
   "cell_type": "code",
   "execution_count": 1,
   "metadata": {},
   "outputs": [],
   "source": [
    "import os,re,glob\n",
    "import pandas as pd\n",
    "import numpy as np\n",
    "\n",
    "def save_to_fasta(df, filename):\n",
    "    with open(filename, 'w') as f:\n",
    "        for index, row in df.iterrows():\n",
    "            f.write(f\">{row['orfID']}\\n\")\n",
    "            f.write(f\"{row['ORFpep']}\\n\")\n",
    "# dir=\"/projects_eg/projects/marta/TestisRestricted_Microproteins_TSA/with_TranscriptomeReconstruction/Q2_TestisRestricted/human\"\n",
    "dir=\"/projects_eg/projects/marta/TestisRestricted_Microproteins_TSA/with_TranscriptomeReconstruction/Multimap_altORFs/Q2_TestisRestricted/human\""
   ]
  },
  {
   "cell_type": "code",
   "execution_count": 2,
   "metadata": {},
   "outputs": [
    {
     "name": "stdout",
     "output_type": "stream",
     "text": [
      "366\n",
      "706\n"
     ]
    },
    {
     "name": "stderr",
     "output_type": "stream",
     "text": [
      "/tmp/ipykernel_3016054/420442148.py:16: SettingWithCopyWarning: \n",
      "A value is trying to be set on a copy of a slice from a DataFrame.\n",
      "Try using .loc[row_indexer,col_indexer] = value instead\n",
      "\n",
      "See the caveats in the documentation: https://pandas.pydata.org/pandas-docs/stable/user_guide/indexing.html#returning-a-view-versus-a-copy\n",
      "  NonCanonical['orfID_gene_type'] = NonCanonical['gene_type'] + \"|\" + NonCanonical['orfID']\n"
     ]
    }
   ],
   "source": [
    "testisSp = pd.read_csv(os.path.join(dir,\"testisRestricted_GTEx_translatedONLYtestis.csv\"))\n",
    "testisSp\n",
    "\n",
    "## select protein coding sequences\n",
    "ProteinCoding = testisSp[testisSp['geneORFtype'] == \"protein_coding_canonical\"]\n",
    "ProteinCoding = ProteinCoding[['orfID','ORFpep']]\n",
    "ProteinCoding['orfID'] = ProteinCoding.orfID.str.split(\"canonical\", expand=True)[0]\n",
    "ProteinCoding.drop_duplicates(inplace=True)\n",
    "print(len(ProteinCoding))\n",
    "\n",
    "## save the fasta sequences\n",
    "save_to_fasta(ProteinCoding, os.path.join(dir,\"testisRestricted_GTEx_translatedONLYtestis.PCoding.fa\"))\n",
    "\n",
    "## select non-canonical sequences\n",
    "NonCanonical = testisSp[testisSp['geneORFtype'] != \"protein_coding_canonical\"]\n",
    "NonCanonical['orfID_gene_type'] = NonCanonical['gene_type'] + \"|\" + NonCanonical['orfID']\n",
    "NonCanonical = NonCanonical[['orfID_gene_type','ORFpep','geneORFtype']]\n",
    "NonCanonical.columns = ['orfID','ORFpep','geneORFtype']\n",
    "NonCanonical.drop_duplicates(inplace=True)\n",
    "print(len(NonCanonical))\n",
    "\n",
    "## save the fasta sequences\n",
    "save_to_fasta(NonCanonical, os.path.join(dir,\"testisRestricted_GTEx_translatedONLYtestis.NonCanonical.fa\"))\n"
   ]
  },
  {
   "cell_type": "code",
   "execution_count": 3,
   "metadata": {},
   "outputs": [
    {
     "name": "stdout",
     "output_type": "stream",
     "text": [
      "lncRNA:  309\n",
      "Novel:  224\n",
      "processed_pseudogene:  30\n",
      "uORFs:  66\n",
      "dORFs:  33\n",
      "ouORFs:  33\n",
      "odORFs:  11\n"
     ]
    }
   ],
   "source": [
    "NonCanonical['gene_type'] = NonCanonical.orfID.str.split(\"|\", expand=True)[0]\n",
    "print(\"lncRNA: \", len(NonCanonical[NonCanonical['gene_type'] == \"lncRNA\"]))\n",
    "print(\"Novel: \", len(NonCanonical[NonCanonical['gene_type'] == \"novel\"]))\n",
    "print(\"processed_pseudogene: \", len(NonCanonical[NonCanonical['gene_type'] == \"processed_pseudogene\"]))\n",
    "print(\"uORFs: \", len(NonCanonical[NonCanonical['geneORFtype'] == \"protein_coding_uORF\"]))\n",
    "print(\"dORFs: \", len(NonCanonical[NonCanonical['geneORFtype'] == \"protein_coding_dORF\"]))\n",
    "print(\"ouORFs: \", len(NonCanonical[NonCanonical['geneORFtype'] == \"protein_coding_ouORF\"]))\n",
    "print(\"odORFs: \", len(NonCanonical[NonCanonical['geneORFtype'] == \"protein_coding_odORF\"]))"
   ]
  },
  {
   "attachments": {},
   "cell_type": "markdown",
   "metadata": {},
   "source": [
    "BLASTP so that sequences from ncORFs do not come from CDS"
   ]
  },
  {
   "cell_type": "code",
   "execution_count": 4,
   "metadata": {},
   "outputs": [
    {
     "name": "stdout",
     "output_type": "stream",
     "text": [
      "\n",
      "\n",
      "Building a new DB, current time: 12/11/2024 15:18:54\n",
      "New DB name:   /projects_eg/projects/marta/TestisRestricted_Microproteins_TSA/with_TranscriptomeReconstruction/Multimap_altORFs/Q2_TestisRestricted/human/blastp/testisRestricted_GTEx_translatedONLYtestis.PCoding\n",
      "New DB title:  /projects_eg/projects/marta/TestisRestricted_Microproteins_TSA/with_TranscriptomeReconstruction/Multimap_altORFs/Q2_TestisRestricted/human/testisRestricted_GTEx_translatedONLYtestis.PCoding.fa\n",
      "Sequence type: Protein\n",
      "Deleted existing Protein BLAST database named /projects_eg/projects/marta/TestisRestricted_Microproteins_TSA/with_TranscriptomeReconstruction/Multimap_altORFs/Q2_TestisRestricted/human/blastp/testisRestricted_GTEx_translatedONLYtestis.PCoding\n",
      "Keep MBits: T\n",
      "Maximum file size: 1000000000B\n",
      "Adding sequences from FASTA; added 366 sequences in 0.029448 seconds.\n",
      "\n",
      "\n"
     ]
    }
   ],
   "source": [
    "%%bash -s \"$dir\"\n",
    "\n",
    "## create blastp database\n",
    "module load BLAST+/2.12.0-Linux_x86_64\n",
    "\n",
    "mkdir -p $1/blastp\n",
    "\n",
    "makeblastdb -in $1/testisRestricted_GTEx_translatedONLYtestis.PCoding.fa -out $1/blastp/testisRestricted_GTEx_translatedONLYtestis.PCoding -parse_seqids -dbtype prot\n"
   ]
  },
  {
   "cell_type": "code",
   "execution_count": 5,
   "metadata": {},
   "outputs": [],
   "source": [
    "%%bash -s \"$dir\"\n",
    "\n",
    "module load BLAST+/2.12.0-Linux_x86_64\n",
    "\n",
    "## testis-expressed vs MACACA\n",
    "blastp -query $1/testisRestricted_GTEx_translatedONLYtestis.NonCanonical.fa \\\n",
    "-db $1/blastp/testisRestricted_GTEx_translatedONLYtestis.PCoding \\\n",
    "-task 'blastp-short' \\\n",
    "-out $1/blastp/TestisRestrictedGTEx_ncORFsvsCDS.txt \\\n",
    "-evalue 0.0001 \\\n",
    "-outfmt \"6 qseqid sseqid pident length mismatch gapopen qstart qend sstart send evalue bitscore qlen slen qframe sframe sstrand qcovs\"\n"
   ]
  },
  {
   "attachments": {},
   "cell_type": "markdown",
   "metadata": {},
   "source": [
    "3 ncORFs from processed pseudogenes and 1 from lncRNA had homology with a protein-coding sequence, so we removed them"
   ]
  },
  {
   "cell_type": "code",
   "execution_count": 6,
   "metadata": {},
   "outputs": [
    {
     "name": "stdout",
     "output_type": "stream",
     "text": [
      "\n",
      "\n",
      "Building a new DB, current time: 12/11/2024 15:18:57\n",
      "New DB name:   /data/genomics/marta/genomes/GRCh38/Homo_sapiens.GRCh38.pep.all.blastpdb\n",
      "New DB title:  /data/genomics/marta/genomes/GRCh38/Homo_sapiens.GRCh38.pep.all.fa\n",
      "Sequence type: Protein\n",
      "Deleted existing Protein BLAST database named /data/genomics/marta/genomes/GRCh38/Homo_sapiens.GRCh38.pep.all.blastpdb\n",
      "Keep MBits: T\n",
      "Maximum file size: 1000000000B\n",
      "Adding sequences from FASTA; added 110788 sequences in 2.16732 seconds.\n",
      "\n",
      "\n"
     ]
    }
   ],
   "source": [
    "%%bash -s \"$dir\"\n",
    "\n",
    "## create blastp database\n",
    "module load BLAST+/2.12.0-Linux_x86_64\n",
    "\n",
    "mkdir -p $1/blastp\n",
    "\n",
    "makeblastdb -in /data/genomics/marta/genomes/GRCh38/Homo_sapiens.GRCh38.pep.all.fa -out /data/genomics/marta/genomes/GRCh38/Homo_sapiens.GRCh38.pep.all.blastpdb -parse_seqids -dbtype prot\n"
   ]
  },
  {
   "cell_type": "code",
   "execution_count": 7,
   "metadata": {},
   "outputs": [],
   "source": [
    "%%bash -s \"$dir\"\n",
    "\n",
    "module load BLAST+/2.12.0-Linux_x86_64\n",
    "\n",
    "blastp -query $1/testisRestricted_GTEx_translatedONLYtestis.NonCanonical.fa \\\n",
    "-db /data/genomics/marta/genomes/GRCh38/Homo_sapiens.GRCh38.pep.all.blastpdb \\\n",
    "-task 'blastp-short' \\\n",
    "-out $1/blastp/TestisRestrictedGTEx_ncORFsvsProteome.txt \\\n",
    "-evalue 0.0001 \\\n",
    "-outfmt \"6 qseqid sseqid pident length mismatch gapopen qstart qend sstart send evalue bitscore qlen slen qframe sframe sstrand qcovs\"\n",
    "\n"
   ]
  },
  {
   "attachments": {},
   "cell_type": "markdown",
   "metadata": {},
   "source": [
    "If, instead, we do it against all the proteome (GRCh38), we would remove 3 lncRNA-ORFs, 2 novel-ORFs and 20 processedPseudogene ORFs from 17 processed psuedogenes"
   ]
  },
  {
   "cell_type": "code",
   "execution_count": 8,
   "metadata": {},
   "outputs": [
    {
     "name": "stdout",
     "output_type": "stream",
     "text": [
      "1072\n",
      "1034\n",
      "lncRNA:  306\n",
      "Novel:  222\n",
      "processed_pseudogene:  11\n",
      "uORFs:  65\n",
      "dORFs:  25\n",
      "ouORFs:  33\n",
      "odORFs:  6\n"
     ]
    }
   ],
   "source": [
    "blastp_proteome = pd.read_csv(os.path.join(dir,\"blastp/TestisRestrictedGTEx_ncORFsvsProteome.txt\"), sep=\"\\t\", header=None)\n",
    "blastp_proteome['orfID'] = blastp_proteome[0].str.split(\"|\", n=1).str.get(1)\n",
    "blastp_proteome\n",
    "print(len(testisSp))\n",
    "testisSp_noProteome = testisSp[~testisSp['orfID'].isin(blastp_proteome.orfID.values.tolist())]\n",
    "print(len(testisSp_noProteome))\n",
    "testisSp_noProteome.to_csv(os.path.join(dir,\"testisRestricted_GTEx_translatedONLYtestis.noProteome.csv\"))\n",
    "testisSp_noProteome\n",
    "print(\"lncRNA: \", len(testisSp_noProteome[testisSp_noProteome['gene_type'] == \"lncRNA\"]))\n",
    "print(\"Novel: \", len(testisSp_noProteome[testisSp_noProteome['gene_type'] == \"novel\"]))\n",
    "print(\"processed_pseudogene: \", len(testisSp_noProteome[testisSp_noProteome['gene_type'] == \"processed_pseudogene\"]))\n",
    "print(\"uORFs: \", len(testisSp_noProteome[testisSp_noProteome['geneORFtype'] == \"protein_coding_uORF\"]))\n",
    "print(\"dORFs: \", len(testisSp_noProteome[testisSp_noProteome['geneORFtype'] == \"protein_coding_dORF\"]))\n",
    "print(\"ouORFs: \", len(testisSp_noProteome[testisSp_noProteome['geneORFtype'] == \"protein_coding_ouORF\"]))\n",
    "print(\"odORFs: \", len(testisSp_noProteome[testisSp_noProteome['geneORFtype'] == \"protein_coding_odORF\"]))"
   ]
  }
 ],
 "metadata": {
  "kernelspec": {
   "display_name": "Python 3",
   "language": "python",
   "name": "python3"
  },
  "language_info": {
   "codemirror_mode": {
    "name": "ipython",
    "version": 3
   },
   "file_extension": ".py",
   "mimetype": "text/x-python",
   "name": "python",
   "nbconvert_exporter": "python",
   "pygments_lexer": "ipython3",
   "version": "3.8.10"
  },
  "orig_nbformat": 4
 },
 "nbformat": 4,
 "nbformat_minor": 2
}
