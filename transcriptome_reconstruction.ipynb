{
 "cells": [
  {
   "cell_type": "code",
   "execution_count": 1,
   "metadata": {},
   "outputs": [],
   "source": [
    "import os,re,glob\n",
    "import pandas as pd\n",
    "import numpy as np\n",
    "from collections import Counter\n",
    "\n",
    "users_dir = \"/users/genomics/marta/TestisProject_SaraRazquin/with_TranscriptomeReconstruction\"\n",
    "specie = \"human\"\n",
    "GENOMEDIR = \"/genomics/users/marta/genomes\"\n"
   ]
  },
  {
   "attachments": {},
   "cell_type": "markdown",
   "metadata": {},
   "source": [
    "Bams are processed by Sara --> look for the scripts\n",
    "\n",
    "Outputs are in:\n",
    "\n",
    "`/users/genomics/saraa/projectTestis/STAR/{human/macaca/mouse}`"
   ]
  },
  {
   "attachments": {},
   "cell_type": "markdown",
   "metadata": {},
   "source": [
    "\n",
    "## Stranded?\n"
   ]
  },
  {
   "cell_type": "code",
   "execution_count": null,
   "metadata": {},
   "outputs": [],
   "source": [
    "%%bash -s \"$users_dir\" \"$GENOMEDIR\" \"$specie\"\n",
    "\n",
    "BAMDIR=/users/genomics/saraa/projectTestis/STAR/$3\n",
    "OUTDIR=$1/$3/RSeQC\n",
    "\n",
    "mkdir $OUTDIR\n",
    "\n",
    "for file in $BAMDIR/*Log.final.out; do\n",
    "    name=${file%%Log.*}\n",
    "    name=${name##*/}\n",
    "\n",
    "    ###################### get num of uniquely aligned reads #######################\n",
    "    uniq_mapped_reads=$(sed '9q;d' ${BAMDIR}/${name}Log.final.out | awk '{print $6}')\n",
    "    echo $uniq_mapped_reads\n",
    "    ############################## RSEQC ###########################################\n",
    "    module load Miniconda3/4.9.2\n",
    "\n",
    "    if [ \"$specie\" == \"human\" ]; then\n",
    "        infer_experiment.py -r $2/Annot_files_GTF/gencode.v38.primary_assembly.annotation_gene.bed -i ${BAMDIR}/${name}Aligned.sortedByCoord.out.bam -s $uniq_mapped_reads > $OUTDIR/${name}.out\n",
    "    fi\n",
    "done\n"
   ]
  },
  {
   "cell_type": "code",
   "execution_count": 5,
   "metadata": {},
   "outputs": [],
   "source": [
    "%%bash -s \"$users_dir\" \"$specie\"\n",
    "\n",
    "OUTDIR=$1/$2/RSeQC\n",
    "\n",
    "# output for stringtie\n",
    "\n",
    "if [[ -f $OUTDIR/summary_stringtie.csv ]]; then\n",
    "    rm $OUTDIR/summary_stringtie.csv\n",
    "fi\n",
    "\n",
    "for file in $OUTDIR/*out; do\n",
    "    sample=${file##*/}\n",
    "    sample=${sample%%.out*}\n",
    "    echo -e $sample\"\\t\"$(python ~/Documents/scripts/Chris_decide_strandness_parameter.py -tab $file -tool stringtie) >> $OUTDIR/summary_stringtie.csv\n",
    "done\n"
   ]
  },
  {
   "cell_type": "code",
   "execution_count": 5,
   "metadata": {},
   "outputs": [],
   "source": [
    "%%bash -s \"$users_dir\" \"$specie\"\n",
    "\n",
    "OUTDIR=$1/$2/RSeQC\n",
    "\n",
    "# output for featureCounts\n",
    "\n",
    "if [[ -f $OUTDIR/summary_featureCounts.csv ]]; then\n",
    "    rm $OUTDIR/summary_featureCounts.csv\n",
    "fi\n",
    "\n",
    "for file in $OUTDIR/*out; do\n",
    "    sample=${file##*/}\n",
    "    sample=${sample%%.out*}\n",
    "    echo -e $sample\"\\t\"$(python ~/Documents/scripts/Chris_decide_strandness_parameter.py -tab $file -tool featureCounts) >> $OUTDIR/summary_featureCounts.csv\n",
    "done\n"
   ]
  },
  {
   "cell_type": "code",
   "execution_count": 12,
   "metadata": {},
   "outputs": [],
   "source": [
    "%%bash -s \"$users_dir\" \"$specie\" \"$GENOMEDIR\"\n",
    "\n",
    "BAMDIR=/users/genomics/saraa/projectTestis/STAR/$2\n",
    "\n",
    "module load stringtie/2.2.0\n",
    "\n",
    "OUTDIR=$1/$2/stringtieReconstruction\n",
    "mkdir -p $OUTDIR\n",
    "\n",
    "GENOMEDIR=$3\n",
    "\n",
    "REF=$GENOMEDIR/Annot_files_GTF/gencode.v38.primary_assembly.annotation.gtf\n",
    "\n",
    "while read sample strand; do\n",
    "    ######################################################################################################\n",
    "    #####################################STRINGTIE########################################################\n",
    "    if [[ $strand == \"rf\" ]]; then\n",
    "        stringtie $BAMDIR/${sample}Aligned.sortedByCoord.out.bam -G $REF --conservative --rf -o $OUTDIR/${sample}.gtf -C $OUTDIR/${sample}_cov.gtf\n",
    "    elif [[ $strand == \"fr\" ]]; then\n",
    "        stringtie $BAMDIR/${sample}Aligned.sortedByCoord.out.bam -G $REF --conservative --fr -o $OUTDIR/${sample}.gtf -C $OUTDIR/${sample}_cov.gtf\n",
    "    else\n",
    "        stringtie $BAMDIR/${sample}Aligned.sortedByCoord.out.bam -G $REF --conservative -o $OUTDIR/${sample}.gtf -C $OUTDIR/${sample}_cov.gtf\n",
    "    fi\n",
    "done < $1/$2/RSeQC/summary_stringtie.csv\n",
    "\n"
   ]
  },
  {
   "attachments": {},
   "cell_type": "markdown",
   "metadata": {},
   "source": [
    "#### Make summary"
   ]
  },
  {
   "cell_type": "code",
   "execution_count": 13,
   "metadata": {},
   "outputs": [],
   "source": [
    "%%bash -s \"$users_dir\" \"$specie\"\n",
    "## Total transcriptome + Presumably annotated + Presumably novel\n",
    "OUT=$1/$2/stringtieReconstruction/transcriptomeReconstruction.csv\n",
    "\n",
    "if [ -f \"$OUT\" ] ; then\n",
    "    rm \"$OUT\"\n",
    "fi\n",
    "echo -e \"Sample\\tTotal_transcripts\\tAnnotated_transcripts\\tNovel_transcript\" >> $OUT\n",
    "\n",
    "for file in $1/$2/stringtieReconstruction/*gtf; do\n",
    "    if [[ ${file} != *\"cov\"* ]]; then \n",
    "        name=\"${file%%.*}\"\n",
    "        name=\"${name##*/}\"\n",
    "        echo -e $name\"\\t\"$(awk '($3 == \"transcript\") {print}' $file | wc -l)\"\\t\"$(awk '($3 == \"transcript\") {print}' $file | grep \"reference\" | wc -l)\"\\t\"$(awk '($3 == \"transcript\") {print}' $file | grep -v \"reference\" | wc -l) >> $OUT\n",
    "    fi\n",
    "done\n"
   ]
  },
  {
   "attachments": {},
   "cell_type": "markdown",
   "metadata": {},
   "source": [
    "From here, I **need** to know if what is considered as novel is really novel. Intersect with annotated genes. Those that do not overlap at all, are novels for sure: maintain.\n",
    "\n",
    "`$GENOMEDIR/Annot_files_GTF/gencode.v38.primary_assembly.annotation.gtf`"
   ]
  },
  {
   "cell_type": "code",
   "execution_count": 14,
   "metadata": {},
   "outputs": [],
   "source": [
    "%%bash -s \"$users_dir\" \"$specie\"\n",
    "\n",
    "OUTDIR=$1/$2/stringtieReconstruction\n",
    "\n",
    "mkdir $OUTDIR/NOoriented\n",
    "mkdir $OUTDIR/oriented\n",
    "\n",
    "for file in $OUTDIR/*.gtf; do \n",
    "    if [[ ${file} != *\"cov\"* ]]; then \n",
    "        if [[ ${file} != *\"gene\"* ]]; then \n",
    "            name=${file##*/}\n",
    "            name=${name%%.*}\n",
    "            #separation of novel transcripts oriented not oriented\n",
    "            awk '($7 == \".\") {print}' $file > $OUTDIR/NOoriented/${name}_NOoriented.gtf\n",
    "            awk '($7 != \".\") {print}' $file > $OUTDIR/oriented/${name}_oriented.gtf\n",
    "        fi\n",
    "    fi\n",
    "done\n"
   ]
  },
  {
   "attachments": {},
   "cell_type": "markdown",
   "metadata": {},
   "source": [
    "**FORCING STRANDNESS**\n",
    "\n",
    "For the novel transcripts oriented, we force orientation when checking the overlapping with the reference."
   ]
  },
  {
   "cell_type": "code",
   "execution_count": 15,
   "metadata": {},
   "outputs": [
    {
     "name": "stderr",
     "output_type": "stream",
     "text": [
      "***** WARNING: File /genomics/users/marta/genomes/Annot_files_GTF/gencode.v38.primary_assembly.annotation.gtf has inconsistent naming convention for record:\n",
      "GL000009.2\tENSEMBL\tgene\t56140\t58376\t.\t-\t.\tgene_id \"ENSG00000278704.1\"; gene_type \"protein_coding\"; gene_name \"ENSG00000278704\"; level 3;\n",
      "\n",
      "***** WARNING: File /genomics/users/marta/genomes/Annot_files_GTF/gencode.v38.primary_assembly.annotation.gtf has inconsistent naming convention for record:\n",
      "GL000009.2\tENSEMBL\tgene\t56140\t58376\t.\t-\t.\tgene_id \"ENSG00000278704.1\"; gene_type \"protein_coding\"; gene_name \"ENSG00000278704\"; level 3;\n",
      "\n",
      "***** WARNING: File /genomics/users/marta/genomes/Annot_files_GTF/gencode.v38.primary_assembly.annotation.gtf has inconsistent naming convention for record:\n",
      "GL000009.2\tENSEMBL\tgene\t56140\t58376\t.\t-\t.\tgene_id \"ENSG00000278704.1\"; gene_type \"protein_coding\"; gene_name \"ENSG00000278704\"; level 3;\n",
      "\n",
      "***** WARNING: File /genomics/users/marta/genomes/Annot_files_GTF/gencode.v38.primary_assembly.annotation.gtf has inconsistent naming convention for record:\n",
      "GL000009.2\tENSEMBL\tgene\t56140\t58376\t.\t-\t.\tgene_id \"ENSG00000278704.1\"; gene_type \"protein_coding\"; gene_name \"ENSG00000278704\"; level 3;\n",
      "\n",
      "***** WARNING: File /genomics/users/marta/genomes/Annot_files_GTF/gencode.v38.primary_assembly.annotation.gtf has inconsistent naming convention for record:\n",
      "GL000009.2\tENSEMBL\tgene\t56140\t58376\t.\t-\t.\tgene_id \"ENSG00000278704.1\"; gene_type \"protein_coding\"; gene_name \"ENSG00000278704\"; level 3;\n",
      "\n",
      "***** WARNING: File /genomics/users/marta/genomes/Annot_files_GTF/gencode.v38.primary_assembly.annotation.gtf has inconsistent naming convention for record:\n",
      "GL000009.2\tENSEMBL\tgene\t56140\t58376\t.\t-\t.\tgene_id \"ENSG00000278704.1\"; gene_type \"protein_coding\"; gene_name \"ENSG00000278704\"; level 3;\n",
      "\n",
      "***** WARNING: File /genomics/users/marta/genomes/Annot_files_GTF/gencode.v38.primary_assembly.annotation.gtf has inconsistent naming convention for record:\n",
      "GL000009.2\tENSEMBL\tgene\t56140\t58376\t.\t-\t.\tgene_id \"ENSG00000278704.1\"; gene_type \"protein_coding\"; gene_name \"ENSG00000278704\"; level 3;\n",
      "\n",
      "***** WARNING: File /genomics/users/marta/genomes/Annot_files_GTF/gencode.v38.primary_assembly.annotation.gtf has inconsistent naming convention for record:\n",
      "GL000009.2\tENSEMBL\tgene\t56140\t58376\t.\t-\t.\tgene_id \"ENSG00000278704.1\"; gene_type \"protein_coding\"; gene_name \"ENSG00000278704\"; level 3;\n",
      "\n",
      "***** WARNING: File /genomics/users/marta/genomes/Annot_files_GTF/gencode.v38.primary_assembly.annotation.gtf has inconsistent naming convention for record:\n",
      "GL000009.2\tENSEMBL\tgene\t56140\t58376\t.\t-\t.\tgene_id \"ENSG00000278704.1\"; gene_type \"protein_coding\"; gene_name \"ENSG00000278704\"; level 3;\n",
      "\n",
      "***** WARNING: File /genomics/users/marta/genomes/Annot_files_GTF/gencode.v38.primary_assembly.annotation.gtf has inconsistent naming convention for record:\n",
      "GL000009.2\tENSEMBL\tgene\t56140\t58376\t.\t-\t.\tgene_id \"ENSG00000278704.1\"; gene_type \"protein_coding\"; gene_name \"ENSG00000278704\"; level 3;\n",
      "\n",
      "***** WARNING: File /genomics/users/marta/genomes/Annot_files_GTF/gencode.v38.primary_assembly.annotation.gtf has inconsistent naming convention for record:\n",
      "GL000009.2\tENSEMBL\tgene\t56140\t58376\t.\t-\t.\tgene_id \"ENSG00000278704.1\"; gene_type \"protein_coding\"; gene_name \"ENSG00000278704\"; level 3;\n",
      "\n",
      "***** WARNING: File /genomics/users/marta/genomes/Annot_files_GTF/gencode.v38.primary_assembly.annotation.gtf has inconsistent naming convention for record:\n",
      "GL000009.2\tENSEMBL\tgene\t56140\t58376\t.\t-\t.\tgene_id \"ENSG00000278704.1\"; gene_type \"protein_coding\"; gene_name \"ENSG00000278704\"; level 3;\n",
      "\n",
      "***** WARNING: File /genomics/users/marta/genomes/Annot_files_GTF/gencode.v38.primary_assembly.annotation.gtf has inconsistent naming convention for record:\n",
      "GL000009.2\tENSEMBL\tgene\t56140\t58376\t.\t-\t.\tgene_id \"ENSG00000278704.1\"; gene_type \"protein_coding\"; gene_name \"ENSG00000278704\"; level 3;\n",
      "\n",
      "***** WARNING: File /genomics/users/marta/genomes/Annot_files_GTF/gencode.v38.primary_assembly.annotation.gtf has inconsistent naming convention for record:\n",
      "GL000009.2\tENSEMBL\tgene\t56140\t58376\t.\t-\t.\tgene_id \"ENSG00000278704.1\"; gene_type \"protein_coding\"; gene_name \"ENSG00000278704\"; level 3;\n",
      "\n",
      "***** WARNING: File /genomics/users/marta/genomes/Annot_files_GTF/gencode.v38.primary_assembly.annotation.gtf has inconsistent naming convention for record:\n",
      "GL000009.2\tENSEMBL\tgene\t56140\t58376\t.\t-\t.\tgene_id \"ENSG00000278704.1\"; gene_type \"protein_coding\"; gene_name \"ENSG00000278704\"; level 3;\n",
      "\n",
      "***** WARNING: File /genomics/users/marta/genomes/Annot_files_GTF/gencode.v38.primary_assembly.annotation.gtf has inconsistent naming convention for record:\n",
      "GL000009.2\tENSEMBL\tgene\t56140\t58376\t.\t-\t.\tgene_id \"ENSG00000278704.1\"; gene_type \"protein_coding\"; gene_name \"ENSG00000278704\"; level 3;\n",
      "\n",
      "***** WARNING: File /genomics/users/marta/genomes/Annot_files_GTF/gencode.v38.primary_assembly.annotation.gtf has inconsistent naming convention for record:\n",
      "GL000009.2\tENSEMBL\tgene\t56140\t58376\t.\t-\t.\tgene_id \"ENSG00000278704.1\"; gene_type \"protein_coding\"; gene_name \"ENSG00000278704\"; level 3;\n",
      "\n",
      "***** WARNING: File /genomics/users/marta/genomes/Annot_files_GTF/gencode.v38.primary_assembly.annotation.gtf has inconsistent naming convention for record:\n",
      "GL000009.2\tENSEMBL\tgene\t56140\t58376\t.\t-\t.\tgene_id \"ENSG00000278704.1\"; gene_type \"protein_coding\"; gene_name \"ENSG00000278704\"; level 3;\n",
      "\n"
     ]
    }
   ],
   "source": [
    "%%bash -s \"$users_dir\" \"$specie\" \"$GENOMEDIR\"\n",
    "\n",
    "OUTDIR=$1/$2/stringtieReconstruction\n",
    "\n",
    "module load BEDTools/2.30.0-GCC-10.2.0\n",
    "\n",
    "for file in $OUTDIR/oriented/*.gtf; do \n",
    "    name=${file##*/}\n",
    "    name=${name%%.*}\n",
    "    #select novel transcripts that do not overlap at all with the gencode annotation (-v)\n",
    "    bedtools intersect -v -s -a $file -b $3/Annot_files_GTF/gencode.v38.primary_assembly.annotation.gtf > $OUTDIR/oriented/${name}_novel.gtf\n",
    "done\n"
   ]
  },
  {
   "attachments": {},
   "cell_type": "markdown",
   "metadata": {},
   "source": [
    "**WITHOUT FORCING STRANDNESS**\n",
    "\n",
    "For the novel transcripts NOT oriented, we do not force orientation when checking the overlapping with the reference."
   ]
  },
  {
   "cell_type": "code",
   "execution_count": 16,
   "metadata": {},
   "outputs": [
    {
     "name": "stderr",
     "output_type": "stream",
     "text": [
      "***** WARNING: File /genomics/users/marta/genomes/Annot_files_GTF/gencode.v38.primary_assembly.annotation.gtf has inconsistent naming convention for record:\n",
      "GL000009.2\tENSEMBL\tgene\t56140\t58376\t.\t-\t.\tgene_id \"ENSG00000278704.1\"; gene_type \"protein_coding\"; gene_name \"ENSG00000278704\"; level 3;\n",
      "\n",
      "***** WARNING: File /genomics/users/marta/genomes/Annot_files_GTF/gencode.v38.primary_assembly.annotation.gtf has inconsistent naming convention for record:\n",
      "GL000009.2\tENSEMBL\tgene\t56140\t58376\t.\t-\t.\tgene_id \"ENSG00000278704.1\"; gene_type \"protein_coding\"; gene_name \"ENSG00000278704\"; level 3;\n",
      "\n",
      "***** WARNING: File /genomics/users/marta/genomes/Annot_files_GTF/gencode.v38.primary_assembly.annotation.gtf has inconsistent naming convention for record:\n",
      "GL000009.2\tENSEMBL\tgene\t56140\t58376\t.\t-\t.\tgene_id \"ENSG00000278704.1\"; gene_type \"protein_coding\"; gene_name \"ENSG00000278704\"; level 3;\n",
      "\n",
      "***** WARNING: File /genomics/users/marta/genomes/Annot_files_GTF/gencode.v38.primary_assembly.annotation.gtf has inconsistent naming convention for record:\n",
      "GL000009.2\tENSEMBL\tgene\t56140\t58376\t.\t-\t.\tgene_id \"ENSG00000278704.1\"; gene_type \"protein_coding\"; gene_name \"ENSG00000278704\"; level 3;\n",
      "\n",
      "***** WARNING: File /genomics/users/marta/genomes/Annot_files_GTF/gencode.v38.primary_assembly.annotation.gtf has inconsistent naming convention for record:\n",
      "GL000009.2\tENSEMBL\tgene\t56140\t58376\t.\t-\t.\tgene_id \"ENSG00000278704.1\"; gene_type \"protein_coding\"; gene_name \"ENSG00000278704\"; level 3;\n",
      "\n",
      "***** WARNING: File /genomics/users/marta/genomes/Annot_files_GTF/gencode.v38.primary_assembly.annotation.gtf has inconsistent naming convention for record:\n",
      "GL000009.2\tENSEMBL\tgene\t56140\t58376\t.\t-\t.\tgene_id \"ENSG00000278704.1\"; gene_type \"protein_coding\"; gene_name \"ENSG00000278704\"; level 3;\n",
      "\n",
      "***** WARNING: File /genomics/users/marta/genomes/Annot_files_GTF/gencode.v38.primary_assembly.annotation.gtf has inconsistent naming convention for record:\n",
      "GL000009.2\tENSEMBL\tgene\t56140\t58376\t.\t-\t.\tgene_id \"ENSG00000278704.1\"; gene_type \"protein_coding\"; gene_name \"ENSG00000278704\"; level 3;\n",
      "\n",
      "***** WARNING: File /genomics/users/marta/genomes/Annot_files_GTF/gencode.v38.primary_assembly.annotation.gtf has inconsistent naming convention for record:\n",
      "GL000009.2\tENSEMBL\tgene\t56140\t58376\t.\t-\t.\tgene_id \"ENSG00000278704.1\"; gene_type \"protein_coding\"; gene_name \"ENSG00000278704\"; level 3;\n",
      "\n",
      "***** WARNING: File /genomics/users/marta/genomes/Annot_files_GTF/gencode.v38.primary_assembly.annotation.gtf has inconsistent naming convention for record:\n",
      "GL000009.2\tENSEMBL\tgene\t56140\t58376\t.\t-\t.\tgene_id \"ENSG00000278704.1\"; gene_type \"protein_coding\"; gene_name \"ENSG00000278704\"; level 3;\n",
      "\n",
      "***** WARNING: File /genomics/users/marta/genomes/Annot_files_GTF/gencode.v38.primary_assembly.annotation.gtf has inconsistent naming convention for record:\n",
      "GL000009.2\tENSEMBL\tgene\t56140\t58376\t.\t-\t.\tgene_id \"ENSG00000278704.1\"; gene_type \"protein_coding\"; gene_name \"ENSG00000278704\"; level 3;\n",
      "\n",
      "***** WARNING: File /genomics/users/marta/genomes/Annot_files_GTF/gencode.v38.primary_assembly.annotation.gtf has inconsistent naming convention for record:\n",
      "GL000009.2\tENSEMBL\tgene\t56140\t58376\t.\t-\t.\tgene_id \"ENSG00000278704.1\"; gene_type \"protein_coding\"; gene_name \"ENSG00000278704\"; level 3;\n",
      "\n",
      "***** WARNING: File /genomics/users/marta/genomes/Annot_files_GTF/gencode.v38.primary_assembly.annotation.gtf has inconsistent naming convention for record:\n",
      "GL000009.2\tENSEMBL\tgene\t56140\t58376\t.\t-\t.\tgene_id \"ENSG00000278704.1\"; gene_type \"protein_coding\"; gene_name \"ENSG00000278704\"; level 3;\n",
      "\n",
      "***** WARNING: File /genomics/users/marta/genomes/Annot_files_GTF/gencode.v38.primary_assembly.annotation.gtf has inconsistent naming convention for record:\n",
      "GL000009.2\tENSEMBL\tgene\t56140\t58376\t.\t-\t.\tgene_id \"ENSG00000278704.1\"; gene_type \"protein_coding\"; gene_name \"ENSG00000278704\"; level 3;\n",
      "\n",
      "***** WARNING: File /genomics/users/marta/genomes/Annot_files_GTF/gencode.v38.primary_assembly.annotation.gtf has inconsistent naming convention for record:\n",
      "GL000009.2\tENSEMBL\tgene\t56140\t58376\t.\t-\t.\tgene_id \"ENSG00000278704.1\"; gene_type \"protein_coding\"; gene_name \"ENSG00000278704\"; level 3;\n",
      "\n",
      "***** WARNING: File /genomics/users/marta/genomes/Annot_files_GTF/gencode.v38.primary_assembly.annotation.gtf has inconsistent naming convention for record:\n",
      "GL000009.2\tENSEMBL\tgene\t56140\t58376\t.\t-\t.\tgene_id \"ENSG00000278704.1\"; gene_type \"protein_coding\"; gene_name \"ENSG00000278704\"; level 3;\n",
      "\n",
      "***** WARNING: File /genomics/users/marta/genomes/Annot_files_GTF/gencode.v38.primary_assembly.annotation.gtf has inconsistent naming convention for record:\n",
      "GL000009.2\tENSEMBL\tgene\t56140\t58376\t.\t-\t.\tgene_id \"ENSG00000278704.1\"; gene_type \"protein_coding\"; gene_name \"ENSG00000278704\"; level 3;\n",
      "\n",
      "***** WARNING: File /genomics/users/marta/genomes/Annot_files_GTF/gencode.v38.primary_assembly.annotation.gtf has inconsistent naming convention for record:\n",
      "GL000009.2\tENSEMBL\tgene\t56140\t58376\t.\t-\t.\tgene_id \"ENSG00000278704.1\"; gene_type \"protein_coding\"; gene_name \"ENSG00000278704\"; level 3;\n",
      "\n",
      "***** WARNING: File /genomics/users/marta/genomes/Annot_files_GTF/gencode.v38.primary_assembly.annotation.gtf has inconsistent naming convention for record:\n",
      "GL000009.2\tENSEMBL\tgene\t56140\t58376\t.\t-\t.\tgene_id \"ENSG00000278704.1\"; gene_type \"protein_coding\"; gene_name \"ENSG00000278704\"; level 3;\n",
      "\n"
     ]
    }
   ],
   "source": [
    "%%bash -s \"$users_dir\" \"$specie\" \"$GENOMEDIR\"\n",
    "\n",
    "OUTDIR=$1/$2/stringtieReconstruction\n",
    "\n",
    "module load BEDTools/2.30.0-GCC-10.2.0\n",
    "\n",
    "for file in $OUTDIR/NOoriented/*.gtf; do \n",
    "    name=${file##*/}\n",
    "    name=${name%%.*}\n",
    "\n",
    "    #select novel transcripts that do not overlap at all with the gencode annotation (-v)\n",
    "    bedtools intersect -v -a $file -b $3/Annot_files_GTF/gencode.v38.primary_assembly.annotation.gtf > $OUTDIR/NOoriented/${name}_novel.gtf\n",
    "done"
   ]
  },
  {
   "attachments": {},
   "cell_type": "markdown",
   "metadata": {},
   "source": [
    "I want to see if there are \"alone exons\", I don't want them, only full transcripts. Check transcript line, store geneid (STRG.XX), see if later exons contain the same. If so, store in new file, if not, skip."
   ]
  },
  {
   "cell_type": "code",
   "execution_count": 20,
   "metadata": {},
   "outputs": [],
   "source": [
    "for file in os.listdir(os.path.join(users_dir,specie,\"stringtieReconstruction/NOoriented\")):\n",
    "    if file.endswith(\"novel.gtf\"):\n",
    "        outname=file[:-4]+\"_complete.gtf\"\n",
    "        with open(os.path.join(os.path.join(users_dir,specie,\"stringtieReconstruction/NOoriented\"),file)) as inp:\n",
    "            with open(os.path.join(os.path.join(users_dir,specie,\"stringtieReconstruction/NOoriented\"),outname), 'w') as out:\n",
    "                lines = inp.readlines()\n",
    "                t_gene_id = \"\"\n",
    "                for line in lines:\n",
    "                    tab_split_line=line.split(\"\\t\")\n",
    "                    coma_split_line=line.split(\";\")\n",
    "                    gene_id=re.findall(r'\"([^\"]*)\"',coma_split_line[0])\n",
    "                    if tab_split_line[2] == \"transcript\":\n",
    "                        t_gene_id = gene_id[0]\n",
    "                        out.write(line)\n",
    "                    if tab_split_line[2] == \"exon\":\n",
    "                        if gene_id[0] == t_gene_id:\n",
    "                            out.write(line)\n",
    "                        else:\n",
    "                            continue\n"
   ]
  },
  {
   "cell_type": "code",
   "execution_count": 21,
   "metadata": {},
   "outputs": [],
   "source": [
    "for file in os.listdir(os.path.join(users_dir,specie,\"stringtieReconstruction/oriented\")):\n",
    "    if file.endswith(\"novel.gtf\"):\n",
    "        outname=file[:-4]+\"_complete.gtf\"\n",
    "        with open(os.path.join(os.path.join(users_dir,specie,\"stringtieReconstruction/oriented\"),file)) as inp:\n",
    "            with open(os.path.join(os.path.join(users_dir,specie,\"stringtieReconstruction/oriented\"),outname), 'w') as out:\n",
    "                lines = inp.readlines()\n",
    "                t_gene_id = \"\"\n",
    "                for line in lines:\n",
    "                    tab_split_line=line.split(\"\\t\")\n",
    "                    coma_split_line=line.split(\";\")\n",
    "                    gene_id=re.findall(r'\"([^\"]*)\"',coma_split_line[0])\n",
    "                    if tab_split_line[2] == \"transcript\":\n",
    "                        t_gene_id = gene_id[0]\n",
    "                        out.write(line)\n",
    "                    if tab_split_line[2] == \"exon\":\n",
    "                        if gene_id[0] == t_gene_id:\n",
    "                            out.write(line)\n",
    "                        else:\n",
    "                            continue\n"
   ]
  },
  {
   "cell_type": "code",
   "execution_count": 22,
   "metadata": {},
   "outputs": [
    {
     "name": "stderr",
     "output_type": "stream",
     "text": [
      "mkdir: cannot create directory ‘/users/genomics/marta/TestisProject_SaraRazquin/with_TranscriptomeReconstruction/human/stringtieReconstruction/intersect_novel’: File exists\n"
     ]
    }
   ],
   "source": [
    "%%bash -s \"$users_dir\" \"$specie\" \"$GENOMEDIR\"\n",
    "\n",
    "## Concatenate both oriented and unoriented\n",
    "OUTDIR=$1/$2/stringtieReconstruction/intersect_novel\n",
    "mkdir $OUTDIR\n",
    "\n",
    "\n",
    "for sample in $(cat $1/$2/stringtieReconstruction/transcriptomeReconstruction.csv | tail -n +2 | cut -f1); do\n",
    "    #concatenate both results in order to obtain a gtf file with all novel transcripts considered\n",
    "    cat $1/$2/stringtieReconstruction/oriented/${sample}_oriented_novel_complete.gtf $1/$2/stringtieReconstruction/NOoriented/${sample}_NOoriented_novel_complete.gtf > $OUTDIR/${sample}_novel.gtf\n",
    "done\n"
   ]
  },
  {
   "attachments": {},
   "cell_type": "markdown",
   "metadata": {},
   "source": [
    "Now we use gffcompare so that we unify all novel transcripts into a single transcriptome"
   ]
  },
  {
   "cell_type": "code",
   "execution_count": 24,
   "metadata": {},
   "outputs": [
    {
     "name": "stderr",
     "output_type": "stream",
     "text": [
      "Loading query file #1: /users/genomics/marta/TestisProject_SaraRazquin/with_TranscriptomeReconstruction/human/stringtieReconstruction/intersect_novel/human_brain_rna_1_r1_novel.gtf\n",
      "Loading query file #2: /users/genomics/marta/TestisProject_SaraRazquin/with_TranscriptomeReconstruction/human/stringtieReconstruction/intersect_novel/human_brain_rna_2_r1_novel.gtf\n",
      "Loading query file #3: /users/genomics/marta/TestisProject_SaraRazquin/with_TranscriptomeReconstruction/human/stringtieReconstruction/intersect_novel/human_brain_rna_3_r1_novel.gtf\n",
      "Loading query file #4: /users/genomics/marta/TestisProject_SaraRazquin/with_TranscriptomeReconstruction/human/stringtieReconstruction/intersect_novel/human_liver_rna_1_r1_novel.gtf\n",
      "Loading query file #5: /users/genomics/marta/TestisProject_SaraRazquin/with_TranscriptomeReconstruction/human/stringtieReconstruction/intersect_novel/human_liver_rna_2_r1_novel.gtf\n",
      "Loading query file #6: /users/genomics/marta/TestisProject_SaraRazquin/with_TranscriptomeReconstruction/human/stringtieReconstruction/intersect_novel/human_liver_rna_3_r1_novel.gtf\n",
      "Loading query file #7: /users/genomics/marta/TestisProject_SaraRazquin/with_TranscriptomeReconstruction/human/stringtieReconstruction/intersect_novel/human_testis_rna_1_r1_novel.gtf\n",
      "Loading query file #8: /users/genomics/marta/TestisProject_SaraRazquin/with_TranscriptomeReconstruction/human/stringtieReconstruction/intersect_novel/human_testis_rna_2_r1_novel.gtf\n",
      "Loading query file #9: /users/genomics/marta/TestisProject_SaraRazquin/with_TranscriptomeReconstruction/human/stringtieReconstruction/intersect_novel/human_testis_rna_3_r1_novel.gtf\n"
     ]
    }
   ],
   "source": [
    "%%bash -s \"$users_dir\" \"$specie\"\n",
    "\n",
    "OUTDIR=$1/$2/gffcompare\n",
    "mkdir $OUTDIR\n",
    "\n",
    "module load gffcompare/0.12.2\n",
    "\n",
    "ls $1/$2/stringtieReconstruction/intersect_novel/*_novel.gtf > $OUTDIR/list_novel_assembled_files_stranded.txt\n",
    "\n",
    "cd $OUTDIR\n",
    "gffcompare -i list_novel_assembled_files_stranded.txt -o gffcmp.assembled.stranded\n",
    "\n",
    "\n",
    "    "
   ]
  },
  {
   "cell_type": "code",
   "execution_count": 25,
   "metadata": {},
   "outputs": [
    {
     "name": "stdout",
     "output_type": "stream",
     "text": [
      "\n",
      "\n",
      "   1022 +\n",
      "   1131 -\n"
     ]
    }
   ],
   "source": [
    "%%bash -s \"$users_dir\" \"$specie\"\n",
    "\n",
    "echo -e \"\\n\"$proj\n",
    "awk '$3 == \"transcript\" {print}' $1/$2/gffcompare/gffcmp.assembled.stranded.combined.gtf | cut -f 7 | sort | uniq -c\n"
   ]
  },
  {
   "cell_type": "code",
   "execution_count": 26,
   "metadata": {},
   "outputs": [
    {
     "name": "stderr",
     "output_type": "stream",
     "text": [
      "***** WARNING: File /users/genomics/marta/TestisProject_SaraRazquin/with_TranscriptomeReconstruction/human/gffcompare/gffcmp.assembled.stranded.combined.gtf has inconsistent naming convention for record:\n",
      "GL000205.2\tStringTie\ttranscript\t56105\t56316\t.\t-\t.\ttranscript_id \"TCONS_00000001\"; gene_id \"XLOC_000001\"; oId \"STRG.32362.1\"; tss_id \"TSS1\"; num_samples \"1\";\n",
      "\n",
      "***** WARNING: File /users/genomics/marta/TestisProject_SaraRazquin/with_TranscriptomeReconstruction/human/gffcompare/gffcmp.assembled.stranded.combined.gtf has inconsistent naming convention for record:\n",
      "GL000205.2\tStringTie\ttranscript\t56105\t56316\t.\t-\t.\ttranscript_id \"TCONS_00000001\"; gene_id \"XLOC_000001\"; oId \"STRG.32362.1\"; tss_id \"TSS1\"; num_samples \"1\";\n",
      "\n",
      "***** WARNING: File /users/genomics/marta/TestisProject_SaraRazquin/with_TranscriptomeReconstruction/human/gffcompare/gffcmp.assembled.stranded.combined.gtf has inconsistent naming convention for record:\n",
      "GL000205.2\tStringTie\ttranscript\t56105\t56316\t.\t-\t.\ttranscript_id \"TCONS_00000001\"; gene_id \"XLOC_000001\"; oId \"STRG.32362.1\"; tss_id \"TSS1\"; num_samples \"1\";\n",
      "\n",
      "***** WARNING: File /users/genomics/marta/TestisProject_SaraRazquin/with_TranscriptomeReconstruction/human/gffcompare/gffcmp.assembled.stranded.combined.gtf has inconsistent naming convention for record:\n",
      "GL000205.2\tStringTie\ttranscript\t56105\t56316\t.\t-\t.\ttranscript_id \"TCONS_00000001\"; gene_id \"XLOC_000001\"; oId \"STRG.32362.1\"; tss_id \"TSS1\"; num_samples \"1\";\n",
      "\n",
      "***** WARNING: File /users/genomics/marta/TestisProject_SaraRazquin/with_TranscriptomeReconstruction/human/gffcompare/gffcmp.assembled.stranded.combined.gtf has inconsistent naming convention for record:\n",
      "GL000205.2\tStringTie\ttranscript\t56105\t56316\t.\t-\t.\ttranscript_id \"TCONS_00000001\"; gene_id \"XLOC_000001\"; oId \"STRG.32362.1\"; tss_id \"TSS1\"; num_samples \"1\";\n",
      "\n",
      "***** WARNING: File /users/genomics/marta/TestisProject_SaraRazquin/with_TranscriptomeReconstruction/human/gffcompare/gffcmp.assembled.stranded.combined.gtf has inconsistent naming convention for record:\n",
      "GL000205.2\tStringTie\ttranscript\t56105\t56316\t.\t-\t.\ttranscript_id \"TCONS_00000001\"; gene_id \"XLOC_000001\"; oId \"STRG.32362.1\"; tss_id \"TSS1\"; num_samples \"1\";\n",
      "\n"
     ]
    }
   ],
   "source": [
    "%%bash -s \"$users_dir\" \"$specie\"\n",
    "\n",
    "## miTranscriptome\n",
    "## for stranded datasets\n",
    "mitranscriptome=/genomics/users/marta/genomes/miTranscriptome/mitranscriptome.v2.gtf\n",
    "\n",
    "module load BEDTools\n",
    "\n",
    "gffcompare=$1/$2/gffcompare/gffcmp.assembled.stranded.combined.gtf\n",
    "miTranscriptomeOUTDIR=$1/$2/gffcompare/miTranscriptome\n",
    "\n",
    "mkdir $miTranscriptomeOUTDIR\n",
    "\n",
    "bedtools intersect -s -v -a $gffcompare -b $mitranscriptome > $miTranscriptomeOUTDIR/gffcmp.assembled.stranded.combined.NOmiTranscriptome.gtf\n",
    "bedtools intersect -s -wa -wb -a $gffcompare -b $mitranscriptome > $miTranscriptomeOUTDIR/gffcmp.assembled.stranded.combined.miTranscriptome.gtf\n",
    "bedtools intersect -s -u -a $gffcompare -b $mitranscriptome > $miTranscriptomeOUTDIR/gffcmp.assembled.stranded.combined.miTranscriptome.unique.gtf\n"
   ]
  },
  {
   "cell_type": "code",
   "execution_count": 27,
   "metadata": {},
   "outputs": [
    {
     "name": "stdout",
     "output_type": "stream",
     "text": [
      "    533 +\n",
      "    563 -\n"
     ]
    }
   ],
   "source": [
    "%%bash -s \"$users_dir\" \"$specie\"\n",
    "\n",
    "awk '$3 == \"transcript\" {print}' $1/$2/gffcompare/miTranscriptome/gffcmp.assembled.stranded.combined.miTranscriptome.unique.gtf | cut -f 7 | sort | uniq -c\n"
   ]
  },
  {
   "attachments": {},
   "cell_type": "markdown",
   "metadata": {},
   "source": [
    "Let's create a new reference file with novel reconstructed transcripts"
   ]
  },
  {
   "cell_type": "code",
   "execution_count": 2,
   "metadata": {},
   "outputs": [
    {
     "name": "stderr",
     "output_type": "stream",
     "text": [
      "mkdir: cannot create directory ‘/users/genomics/marta/TestisProject_SaraRazquin/with_TranscriptomeReconstruction/human/newReference_Resconstructed’: File exists\n"
     ]
    }
   ],
   "source": [
    "%%bash -s \"$users_dir\" \"$specie\" \"$GENOMEDIR\"\n",
    "\n",
    "export PATH=/genomics/users/marta/tools/gff3sort-master:$PATH\n",
    "\n",
    "## reference\n",
    "REF=$3/Annot_files_GTF/gencode.v38.primary_assembly.annotation.gtf \n",
    "\n",
    "OUTDIR=$1/$2/newReference_Resconstructed\n",
    "mkdir $OUTDIR\n",
    "\n",
    "## gffcompare\n",
    "gffcompare=$1/$2/gffcompare/gffcmp.assembled.stranded.combined.gtf\n",
    "\n",
    "## concat\n",
    "cat $gffcompare $REF > $OUTDIR/gencode.v38.gffcompare.TestisLiverBrain.annotation.gtf\n",
    "\n",
    "#sort the newly assembled transcriptome\n",
    "gff3sort.pl --precise --chr_order natural $OUTDIR/gencode.v38.gffcompare.TestisLiverBrain.annotation.gtf > $OUTDIR/gencode.v38.gffcompare.TestisLiverBrain.annotation.sorted.gtf\n",
    "rm $OUTDIR/gencode.v38.gffcompare.TestisLiverBrain.annotation.gtf\n",
    "\n"
   ]
  },
  {
   "attachments": {},
   "cell_type": "markdown",
   "metadata": {},
   "source": [
    "## Get simplified annotation\n"
   ]
  },
  {
   "cell_type": "code",
   "execution_count": 4,
   "metadata": {},
   "outputs": [
    {
     "name": "stderr",
     "output_type": "stream",
     "text": [
      "/tmp/ipykernel_122898/1261493031.py:29: SettingWithCopyWarning: \n",
      "A value is trying to be set on a copy of a slice from a DataFrame.\n",
      "Try using .loc[row_indexer,col_indexer] = value instead\n",
      "\n",
      "See the caveats in the documentation: https://pandas.pydata.org/pandas-docs/stable/user_guide/indexing.html#returning-a-view-versus-a-copy\n",
      "  exons['length'] = exons[4] - exons[3]\n"
     ]
    }
   ],
   "source": [
    "## Author: Marta Espinosa Camarena\n",
    "## Date: 21st May 24\n",
    "\n",
    "## This scripts attemps to build a simplified version of an annotation file.\n",
    "## By simplified we mean that we keep only 1 transcript per gene, being the longest transcript the selected one.\n",
    "## Running mode:\n",
    "## python get_simplified_annotation.py $absolute_path_to_annotation $outdir\n",
    "## make sure the output directory has writing permissions\n",
    "\n",
    "import pandas as pd\n",
    "import sys, os\n",
    "from pathlib import Path\n",
    "\n",
    "##----------------- importing requested data -----------------##\n",
    "# annotation_GTF = sys.argv[1]\n",
    "annotation_GTF = \"/users/genomics/marta/TestisProject_SaraRazquin/with_TranscriptomeReconstruction/human/newReference_Resconstructed/gencode.v38.gffcompare.TestisLiverBrain.annotation.sorted.gtf\" ## testing\n",
    "# outdir = sys.argv[2]\n",
    "outdir = \"/users/genomics/marta/TestisProject_SaraRazquin/with_TranscriptomeReconstruction/human/newReference_Resconstructed\" ## testing\n",
    "outfile = os.path.basename(annotation_GTF)\n",
    "outfile = outfile[:-4]\n",
    "\n",
    "## reading reference file and separate by transcripts and genes\n",
    "reference = pd.read_csv(annotation_GTF, sep=\"\\t\", header=None, comment=\"#\")\n",
    "reference['transcript_id'] = reference[8].str.extract('transcript_id \"([^\"]*)\"', expand=True)\n",
    "reference['gene_id'] = reference[8].str.extract('gene_id \"([^\"]*)\"', expand=True)\n",
    "\n",
    "## subset exons and calculate length\n",
    "exons = reference[reference[2] == \"exon\"]\n",
    "exons['length'] = exons[4] - exons[3]\n",
    "genes = reference[reference[2] == \"gene\"]\n",
    "\n",
    "## calculate length transcripts\n",
    "length_tid = exons.groupby('transcript_id', as_index=False)[['length']].sum()\n",
    "\n",
    "## make dataframe with geneid_transcriptid_length\n",
    "ref_w_length = length_tid.merge(reference, on=[\"transcript_id\"], how=\"right\").drop_duplicates()\n",
    "# ref_w_length = ref_w_length[['transcript_id','gene_id','length']]\n",
    "# ref_w_length.drop_duplicates(inplace=True)\n",
    "# ref_w_length.dropna(inplace=True)\n",
    "\n",
    "## select longest transcript per gene\n",
    "## Group by 'gene_id' and get the indices of the rows with the maximum 'length'\n",
    "## select datafrem rows corresponding to longest trancript_id - if different transcripts for the same gene with same length, we keep the first one\n",
    "max_length_indices = ref_w_length.groupby('gene_id')['length'].idxmax()\n",
    "\n",
    "longest_transcripts_gid = ref_w_length.loc[max_length_indices]\n",
    "longest_transcripts_gid = longest_transcripts_gid[['gene_id','transcript_id','length']]\n",
    "longest_transcripts_gid.drop_duplicates(inplace=True) ## no duplications\n",
    "\n",
    "reference_longest = longest_transcripts_gid.merge(ref_w_length[ref_w_length[2] != \"gene\"], on=['gene_id','transcript_id','length'], how=\"left\")\n",
    "\n",
    "\n",
    "full_reference = pd.concat([reference_longest, genes])\n",
    "full_reference.drop(['transcript_id','gene_id','length'], axis=1, inplace=True)\n",
    "full_reference.to_csv(outdir+\"/\"+outfile+\".1transcript.gtf\", sep=\"\\t\", header=None, index=None,  quoting = 3)"
   ]
  },
  {
   "cell_type": "code",
   "execution_count": 8,
   "metadata": {},
   "outputs": [],
   "source": [
    "%%bash -s \"$users_dir\" \"$specie\"\n",
    "\n",
    "export PATH=/genomics/users/marta/tools/gff3sort-master:$PATH\n",
    "\n",
    "reference=$1/$2/newReference_Resconstructed/gencode.v38.gffcompare.TestisLiverBrain.annotation.sorted.1transcript.gtf\n",
    "out=$1/$2/newReference_Resconstructed/gencode.v38.gffcompare.TestisLiverBrain.annotation.sorted.1transcript.sorted.gtf\n",
    "\n",
    "gff3sort.pl --precise --chr_order natural $reference > $out\n"
   ]
  },
  {
   "attachments": {},
   "cell_type": "markdown",
   "metadata": {},
   "source": [
    "## Quantification\n"
   ]
  },
  {
   "cell_type": "code",
   "execution_count": 11,
   "metadata": {},
   "outputs": [
    {
     "name": "stderr",
     "output_type": "stream",
     "text": [
      "mkdir: cannot create directory ‘/users/genomics/marta/TestisProject_SaraRazquin/with_TranscriptomeReconstruction/human/featureCounts_gffcompare’: File exists\n",
      "\n",
      "        ==========     _____ _    _ ____  _____  ______          _____  \n",
      "        =====         / ____| |  | |  _ \\|  __ \\|  ____|   /\\   |  __ \\ \n",
      "          =====      | (___ | |  | | |_) | |__) | |__     /  \\  | |  | |\n",
      "            ====      \\___ \\| |  | |  _ <|  _  /|  __|   / /\\ \\ | |  | |\n",
      "              ====    ____) | |__| | |_) | | \\ \\| |____ / ____ \\| |__| |\n",
      "        ==========   |_____/ \\____/|____/|_|  \\_\\______/_/    \\_\\_____/\n",
      "\t  v2.0.3\n",
      "\n",
      "//========================== featureCounts setting ===========================\\\\\n",
      "||                                                                            ||\n",
      "||             Input files : 9 BAM files                                      ||\n",
      "||                                                                            ||\n",
      "||                           human_brain_rna_1_r1Aligned.sortedByCoord.ou ... ||\n",
      "||                           human_brain_rna_2_r1Aligned.sortedByCoord.ou ... ||\n",
      "||                           human_brain_rna_3_r1Aligned.sortedByCoord.ou ... ||\n",
      "||                           human_liver_rna_1_r1Aligned.sortedByCoord.ou ... ||\n",
      "||                           human_liver_rna_2_r1Aligned.sortedByCoord.ou ... ||\n",
      "||                           human_liver_rna_3_r1Aligned.sortedByCoord.ou ... ||\n",
      "||                           human_testis_rna_1_r1Aligned.sortedByCoord.o ... ||\n",
      "||                           human_testis_rna_2_r1Aligned.sortedByCoord.o ... ||\n",
      "||                           human_testis_rna_3_r1Aligned.sortedByCoord.o ... ||\n",
      "||                                                                            ||\n",
      "||             Output file : gffcompare_stranded_featureCounts.txt            ||\n",
      "||                 Summary : gffcompare_stranded_featureCounts.txt.summary    ||\n",
      "||              Paired-end : no                                               ||\n",
      "||        Count read pairs : no                                               ||\n",
      "||              Annotation : gencode.v38.gffcompare.TestisLiverBrain.anno ... ||\n",
      "||      Dir for temp files : /users/genomics/marta/TestisProject_SaraRazq ... ||\n",
      "||                                                                            ||\n",
      "||                 Threads : 10                                               ||\n",
      "||                   Level : meta-feature level                               ||\n",
      "||      Multimapping reads : not counted                                      ||\n",
      "|| Multi-overlapping reads : counted                                          ||\n",
      "||   Min overlapping bases : 1                                                ||\n",
      "||                                                                            ||\n",
      "\\\\============================================================================//\n",
      "\n",
      "//================================= Running ==================================\\\\\n",
      "||                                                                            ||\n",
      "|| Load annotation file gencode.v38.gffcompare.TestisLiverBrain.annotatio ... ||\n",
      "||    Features : 285877                                                       ||\n",
      "||    Meta-features : 62569                                                   ||\n",
      "||    Chromosomes/contigs : 51                                                ||\n",
      "||                                                                            ||\n",
      "|| Process BAM file human_brain_rna_1_r1Aligned.sortedByCoord.out.bam...      ||\n",
      "||    Strand specific : stranded                                              ||\n",
      "||    Single-end reads are included.                                          ||\n",
      "||    Total alignments : 46282060                                             ||\n",
      "||    Successfully assigned alignments : 26148023 (56.5%)                     ||\n",
      "||    Running time : 0.06 minutes                                             ||\n",
      "||                                                                            ||\n",
      "|| Process BAM file human_brain_rna_2_r1Aligned.sortedByCoord.out.bam...      ||\n",
      "||    Strand specific : stranded                                              ||\n",
      "||    Single-end reads are included.                                          ||\n",
      "||    Total alignments : 35708394                                             ||\n",
      "||    Successfully assigned alignments : 30173364 (84.5%)                     ||\n",
      "||    Running time : 0.05 minutes                                             ||\n",
      "||                                                                            ||\n",
      "|| Process BAM file human_brain_rna_3_r1Aligned.sortedByCoord.out.bam...      ||\n",
      "||    Strand specific : stranded                                              ||\n",
      "||    Single-end reads are included.                                          ||\n",
      "||    Total alignments : 76832498                                             ||\n",
      "||    Successfully assigned alignments : 44371187 (57.8%)                     ||\n",
      "||    Running time : 0.09 minutes                                             ||\n",
      "||                                                                            ||\n",
      "|| Process BAM file human_liver_rna_1_r1Aligned.sortedByCoord.out.bam...      ||\n",
      "||    Strand specific : stranded                                              ||\n",
      "||    Single-end reads are included.                                          ||\n",
      "||    Total alignments : 28834382                                             ||\n",
      "||    Successfully assigned alignments : 24623828 (85.4%)                     ||\n",
      "||    Running time : 0.04 minutes                                             ||\n",
      "||                                                                            ||\n",
      "|| Process BAM file human_liver_rna_2_r1Aligned.sortedByCoord.out.bam...      ||\n",
      "||    Strand specific : stranded                                              ||\n",
      "||    Single-end reads are included.                                          ||\n",
      "||    Total alignments : 15285751                                             ||\n",
      "||    Successfully assigned alignments : 12553130 (82.1%)                     ||\n",
      "||    Running time : 0.02 minutes                                             ||\n",
      "||                                                                            ||\n",
      "|| Process BAM file human_liver_rna_3_r1Aligned.sortedByCoord.out.bam...      ||\n",
      "||    Strand specific : stranded                                              ||\n",
      "||    Single-end reads are included.                                          ||\n",
      "||    Total alignments : 14291090                                             ||\n",
      "||    Successfully assigned alignments : 11001798 (77.0%)                     ||\n",
      "||    Running time : 0.02 minutes                                             ||\n",
      "||                                                                            ||\n",
      "|| Process BAM file human_testis_rna_1_r1Aligned.sortedByCoord.out.bam...     ||\n",
      "||    Strand specific : stranded                                              ||\n",
      "||    Single-end reads are included.                                          ||\n",
      "||    Total alignments : 34007913                                             ||\n",
      "||    Successfully assigned alignments : 20337434 (59.8%)                     ||\n",
      "||    Running time : 0.04 minutes                                             ||\n",
      "||                                                                            ||\n",
      "|| Process BAM file human_testis_rna_2_r1Aligned.sortedByCoord.out.bam...     ||\n",
      "||    Strand specific : stranded                                              ||\n",
      "||    Single-end reads are included.                                          ||\n",
      "||    Total alignments : 46392171                                             ||\n",
      "||    Successfully assigned alignments : 27399099 (59.1%)                     ||\n",
      "||    Running time : 0.06 minutes                                             ||\n",
      "||                                                                            ||\n",
      "|| Process BAM file human_testis_rna_3_r1Aligned.sortedByCoord.out.bam...     ||\n",
      "||    Strand specific : stranded                                              ||\n",
      "||    Single-end reads are included.                                          ||\n",
      "||    Total alignments : 45325564                                             ||\n",
      "||    Successfully assigned alignments : 34131423 (75.3%)                     ||\n",
      "||    Running time : 0.05 minutes                                             ||\n",
      "||                                                                            ||\n",
      "|| Write the final count table.                                               ||\n",
      "|| Write the read assignment summary.                                         ||\n",
      "||                                                                            ||\n",
      "|| Summary of counting results can be found in file \"/users/genomics/marta/T  ||\n",
      "|| estisProject_SaraRazquin/with_TranscriptomeReconstruction/human/featureCo  ||\n",
      "|| unts_gffcompare/gffcompare_stranded_featureCounts.txt.summary\"             ||\n",
      "||                                                                            ||\n",
      "\\\\============================================================================//\n",
      "\n"
     ]
    }
   ],
   "source": [
    "%%bash -s \"$users_dir\" \"$specie\" \n",
    "\n",
    "###PREPARING NEEDED DATA\n",
    "# PROJECT=$1\n",
    "# DIR=$2/$PROJECT\n",
    "# p=$3 #single-end or paired-end dataset\n",
    "p=\"single-end\"\n",
    "strand=\"secondstrand\"\n",
    "CLUSTERDIR=$1/$2/featureCounts_gffcompare\n",
    "mkdir $CLUSTERDIR\n",
    "AnnotGTF=$1/$2/newReference_Resconstructed/gencode.v38.gffcompare.TestisLiverBrain.annotation.sorted.1transcript.sorted.gtf\n",
    "BAMDIR=/users/genomics/saraa/projectTestis/STAR/$2\n",
    "module load Subread/2.0.3\n",
    "########################\n",
    "\n",
    "# countReadPairs may need to be removed in case of single-end reads\n",
    "\n",
    "if [ $p == \"paired-end\" ]; then\n",
    "    if [ $strand == \"firststrand\" ]; then\n",
    "        featureCounts -T 10 -p -s 2 -g transcript_id -O --countReadPairs -a $AnnotGTF -o ${CLUSTERDIR}/gffcompare_stranded_featureCounts.txt $BAMDIR/*Aligned.sortedByCoord.out.bam \n",
    "    elif [ $strand == \"secondstrand\" ]; then\n",
    "        featureCounts -T 10 -p -s 1 -g transcript_id -O --countReadPairs -a $AnnotGTF -o ${CLUSTERDIR}/gffcompare_stranded_featureCounts.txt $BAMDIR/*Aligned.sortedByCoord.out.bam \n",
    "    elif [ $strand == \"unstranded\" ]; then\n",
    "        featureCounts -T 10 -p -s 0 -g transcript_id -O --countReadPairs -a $AnnotGTF -o ${CLUSTERDIR}/gffcompare_stranded_featureCounts.txt $BAMDIR/*Aligned.sortedByCoord.out.bam \n",
    "    fi\n",
    "fi\n",
    "if [ $p == \"single-end\" ]; then\n",
    "    if [ $strand == \"firststrand\" ]; then\n",
    "        featureCounts -T 10 -s 2 -g transcript_id -O -a $AnnotGTF -o ${CLUSTERDIR}/gffcompare_stranded_featureCounts.txt $BAMDIR/*Aligned.sortedByCoord.out.bam \n",
    "    elif [ $strand == \"secondstrand\" ]; then\n",
    "        featureCounts -T 10 -s 1 -g transcript_id -O -a $AnnotGTF -o ${CLUSTERDIR}/gffcompare_stranded_featureCounts.txt $BAMDIR/*Aligned.sortedByCoord.out.bam \n",
    "    elif [ $strand == \"unstranded\" ]; then\n",
    "        featureCounts -T 10 -s 0 -g transcript_id -O -a $AnnotGTF -o ${CLUSTERDIR}/gffcompare_stranded_featureCounts.txt $BAMDIR/*Aligned.sortedByCoord.out.bam \n",
    "    fi\n",
    "fi\n"
   ]
  },
  {
   "attachments": {},
   "cell_type": "markdown",
   "metadata": {},
   "source": [
    "## TPMs"
   ]
  },
  {
   "cell_type": "code",
   "execution_count": null,
   "metadata": {},
   "outputs": [],
   "source": [
    "from rna_seq_normalization import Normalization as Norm"
   ]
  },
  {
   "cell_type": "code",
   "execution_count": 16,
   "metadata": {},
   "outputs": [
    {
     "name": "stdout",
     "output_type": "stream",
     "text": [
      "15\n"
     ]
    }
   ],
   "source": [
    "table_of_counts = pd.DataFrame()\n",
    "### modify headers\n",
    "\n",
    "df=pd.read_csv(os.path.join(users_dir,specie,\"featureCounts_gffcompare/gffcompare_stranded_featureCounts.txt\"), skiprows=1, sep=\"\\t\")\n",
    "df['Geneid']=df['Geneid'].str.split('.').str[0]\n",
    "filter_col = [col for col in df if col.startswith('/')]\n",
    "for col in filter_col:\n",
    "    new_col=col.split(\"Aligned\")[0]\n",
    "    new_col=new_col.split(\"/\")[-1]\n",
    "\n",
    "    df.rename(columns={col:new_col}, inplace=True)\n",
    "    \n",
    "cols_to_select = [\"Geneid\",\"Chr\",\"Start\",\"End\",\"Strand\",\"Length\"]\n",
    "\n",
    "print(len(df.columns))\n",
    "df.rename(columns={'Geneid':'gene_id'}, inplace=True)\n",
    "\n",
    "if table_of_counts.empty:\n",
    "    table_of_counts = df\n",
    "else:\n",
    "    table_of_counts = table_of_counts.merge(df, on=[\"gene_id\",\"Chr\",\"Start\",\"End\",\"Strand\",\"Length\"])\n",
    "\n",
    "table_of_counts.to_csv(os.path.join(users_dir,specie,\"featureCounts_gffcompare/table_of_counts.csv\"), index=None)\n",
    "\n",
    "# get TPMs\n",
    "length = table_of_counts['Length']\n",
    "genes = table_of_counts['gene_id']\n",
    "# we are only interested in the columns with counts\n",
    "counts = table_of_counts\n",
    "counts.drop([\"Chr\",\"Start\",\"End\",\"Strand\",\"Length\",\"gene_id\"],axis=1, inplace=True)\n",
    "# calculate TPMs\n",
    "tpm_df = Norm.tpm(counts, length)\n",
    "# add gene_names again\n",
    "tpms = pd.concat([genes,tpm_df], axis=1)\n",
    "tpms.to_csv(os.path.join(users_dir,specie,\"featureCounts_gffcompare/table_of_counts_TPMs.csv\"), index=None)"
   ]
  },
  {
   "attachments": {},
   "cell_type": "markdown",
   "metadata": {},
   "source": [
    "## Run RiboNovel with the same annotation"
   ]
  }
 ],
 "metadata": {
  "kernelspec": {
   "display_name": "Python 3",
   "language": "python",
   "name": "python3"
  },
  "language_info": {
   "codemirror_mode": {
    "name": "ipython",
    "version": 3
   },
   "file_extension": ".py",
   "mimetype": "text/x-python",
   "name": "python",
   "nbconvert_exporter": "python",
   "pygments_lexer": "ipython3",
   "version": "3.8.16"
  },
  "orig_nbformat": 4
 },
 "nbformat": 4,
 "nbformat_minor": 2
}
