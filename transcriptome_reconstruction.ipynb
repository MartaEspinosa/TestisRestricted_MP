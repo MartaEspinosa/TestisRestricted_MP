{
 "cells": [
  {
   "cell_type": "code",
   "execution_count": 10,
   "metadata": {},
   "outputs": [],
   "source": [
    "import os,re,glob\n",
    "import pandas as pd\n",
    "import numpy as np\n",
    "from collections import Counter\n",
    "\n",
    "users_dir = \"/users/genomics/marta/TestisProject_SaraRazquin/with_TranscriptomeReconstruction\"\n",
    "specie = \"human\"\n",
    "GENOMEDIR = \"/genomics/users/marta/genomes\"\n"
   ]
  },
  {
   "attachments": {},
   "cell_type": "markdown",
   "metadata": {},
   "source": [
    "Bams are processed by Sara --> look for the scripts\n",
    "\n",
    "Outputs are in:\n",
    "\n",
    "`/users/genomics/saraa/projectTestis/STAR/{human/macaca/mouse}`"
   ]
  },
  {
   "attachments": {},
   "cell_type": "markdown",
   "metadata": {},
   "source": [
    "\n",
    "## Stranded?\n"
   ]
  },
  {
   "cell_type": "code",
   "execution_count": null,
   "metadata": {},
   "outputs": [],
   "source": [
    "%%bash -s \"$users_dir\" \"$GENOMEDIR\" \"$specie\"\n",
    "\n",
    "BAMDIR=/users/genomics/saraa/projectTestis/STAR/$3\n",
    "OUTDIR=$1/$3/RSeQC\n",
    "\n",
    "mkdir $OUTDIR\n",
    "\n",
    "for file in $BAMDIR/*Log.final.out; do\n",
    "    name=${file%%Log.*}\n",
    "    name=${name##*/}\n",
    "\n",
    "    ###################### get num of uniquely aligned reads #######################\n",
    "    uniq_mapped_reads=$(sed '9q;d' ${BAMDIR}/${name}Log.final.out | awk '{print $6}')\n",
    "    echo $uniq_mapped_reads\n",
    "    ############################## RSEQC ###########################################\n",
    "    module load Miniconda3/4.9.2\n",
    "\n",
    "    if [ \"$specie\" == \"human\" ]; then\n",
    "        infer_experiment.py -r $2/Annot_files_GTF/gencode.v38.primary_assembly.annotation_gene.bed -i ${BAMDIR}/${name}Aligned.sortedByCoord.out.bam -s $uniq_mapped_reads > $OUTDIR/${name}.out\n",
    "    fi\n",
    "done\n"
   ]
  },
  {
   "cell_type": "code",
   "execution_count": 5,
   "metadata": {},
   "outputs": [],
   "source": [
    "%%bash -s \"$users_dir\" \"$specie\"\n",
    "\n",
    "OUTDIR=$1/$2/RSeQC\n",
    "\n",
    "# output for stringtie\n",
    "\n",
    "if [[ -f $OUTDIR/summary_stringtie.csv ]]; then\n",
    "    rm $OUTDIR/summary_stringtie.csv\n",
    "fi\n",
    "\n",
    "for file in $OUTDIR/*out; do\n",
    "    sample=${file##*/}\n",
    "    sample=${sample%%.out*}\n",
    "    echo -e $sample\"\\t\"$(python ~/Documents/scripts/Chris_decide_strandness_parameter.py -tab $file -tool stringtie) >> $OUTDIR/summary_stringtie.csv\n",
    "done\n"
   ]
  },
  {
   "cell_type": "code",
   "execution_count": 12,
   "metadata": {},
   "outputs": [],
   "source": [
    "%%bash -s \"$users_dir\" \"$specie\" \"$GENOMEDIR\"\n",
    "\n",
    "BAMDIR=/users/genomics/saraa/projectTestis/STAR/$2\n",
    "\n",
    "module load stringtie/2.2.0\n",
    "\n",
    "OUTDIR=$1/$2/stringtieReconstruction\n",
    "mkdir -p $OUTDIR\n",
    "\n",
    "GENOMEDIR=$3\n",
    "\n",
    "REF=$GENOMEDIR/Annot_files_GTF/gencode.v38.primary_assembly.annotation.gtf\n",
    "\n",
    "while read sample strand; do\n",
    "    ######################################################################################################\n",
    "    #####################################STRINGTIE########################################################\n",
    "    if [[ $strand == \"rf\" ]]; then\n",
    "        stringtie $BAMDIR/${sample}Aligned.sortedByCoord.out.bam -G $REF --conservative --rf -o $OUTDIR/${sample}.gtf -C $OUTDIR/${sample}_cov.gtf\n",
    "    elif [[ $strand == \"fr\" ]]; then\n",
    "        stringtie $BAMDIR/${sample}Aligned.sortedByCoord.out.bam -G $REF --conservative --fr -o $OUTDIR/${sample}.gtf -C $OUTDIR/${sample}_cov.gtf\n",
    "    else\n",
    "        stringtie $BAMDIR/${sample}Aligned.sortedByCoord.out.bam -G $REF --conservative -o $OUTDIR/${sample}.gtf -C $OUTDIR/${sample}_cov.gtf\n",
    "    fi\n",
    "done < $1/$2/RSeQC/summary_stringtie.csv\n",
    "\n"
   ]
  },
  {
   "attachments": {},
   "cell_type": "markdown",
   "metadata": {},
   "source": [
    "#### Make summary"
   ]
  },
  {
   "cell_type": "code",
   "execution_count": 13,
   "metadata": {},
   "outputs": [],
   "source": [
    "%%bash -s \"$users_dir\" \"$specie\"\n",
    "## Total transcriptome + Presumably annotated + Presumably novel\n",
    "OUT=$1/$2/stringtieReconstruction/transcriptomeReconstruction.csv\n",
    "\n",
    "if [ -f \"$OUT\" ] ; then\n",
    "    rm \"$OUT\"\n",
    "fi\n",
    "echo -e \"Sample\\tTotal_transcripts\\tAnnotated_transcripts\\tNovel_transcript\" >> $OUT\n",
    "\n",
    "for file in $1/$2/stringtieReconstruction/*gtf; do\n",
    "    if [[ ${file} != *\"cov\"* ]]; then \n",
    "        name=\"${file%%.*}\"\n",
    "        name=\"${name##*/}\"\n",
    "        echo -e $name\"\\t\"$(awk '($3 == \"transcript\") {print}' $file | wc -l)\"\\t\"$(awk '($3 == \"transcript\") {print}' $file | grep \"reference\" | wc -l)\"\\t\"$(awk '($3 == \"transcript\") {print}' $file | grep -v \"reference\" | wc -l) >> $OUT\n",
    "    fi\n",
    "done\n"
   ]
  },
  {
   "attachments": {},
   "cell_type": "markdown",
   "metadata": {},
   "source": [
    "From here, I **need** to know if what is considered as novel is really novel. Intersect with annotated genes. Those that do not overlap at all, are novels for sure: maintain.\n",
    "\n",
    "`$GENOMEDIR/Annot_files_GTF/gencode.v38.primary_assembly.annotation.gtf`"
   ]
  },
  {
   "cell_type": "code",
   "execution_count": 14,
   "metadata": {},
   "outputs": [],
   "source": [
    "%%bash -s \"$users_dir\" \"$specie\"\n",
    "\n",
    "OUTDIR=$1/$2/stringtieReconstruction\n",
    "\n",
    "mkdir $OUTDIR/NOoriented\n",
    "mkdir $OUTDIR/oriented\n",
    "\n",
    "for file in $OUTDIR/*.gtf; do \n",
    "    if [[ ${file} != *\"cov\"* ]]; then \n",
    "        if [[ ${file} != *\"gene\"* ]]; then \n",
    "            name=${file##*/}\n",
    "            name=${name%%.*}\n",
    "            #separation of novel transcripts oriented not oriented\n",
    "            awk '($7 == \".\") {print}' $file > $OUTDIR/NOoriented/${name}_NOoriented.gtf\n",
    "            awk '($7 != \".\") {print}' $file > $OUTDIR/oriented/${name}_oriented.gtf\n",
    "        fi\n",
    "    fi\n",
    "done\n"
   ]
  },
  {
   "attachments": {},
   "cell_type": "markdown",
   "metadata": {},
   "source": [
    "**FORCING STRANDNESS**\n",
    "\n",
    "For the novel transcripts oriented, we force orientation when checking the overlapping with the reference."
   ]
  },
  {
   "cell_type": "code",
   "execution_count": 15,
   "metadata": {},
   "outputs": [
    {
     "name": "stderr",
     "output_type": "stream",
     "text": [
      "***** WARNING: File /genomics/users/marta/genomes/Annot_files_GTF/gencode.v38.primary_assembly.annotation.gtf has inconsistent naming convention for record:\n",
      "GL000009.2\tENSEMBL\tgene\t56140\t58376\t.\t-\t.\tgene_id \"ENSG00000278704.1\"; gene_type \"protein_coding\"; gene_name \"ENSG00000278704\"; level 3;\n",
      "\n",
      "***** WARNING: File /genomics/users/marta/genomes/Annot_files_GTF/gencode.v38.primary_assembly.annotation.gtf has inconsistent naming convention for record:\n",
      "GL000009.2\tENSEMBL\tgene\t56140\t58376\t.\t-\t.\tgene_id \"ENSG00000278704.1\"; gene_type \"protein_coding\"; gene_name \"ENSG00000278704\"; level 3;\n",
      "\n",
      "***** WARNING: File /genomics/users/marta/genomes/Annot_files_GTF/gencode.v38.primary_assembly.annotation.gtf has inconsistent naming convention for record:\n",
      "GL000009.2\tENSEMBL\tgene\t56140\t58376\t.\t-\t.\tgene_id \"ENSG00000278704.1\"; gene_type \"protein_coding\"; gene_name \"ENSG00000278704\"; level 3;\n",
      "\n",
      "***** WARNING: File /genomics/users/marta/genomes/Annot_files_GTF/gencode.v38.primary_assembly.annotation.gtf has inconsistent naming convention for record:\n",
      "GL000009.2\tENSEMBL\tgene\t56140\t58376\t.\t-\t.\tgene_id \"ENSG00000278704.1\"; gene_type \"protein_coding\"; gene_name \"ENSG00000278704\"; level 3;\n",
      "\n",
      "***** WARNING: File /genomics/users/marta/genomes/Annot_files_GTF/gencode.v38.primary_assembly.annotation.gtf has inconsistent naming convention for record:\n",
      "GL000009.2\tENSEMBL\tgene\t56140\t58376\t.\t-\t.\tgene_id \"ENSG00000278704.1\"; gene_type \"protein_coding\"; gene_name \"ENSG00000278704\"; level 3;\n",
      "\n",
      "***** WARNING: File /genomics/users/marta/genomes/Annot_files_GTF/gencode.v38.primary_assembly.annotation.gtf has inconsistent naming convention for record:\n",
      "GL000009.2\tENSEMBL\tgene\t56140\t58376\t.\t-\t.\tgene_id \"ENSG00000278704.1\"; gene_type \"protein_coding\"; gene_name \"ENSG00000278704\"; level 3;\n",
      "\n",
      "***** WARNING: File /genomics/users/marta/genomes/Annot_files_GTF/gencode.v38.primary_assembly.annotation.gtf has inconsistent naming convention for record:\n",
      "GL000009.2\tENSEMBL\tgene\t56140\t58376\t.\t-\t.\tgene_id \"ENSG00000278704.1\"; gene_type \"protein_coding\"; gene_name \"ENSG00000278704\"; level 3;\n",
      "\n",
      "***** WARNING: File /genomics/users/marta/genomes/Annot_files_GTF/gencode.v38.primary_assembly.annotation.gtf has inconsistent naming convention for record:\n",
      "GL000009.2\tENSEMBL\tgene\t56140\t58376\t.\t-\t.\tgene_id \"ENSG00000278704.1\"; gene_type \"protein_coding\"; gene_name \"ENSG00000278704\"; level 3;\n",
      "\n",
      "***** WARNING: File /genomics/users/marta/genomes/Annot_files_GTF/gencode.v38.primary_assembly.annotation.gtf has inconsistent naming convention for record:\n",
      "GL000009.2\tENSEMBL\tgene\t56140\t58376\t.\t-\t.\tgene_id \"ENSG00000278704.1\"; gene_type \"protein_coding\"; gene_name \"ENSG00000278704\"; level 3;\n",
      "\n",
      "***** WARNING: File /genomics/users/marta/genomes/Annot_files_GTF/gencode.v38.primary_assembly.annotation.gtf has inconsistent naming convention for record:\n",
      "GL000009.2\tENSEMBL\tgene\t56140\t58376\t.\t-\t.\tgene_id \"ENSG00000278704.1\"; gene_type \"protein_coding\"; gene_name \"ENSG00000278704\"; level 3;\n",
      "\n",
      "***** WARNING: File /genomics/users/marta/genomes/Annot_files_GTF/gencode.v38.primary_assembly.annotation.gtf has inconsistent naming convention for record:\n",
      "GL000009.2\tENSEMBL\tgene\t56140\t58376\t.\t-\t.\tgene_id \"ENSG00000278704.1\"; gene_type \"protein_coding\"; gene_name \"ENSG00000278704\"; level 3;\n",
      "\n",
      "***** WARNING: File /genomics/users/marta/genomes/Annot_files_GTF/gencode.v38.primary_assembly.annotation.gtf has inconsistent naming convention for record:\n",
      "GL000009.2\tENSEMBL\tgene\t56140\t58376\t.\t-\t.\tgene_id \"ENSG00000278704.1\"; gene_type \"protein_coding\"; gene_name \"ENSG00000278704\"; level 3;\n",
      "\n",
      "***** WARNING: File /genomics/users/marta/genomes/Annot_files_GTF/gencode.v38.primary_assembly.annotation.gtf has inconsistent naming convention for record:\n",
      "GL000009.2\tENSEMBL\tgene\t56140\t58376\t.\t-\t.\tgene_id \"ENSG00000278704.1\"; gene_type \"protein_coding\"; gene_name \"ENSG00000278704\"; level 3;\n",
      "\n",
      "***** WARNING: File /genomics/users/marta/genomes/Annot_files_GTF/gencode.v38.primary_assembly.annotation.gtf has inconsistent naming convention for record:\n",
      "GL000009.2\tENSEMBL\tgene\t56140\t58376\t.\t-\t.\tgene_id \"ENSG00000278704.1\"; gene_type \"protein_coding\"; gene_name \"ENSG00000278704\"; level 3;\n",
      "\n",
      "***** WARNING: File /genomics/users/marta/genomes/Annot_files_GTF/gencode.v38.primary_assembly.annotation.gtf has inconsistent naming convention for record:\n",
      "GL000009.2\tENSEMBL\tgene\t56140\t58376\t.\t-\t.\tgene_id \"ENSG00000278704.1\"; gene_type \"protein_coding\"; gene_name \"ENSG00000278704\"; level 3;\n",
      "\n",
      "***** WARNING: File /genomics/users/marta/genomes/Annot_files_GTF/gencode.v38.primary_assembly.annotation.gtf has inconsistent naming convention for record:\n",
      "GL000009.2\tENSEMBL\tgene\t56140\t58376\t.\t-\t.\tgene_id \"ENSG00000278704.1\"; gene_type \"protein_coding\"; gene_name \"ENSG00000278704\"; level 3;\n",
      "\n",
      "***** WARNING: File /genomics/users/marta/genomes/Annot_files_GTF/gencode.v38.primary_assembly.annotation.gtf has inconsistent naming convention for record:\n",
      "GL000009.2\tENSEMBL\tgene\t56140\t58376\t.\t-\t.\tgene_id \"ENSG00000278704.1\"; gene_type \"protein_coding\"; gene_name \"ENSG00000278704\"; level 3;\n",
      "\n",
      "***** WARNING: File /genomics/users/marta/genomes/Annot_files_GTF/gencode.v38.primary_assembly.annotation.gtf has inconsistent naming convention for record:\n",
      "GL000009.2\tENSEMBL\tgene\t56140\t58376\t.\t-\t.\tgene_id \"ENSG00000278704.1\"; gene_type \"protein_coding\"; gene_name \"ENSG00000278704\"; level 3;\n",
      "\n"
     ]
    }
   ],
   "source": [
    "%%bash -s \"$users_dir\" \"$specie\" \"$GENOMEDIR\"\n",
    "\n",
    "OUTDIR=$1/$2/stringtieReconstruction\n",
    "\n",
    "module load BEDTools/2.30.0-GCC-10.2.0\n",
    "\n",
    "for file in $OUTDIR/oriented/*.gtf; do \n",
    "    name=${file##*/}\n",
    "    name=${name%%.*}\n",
    "    #select novel transcripts that do not overlap at all with the gencode annotation (-v)\n",
    "    bedtools intersect -v -s -a $file -b $3/Annot_files_GTF/gencode.v38.primary_assembly.annotation.gtf > $OUTDIR/oriented/${name}_novel.gtf\n",
    "done\n"
   ]
  },
  {
   "attachments": {},
   "cell_type": "markdown",
   "metadata": {},
   "source": [
    "**WITHOUT FORCING STRANDNESS**\n",
    "\n",
    "For the novel transcripts NOT oriented, we do not force orientation when checking the overlapping with the reference."
   ]
  },
  {
   "cell_type": "code",
   "execution_count": 16,
   "metadata": {},
   "outputs": [
    {
     "name": "stderr",
     "output_type": "stream",
     "text": [
      "***** WARNING: File /genomics/users/marta/genomes/Annot_files_GTF/gencode.v38.primary_assembly.annotation.gtf has inconsistent naming convention for record:\n",
      "GL000009.2\tENSEMBL\tgene\t56140\t58376\t.\t-\t.\tgene_id \"ENSG00000278704.1\"; gene_type \"protein_coding\"; gene_name \"ENSG00000278704\"; level 3;\n",
      "\n",
      "***** WARNING: File /genomics/users/marta/genomes/Annot_files_GTF/gencode.v38.primary_assembly.annotation.gtf has inconsistent naming convention for record:\n",
      "GL000009.2\tENSEMBL\tgene\t56140\t58376\t.\t-\t.\tgene_id \"ENSG00000278704.1\"; gene_type \"protein_coding\"; gene_name \"ENSG00000278704\"; level 3;\n",
      "\n",
      "***** WARNING: File /genomics/users/marta/genomes/Annot_files_GTF/gencode.v38.primary_assembly.annotation.gtf has inconsistent naming convention for record:\n",
      "GL000009.2\tENSEMBL\tgene\t56140\t58376\t.\t-\t.\tgene_id \"ENSG00000278704.1\"; gene_type \"protein_coding\"; gene_name \"ENSG00000278704\"; level 3;\n",
      "\n",
      "***** WARNING: File /genomics/users/marta/genomes/Annot_files_GTF/gencode.v38.primary_assembly.annotation.gtf has inconsistent naming convention for record:\n",
      "GL000009.2\tENSEMBL\tgene\t56140\t58376\t.\t-\t.\tgene_id \"ENSG00000278704.1\"; gene_type \"protein_coding\"; gene_name \"ENSG00000278704\"; level 3;\n",
      "\n",
      "***** WARNING: File /genomics/users/marta/genomes/Annot_files_GTF/gencode.v38.primary_assembly.annotation.gtf has inconsistent naming convention for record:\n",
      "GL000009.2\tENSEMBL\tgene\t56140\t58376\t.\t-\t.\tgene_id \"ENSG00000278704.1\"; gene_type \"protein_coding\"; gene_name \"ENSG00000278704\"; level 3;\n",
      "\n",
      "***** WARNING: File /genomics/users/marta/genomes/Annot_files_GTF/gencode.v38.primary_assembly.annotation.gtf has inconsistent naming convention for record:\n",
      "GL000009.2\tENSEMBL\tgene\t56140\t58376\t.\t-\t.\tgene_id \"ENSG00000278704.1\"; gene_type \"protein_coding\"; gene_name \"ENSG00000278704\"; level 3;\n",
      "\n",
      "***** WARNING: File /genomics/users/marta/genomes/Annot_files_GTF/gencode.v38.primary_assembly.annotation.gtf has inconsistent naming convention for record:\n",
      "GL000009.2\tENSEMBL\tgene\t56140\t58376\t.\t-\t.\tgene_id \"ENSG00000278704.1\"; gene_type \"protein_coding\"; gene_name \"ENSG00000278704\"; level 3;\n",
      "\n",
      "***** WARNING: File /genomics/users/marta/genomes/Annot_files_GTF/gencode.v38.primary_assembly.annotation.gtf has inconsistent naming convention for record:\n",
      "GL000009.2\tENSEMBL\tgene\t56140\t58376\t.\t-\t.\tgene_id \"ENSG00000278704.1\"; gene_type \"protein_coding\"; gene_name \"ENSG00000278704\"; level 3;\n",
      "\n",
      "***** WARNING: File /genomics/users/marta/genomes/Annot_files_GTF/gencode.v38.primary_assembly.annotation.gtf has inconsistent naming convention for record:\n",
      "GL000009.2\tENSEMBL\tgene\t56140\t58376\t.\t-\t.\tgene_id \"ENSG00000278704.1\"; gene_type \"protein_coding\"; gene_name \"ENSG00000278704\"; level 3;\n",
      "\n",
      "***** WARNING: File /genomics/users/marta/genomes/Annot_files_GTF/gencode.v38.primary_assembly.annotation.gtf has inconsistent naming convention for record:\n",
      "GL000009.2\tENSEMBL\tgene\t56140\t58376\t.\t-\t.\tgene_id \"ENSG00000278704.1\"; gene_type \"protein_coding\"; gene_name \"ENSG00000278704\"; level 3;\n",
      "\n",
      "***** WARNING: File /genomics/users/marta/genomes/Annot_files_GTF/gencode.v38.primary_assembly.annotation.gtf has inconsistent naming convention for record:\n",
      "GL000009.2\tENSEMBL\tgene\t56140\t58376\t.\t-\t.\tgene_id \"ENSG00000278704.1\"; gene_type \"protein_coding\"; gene_name \"ENSG00000278704\"; level 3;\n",
      "\n",
      "***** WARNING: File /genomics/users/marta/genomes/Annot_files_GTF/gencode.v38.primary_assembly.annotation.gtf has inconsistent naming convention for record:\n",
      "GL000009.2\tENSEMBL\tgene\t56140\t58376\t.\t-\t.\tgene_id \"ENSG00000278704.1\"; gene_type \"protein_coding\"; gene_name \"ENSG00000278704\"; level 3;\n",
      "\n",
      "***** WARNING: File /genomics/users/marta/genomes/Annot_files_GTF/gencode.v38.primary_assembly.annotation.gtf has inconsistent naming convention for record:\n",
      "GL000009.2\tENSEMBL\tgene\t56140\t58376\t.\t-\t.\tgene_id \"ENSG00000278704.1\"; gene_type \"protein_coding\"; gene_name \"ENSG00000278704\"; level 3;\n",
      "\n",
      "***** WARNING: File /genomics/users/marta/genomes/Annot_files_GTF/gencode.v38.primary_assembly.annotation.gtf has inconsistent naming convention for record:\n",
      "GL000009.2\tENSEMBL\tgene\t56140\t58376\t.\t-\t.\tgene_id \"ENSG00000278704.1\"; gene_type \"protein_coding\"; gene_name \"ENSG00000278704\"; level 3;\n",
      "\n",
      "***** WARNING: File /genomics/users/marta/genomes/Annot_files_GTF/gencode.v38.primary_assembly.annotation.gtf has inconsistent naming convention for record:\n",
      "GL000009.2\tENSEMBL\tgene\t56140\t58376\t.\t-\t.\tgene_id \"ENSG00000278704.1\"; gene_type \"protein_coding\"; gene_name \"ENSG00000278704\"; level 3;\n",
      "\n",
      "***** WARNING: File /genomics/users/marta/genomes/Annot_files_GTF/gencode.v38.primary_assembly.annotation.gtf has inconsistent naming convention for record:\n",
      "GL000009.2\tENSEMBL\tgene\t56140\t58376\t.\t-\t.\tgene_id \"ENSG00000278704.1\"; gene_type \"protein_coding\"; gene_name \"ENSG00000278704\"; level 3;\n",
      "\n",
      "***** WARNING: File /genomics/users/marta/genomes/Annot_files_GTF/gencode.v38.primary_assembly.annotation.gtf has inconsistent naming convention for record:\n",
      "GL000009.2\tENSEMBL\tgene\t56140\t58376\t.\t-\t.\tgene_id \"ENSG00000278704.1\"; gene_type \"protein_coding\"; gene_name \"ENSG00000278704\"; level 3;\n",
      "\n",
      "***** WARNING: File /genomics/users/marta/genomes/Annot_files_GTF/gencode.v38.primary_assembly.annotation.gtf has inconsistent naming convention for record:\n",
      "GL000009.2\tENSEMBL\tgene\t56140\t58376\t.\t-\t.\tgene_id \"ENSG00000278704.1\"; gene_type \"protein_coding\"; gene_name \"ENSG00000278704\"; level 3;\n",
      "\n"
     ]
    }
   ],
   "source": [
    "%%bash -s \"$users_dir\" \"$specie\" \"$GENOMEDIR\"\n",
    "\n",
    "OUTDIR=$1/$2/stringtieReconstruction\n",
    "\n",
    "module load BEDTools/2.30.0-GCC-10.2.0\n",
    "\n",
    "for file in $OUTDIR/NOoriented/*.gtf; do \n",
    "    name=${file##*/}\n",
    "    name=${name%%.*}\n",
    "\n",
    "    #select novel transcripts that do not overlap at all with the gencode annotation (-v)\n",
    "    bedtools intersect -v -a $file -b $3/Annot_files_GTF/gencode.v38.primary_assembly.annotation.gtf > $OUTDIR/NOoriented/${name}_novel.gtf\n",
    "done"
   ]
  },
  {
   "attachments": {},
   "cell_type": "markdown",
   "metadata": {},
   "source": [
    "I want to see if there are \"alone exons\", I don't want them, only full transcripts. Check transcript line, store geneid (STRG.XX), see if later exons contain the same. If so, store in new file, if not, skip."
   ]
  },
  {
   "cell_type": "code",
   "execution_count": 20,
   "metadata": {},
   "outputs": [],
   "source": [
    "for file in os.listdir(os.path.join(users_dir,specie,\"stringtieReconstruction/NOoriented\")):\n",
    "    if file.endswith(\"novel.gtf\"):\n",
    "        outname=file[:-4]+\"_complete.gtf\"\n",
    "        with open(os.path.join(os.path.join(users_dir,specie,\"stringtieReconstruction/NOoriented\"),file)) as inp:\n",
    "            with open(os.path.join(os.path.join(users_dir,specie,\"stringtieReconstruction/NOoriented\"),outname), 'w') as out:\n",
    "                lines = inp.readlines()\n",
    "                t_gene_id = \"\"\n",
    "                for line in lines:\n",
    "                    tab_split_line=line.split(\"\\t\")\n",
    "                    coma_split_line=line.split(\";\")\n",
    "                    gene_id=re.findall(r'\"([^\"]*)\"',coma_split_line[0])\n",
    "                    if tab_split_line[2] == \"transcript\":\n",
    "                        t_gene_id = gene_id[0]\n",
    "                        out.write(line)\n",
    "                    if tab_split_line[2] == \"exon\":\n",
    "                        if gene_id[0] == t_gene_id:\n",
    "                            out.write(line)\n",
    "                        else:\n",
    "                            continue\n"
   ]
  },
  {
   "cell_type": "code",
   "execution_count": 21,
   "metadata": {},
   "outputs": [],
   "source": [
    "for file in os.listdir(os.path.join(users_dir,specie,\"stringtieReconstruction/oriented\")):\n",
    "    if file.endswith(\"novel.gtf\"):\n",
    "        outname=file[:-4]+\"_complete.gtf\"\n",
    "        with open(os.path.join(os.path.join(users_dir,specie,\"stringtieReconstruction/oriented\"),file)) as inp:\n",
    "            with open(os.path.join(os.path.join(users_dir,specie,\"stringtieReconstruction/oriented\"),outname), 'w') as out:\n",
    "                lines = inp.readlines()\n",
    "                t_gene_id = \"\"\n",
    "                for line in lines:\n",
    "                    tab_split_line=line.split(\"\\t\")\n",
    "                    coma_split_line=line.split(\";\")\n",
    "                    gene_id=re.findall(r'\"([^\"]*)\"',coma_split_line[0])\n",
    "                    if tab_split_line[2] == \"transcript\":\n",
    "                        t_gene_id = gene_id[0]\n",
    "                        out.write(line)\n",
    "                    if tab_split_line[2] == \"exon\":\n",
    "                        if gene_id[0] == t_gene_id:\n",
    "                            out.write(line)\n",
    "                        else:\n",
    "                            continue\n"
   ]
  },
  {
   "cell_type": "code",
   "execution_count": 22,
   "metadata": {},
   "outputs": [
    {
     "name": "stderr",
     "output_type": "stream",
     "text": [
      "mkdir: cannot create directory ‘/users/genomics/marta/TestisProject_SaraRazquin/with_TranscriptomeReconstruction/human/stringtieReconstruction/intersect_novel’: File exists\n"
     ]
    }
   ],
   "source": [
    "%%bash -s \"$users_dir\" \"$specie\" \"$GENOMEDIR\"\n",
    "\n",
    "## Concatenate both oriented and unoriented\n",
    "OUTDIR=$1/$2/stringtieReconstruction/intersect_novel\n",
    "mkdir $OUTDIR\n",
    "\n",
    "\n",
    "for sample in $(cat $1/$2/stringtieReconstruction/transcriptomeReconstruction.csv | tail -n +2 | cut -f1); do\n",
    "    #concatenate both results in order to obtain a gtf file with all novel transcripts considered\n",
    "    cat $1/$2/stringtieReconstruction/oriented/${sample}_oriented_novel_complete.gtf $1/$2/stringtieReconstruction/NOoriented/${sample}_NOoriented_novel_complete.gtf > $OUTDIR/${sample}_novel.gtf\n",
    "done\n"
   ]
  },
  {
   "attachments": {},
   "cell_type": "markdown",
   "metadata": {},
   "source": [
    "Now we use gffcompare so that we unify all novel transcripts into a single transcriptome"
   ]
  },
  {
   "cell_type": "code",
   "execution_count": 24,
   "metadata": {},
   "outputs": [
    {
     "name": "stderr",
     "output_type": "stream",
     "text": [
      "Loading query file #1: /users/genomics/marta/TestisProject_SaraRazquin/with_TranscriptomeReconstruction/human/stringtieReconstruction/intersect_novel/human_brain_rna_1_r1_novel.gtf\n",
      "Loading query file #2: /users/genomics/marta/TestisProject_SaraRazquin/with_TranscriptomeReconstruction/human/stringtieReconstruction/intersect_novel/human_brain_rna_2_r1_novel.gtf\n",
      "Loading query file #3: /users/genomics/marta/TestisProject_SaraRazquin/with_TranscriptomeReconstruction/human/stringtieReconstruction/intersect_novel/human_brain_rna_3_r1_novel.gtf\n",
      "Loading query file #4: /users/genomics/marta/TestisProject_SaraRazquin/with_TranscriptomeReconstruction/human/stringtieReconstruction/intersect_novel/human_liver_rna_1_r1_novel.gtf\n",
      "Loading query file #5: /users/genomics/marta/TestisProject_SaraRazquin/with_TranscriptomeReconstruction/human/stringtieReconstruction/intersect_novel/human_liver_rna_2_r1_novel.gtf\n",
      "Loading query file #6: /users/genomics/marta/TestisProject_SaraRazquin/with_TranscriptomeReconstruction/human/stringtieReconstruction/intersect_novel/human_liver_rna_3_r1_novel.gtf\n",
      "Loading query file #7: /users/genomics/marta/TestisProject_SaraRazquin/with_TranscriptomeReconstruction/human/stringtieReconstruction/intersect_novel/human_testis_rna_1_r1_novel.gtf\n",
      "Loading query file #8: /users/genomics/marta/TestisProject_SaraRazquin/with_TranscriptomeReconstruction/human/stringtieReconstruction/intersect_novel/human_testis_rna_2_r1_novel.gtf\n",
      "Loading query file #9: /users/genomics/marta/TestisProject_SaraRazquin/with_TranscriptomeReconstruction/human/stringtieReconstruction/intersect_novel/human_testis_rna_3_r1_novel.gtf\n"
     ]
    }
   ],
   "source": [
    "%%bash -s \"$users_dir\" \"$specie\"\n",
    "\n",
    "OUTDIR=$1/$2/gffcompare\n",
    "mkdir $OUTDIR\n",
    "\n",
    "module load gffcompare/0.12.2\n",
    "\n",
    "ls $1/$2/stringtieReconstruction/intersect_novel/*_novel.gtf > $OUTDIR/list_novel_assembled_files_stranded.txt\n",
    "\n",
    "cd $OUTDIR\n",
    "gffcompare -i list_novel_assembled_files_stranded.txt -o gffcmp.assembled.stranded\n",
    "\n",
    "\n",
    "    "
   ]
  },
  {
   "cell_type": "code",
   "execution_count": 25,
   "metadata": {},
   "outputs": [
    {
     "name": "stdout",
     "output_type": "stream",
     "text": [
      "\n",
      "\n",
      "   1022 +\n",
      "   1131 -\n"
     ]
    }
   ],
   "source": [
    "%%bash -s \"$users_dir\" \"$specie\"\n",
    "\n",
    "echo -e \"\\n\"$proj\n",
    "awk '$3 == \"transcript\" {print}' $1/$2/gffcompare/gffcmp.assembled.stranded.combined.gtf | cut -f 7 | sort | uniq -c\n"
   ]
  },
  {
   "cell_type": "code",
   "execution_count": 26,
   "metadata": {},
   "outputs": [
    {
     "name": "stderr",
     "output_type": "stream",
     "text": [
      "***** WARNING: File /users/genomics/marta/TestisProject_SaraRazquin/with_TranscriptomeReconstruction/human/gffcompare/gffcmp.assembled.stranded.combined.gtf has inconsistent naming convention for record:\n",
      "GL000205.2\tStringTie\ttranscript\t56105\t56316\t.\t-\t.\ttranscript_id \"TCONS_00000001\"; gene_id \"XLOC_000001\"; oId \"STRG.32362.1\"; tss_id \"TSS1\"; num_samples \"1\";\n",
      "\n",
      "***** WARNING: File /users/genomics/marta/TestisProject_SaraRazquin/with_TranscriptomeReconstruction/human/gffcompare/gffcmp.assembled.stranded.combined.gtf has inconsistent naming convention for record:\n",
      "GL000205.2\tStringTie\ttranscript\t56105\t56316\t.\t-\t.\ttranscript_id \"TCONS_00000001\"; gene_id \"XLOC_000001\"; oId \"STRG.32362.1\"; tss_id \"TSS1\"; num_samples \"1\";\n",
      "\n",
      "***** WARNING: File /users/genomics/marta/TestisProject_SaraRazquin/with_TranscriptomeReconstruction/human/gffcompare/gffcmp.assembled.stranded.combined.gtf has inconsistent naming convention for record:\n",
      "GL000205.2\tStringTie\ttranscript\t56105\t56316\t.\t-\t.\ttranscript_id \"TCONS_00000001\"; gene_id \"XLOC_000001\"; oId \"STRG.32362.1\"; tss_id \"TSS1\"; num_samples \"1\";\n",
      "\n",
      "***** WARNING: File /users/genomics/marta/TestisProject_SaraRazquin/with_TranscriptomeReconstruction/human/gffcompare/gffcmp.assembled.stranded.combined.gtf has inconsistent naming convention for record:\n",
      "GL000205.2\tStringTie\ttranscript\t56105\t56316\t.\t-\t.\ttranscript_id \"TCONS_00000001\"; gene_id \"XLOC_000001\"; oId \"STRG.32362.1\"; tss_id \"TSS1\"; num_samples \"1\";\n",
      "\n",
      "***** WARNING: File /users/genomics/marta/TestisProject_SaraRazquin/with_TranscriptomeReconstruction/human/gffcompare/gffcmp.assembled.stranded.combined.gtf has inconsistent naming convention for record:\n",
      "GL000205.2\tStringTie\ttranscript\t56105\t56316\t.\t-\t.\ttranscript_id \"TCONS_00000001\"; gene_id \"XLOC_000001\"; oId \"STRG.32362.1\"; tss_id \"TSS1\"; num_samples \"1\";\n",
      "\n",
      "***** WARNING: File /users/genomics/marta/TestisProject_SaraRazquin/with_TranscriptomeReconstruction/human/gffcompare/gffcmp.assembled.stranded.combined.gtf has inconsistent naming convention for record:\n",
      "GL000205.2\tStringTie\ttranscript\t56105\t56316\t.\t-\t.\ttranscript_id \"TCONS_00000001\"; gene_id \"XLOC_000001\"; oId \"STRG.32362.1\"; tss_id \"TSS1\"; num_samples \"1\";\n",
      "\n"
     ]
    }
   ],
   "source": [
    "%%bash -s \"$users_dir\" \"$specie\"\n",
    "\n",
    "## miTranscriptome\n",
    "## for stranded datasets\n",
    "mitranscriptome=/genomics/users/marta/genomes/miTranscriptome/mitranscriptome.v2.gtf\n",
    "\n",
    "module load BEDTools\n",
    "\n",
    "gffcompare=$1/$2/gffcompare/gffcmp.assembled.stranded.combined.gtf\n",
    "miTranscriptomeOUTDIR=$1/$2/gffcompare/miTranscriptome\n",
    "\n",
    "mkdir $miTranscriptomeOUTDIR\n",
    "\n",
    "bedtools intersect -s -v -a $gffcompare -b $mitranscriptome > $miTranscriptomeOUTDIR/gffcmp.assembled.stranded.combined.NOmiTranscriptome.gtf\n",
    "bedtools intersect -s -wa -wb -a $gffcompare -b $mitranscriptome > $miTranscriptomeOUTDIR/gffcmp.assembled.stranded.combined.miTranscriptome.gtf\n",
    "bedtools intersect -s -u -a $gffcompare -b $mitranscriptome > $miTranscriptomeOUTDIR/gffcmp.assembled.stranded.combined.miTranscriptome.unique.gtf\n"
   ]
  },
  {
   "cell_type": "code",
   "execution_count": 27,
   "metadata": {},
   "outputs": [
    {
     "name": "stdout",
     "output_type": "stream",
     "text": [
      "    533 +\n",
      "    563 -\n"
     ]
    }
   ],
   "source": [
    "%%bash -s \"$users_dir\" \"$specie\"\n",
    "\n",
    "awk '$3 == \"transcript\" {print}' $1/$2/gffcompare/miTranscriptome/gffcmp.assembled.stranded.combined.miTranscriptome.unique.gtf | cut -f 7 | sort | uniq -c\n"
   ]
  },
  {
   "attachments": {},
   "cell_type": "markdown",
   "metadata": {},
   "source": [
    "Let's create a new reference file with novel reconstructed transcripts"
   ]
  },
  {
   "cell_type": "code",
   "execution_count": 29,
   "metadata": {},
   "outputs": [
    {
     "name": "stderr",
     "output_type": "stream",
     "text": [
      "cat: /users/genomics/marta/TestisProject_SaraRazquin/with_TranscriptomeReconstruction/human/gffcompare/gffcmp.assembled.stranded.combined.oriented.gtf: No such file or directory\n"
     ]
    }
   ],
   "source": [
    "%%bash -s \"$users_dir\" \"$specie\" \"$GENOMEDIR\"\n",
    "\n",
    "export PATH=/genomics/users/marta/tools/gff3sort-master:$PATH\n",
    "\n",
    "## reference\n",
    "REF=$3/Annot_files_GTF/gencode.v38.primary_assembly.annotation.gtf \n",
    "\n",
    "OUTDIR=$1/$2/newReference_Resconstructed\n",
    "mkdir $OUTDIR\n",
    "\n",
    "## gffcompare\n",
    "gffcompare=$1/$2/gffcompare/gffcmp.assembled.stranded.combined.oriented.gtf\n",
    "\n",
    "## concat\n",
    "cat $gffcompare $REF > $OUTDIR/gencode.v38.gffcompare.TestisLiverBrain.annotation.gtf\n",
    "\n",
    "#sort the newly assembled transcriptome\n",
    "gff3sort.pl --precise --chr_order natural $OUTDIR/gencode.v38.gffcompare.TestisLiverBrain.annotation.gtf > $OUTDIR/gencode.v38.gffcompare.TestisLiverBrain.annotation.sorted.gtf\n",
    "rm $OUTDIR/gencode.v38.gffcompare.TestisLiverBrain.annotation.gtf\n",
    "\n"
   ]
  }
 ],
 "metadata": {
  "kernelspec": {
   "display_name": "Python 3",
   "language": "python",
   "name": "python3"
  },
  "language_info": {
   "codemirror_mode": {
    "name": "ipython",
    "version": 3
   },
   "file_extension": ".py",
   "mimetype": "text/x-python",
   "name": "python",
   "nbconvert_exporter": "python",
   "pygments_lexer": "ipython3",
   "version": "3.8.16"
  },
  "orig_nbformat": 4
 },
 "nbformat": 4,
 "nbformat_minor": 2
}
